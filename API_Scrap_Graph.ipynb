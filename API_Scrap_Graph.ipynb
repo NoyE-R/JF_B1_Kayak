{
 "cells": [
  {
   "cell_type": "code",
   "execution_count": 114,
   "metadata": {},
   "outputs": [],
   "source": [
    "import requests\n",
    "import pandas as pd\n",
    "import json"
   ]
  },
  {
   "cell_type": "code",
   "execution_count": 115,
   "metadata": {},
   "outputs": [],
   "source": [
    "import plotly.io as pio\n",
    "# for web, pour pouvoir exporter les figures. Peut être mis juste avant le code concernant la figure\n",
    "#pio.renderers.default = \"svg\"   \n",
    "# workspaces:\n",
    "pio.renderers.default = \"vscode\"\n",
    "\n",
    "import plotly.graph_objects as go\n",
    "import plotly.express as px"
   ]
  },
  {
   "cell_type": "markdown",
   "metadata": {},
   "source": [
    "# 1. Coordinates"
   ]
  },
  {
   "cell_type": "code",
   "execution_count": 2,
   "metadata": {},
   "outputs": [],
   "source": [
    "ville = [\"Mont Saint Michel\", \"St Malo\", \"Bayeux\", \"Le Havre\", \"Rouen\", \"Paris\", \"Amiens\", \"Lille\", \"Strasbourg\", \"Chateau du Haut Koenigsbourg\",\n",
    "        \"Colmar\", \"Eguisheim\", \"Besancon\", \"Dijon\", \"Annecy\", \"Grenoble\", \"Lyon\", \"Gorges du Verdon\", \"Bormes les Mimosas\", \"Cassis\", \"Marseille\",\n",
    "        \"Aix en Provence\", \"Avignon\", \"Uzes\", \"Nimes\", \"Aigues Mortes\", \"Saintes Maries de la mer\", \"Collioure\", \"Carcassonne\", \"Ariege\",\n",
    "        \"Toulouse\", \"Montauban\", \"Biarritz\", \"Bayonne\", \"La Rochelle\"]"
   ]
  },
  {
   "cell_type": "code",
   "execution_count": 7,
   "metadata": {},
   "outputs": [
    {
     "name": "stdout",
     "output_type": "stream",
     "text": [
      "(35, 5)\n"
     ]
    },
    {
     "data": {
      "text/html": [
       "<div>\n",
       "<style scoped>\n",
       "    .dataframe tbody tr th:only-of-type {\n",
       "        vertical-align: middle;\n",
       "    }\n",
       "\n",
       "    .dataframe tbody tr th {\n",
       "        vertical-align: top;\n",
       "    }\n",
       "\n",
       "    .dataframe thead th {\n",
       "        text-align: right;\n",
       "    }\n",
       "</style>\n",
       "<table border=\"1\" class=\"dataframe\">\n",
       "  <thead>\n",
       "    <tr style=\"text-align: right;\">\n",
       "      <th></th>\n",
       "      <th>place_id</th>\n",
       "      <th>lat</th>\n",
       "      <th>lon</th>\n",
       "      <th>display_name</th>\n",
       "      <th>ville</th>\n",
       "    </tr>\n",
       "  </thead>\n",
       "  <tbody>\n",
       "    <tr>\n",
       "      <th>0</th>\n",
       "      <td>156094736</td>\n",
       "      <td>48.6359541</td>\n",
       "      <td>-1.511459954959514</td>\n",
       "      <td>Mont Saint-Michel, Le Mont-Saint-Michel, Avran...</td>\n",
       "      <td>Mont Saint Michel</td>\n",
       "    </tr>\n",
       "    <tr>\n",
       "      <th>0</th>\n",
       "      <td>297756747</td>\n",
       "      <td>48.649518</td>\n",
       "      <td>-2.0260409</td>\n",
       "      <td>Saint-Malo, Ille-et-Vilaine, Bretagne, France ...</td>\n",
       "      <td>St Malo</td>\n",
       "    </tr>\n",
       "    <tr>\n",
       "      <th>0</th>\n",
       "      <td>297981358</td>\n",
       "      <td>49.2764624</td>\n",
       "      <td>-0.7024738</td>\n",
       "      <td>Bayeux, Calvados, Normandie, France métropolit...</td>\n",
       "      <td>Bayeux</td>\n",
       "    </tr>\n",
       "    <tr>\n",
       "      <th>0</th>\n",
       "      <td>298137491</td>\n",
       "      <td>49.4938975</td>\n",
       "      <td>0.1079732</td>\n",
       "      <td>Le Havre, Seine-Maritime, Normandie, France mé...</td>\n",
       "      <td>Le Havre</td>\n",
       "    </tr>\n",
       "    <tr>\n",
       "      <th>0</th>\n",
       "      <td>297518815</td>\n",
       "      <td>49.4404591</td>\n",
       "      <td>1.0939658</td>\n",
       "      <td>Rouen, Seine-Maritime, Normandie, France métro...</td>\n",
       "      <td>Rouen</td>\n",
       "    </tr>\n",
       "  </tbody>\n",
       "</table>\n",
       "</div>"
      ],
      "text/plain": [
       "    place_id         lat                 lon  \\\n",
       "0  156094736  48.6359541  -1.511459954959514   \n",
       "0  297756747   48.649518          -2.0260409   \n",
       "0  297981358  49.2764624          -0.7024738   \n",
       "0  298137491  49.4938975           0.1079732   \n",
       "0  297518815  49.4404591           1.0939658   \n",
       "\n",
       "                                        display_name              ville  \n",
       "0  Mont Saint-Michel, Le Mont-Saint-Michel, Avran...  Mont Saint Michel  \n",
       "0  Saint-Malo, Ille-et-Vilaine, Bretagne, France ...            St Malo  \n",
       "0  Bayeux, Calvados, Normandie, France métropolit...             Bayeux  \n",
       "0  Le Havre, Seine-Maritime, Normandie, France mé...           Le Havre  \n",
       "0  Rouen, Seine-Maritime, Normandie, France métro...              Rouen  "
      ]
     },
     "execution_count": 7,
     "metadata": {},
     "output_type": "execute_result"
    }
   ],
   "source": [
    "end_point = \"https://nominatim.openstreetmap.org/\"\n",
    "all_city = pd.DataFrame()\n",
    "for i in range(len(ville)):\n",
    "    city = pd.DataFrame(requests.get(end_point + \"search\", params = {'city' : ville[i], 'state' : 'France', 'format' : 'json'}).json())\n",
    "\n",
    "    if city.shape[0] == 0: # case of Gorges du Verdon\n",
    "        city = pd.DataFrame(requests.get(end_point + \"search\", params = {'street' : ville[i], 'state' : 'France', 'format' : 'json'}).json())\n",
    "\n",
    "    if city.shape[0] > 1:\n",
    "        city = city.loc[(city[\"importance\"] == city[\"importance\"].max())]\n",
    "    if city.shape[0] > 1: # case of Paris only\n",
    "        city = city = city.loc[(city[\"osm_id\"] == city[\"osm_id\"].min())]\n",
    "        \n",
    "    city = city[[\"place_id\", \"lat\", \"lon\", \"display_name\"]]\n",
    "    city[\"ville\"] = ville[i]\n",
    "    all_city = pd.concat([all_city, city])\n",
    "\n",
    "print(all_city.shape)\n",
    "all_city.head()"
   ]
  },
  {
   "cell_type": "code",
   "execution_count": 4,
   "metadata": {},
   "outputs": [],
   "source": [
    "# save this csv for scraping\n",
    "all_city.to_csv('src/coordinates.csv')"
   ]
  },
  {
   "cell_type": "markdown",
   "metadata": {},
   "source": [
    "# 2. Weather data"
   ]
  },
  {
   "cell_type": "code",
   "execution_count": 5,
   "metadata": {},
   "outputs": [],
   "source": [
    "API_key = \"\"\n",
    "end_point = \"https://api.openweathermap.org/data/2.5/\"\n",
    "\n",
    "# need city and list information from json fil from request\n",
    "# function to format the list of weather data\n",
    "    # @data must be in the format dict['list'][index_element]\n",
    "def extractWeather(data):\n",
    "    data_tr = pd.json_normalize(data)\n",
    "    for c in data['weather'][0].keys():    \n",
    "        data_tr.insert(len(data_tr.columns), column=(\"mainweather.\" + c), value=data['weather'][0][c])\n",
    "    return(data_tr)"
   ]
  },
  {
   "cell_type": "code",
   "execution_count": 6,
   "metadata": {},
   "outputs": [
    {
     "data": {
      "text/html": [
       "<div>\n",
       "<style scoped>\n",
       "    .dataframe tbody tr th:only-of-type {\n",
       "        vertical-align: middle;\n",
       "    }\n",
       "\n",
       "    .dataframe tbody tr th {\n",
       "        vertical-align: top;\n",
       "    }\n",
       "\n",
       "    .dataframe thead th {\n",
       "        text-align: right;\n",
       "    }\n",
       "</style>\n",
       "<table border=\"1\" class=\"dataframe\">\n",
       "  <thead>\n",
       "    <tr style=\"text-align: right;\">\n",
       "      <th></th>\n",
       "      <th>dt</th>\n",
       "      <th>visibility</th>\n",
       "      <th>pop</th>\n",
       "      <th>dt_txt</th>\n",
       "      <th>main.temp</th>\n",
       "      <th>main.feels_like</th>\n",
       "      <th>main.temp_min</th>\n",
       "      <th>main.temp_max</th>\n",
       "      <th>main.pressure</th>\n",
       "      <th>main.sea_level</th>\n",
       "      <th>...</th>\n",
       "      <th>mainweather.icon</th>\n",
       "      <th>id</th>\n",
       "      <th>name</th>\n",
       "      <th>country</th>\n",
       "      <th>population</th>\n",
       "      <th>timezone</th>\n",
       "      <th>sunrise</th>\n",
       "      <th>sunset</th>\n",
       "      <th>coord.lat</th>\n",
       "      <th>coord.lon</th>\n",
       "    </tr>\n",
       "  </thead>\n",
       "  <tbody>\n",
       "    <tr>\n",
       "      <th>0</th>\n",
       "      <td>1667304000</td>\n",
       "      <td>10000</td>\n",
       "      <td>0.39</td>\n",
       "      <td>2022-11-01 12:00:00</td>\n",
       "      <td>16.39</td>\n",
       "      <td>15.96</td>\n",
       "      <td>16.39</td>\n",
       "      <td>16.72</td>\n",
       "      <td>1015</td>\n",
       "      <td>1015</td>\n",
       "      <td>...</td>\n",
       "      <td>10d</td>\n",
       "      <td>6435453</td>\n",
       "      <td>Huisnes-sur-Mer</td>\n",
       "      <td>FR</td>\n",
       "      <td>0</td>\n",
       "      <td>3600</td>\n",
       "      <td>1667285522</td>\n",
       "      <td>1667321226</td>\n",
       "      <td>48.636</td>\n",
       "      <td>-1.5115</td>\n",
       "    </tr>\n",
       "    <tr>\n",
       "      <th>0</th>\n",
       "      <td>1667314800</td>\n",
       "      <td>10000</td>\n",
       "      <td>1.00</td>\n",
       "      <td>2022-11-01 15:00:00</td>\n",
       "      <td>15.95</td>\n",
       "      <td>15.56</td>\n",
       "      <td>15.06</td>\n",
       "      <td>15.95</td>\n",
       "      <td>1015</td>\n",
       "      <td>1015</td>\n",
       "      <td>...</td>\n",
       "      <td>10d</td>\n",
       "      <td>6435453</td>\n",
       "      <td>Huisnes-sur-Mer</td>\n",
       "      <td>FR</td>\n",
       "      <td>0</td>\n",
       "      <td>3600</td>\n",
       "      <td>1667285522</td>\n",
       "      <td>1667321226</td>\n",
       "      <td>48.636</td>\n",
       "      <td>-1.5115</td>\n",
       "    </tr>\n",
       "    <tr>\n",
       "      <th>0</th>\n",
       "      <td>1667325600</td>\n",
       "      <td>10000</td>\n",
       "      <td>1.00</td>\n",
       "      <td>2022-11-01 18:00:00</td>\n",
       "      <td>14.13</td>\n",
       "      <td>13.61</td>\n",
       "      <td>13.00</td>\n",
       "      <td>14.13</td>\n",
       "      <td>1016</td>\n",
       "      <td>1016</td>\n",
       "      <td>...</td>\n",
       "      <td>10n</td>\n",
       "      <td>6435453</td>\n",
       "      <td>Huisnes-sur-Mer</td>\n",
       "      <td>FR</td>\n",
       "      <td>0</td>\n",
       "      <td>3600</td>\n",
       "      <td>1667285522</td>\n",
       "      <td>1667321226</td>\n",
       "      <td>48.636</td>\n",
       "      <td>-1.5115</td>\n",
       "    </tr>\n",
       "    <tr>\n",
       "      <th>0</th>\n",
       "      <td>1667336400</td>\n",
       "      <td>10000</td>\n",
       "      <td>0.07</td>\n",
       "      <td>2022-11-01 21:00:00</td>\n",
       "      <td>11.60</td>\n",
       "      <td>10.80</td>\n",
       "      <td>11.60</td>\n",
       "      <td>11.60</td>\n",
       "      <td>1019</td>\n",
       "      <td>1019</td>\n",
       "      <td>...</td>\n",
       "      <td>01n</td>\n",
       "      <td>6435453</td>\n",
       "      <td>Huisnes-sur-Mer</td>\n",
       "      <td>FR</td>\n",
       "      <td>0</td>\n",
       "      <td>3600</td>\n",
       "      <td>1667285522</td>\n",
       "      <td>1667321226</td>\n",
       "      <td>48.636</td>\n",
       "      <td>-1.5115</td>\n",
       "    </tr>\n",
       "    <tr>\n",
       "      <th>0</th>\n",
       "      <td>1667347200</td>\n",
       "      <td>10000</td>\n",
       "      <td>0.15</td>\n",
       "      <td>2022-11-02 00:00:00</td>\n",
       "      <td>10.90</td>\n",
       "      <td>10.11</td>\n",
       "      <td>10.90</td>\n",
       "      <td>10.90</td>\n",
       "      <td>1020</td>\n",
       "      <td>1020</td>\n",
       "      <td>...</td>\n",
       "      <td>02n</td>\n",
       "      <td>6435453</td>\n",
       "      <td>Huisnes-sur-Mer</td>\n",
       "      <td>FR</td>\n",
       "      <td>0</td>\n",
       "      <td>3600</td>\n",
       "      <td>1667285522</td>\n",
       "      <td>1667321226</td>\n",
       "      <td>48.636</td>\n",
       "      <td>-1.5115</td>\n",
       "    </tr>\n",
       "  </tbody>\n",
       "</table>\n",
       "<p>5 rows × 32 columns</p>\n",
       "</div>"
      ],
      "text/plain": [
       "           dt  visibility   pop               dt_txt  main.temp  \\\n",
       "0  1667304000       10000  0.39  2022-11-01 12:00:00      16.39   \n",
       "0  1667314800       10000  1.00  2022-11-01 15:00:00      15.95   \n",
       "0  1667325600       10000  1.00  2022-11-01 18:00:00      14.13   \n",
       "0  1667336400       10000  0.07  2022-11-01 21:00:00      11.60   \n",
       "0  1667347200       10000  0.15  2022-11-02 00:00:00      10.90   \n",
       "\n",
       "   main.feels_like  main.temp_min  main.temp_max  main.pressure  \\\n",
       "0            15.96          16.39          16.72           1015   \n",
       "0            15.56          15.06          15.95           1015   \n",
       "0            13.61          13.00          14.13           1016   \n",
       "0            10.80          11.60          11.60           1019   \n",
       "0            10.11          10.90          10.90           1020   \n",
       "\n",
       "   main.sea_level  ...  mainweather.icon       id             name  country  \\\n",
       "0            1015  ...               10d  6435453  Huisnes-sur-Mer       FR   \n",
       "0            1015  ...               10d  6435453  Huisnes-sur-Mer       FR   \n",
       "0            1016  ...               10n  6435453  Huisnes-sur-Mer       FR   \n",
       "0            1019  ...               01n  6435453  Huisnes-sur-Mer       FR   \n",
       "0            1020  ...               02n  6435453  Huisnes-sur-Mer       FR   \n",
       "\n",
       "   population  timezone     sunrise      sunset coord.lat  coord.lon  \n",
       "0           0      3600  1667285522  1667321226    48.636    -1.5115  \n",
       "0           0      3600  1667285522  1667321226    48.636    -1.5115  \n",
       "0           0      3600  1667285522  1667321226    48.636    -1.5115  \n",
       "0           0      3600  1667285522  1667321226    48.636    -1.5115  \n",
       "0           0      3600  1667285522  1667321226    48.636    -1.5115  \n",
       "\n",
       "[5 rows x 32 columns]"
      ]
     },
     "metadata": {},
     "output_type": "display_data"
    },
    {
     "name": "stdout",
     "output_type": "stream",
     "text": [
      "(1400, 32)\n"
     ]
    }
   ],
   "source": [
    "all_forecast = pd.DataFrame()\n",
    "for i in ville:\n",
    "    lat = all_city.loc[(all_city[\"ville\"] == i), \"lat\"]\n",
    "    lon = all_city.loc[(all_city[\"ville\"] == i), \"lon\"]\n",
    "    ## request\n",
    "    forecast = requests.get(end_point + \"forecast\", params = {\"lat\" : lat, \"lon\" : lon, \"appid\" : API_key, \"units\" : \"metric\"}).json()\n",
    "\n",
    "    ## steps on forecast\n",
    "        ## extracting and formatting weather data\n",
    "    data_w = pd.DataFrame()\n",
    "    for l in range(len(forecast['list'])):\n",
    "        this_date = extractWeather(forecast['list'][l])\n",
    "        data_w = pd.concat([data_w, this_date])\n",
    "    data_w = data_w.drop(\"weather\", axis=1)\n",
    "\n",
    "        ## extracting city information\n",
    "    city = pd.json_normalize(forecast['city'])\n",
    "        ## adding city information to weather dataframe\n",
    "    for c in city.columns:    \n",
    "        data_w.insert(len(data_w.columns), column=c, value=city[c])\n",
    "\n",
    "    #display(data_w.head(2))\n",
    "\n",
    "    ## final concatenation\n",
    "    all_forecast = pd.concat([all_forecast, data_w])\n",
    "\n",
    "display(all_forecast.head())\n",
    "print(all_forecast.shape)"
   ]
  },
  {
   "cell_type": "code",
   "execution_count": 7,
   "metadata": {},
   "outputs": [
    {
     "name": "stdout",
     "output_type": "stream",
     "text": [
      "35\n"
     ]
    }
   ],
   "source": [
    "print(len(all_forecast[\"name\"].unique()))"
   ]
  },
  {
   "cell_type": "code",
   "execution_count": 8,
   "metadata": {},
   "outputs": [],
   "source": [
    "# save this csv for scraping\n",
    "all_forecast.to_csv('src/forecast.csv')"
   ]
  },
  {
   "cell_type": "markdown",
   "metadata": {},
   "source": [
    "# 3. Creation of selection criteria based on the weather"
   ]
  },
  {
   "cell_type": "code",
   "execution_count": 7,
   "metadata": {},
   "outputs": [],
   "source": [
    "all_city = pd.read_csv(\"src/coordinates.csv\")\n",
    "all_forecast = pd.read_csv(\"src/forecast.csv\")"
   ]
  },
  {
   "cell_type": "markdown",
   "metadata": {},
   "source": [
    "## 3.1 preparation of the dataframe"
   ]
  },
  {
   "cell_type": "code",
   "execution_count": 8,
   "metadata": {},
   "outputs": [
    {
     "data": {
      "text/plain": [
       "Index(['dt', 'visibility', 'pop', 'dt_txt', 'main.temp', 'main.feels_like',\n",
       "       'main.temp_min', 'main.temp_max', 'main.pressure', 'main.sea_level',\n",
       "       'main.grnd_level', 'main.humidity', 'main.temp_kf', 'clouds.all',\n",
       "       'wind.speed', 'wind.deg', 'wind.gust', 'rain.3h', 'sys.pod',\n",
       "       'mainweather.id', 'mainweather.main', 'mainweather.description',\n",
       "       'mainweather.icon', 'name', 'country', 'population', 'timezone',\n",
       "       'sunrise', 'sunset', 'coord.lat', 'coord.lon'],\n",
       "      dtype='object')"
      ]
     },
     "execution_count": 8,
     "metadata": {},
     "output_type": "execute_result"
    }
   ],
   "source": [
    "all_forecast = all_forecast.drop(columns='Unnamed: 0', axis=1)\n",
    "all_forecast = all_forecast.drop(columns='id', axis=1)\n",
    "all_forecast.columns"
   ]
  },
  {
   "cell_type": "code",
   "execution_count": 9,
   "metadata": {},
   "outputs": [
    {
     "name": "stdout",
     "output_type": "stream",
     "text": [
      "\n",
      "city name in all_forecast df:\n",
      " ['Huisnes-sur-Mer' 'St-Malo' 'Bayeux' 'Le Havre' 'Rouen' 'Palais-Royal'\n",
      " 'Amiens' 'Lille' 'Strasbourg' 'Saint-Hippolyte' 'Colmar' 'Eguisheim'\n",
      " 'Besançon' 'Larrey' 'Annecy' 'Grenoble' 'Vieux Lyon' 'Bauduen'\n",
      " 'Bormes-les-Mimosas' 'Cassis' 'Marseille' 'Aix-en-Provence' 'Avignon'\n",
      " 'Uzès' 'Nîmes' 'Aigues-Mortes' 'Saintes-Maries-de-la-Mer' 'Collioure'\n",
      " 'Carcassonne' 'Thomery' 'Toulouse' 'Montauban' 'Biarritz' 'Bayonne'\n",
      " 'La Rochelle']\n",
      "\n",
      "city name in all_city df:\n",
      " ['Mont Saint Michel' 'St Malo' 'Bayeux' 'Le Havre' 'Rouen' 'Paris'\n",
      " 'Amiens' 'Lille' 'Strasbourg' 'Chateau du Haut Koenigsbourg' 'Colmar'\n",
      " 'Eguisheim' 'Besancon' 'Dijon' 'Annecy' 'Grenoble' 'Lyon'\n",
      " 'Gorges du Verdon' 'Bormes les Mimosas' 'Cassis' 'Marseille'\n",
      " 'Aix en Provence' 'Avignon' 'Uzes' 'Nimes' 'Aigues Mortes'\n",
      " 'Saintes Maries de la mer' 'Collioure' 'Carcassonne' 'Ariege' 'Toulouse'\n",
      " 'Montauban' 'Biarritz' 'Bayonne' 'La Rochelle']\n",
      "\n",
      "city caracteristics in all_city df:\n",
      "     ville        lat       lon\n",
      "6  Amiens  49.894171  2.295695\n",
      "\n",
      "city caracteristics in all_forecast df:\n",
      "        name  coord.lat  coord.lon\n",
      "240  Amiens    49.8942     2.2957\n"
     ]
    },
    {
     "data": {
      "text/html": [
       "<div>\n",
       "<style scoped>\n",
       "    .dataframe tbody tr th:only-of-type {\n",
       "        vertical-align: middle;\n",
       "    }\n",
       "\n",
       "    .dataframe tbody tr th {\n",
       "        vertical-align: top;\n",
       "    }\n",
       "\n",
       "    .dataframe thead th {\n",
       "        text-align: right;\n",
       "    }\n",
       "</style>\n",
       "<table border=\"1\" class=\"dataframe\">\n",
       "  <thead>\n",
       "    <tr style=\"text-align: right;\">\n",
       "      <th></th>\n",
       "      <th>dt</th>\n",
       "      <th>visibility</th>\n",
       "      <th>pop</th>\n",
       "      <th>dt_txt</th>\n",
       "      <th>main.temp</th>\n",
       "      <th>main.feels_like</th>\n",
       "      <th>main.temp_min</th>\n",
       "      <th>main.temp_max</th>\n",
       "      <th>main.pressure</th>\n",
       "      <th>main.sea_level</th>\n",
       "      <th>...</th>\n",
       "      <th>country</th>\n",
       "      <th>population</th>\n",
       "      <th>timezone</th>\n",
       "      <th>sunrise</th>\n",
       "      <th>sunset</th>\n",
       "      <th>coord.lat</th>\n",
       "      <th>coord.lon</th>\n",
       "      <th>lat</th>\n",
       "      <th>lon</th>\n",
       "      <th>ville</th>\n",
       "    </tr>\n",
       "  </thead>\n",
       "  <tbody>\n",
       "    <tr>\n",
       "      <th>0</th>\n",
       "      <td>1667304000</td>\n",
       "      <td>10000</td>\n",
       "      <td>0.39</td>\n",
       "      <td>2022-11-01 12:00:00</td>\n",
       "      <td>16.39</td>\n",
       "      <td>15.96</td>\n",
       "      <td>16.39</td>\n",
       "      <td>16.72</td>\n",
       "      <td>1015</td>\n",
       "      <td>1015</td>\n",
       "      <td>...</td>\n",
       "      <td>FR</td>\n",
       "      <td>0</td>\n",
       "      <td>3600</td>\n",
       "      <td>1667285522</td>\n",
       "      <td>1667321226</td>\n",
       "      <td>48.636</td>\n",
       "      <td>-1.5115</td>\n",
       "      <td>48.64</td>\n",
       "      <td>-1.51</td>\n",
       "      <td>Mont Saint Michel</td>\n",
       "    </tr>\n",
       "    <tr>\n",
       "      <th>1</th>\n",
       "      <td>1667314800</td>\n",
       "      <td>10000</td>\n",
       "      <td>1.00</td>\n",
       "      <td>2022-11-01 15:00:00</td>\n",
       "      <td>15.95</td>\n",
       "      <td>15.56</td>\n",
       "      <td>15.06</td>\n",
       "      <td>15.95</td>\n",
       "      <td>1015</td>\n",
       "      <td>1015</td>\n",
       "      <td>...</td>\n",
       "      <td>FR</td>\n",
       "      <td>0</td>\n",
       "      <td>3600</td>\n",
       "      <td>1667285522</td>\n",
       "      <td>1667321226</td>\n",
       "      <td>48.636</td>\n",
       "      <td>-1.5115</td>\n",
       "      <td>48.64</td>\n",
       "      <td>-1.51</td>\n",
       "      <td>Mont Saint Michel</td>\n",
       "    </tr>\n",
       "    <tr>\n",
       "      <th>2</th>\n",
       "      <td>1667325600</td>\n",
       "      <td>10000</td>\n",
       "      <td>1.00</td>\n",
       "      <td>2022-11-01 18:00:00</td>\n",
       "      <td>14.13</td>\n",
       "      <td>13.61</td>\n",
       "      <td>13.00</td>\n",
       "      <td>14.13</td>\n",
       "      <td>1016</td>\n",
       "      <td>1016</td>\n",
       "      <td>...</td>\n",
       "      <td>FR</td>\n",
       "      <td>0</td>\n",
       "      <td>3600</td>\n",
       "      <td>1667285522</td>\n",
       "      <td>1667321226</td>\n",
       "      <td>48.636</td>\n",
       "      <td>-1.5115</td>\n",
       "      <td>48.64</td>\n",
       "      <td>-1.51</td>\n",
       "      <td>Mont Saint Michel</td>\n",
       "    </tr>\n",
       "    <tr>\n",
       "      <th>3</th>\n",
       "      <td>1667336400</td>\n",
       "      <td>10000</td>\n",
       "      <td>0.07</td>\n",
       "      <td>2022-11-01 21:00:00</td>\n",
       "      <td>11.60</td>\n",
       "      <td>10.80</td>\n",
       "      <td>11.60</td>\n",
       "      <td>11.60</td>\n",
       "      <td>1019</td>\n",
       "      <td>1019</td>\n",
       "      <td>...</td>\n",
       "      <td>FR</td>\n",
       "      <td>0</td>\n",
       "      <td>3600</td>\n",
       "      <td>1667285522</td>\n",
       "      <td>1667321226</td>\n",
       "      <td>48.636</td>\n",
       "      <td>-1.5115</td>\n",
       "      <td>48.64</td>\n",
       "      <td>-1.51</td>\n",
       "      <td>Mont Saint Michel</td>\n",
       "    </tr>\n",
       "    <tr>\n",
       "      <th>4</th>\n",
       "      <td>1667347200</td>\n",
       "      <td>10000</td>\n",
       "      <td>0.15</td>\n",
       "      <td>2022-11-02 00:00:00</td>\n",
       "      <td>10.90</td>\n",
       "      <td>10.11</td>\n",
       "      <td>10.90</td>\n",
       "      <td>10.90</td>\n",
       "      <td>1020</td>\n",
       "      <td>1020</td>\n",
       "      <td>...</td>\n",
       "      <td>FR</td>\n",
       "      <td>0</td>\n",
       "      <td>3600</td>\n",
       "      <td>1667285522</td>\n",
       "      <td>1667321226</td>\n",
       "      <td>48.636</td>\n",
       "      <td>-1.5115</td>\n",
       "      <td>48.64</td>\n",
       "      <td>-1.51</td>\n",
       "      <td>Mont Saint Michel</td>\n",
       "    </tr>\n",
       "  </tbody>\n",
       "</table>\n",
       "<p>5 rows × 34 columns</p>\n",
       "</div>"
      ],
      "text/plain": [
       "           dt  visibility   pop               dt_txt  main.temp  \\\n",
       "0  1667304000       10000  0.39  2022-11-01 12:00:00      16.39   \n",
       "1  1667314800       10000  1.00  2022-11-01 15:00:00      15.95   \n",
       "2  1667325600       10000  1.00  2022-11-01 18:00:00      14.13   \n",
       "3  1667336400       10000  0.07  2022-11-01 21:00:00      11.60   \n",
       "4  1667347200       10000  0.15  2022-11-02 00:00:00      10.90   \n",
       "\n",
       "   main.feels_like  main.temp_min  main.temp_max  main.pressure  \\\n",
       "0            15.96          16.39          16.72           1015   \n",
       "1            15.56          15.06          15.95           1015   \n",
       "2            13.61          13.00          14.13           1016   \n",
       "3            10.80          11.60          11.60           1019   \n",
       "4            10.11          10.90          10.90           1020   \n",
       "\n",
       "   main.sea_level  ...  country  population  timezone     sunrise      sunset  \\\n",
       "0            1015  ...       FR           0      3600  1667285522  1667321226   \n",
       "1            1015  ...       FR           0      3600  1667285522  1667321226   \n",
       "2            1016  ...       FR           0      3600  1667285522  1667321226   \n",
       "3            1019  ...       FR           0      3600  1667285522  1667321226   \n",
       "4            1020  ...       FR           0      3600  1667285522  1667321226   \n",
       "\n",
       "   coord.lat  coord.lon    lat   lon              ville  \n",
       "0     48.636    -1.5115  48.64 -1.51  Mont Saint Michel  \n",
       "1     48.636    -1.5115  48.64 -1.51  Mont Saint Michel  \n",
       "2     48.636    -1.5115  48.64 -1.51  Mont Saint Michel  \n",
       "3     48.636    -1.5115  48.64 -1.51  Mont Saint Michel  \n",
       "4     48.636    -1.5115  48.64 -1.51  Mont Saint Michel  \n",
       "\n",
       "[5 rows x 34 columns]"
      ]
     },
     "execution_count": 9,
     "metadata": {},
     "output_type": "execute_result"
    }
   ],
   "source": [
    "print(\"\\ncity name in all_forecast df:\\n\", all_forecast[\"name\"].unique())\n",
    "print(\"\\ncity name in all_city df:\\n\", all_city[\"ville\"].unique())\n",
    "\n",
    "# preparation for merging\n",
    "print(\"\\ncity caracteristics in all_city df:\\n\", all_city.loc[all_city[\"ville\"] == \"Amiens\",[\"ville\", \"lat\", \"lon\"]])\n",
    "print(\"\\ncity caracteristics in all_forecast df:\\n\", all_forecast.loc[all_forecast[\"name\"] == \"Amiens\",[\"name\", \"coord.lat\", \"coord.lon\"]].head(1))\n",
    "\n",
    "## need to round the coordinate values\n",
    "all_forecast[\"lat\"] = round(all_forecast[\"coord.lat\"], 2)\n",
    "all_forecast[\"lon\"] = round(all_forecast[\"coord.lon\"], 2)\n",
    "\n",
    "all_city[\"lat\"] = round(all_city[\"lat\"], 2)\n",
    "all_city[\"lon\"] = round(all_city[\"lon\"], 2)\n",
    "## specifica case for Montauban where the rounded value is different to city df\n",
    "all_forecast.loc[all_forecast[\"name\"] == \"Montauban\", [\"lon\"]] = all_city.loc[all_city[\"ville\"] == \"Montauban\", [\"lon\"]].values\n",
    "\n",
    "# merging\n",
    "all_forecast = all_forecast.merge(all_city.loc[:,[\"ville\", \"lat\", \"lon\"]], on=[\"lat\", \"lon\"])\n",
    "all_forecast.head(5)"
   ]
  },
  {
   "cell_type": "code",
   "execution_count": 10,
   "metadata": {},
   "outputs": [
    {
     "data": {
      "text/html": [
       "<div>\n",
       "<style scoped>\n",
       "    .dataframe tbody tr th:only-of-type {\n",
       "        vertical-align: middle;\n",
       "    }\n",
       "\n",
       "    .dataframe tbody tr th {\n",
       "        vertical-align: top;\n",
       "    }\n",
       "\n",
       "    .dataframe thead th {\n",
       "        text-align: right;\n",
       "    }\n",
       "</style>\n",
       "<table border=\"1\" class=\"dataframe\">\n",
       "  <thead>\n",
       "    <tr style=\"text-align: right;\">\n",
       "      <th></th>\n",
       "      <th>dt</th>\n",
       "      <th>visibility</th>\n",
       "      <th>pop</th>\n",
       "      <th>dt_txt</th>\n",
       "      <th>main.temp</th>\n",
       "      <th>main.feels_like</th>\n",
       "      <th>main.temp_min</th>\n",
       "      <th>main.temp_max</th>\n",
       "      <th>main.pressure</th>\n",
       "      <th>main.sea_level</th>\n",
       "      <th>...</th>\n",
       "      <th>coord.lat</th>\n",
       "      <th>coord.lon</th>\n",
       "      <th>lat</th>\n",
       "      <th>lon</th>\n",
       "      <th>ville</th>\n",
       "      <th>date</th>\n",
       "      <th>dayofweek</th>\n",
       "      <th>dt_sunrise</th>\n",
       "      <th>dt_sunset</th>\n",
       "      <th>lg_day</th>\n",
       "    </tr>\n",
       "  </thead>\n",
       "  <tbody>\n",
       "    <tr>\n",
       "      <th>0</th>\n",
       "      <td>1667304000</td>\n",
       "      <td>10000</td>\n",
       "      <td>0.39</td>\n",
       "      <td>2022-11-01 12:00:00</td>\n",
       "      <td>16.39</td>\n",
       "      <td>15.96</td>\n",
       "      <td>16.39</td>\n",
       "      <td>16.72</td>\n",
       "      <td>1015</td>\n",
       "      <td>1015</td>\n",
       "      <td>...</td>\n",
       "      <td>48.636</td>\n",
       "      <td>-1.5115</td>\n",
       "      <td>48.64</td>\n",
       "      <td>-1.51</td>\n",
       "      <td>Mont Saint Michel</td>\n",
       "      <td>2022-11-01 12:00:00+00:00</td>\n",
       "      <td>1</td>\n",
       "      <td>2022-11-01 07:52:02</td>\n",
       "      <td>2022-11-01 17:47:06</td>\n",
       "      <td>9.917778</td>\n",
       "    </tr>\n",
       "    <tr>\n",
       "      <th>1</th>\n",
       "      <td>1667314800</td>\n",
       "      <td>10000</td>\n",
       "      <td>1.00</td>\n",
       "      <td>2022-11-01 15:00:00</td>\n",
       "      <td>15.95</td>\n",
       "      <td>15.56</td>\n",
       "      <td>15.06</td>\n",
       "      <td>15.95</td>\n",
       "      <td>1015</td>\n",
       "      <td>1015</td>\n",
       "      <td>...</td>\n",
       "      <td>48.636</td>\n",
       "      <td>-1.5115</td>\n",
       "      <td>48.64</td>\n",
       "      <td>-1.51</td>\n",
       "      <td>Mont Saint Michel</td>\n",
       "      <td>2022-11-01 15:00:00+00:00</td>\n",
       "      <td>1</td>\n",
       "      <td>2022-11-01 07:52:02</td>\n",
       "      <td>2022-11-01 17:47:06</td>\n",
       "      <td>9.917778</td>\n",
       "    </tr>\n",
       "    <tr>\n",
       "      <th>2</th>\n",
       "      <td>1667325600</td>\n",
       "      <td>10000</td>\n",
       "      <td>1.00</td>\n",
       "      <td>2022-11-01 18:00:00</td>\n",
       "      <td>14.13</td>\n",
       "      <td>13.61</td>\n",
       "      <td>13.00</td>\n",
       "      <td>14.13</td>\n",
       "      <td>1016</td>\n",
       "      <td>1016</td>\n",
       "      <td>...</td>\n",
       "      <td>48.636</td>\n",
       "      <td>-1.5115</td>\n",
       "      <td>48.64</td>\n",
       "      <td>-1.51</td>\n",
       "      <td>Mont Saint Michel</td>\n",
       "      <td>2022-11-01 18:00:00+00:00</td>\n",
       "      <td>1</td>\n",
       "      <td>2022-11-01 07:52:02</td>\n",
       "      <td>2022-11-01 17:47:06</td>\n",
       "      <td>9.917778</td>\n",
       "    </tr>\n",
       "    <tr>\n",
       "      <th>3</th>\n",
       "      <td>1667336400</td>\n",
       "      <td>10000</td>\n",
       "      <td>0.07</td>\n",
       "      <td>2022-11-01 21:00:00</td>\n",
       "      <td>11.60</td>\n",
       "      <td>10.80</td>\n",
       "      <td>11.60</td>\n",
       "      <td>11.60</td>\n",
       "      <td>1019</td>\n",
       "      <td>1019</td>\n",
       "      <td>...</td>\n",
       "      <td>48.636</td>\n",
       "      <td>-1.5115</td>\n",
       "      <td>48.64</td>\n",
       "      <td>-1.51</td>\n",
       "      <td>Mont Saint Michel</td>\n",
       "      <td>2022-11-01 21:00:00+00:00</td>\n",
       "      <td>1</td>\n",
       "      <td>2022-11-01 07:52:02</td>\n",
       "      <td>2022-11-01 17:47:06</td>\n",
       "      <td>9.917778</td>\n",
       "    </tr>\n",
       "    <tr>\n",
       "      <th>4</th>\n",
       "      <td>1667347200</td>\n",
       "      <td>10000</td>\n",
       "      <td>0.15</td>\n",
       "      <td>2022-11-02 00:00:00</td>\n",
       "      <td>10.90</td>\n",
       "      <td>10.11</td>\n",
       "      <td>10.90</td>\n",
       "      <td>10.90</td>\n",
       "      <td>1020</td>\n",
       "      <td>1020</td>\n",
       "      <td>...</td>\n",
       "      <td>48.636</td>\n",
       "      <td>-1.5115</td>\n",
       "      <td>48.64</td>\n",
       "      <td>-1.51</td>\n",
       "      <td>Mont Saint Michel</td>\n",
       "      <td>2022-11-02 00:00:00+00:00</td>\n",
       "      <td>2</td>\n",
       "      <td>2022-11-01 07:52:02</td>\n",
       "      <td>2022-11-01 17:47:06</td>\n",
       "      <td>9.917778</td>\n",
       "    </tr>\n",
       "  </tbody>\n",
       "</table>\n",
       "<p>5 rows × 39 columns</p>\n",
       "</div>"
      ],
      "text/plain": [
       "           dt  visibility   pop               dt_txt  main.temp  \\\n",
       "0  1667304000       10000  0.39  2022-11-01 12:00:00      16.39   \n",
       "1  1667314800       10000  1.00  2022-11-01 15:00:00      15.95   \n",
       "2  1667325600       10000  1.00  2022-11-01 18:00:00      14.13   \n",
       "3  1667336400       10000  0.07  2022-11-01 21:00:00      11.60   \n",
       "4  1667347200       10000  0.15  2022-11-02 00:00:00      10.90   \n",
       "\n",
       "   main.feels_like  main.temp_min  main.temp_max  main.pressure  \\\n",
       "0            15.96          16.39          16.72           1015   \n",
       "1            15.56          15.06          15.95           1015   \n",
       "2            13.61          13.00          14.13           1016   \n",
       "3            10.80          11.60          11.60           1019   \n",
       "4            10.11          10.90          10.90           1020   \n",
       "\n",
       "   main.sea_level  ...  coord.lat  coord.lon    lat   lon              ville  \\\n",
       "0            1015  ...     48.636    -1.5115  48.64 -1.51  Mont Saint Michel   \n",
       "1            1015  ...     48.636    -1.5115  48.64 -1.51  Mont Saint Michel   \n",
       "2            1016  ...     48.636    -1.5115  48.64 -1.51  Mont Saint Michel   \n",
       "3            1019  ...     48.636    -1.5115  48.64 -1.51  Mont Saint Michel   \n",
       "4            1020  ...     48.636    -1.5115  48.64 -1.51  Mont Saint Michel   \n",
       "\n",
       "                       date  dayofweek          dt_sunrise  \\\n",
       "0 2022-11-01 12:00:00+00:00          1 2022-11-01 07:52:02   \n",
       "1 2022-11-01 15:00:00+00:00          1 2022-11-01 07:52:02   \n",
       "2 2022-11-01 18:00:00+00:00          1 2022-11-01 07:52:02   \n",
       "3 2022-11-01 21:00:00+00:00          1 2022-11-01 07:52:02   \n",
       "4 2022-11-02 00:00:00+00:00          2 2022-11-01 07:52:02   \n",
       "\n",
       "            dt_sunset    lg_day  \n",
       "0 2022-11-01 17:47:06  9.917778  \n",
       "1 2022-11-01 17:47:06  9.917778  \n",
       "2 2022-11-01 17:47:06  9.917778  \n",
       "3 2022-11-01 17:47:06  9.917778  \n",
       "4 2022-11-01 17:47:06  9.917778  \n",
       "\n",
       "[5 rows x 39 columns]"
      ]
     },
     "execution_count": 10,
     "metadata": {},
     "output_type": "execute_result"
    }
   ],
   "source": [
    "from datetime import datetime\n",
    "\n",
    "# date format\n",
    "def create_features(df):\n",
    "    df = df.copy()\n",
    "\n",
    "    df['date']      = pd.to_datetime(df['dt_txt'], utc=True)\n",
    "    df['dayofweek'] = df['date'].dt.dayofweek\n",
    "    \n",
    "    df['dt_sunrise'] = df['sunrise'].apply(lambda x : datetime.fromtimestamp(x))\n",
    "    df['dt_sunset']  = df['sunset'].apply(lambda x : datetime.fromtimestamp(x))\n",
    "    df['dt_sunrise'] = pd.to_datetime(df[\"dt_sunrise\"])\n",
    "    df['dt_sunset']  = pd.to_datetime(df[\"dt_sunset\"])\n",
    "    df['lg_day']     = df[\"dt_sunset\"] - df[\"dt_sunrise\"]\n",
    "    # conversion in hour\n",
    "    df['lg_day']     = df[\"lg_day\"].apply(lambda x : x.total_seconds()/60/60)\n",
    "\n",
    "    return df\n",
    "\n",
    "weather = create_features(all_forecast)\n",
    "weather.head(5)"
   ]
  },
  {
   "cell_type": "markdown",
   "metadata": {},
   "source": [
    "## 3.2 feature selection"
   ]
  },
  {
   "cell_type": "code",
   "execution_count": 11,
   "metadata": {},
   "outputs": [
    {
     "data": {
      "text/html": [
       "<div>\n",
       "<style scoped>\n",
       "    .dataframe tbody tr th:only-of-type {\n",
       "        vertical-align: middle;\n",
       "    }\n",
       "\n",
       "    .dataframe tbody tr th {\n",
       "        vertical-align: top;\n",
       "    }\n",
       "\n",
       "    .dataframe thead th {\n",
       "        text-align: right;\n",
       "    }\n",
       "</style>\n",
       "<table border=\"1\" class=\"dataframe\">\n",
       "  <thead>\n",
       "    <tr style=\"text-align: right;\">\n",
       "      <th></th>\n",
       "      <th>ville</th>\n",
       "      <th>lat</th>\n",
       "      <th>lon</th>\n",
       "      <th>main.temp</th>\n",
       "      <th>main.feels_like</th>\n",
       "      <th>main.temp_max</th>\n",
       "      <th>main.humidity</th>\n",
       "      <th>clouds.all</th>\n",
       "      <th>wind.speed</th>\n",
       "      <th>visibility</th>\n",
       "      <th>lg_day</th>\n",
       "      <th>rain.3h</th>\n",
       "    </tr>\n",
       "  </thead>\n",
       "  <tbody>\n",
       "    <tr>\n",
       "      <th>0</th>\n",
       "      <td>Aigues Mortes</td>\n",
       "      <td>43.57</td>\n",
       "      <td>4.19</td>\n",
       "      <td>15.32625</td>\n",
       "      <td>14.55225</td>\n",
       "      <td>15.32625</td>\n",
       "      <td>62.725</td>\n",
       "      <td>45.250</td>\n",
       "      <td>5.50625</td>\n",
       "      <td>9935.700</td>\n",
       "      <td>10.276944</td>\n",
       "      <td>7.91</td>\n",
       "    </tr>\n",
       "    <tr>\n",
       "      <th>1</th>\n",
       "      <td>Aix en Provence</td>\n",
       "      <td>43.53</td>\n",
       "      <td>5.45</td>\n",
       "      <td>14.21025</td>\n",
       "      <td>13.08125</td>\n",
       "      <td>14.21025</td>\n",
       "      <td>62.525</td>\n",
       "      <td>42.700</td>\n",
       "      <td>4.31225</td>\n",
       "      <td>9870.925</td>\n",
       "      <td>10.279444</td>\n",
       "      <td>7.40</td>\n",
       "    </tr>\n",
       "    <tr>\n",
       "      <th>2</th>\n",
       "      <td>Amiens</td>\n",
       "      <td>49.89</td>\n",
       "      <td>2.30</td>\n",
       "      <td>11.34550</td>\n",
       "      <td>10.23125</td>\n",
       "      <td>11.35300</td>\n",
       "      <td>78.200</td>\n",
       "      <td>71.225</td>\n",
       "      <td>5.60150</td>\n",
       "      <td>9824.475</td>\n",
       "      <td>9.817778</td>\n",
       "      <td>25.43</td>\n",
       "    </tr>\n",
       "    <tr>\n",
       "      <th>3</th>\n",
       "      <td>Annecy</td>\n",
       "      <td>45.90</td>\n",
       "      <td>6.13</td>\n",
       "      <td>9.59200</td>\n",
       "      <td>9.07850</td>\n",
       "      <td>9.62500</td>\n",
       "      <td>86.675</td>\n",
       "      <td>78.200</td>\n",
       "      <td>1.25475</td>\n",
       "      <td>9423.300</td>\n",
       "      <td>10.120833</td>\n",
       "      <td>34.15</td>\n",
       "    </tr>\n",
       "    <tr>\n",
       "      <th>4</th>\n",
       "      <td>Ariege</td>\n",
       "      <td>48.41</td>\n",
       "      <td>2.79</td>\n",
       "      <td>11.52375</td>\n",
       "      <td>10.35600</td>\n",
       "      <td>11.53100</td>\n",
       "      <td>75.725</td>\n",
       "      <td>70.300</td>\n",
       "      <td>4.19600</td>\n",
       "      <td>9955.250</td>\n",
       "      <td>9.936111</td>\n",
       "      <td>9.36</td>\n",
       "    </tr>\n",
       "  </tbody>\n",
       "</table>\n",
       "</div>"
      ],
      "text/plain": [
       "             ville    lat   lon  main.temp  main.feels_like  main.temp_max  \\\n",
       "0    Aigues Mortes  43.57  4.19   15.32625         14.55225       15.32625   \n",
       "1  Aix en Provence  43.53  5.45   14.21025         13.08125       14.21025   \n",
       "2           Amiens  49.89  2.30   11.34550         10.23125       11.35300   \n",
       "3           Annecy  45.90  6.13    9.59200          9.07850        9.62500   \n",
       "4           Ariege  48.41  2.79   11.52375         10.35600       11.53100   \n",
       "\n",
       "   main.humidity  clouds.all  wind.speed  visibility     lg_day  rain.3h  \n",
       "0         62.725      45.250     5.50625    9935.700  10.276944     7.91  \n",
       "1         62.525      42.700     4.31225    9870.925  10.279444     7.40  \n",
       "2         78.200      71.225     5.60150    9824.475   9.817778    25.43  \n",
       "3         86.675      78.200     1.25475    9423.300  10.120833    34.15  \n",
       "4         75.725      70.300     4.19600    9955.250   9.936111     9.36  "
      ]
     },
     "execution_count": 11,
     "metadata": {},
     "output_type": "execute_result"
    }
   ],
   "source": [
    "# mean weather on the 4 following days\n",
    "feature_mean = [\"main.temp\", \"main.feels_like\", \"main.temp_max\", \"main.humidity\", \"clouds.all\", \"wind.speed\", \"visibility\", \"lg_day\"]\n",
    "resumeW = weather.groupby([\"ville\", \"lat\", \"lon\"])[feature_mean].mean().reset_index()\n",
    "\n",
    "# sum of rain\n",
    "rain = weather.groupby([\"ville\", \"lat\", \"lon\"])[\"rain.3h\"].sum().reset_index()\n",
    "resumeW = resumeW.merge(rain, on = [\"ville\", \"lat\", \"lon\"])\n",
    "resumeW.head()"
   ]
  },
  {
   "cell_type": "code",
   "execution_count": 12,
   "metadata": {},
   "outputs": [],
   "source": [
    "# for categorical data: extraction of the most frequent category to describe the main weather\n",
    "def freqfeature(df, df_to_merge, feature=None):\n",
    "    df = df.copy()\n",
    "    # calculation of the frequence of feature per city\n",
    "    name   = \"frequency_\" + feature\n",
    "    first  = df.groupby([\"ville\", \"coord.lat\", \"coord.lon\"])[feature].value_counts().to_frame(name=name).reset_index()\n",
    "\n",
    "    # extraction of the most frequent feature\n",
    "    list_column = [feature, first.columns[-1]]\n",
    "    second = first.groupby([\"ville\", \"coord.lat\", \"coord.lon\"])[list_column].max().reset_index()\n",
    "\n",
    "    # merge to the desired dataframe (dataframe with city ville, lat and lon columns)\n",
    "    output = df_to_merge.merge(second.loc[:, [\"ville\", \"coord.lat\", \"coord.lon\", feature]])\n",
    "\n",
    "    return(output)"
   ]
  },
  {
   "cell_type": "code",
   "execution_count": 13,
   "metadata": {},
   "outputs": [
    {
     "data": {
      "text/html": [
       "<div>\n",
       "<style scoped>\n",
       "    .dataframe tbody tr th:only-of-type {\n",
       "        vertical-align: middle;\n",
       "    }\n",
       "\n",
       "    .dataframe tbody tr th {\n",
       "        vertical-align: top;\n",
       "    }\n",
       "\n",
       "    .dataframe thead th {\n",
       "        text-align: right;\n",
       "    }\n",
       "</style>\n",
       "<table border=\"1\" class=\"dataframe\">\n",
       "  <thead>\n",
       "    <tr style=\"text-align: right;\">\n",
       "      <th></th>\n",
       "      <th>ville</th>\n",
       "      <th>lat</th>\n",
       "      <th>lon</th>\n",
       "      <th>main.temp</th>\n",
       "      <th>main.feels_like</th>\n",
       "      <th>main.temp_max</th>\n",
       "      <th>main.humidity</th>\n",
       "      <th>clouds.all</th>\n",
       "      <th>wind.speed</th>\n",
       "      <th>visibility</th>\n",
       "      <th>lg_day</th>\n",
       "      <th>rain.3h</th>\n",
       "      <th>coord.lat</th>\n",
       "      <th>coord.lon</th>\n",
       "      <th>mainweather.main</th>\n",
       "      <th>mainweather.description</th>\n",
       "    </tr>\n",
       "  </thead>\n",
       "  <tbody>\n",
       "    <tr>\n",
       "      <th>0</th>\n",
       "      <td>Aigues Mortes</td>\n",
       "      <td>43.57</td>\n",
       "      <td>4.19</td>\n",
       "      <td>15.32625</td>\n",
       "      <td>14.55225</td>\n",
       "      <td>15.32625</td>\n",
       "      <td>62.725</td>\n",
       "      <td>45.250</td>\n",
       "      <td>5.50625</td>\n",
       "      <td>9935.700</td>\n",
       "      <td>10.276944</td>\n",
       "      <td>7.91</td>\n",
       "      <td>43.5658</td>\n",
       "      <td>4.1913</td>\n",
       "      <td>Rain</td>\n",
       "      <td>scattered clouds</td>\n",
       "    </tr>\n",
       "    <tr>\n",
       "      <th>1</th>\n",
       "      <td>Aix en Provence</td>\n",
       "      <td>43.53</td>\n",
       "      <td>5.45</td>\n",
       "      <td>14.21025</td>\n",
       "      <td>13.08125</td>\n",
       "      <td>14.21025</td>\n",
       "      <td>62.525</td>\n",
       "      <td>42.700</td>\n",
       "      <td>4.31225</td>\n",
       "      <td>9870.925</td>\n",
       "      <td>10.279444</td>\n",
       "      <td>7.40</td>\n",
       "      <td>43.5298</td>\n",
       "      <td>5.4475</td>\n",
       "      <td>Rain</td>\n",
       "      <td>scattered clouds</td>\n",
       "    </tr>\n",
       "    <tr>\n",
       "      <th>2</th>\n",
       "      <td>Amiens</td>\n",
       "      <td>49.89</td>\n",
       "      <td>2.30</td>\n",
       "      <td>11.34550</td>\n",
       "      <td>10.23125</td>\n",
       "      <td>11.35300</td>\n",
       "      <td>78.200</td>\n",
       "      <td>71.225</td>\n",
       "      <td>5.60150</td>\n",
       "      <td>9824.475</td>\n",
       "      <td>9.817778</td>\n",
       "      <td>25.43</td>\n",
       "      <td>49.8942</td>\n",
       "      <td>2.2957</td>\n",
       "      <td>Rain</td>\n",
       "      <td>scattered clouds</td>\n",
       "    </tr>\n",
       "    <tr>\n",
       "      <th>3</th>\n",
       "      <td>Annecy</td>\n",
       "      <td>45.90</td>\n",
       "      <td>6.13</td>\n",
       "      <td>9.59200</td>\n",
       "      <td>9.07850</td>\n",
       "      <td>9.62500</td>\n",
       "      <td>86.675</td>\n",
       "      <td>78.200</td>\n",
       "      <td>1.25475</td>\n",
       "      <td>9423.300</td>\n",
       "      <td>10.120833</td>\n",
       "      <td>34.15</td>\n",
       "      <td>45.8992</td>\n",
       "      <td>6.1289</td>\n",
       "      <td>Rain</td>\n",
       "      <td>scattered clouds</td>\n",
       "    </tr>\n",
       "    <tr>\n",
       "      <th>4</th>\n",
       "      <td>Ariege</td>\n",
       "      <td>48.41</td>\n",
       "      <td>2.79</td>\n",
       "      <td>11.52375</td>\n",
       "      <td>10.35600</td>\n",
       "      <td>11.53100</td>\n",
       "      <td>75.725</td>\n",
       "      <td>70.300</td>\n",
       "      <td>4.19600</td>\n",
       "      <td>9955.250</td>\n",
       "      <td>9.936111</td>\n",
       "      <td>9.36</td>\n",
       "      <td>48.4103</td>\n",
       "      <td>2.7858</td>\n",
       "      <td>Rain</td>\n",
       "      <td>scattered clouds</td>\n",
       "    </tr>\n",
       "  </tbody>\n",
       "</table>\n",
       "</div>"
      ],
      "text/plain": [
       "             ville    lat   lon  main.temp  main.feels_like  main.temp_max  \\\n",
       "0    Aigues Mortes  43.57  4.19   15.32625         14.55225       15.32625   \n",
       "1  Aix en Provence  43.53  5.45   14.21025         13.08125       14.21025   \n",
       "2           Amiens  49.89  2.30   11.34550         10.23125       11.35300   \n",
       "3           Annecy  45.90  6.13    9.59200          9.07850        9.62500   \n",
       "4           Ariege  48.41  2.79   11.52375         10.35600       11.53100   \n",
       "\n",
       "   main.humidity  clouds.all  wind.speed  visibility     lg_day  rain.3h  \\\n",
       "0         62.725      45.250     5.50625    9935.700  10.276944     7.91   \n",
       "1         62.525      42.700     4.31225    9870.925  10.279444     7.40   \n",
       "2         78.200      71.225     5.60150    9824.475   9.817778    25.43   \n",
       "3         86.675      78.200     1.25475    9423.300  10.120833    34.15   \n",
       "4         75.725      70.300     4.19600    9955.250   9.936111     9.36   \n",
       "\n",
       "   coord.lat  coord.lon mainweather.main mainweather.description  \n",
       "0    43.5658     4.1913             Rain        scattered clouds  \n",
       "1    43.5298     5.4475             Rain        scattered clouds  \n",
       "2    49.8942     2.2957             Rain        scattered clouds  \n",
       "3    45.8992     6.1289             Rain        scattered clouds  \n",
       "4    48.4103     2.7858             Rain        scattered clouds  "
      ]
     },
     "metadata": {},
     "output_type": "display_data"
    },
    {
     "name": "stdout",
     "output_type": "stream",
     "text": [
      "(35, 16)\n"
     ]
    }
   ],
   "source": [
    "feature_frequent = [\"mainweather.main\", \"mainweather.description\"]\n",
    "for f in feature_frequent:\n",
    "    final = freqfeature(df=weather, df_to_merge=resumeW, feature=f)\n",
    "    resumeW = final\n",
    "\n",
    "display(final.head())\n",
    "print(final.shape)\n"
   ]
  },
  {
   "cell_type": "code",
   "execution_count": 14,
   "metadata": {},
   "outputs": [],
   "source": [
    "# criteria can be created in order to fit with different tastes of tourists\n",
    "def df_criteria(df):\n",
    "    # dataframe sortering values\n",
    "    destination = {\"warm\" : df.sort_values(by = 'main.temp_max', ascending=False).head(5),\n",
    "                   \"landscape\" : df.sort_values(by = 'visibility', ascending=False).head(5),\n",
    "                   \"less_cloud\" : df.sort_values(by = 'clouds.all').head(5)}\n",
    "\n",
    "    # dataframe which could be without data regarding the weather conditions\n",
    "    ## sunny and warm\n",
    "    try:\n",
    "        1 / df.loc[df[\"mainweather.main\"] == \"Sun\",:].shape[0]\n",
    "    except ZeroDivisionError:\n",
    "        print(\"There is no sunny days in France in the following days\")\n",
    "    else:\n",
    "        sunny = df.loc[df[\"mainweather.main\"] == \"Sun\",:]\n",
    "        destination[\"sunny\"] = sunny.sort_values(by = 'main.temp_like', ascending=False).head(5)\n",
    "\n",
    "    ## snow\n",
    "    try:\n",
    "        1 / df.loc[df[\"mainweather.main\"] == \"Snow\",:].shape[0]\n",
    "    except ZeroDivisionError:\n",
    "        print(\"There is no snow in France in the following days\")\n",
    "    else:\n",
    "        snow = df.loc[df[\"mainweather.main\"] == \"Snow\",:]        \n",
    "        ### where this is higher amount of snow\n",
    "        destination[\"snow\"] = snow.sort_values(by = 'rain.3h', ascending=False).head(5)\n",
    "\n",
    "    ## no_rain and low_wind\n",
    "    try:\n",
    "        1 / df.loc[df[\"mainweather.main\"] != \"Rain\",:].shape[0]\n",
    "    except ZeroDivisionError:\n",
    "        print(\"There only rainy days in France in the following days\")\n",
    "    else:\n",
    "        no_rain = df.loc[df[\"mainweather.main\"] != \"Rain\",:]\n",
    "        destination[\"no_rain_low_wind\"] = no_rain.sort_values(by = 'wind.speed').head(5)\n",
    "    \n",
    "    return(destination)\n"
   ]
  },
  {
   "cell_type": "code",
   "execution_count": 15,
   "metadata": {},
   "outputs": [
    {
     "name": "stdout",
     "output_type": "stream",
     "text": [
      "There is no sunny days in France in the following days\n",
      "There is no snow in France in the following days\n",
      "There only rainy days in France in the following days\n"
     ]
    }
   ],
   "source": [
    "destination = df_criteria(final)\n"
   ]
  },
  {
   "cell_type": "code",
   "execution_count": 16,
   "metadata": {},
   "outputs": [
    {
     "data": {
      "text/plain": [
       "dict_keys(['warm', 'landscape', 'less_cloud'])"
      ]
     },
     "execution_count": 16,
     "metadata": {},
     "output_type": "execute_result"
    }
   ],
   "source": [
    "destination.keys()"
   ]
  },
  {
   "cell_type": "markdown",
   "metadata": {},
   "source": [
    "# 4. Graph interactif top 5 destinations"
   ]
  },
  {
   "cell_type": "markdown",
   "metadata": {},
   "source": [
    "## 4.1 preparation of the dictionnary"
   ]
  },
  {
   "cell_type": "code",
   "execution_count": 20,
   "metadata": {},
   "outputs": [
    {
     "data": {
      "text/plain": [
       "dict_keys(['name', 'color_marker', 'init_visible', 'label_button', 'text_map'])"
      ]
     },
     "execution_count": 20,
     "metadata": {},
     "output_type": "execute_result"
    }
   ],
   "source": [
    "# needed information for plot per weather criteria\n",
    "car_criteria = {\"name\" : [\"warm\", \"landscape\", \"less_cloud\", \"sunny\", \"snow\", \"no_rain_low_wind\"],\n",
    "                \"color_marker\" : [\"darkorange\", \"darkolivegreen\", \"royalblue\", \"gold\", \"lavender\", \"mediumpurple\"],\n",
    "                \"init_visible\" : [True, False, False, False, False, False],\n",
    "                \"label_button\" : [\"Hautes températures\",\n",
    "                                \"Temps dégagé\",\n",
    "                                \"Peu de nuages\",\n",
    "                                \"Ensoleillé\",\n",
    "                                \"Neige\",\n",
    "                                \"Temps clair et calme\"],\n",
    "                \"text_map\" : [[\"ville\", \"main.feels_like\", \"main.temp_max\", \"main.humidity\"],\n",
    "                            [\"ville\", \"visibility\", \"main.feels_like\", \"wind.speed\"],\n",
    "                            [\"ville\", \"clouds.all\", \"main.feels_like\", \"rain.3h\"],\n",
    "                            [\"ville\", \"main.feels_like\", \"main.temp_max\", \"lg_day\"],\n",
    "                            [\"ville\", \"rain.3h\", \"clouds.all\", \"main.temp\", \"visibility\"],\n",
    "                            [\"ville\", \"main.feels_like\", \"wind.speed\", \"clouds.all\"]]\n",
    "            }\n",
    "\n",
    "car_criteria.keys()"
   ]
  },
  {
   "cell_type": "code",
   "execution_count": 21,
   "metadata": {},
   "outputs": [],
   "source": [
    "# automatic generation of the visibility argument in regard of the real criteria number\n",
    "def auto_visibility_dict(dict_dest):\n",
    "    list_criteria = list(dict_dest.keys())\n",
    "    visible = [False for c in range(len(list(dict_dest.keys())))]\n",
    "\n",
    "    list_visibility = list(range(len(list(dict_dest.keys()))))\n",
    "    for c in range(len(list_criteria)):\n",
    "        this_criteria = visible.copy()\n",
    "        this_criteria[c] = True\n",
    "        list_visibility[c] = this_criteria\n",
    "    \n",
    "    return(list_criteria, list_visibility)"
   ]
  },
  {
   "cell_type": "code",
   "execution_count": 22,
   "metadata": {},
   "outputs": [
    {
     "name": "stdout",
     "output_type": "stream",
     "text": [
      "['warm', 'landscape', 'less_cloud']\n",
      "[[True, False, False], [False, True, False], [False, False, True]]\n"
     ]
    }
   ],
   "source": [
    "list_criteria, list_visibility = auto_visibility_dict(destination)\n",
    "print(list_criteria)\n",
    "print(list_visibility)"
   ]
  },
  {
   "cell_type": "code",
   "execution_count": 23,
   "metadata": {},
   "outputs": [
    {
     "data": {
      "text/plain": [
       "3"
      ]
     },
     "execution_count": 23,
     "metadata": {},
     "output_type": "execute_result"
    }
   ],
   "source": [
    "# comprehension dictionary compiling all the information and data per criteria\n",
    "labels = [{'criteria' : list_criteria[c],\n",
    "           'data': destination[list_criteria[c]],\n",
    "           'title': car_criteria[\"label_button\"][car_criteria[\"name\"].index(list_criteria[c])],\n",
    "           'color_marker': car_criteria[\"color_marker\"][car_criteria[\"name\"].index(list_criteria[c])],\n",
    "           'init_visible': car_criteria[\"init_visible\"][car_criteria[\"name\"].index(list_criteria[c])],\n",
    "           'text_map': car_criteria[\"text_map\"][car_criteria[\"name\"].index(list_criteria[c])],\n",
    "           'visible' : list_visibility[c]\n",
    "           } for c in range(len(list_criteria))]\n",
    "\n",
    "len(labels)"
   ]
  },
  {
   "cell_type": "code",
   "execution_count": 24,
   "metadata": {},
   "outputs": [
    {
     "data": {
      "text/plain": [
       "[{'criteria': 'warm',\n",
       "  'data':                        ville    lat   lon  main.temp  main.feels_like  \\\n",
       "  12                    Cassis  43.21  5.54   16.71725         15.96550   \n",
       "  24                 Marseille  43.30  5.37   16.69775         16.00075   \n",
       "  14                 Collioure  42.53  3.08   16.33550         15.63400   \n",
       "  30  Saintes Maries de la mer  43.45  4.43   15.77575         15.08900   \n",
       "  10        Bormes les Mimosas  43.15  6.34   15.40800         14.69400   \n",
       "  \n",
       "      main.temp_max  main.humidity  clouds.all  wind.speed  visibility  \\\n",
       "  12       16.73150         58.250      39.250     6.54925    9875.075   \n",
       "  24       16.70950         60.425      37.800     7.12625   10000.000   \n",
       "  14       16.33550         61.650      54.050     6.07475   10000.000   \n",
       "  30       15.77575         64.325      47.975     7.38200   10000.000   \n",
       "  10       15.50125         64.700      35.250     4.73325   10000.000   \n",
       "  \n",
       "         lg_day  rain.3h  coord.lat  coord.lon mainweather.main  \\\n",
       "  12  10.299444     9.81    43.2140     5.5396             Rain   \n",
       "  24  10.294167     8.79    43.2962     5.3700             Rain   \n",
       "  14  10.342500     0.33    42.5251     3.0832             Rain   \n",
       "  30  10.284167     8.32    43.4523     4.4287             Rain   \n",
       "  10  10.303611    14.13    43.1507     6.3419             Rain   \n",
       "  \n",
       "     mainweather.description  \n",
       "  12        scattered clouds  \n",
       "  24        scattered clouds  \n",
       "  14        scattered clouds  \n",
       "  30        scattered clouds  \n",
       "  10        scattered clouds  ,\n",
       "  'title': 'Hautes températures',\n",
       "  'color_marker': 'darkorange',\n",
       "  'init_visible': True,\n",
       "  'text_map': ['ville', 'main.feels_like', 'main.temp_max', 'main.humidity'],\n",
       "  'visible': [True, False, False]},\n",
       " {'criteria': 'landscape',\n",
       "  'data':                ville    lat   lon  main.temp  main.feels_like  main.temp_max  \\\n",
       "  18  Gorges du Verdon  43.75  6.33    8.93500          7.38275        9.03450   \n",
       "  27             Nimes  43.84  4.36   13.76975         12.79275       13.77250   \n",
       "  32        Strasbourg  48.58  7.75   10.53150          9.77900       10.54675   \n",
       "  26         Montauban  44.02  1.35   13.19200         12.35300       13.23600   \n",
       "  5            Avignon  43.95  4.81   13.68100         12.73750       13.68125   \n",
       "  \n",
       "      main.humidity  clouds.all  wind.speed  visibility     lg_day  rain.3h  \\\n",
       "  18         71.600      45.350     2.64300     10000.0  10.265278     9.41   \n",
       "  27         64.975      44.925     4.31150     10000.0  10.259444     9.08   \n",
       "  32         77.625      85.725     2.46950     10000.0   9.923333     7.01   \n",
       "  26         70.325      67.850     3.66375     10000.0  10.247222    13.90   \n",
       "  5          69.500      45.300     5.63550     10000.0  10.252222     9.28   \n",
       "  \n",
       "      coord.lat  coord.lon mainweather.main mainweather.description  \n",
       "  18    43.7497     6.3286             Rain        scattered clouds  \n",
       "  27    43.8374     4.3601             Rain        scattered clouds  \n",
       "  32    48.5846     7.7507             Rain        scattered clouds  \n",
       "  26    44.0176     1.3550             Rain        scattered clouds  \n",
       "  5     43.9492     4.8059             Rain        scattered clouds  ,\n",
       "  'title': 'Temps dégagé',\n",
       "  'color_marker': 'darkolivegreen',\n",
       "  'init_visible': False,\n",
       "  'text_map': ['ville', 'visibility', 'main.feels_like', 'wind.speed'],\n",
       "  'visible': [False, True, False]},\n",
       " {'criteria': 'less_cloud',\n",
       "  'data':                  ville    lat   lon  main.temp  main.feels_like  \\\n",
       "  10  Bormes les Mimosas  43.15  6.34   15.40800         14.69400   \n",
       "  24           Marseille  43.30  5.37   16.69775         16.00075   \n",
       "  12              Cassis  43.21  5.54   16.71725         15.96550   \n",
       "  1      Aix en Provence  43.53  5.45   14.21025         13.08125   \n",
       "  27               Nimes  43.84  4.36   13.76975         12.79275   \n",
       "  \n",
       "      main.temp_max  main.humidity  clouds.all  wind.speed  visibility  \\\n",
       "  10       15.50125         64.700      35.250     4.73325   10000.000   \n",
       "  24       16.70950         60.425      37.800     7.12625   10000.000   \n",
       "  12       16.73150         58.250      39.250     6.54925    9875.075   \n",
       "  1        14.21025         62.525      42.700     4.31225    9870.925   \n",
       "  27       13.77250         64.975      44.925     4.31150   10000.000   \n",
       "  \n",
       "         lg_day  rain.3h  coord.lat  coord.lon mainweather.main  \\\n",
       "  10  10.303611    14.13    43.1507     6.3419             Rain   \n",
       "  24  10.294167     8.79    43.2962     5.3700             Rain   \n",
       "  12  10.299444     9.81    43.2140     5.5396             Rain   \n",
       "  1   10.279444     7.40    43.5298     5.4475             Rain   \n",
       "  27  10.259444     9.08    43.8374     4.3601             Rain   \n",
       "  \n",
       "     mainweather.description  \n",
       "  10        scattered clouds  \n",
       "  24        scattered clouds  \n",
       "  12        scattered clouds  \n",
       "  1         scattered clouds  \n",
       "  27        scattered clouds  ,\n",
       "  'title': 'Peu de nuages',\n",
       "  'color_marker': 'royalblue',\n",
       "  'init_visible': False,\n",
       "  'text_map': ['ville', 'clouds.all', 'main.feels_like', 'rain.3h'],\n",
       "  'visible': [False, False, True]}]"
      ]
     },
     "execution_count": 24,
     "metadata": {},
     "output_type": "execute_result"
    }
   ],
   "source": [
    "labels"
   ]
  },
  {
   "cell_type": "markdown",
   "metadata": {},
   "source": [
    "## 4.2 Graph"
   ]
  },
  {
   "cell_type": "code",
   "execution_count": 111,
   "metadata": {},
   "outputs": [],
   "source": [
    "text_cat = {\"ville\":\"ville\",\n",
    "            \"main.feels_like\":\"température ressentie (°C)\", \"main.temp_max\":\"température maximale (°C)\", \"main.humidity\":\"humidité\",\n",
    "            \"visibility\":\"visibilité (m)\", \"wind.speed\":\"vitesse vent (m/sec)\", \"clouds.all\":\"couverture nuageuse (%)\",\n",
    "            \"rain.3h\":\"pluie (mm)\", \"lg_day\":\"longueur du jour\", \"main.temp\":\"température moyenne (°C)\"}"
   ]
  },
  {
   "cell_type": "code",
   "execution_count": 112,
   "metadata": {},
   "outputs": [
    {
     "data": {
      "application/vnd.plotly.v1+json": {
       "config": {
        "plotlyServerURL": "https://plot.ly"
       },
       "data": [
        {
         "customdata": [
          [
           "Cassis",
           15.9655,
           16.7315,
           58.25
          ],
          [
           "Marseille",
           16.00075,
           16.7095,
           60.425
          ],
          [
           "Collioure",
           15.634,
           16.3355,
           61.65
          ],
          [
           "Saintes Maries de la mer",
           15.088999999999999,
           15.775749999999999,
           64.325
          ],
          [
           "Bormes les Mimosas",
           14.693999999999999,
           15.501249999999999,
           64.7
          ]
         ],
         "hovertemplate": "<b>Ville: </b> %{customdata[0]} <br>température ressentie (°C): </b> %{customdata[1]} <br>température maximale (°C):</b> %{customdata[2]} <br>humidité:</b> %{customdata[3]} <br>",
         "lat": [
          43.214,
          43.2962,
          42.5251,
          43.4523,
          43.1507
         ],
         "lon": [
          5.5396,
          5.37,
          3.0832,
          4.4287,
          6.3419
         ],
         "marker": {
          "color": "darkorange",
          "size": 14
         },
         "mode": "markers+text",
         "type": "scattermapbox",
         "visible": true
        },
        {
         "customdata": [
          [
           "Gorges du Verdon",
           10000,
           7.38275,
           2.643
          ],
          [
           "Nimes",
           10000,
           12.79275,
           4.3115000000000006
          ],
          [
           "Strasbourg",
           10000,
           9.779,
           2.4695
          ],
          [
           "Montauban",
           10000,
           12.353,
           3.6637500000000003
          ],
          [
           "Avignon",
           10000,
           12.7375,
           5.6354999999999995
          ]
         ],
         "hovertemplate": "<b>Ville: </b> %{customdata[0]} <br>visibilité (m): </b> %{customdata[1]} <br>température ressentie (°C):</b> %{customdata[2]} <br>vitesse vent (m/sec):</b> %{customdata[3]} <br>",
         "lat": [
          43.7497,
          43.8374,
          48.5846,
          44.0176,
          43.9492
         ],
         "lon": [
          6.3286,
          4.3601,
          7.7507,
          1.355,
          4.8059
         ],
         "marker": {
          "color": "darkolivegreen",
          "size": 14
         },
         "mode": "markers+text",
         "type": "scattermapbox",
         "visible": false
        },
        {
         "customdata": [
          [
           "Bormes les Mimosas",
           35.25,
           14.693999999999999,
           14.129999999999999
          ],
          [
           "Marseille",
           37.8,
           16.00075,
           8.79
          ],
          [
           "Cassis",
           39.25,
           15.9655,
           9.81
          ],
          [
           "Aix en Provence",
           42.7,
           13.08125,
           7.3999999999999995
          ],
          [
           "Nimes",
           44.925,
           12.79275,
           9.08
          ]
         ],
         "hovertemplate": "<b>Ville: </b> %{customdata[0]} <br>couverture nuageuse (%): </b> %{customdata[1]} <br>température ressentie (°C):</b> %{customdata[2]} <br>pluie (mm):</b> %{customdata[3]} <br>",
         "lat": [
          43.1507,
          43.2962,
          43.214,
          43.5298,
          43.8374
         ],
         "lon": [
          6.3419,
          5.37,
          5.5396,
          5.4475,
          4.3601
         ],
         "marker": {
          "color": "royalblue",
          "size": 14
         },
         "mode": "markers+text",
         "type": "scattermapbox",
         "visible": false
        }
       ],
       "layout": {
        "height": 800,
        "mapbox": {
         "center": {
          "lat": 47.8,
          "lon": 2.3
         },
         "style": "open-street-map",
         "zoom": 4.5
        },
        "showlegend": false,
        "template": {
         "data": {
          "bar": [
           {
            "error_x": {
             "color": "#2a3f5f"
            },
            "error_y": {
             "color": "#2a3f5f"
            },
            "marker": {
             "line": {
              "color": "#E5ECF6",
              "width": 0.5
             },
             "pattern": {
              "fillmode": "overlay",
              "size": 10,
              "solidity": 0.2
             }
            },
            "type": "bar"
           }
          ],
          "barpolar": [
           {
            "marker": {
             "line": {
              "color": "#E5ECF6",
              "width": 0.5
             },
             "pattern": {
              "fillmode": "overlay",
              "size": 10,
              "solidity": 0.2
             }
            },
            "type": "barpolar"
           }
          ],
          "carpet": [
           {
            "aaxis": {
             "endlinecolor": "#2a3f5f",
             "gridcolor": "white",
             "linecolor": "white",
             "minorgridcolor": "white",
             "startlinecolor": "#2a3f5f"
            },
            "baxis": {
             "endlinecolor": "#2a3f5f",
             "gridcolor": "white",
             "linecolor": "white",
             "minorgridcolor": "white",
             "startlinecolor": "#2a3f5f"
            },
            "type": "carpet"
           }
          ],
          "choropleth": [
           {
            "colorbar": {
             "outlinewidth": 0,
             "ticks": ""
            },
            "type": "choropleth"
           }
          ],
          "contour": [
           {
            "colorbar": {
             "outlinewidth": 0,
             "ticks": ""
            },
            "colorscale": [
             [
              0,
              "#0d0887"
             ],
             [
              0.1111111111111111,
              "#46039f"
             ],
             [
              0.2222222222222222,
              "#7201a8"
             ],
             [
              0.3333333333333333,
              "#9c179e"
             ],
             [
              0.4444444444444444,
              "#bd3786"
             ],
             [
              0.5555555555555556,
              "#d8576b"
             ],
             [
              0.6666666666666666,
              "#ed7953"
             ],
             [
              0.7777777777777778,
              "#fb9f3a"
             ],
             [
              0.8888888888888888,
              "#fdca26"
             ],
             [
              1,
              "#f0f921"
             ]
            ],
            "type": "contour"
           }
          ],
          "contourcarpet": [
           {
            "colorbar": {
             "outlinewidth": 0,
             "ticks": ""
            },
            "type": "contourcarpet"
           }
          ],
          "heatmap": [
           {
            "colorbar": {
             "outlinewidth": 0,
             "ticks": ""
            },
            "colorscale": [
             [
              0,
              "#0d0887"
             ],
             [
              0.1111111111111111,
              "#46039f"
             ],
             [
              0.2222222222222222,
              "#7201a8"
             ],
             [
              0.3333333333333333,
              "#9c179e"
             ],
             [
              0.4444444444444444,
              "#bd3786"
             ],
             [
              0.5555555555555556,
              "#d8576b"
             ],
             [
              0.6666666666666666,
              "#ed7953"
             ],
             [
              0.7777777777777778,
              "#fb9f3a"
             ],
             [
              0.8888888888888888,
              "#fdca26"
             ],
             [
              1,
              "#f0f921"
             ]
            ],
            "type": "heatmap"
           }
          ],
          "heatmapgl": [
           {
            "colorbar": {
             "outlinewidth": 0,
             "ticks": ""
            },
            "colorscale": [
             [
              0,
              "#0d0887"
             ],
             [
              0.1111111111111111,
              "#46039f"
             ],
             [
              0.2222222222222222,
              "#7201a8"
             ],
             [
              0.3333333333333333,
              "#9c179e"
             ],
             [
              0.4444444444444444,
              "#bd3786"
             ],
             [
              0.5555555555555556,
              "#d8576b"
             ],
             [
              0.6666666666666666,
              "#ed7953"
             ],
             [
              0.7777777777777778,
              "#fb9f3a"
             ],
             [
              0.8888888888888888,
              "#fdca26"
             ],
             [
              1,
              "#f0f921"
             ]
            ],
            "type": "heatmapgl"
           }
          ],
          "histogram": [
           {
            "marker": {
             "pattern": {
              "fillmode": "overlay",
              "size": 10,
              "solidity": 0.2
             }
            },
            "type": "histogram"
           }
          ],
          "histogram2d": [
           {
            "colorbar": {
             "outlinewidth": 0,
             "ticks": ""
            },
            "colorscale": [
             [
              0,
              "#0d0887"
             ],
             [
              0.1111111111111111,
              "#46039f"
             ],
             [
              0.2222222222222222,
              "#7201a8"
             ],
             [
              0.3333333333333333,
              "#9c179e"
             ],
             [
              0.4444444444444444,
              "#bd3786"
             ],
             [
              0.5555555555555556,
              "#d8576b"
             ],
             [
              0.6666666666666666,
              "#ed7953"
             ],
             [
              0.7777777777777778,
              "#fb9f3a"
             ],
             [
              0.8888888888888888,
              "#fdca26"
             ],
             [
              1,
              "#f0f921"
             ]
            ],
            "type": "histogram2d"
           }
          ],
          "histogram2dcontour": [
           {
            "colorbar": {
             "outlinewidth": 0,
             "ticks": ""
            },
            "colorscale": [
             [
              0,
              "#0d0887"
             ],
             [
              0.1111111111111111,
              "#46039f"
             ],
             [
              0.2222222222222222,
              "#7201a8"
             ],
             [
              0.3333333333333333,
              "#9c179e"
             ],
             [
              0.4444444444444444,
              "#bd3786"
             ],
             [
              0.5555555555555556,
              "#d8576b"
             ],
             [
              0.6666666666666666,
              "#ed7953"
             ],
             [
              0.7777777777777778,
              "#fb9f3a"
             ],
             [
              0.8888888888888888,
              "#fdca26"
             ],
             [
              1,
              "#f0f921"
             ]
            ],
            "type": "histogram2dcontour"
           }
          ],
          "mesh3d": [
           {
            "colorbar": {
             "outlinewidth": 0,
             "ticks": ""
            },
            "type": "mesh3d"
           }
          ],
          "parcoords": [
           {
            "line": {
             "colorbar": {
              "outlinewidth": 0,
              "ticks": ""
             }
            },
            "type": "parcoords"
           }
          ],
          "pie": [
           {
            "automargin": true,
            "type": "pie"
           }
          ],
          "scatter": [
           {
            "fillpattern": {
             "fillmode": "overlay",
             "size": 10,
             "solidity": 0.2
            },
            "type": "scatter"
           }
          ],
          "scatter3d": [
           {
            "line": {
             "colorbar": {
              "outlinewidth": 0,
              "ticks": ""
             }
            },
            "marker": {
             "colorbar": {
              "outlinewidth": 0,
              "ticks": ""
             }
            },
            "type": "scatter3d"
           }
          ],
          "scattercarpet": [
           {
            "marker": {
             "colorbar": {
              "outlinewidth": 0,
              "ticks": ""
             }
            },
            "type": "scattercarpet"
           }
          ],
          "scattergeo": [
           {
            "marker": {
             "colorbar": {
              "outlinewidth": 0,
              "ticks": ""
             }
            },
            "type": "scattergeo"
           }
          ],
          "scattergl": [
           {
            "marker": {
             "colorbar": {
              "outlinewidth": 0,
              "ticks": ""
             }
            },
            "type": "scattergl"
           }
          ],
          "scattermapbox": [
           {
            "marker": {
             "colorbar": {
              "outlinewidth": 0,
              "ticks": ""
             }
            },
            "type": "scattermapbox"
           }
          ],
          "scatterpolar": [
           {
            "marker": {
             "colorbar": {
              "outlinewidth": 0,
              "ticks": ""
             }
            },
            "type": "scatterpolar"
           }
          ],
          "scatterpolargl": [
           {
            "marker": {
             "colorbar": {
              "outlinewidth": 0,
              "ticks": ""
             }
            },
            "type": "scatterpolargl"
           }
          ],
          "scatterternary": [
           {
            "marker": {
             "colorbar": {
              "outlinewidth": 0,
              "ticks": ""
             }
            },
            "type": "scatterternary"
           }
          ],
          "surface": [
           {
            "colorbar": {
             "outlinewidth": 0,
             "ticks": ""
            },
            "colorscale": [
             [
              0,
              "#0d0887"
             ],
             [
              0.1111111111111111,
              "#46039f"
             ],
             [
              0.2222222222222222,
              "#7201a8"
             ],
             [
              0.3333333333333333,
              "#9c179e"
             ],
             [
              0.4444444444444444,
              "#bd3786"
             ],
             [
              0.5555555555555556,
              "#d8576b"
             ],
             [
              0.6666666666666666,
              "#ed7953"
             ],
             [
              0.7777777777777778,
              "#fb9f3a"
             ],
             [
              0.8888888888888888,
              "#fdca26"
             ],
             [
              1,
              "#f0f921"
             ]
            ],
            "type": "surface"
           }
          ],
          "table": [
           {
            "cells": {
             "fill": {
              "color": "#EBF0F8"
             },
             "line": {
              "color": "white"
             }
            },
            "header": {
             "fill": {
              "color": "#C8D4E3"
             },
             "line": {
              "color": "white"
             }
            },
            "type": "table"
           }
          ]
         },
         "layout": {
          "annotationdefaults": {
           "arrowcolor": "#2a3f5f",
           "arrowhead": 0,
           "arrowwidth": 1
          },
          "autotypenumbers": "strict",
          "coloraxis": {
           "colorbar": {
            "outlinewidth": 0,
            "ticks": ""
           }
          },
          "colorscale": {
           "diverging": [
            [
             0,
             "#8e0152"
            ],
            [
             0.1,
             "#c51b7d"
            ],
            [
             0.2,
             "#de77ae"
            ],
            [
             0.3,
             "#f1b6da"
            ],
            [
             0.4,
             "#fde0ef"
            ],
            [
             0.5,
             "#f7f7f7"
            ],
            [
             0.6,
             "#e6f5d0"
            ],
            [
             0.7,
             "#b8e186"
            ],
            [
             0.8,
             "#7fbc41"
            ],
            [
             0.9,
             "#4d9221"
            ],
            [
             1,
             "#276419"
            ]
           ],
           "sequential": [
            [
             0,
             "#0d0887"
            ],
            [
             0.1111111111111111,
             "#46039f"
            ],
            [
             0.2222222222222222,
             "#7201a8"
            ],
            [
             0.3333333333333333,
             "#9c179e"
            ],
            [
             0.4444444444444444,
             "#bd3786"
            ],
            [
             0.5555555555555556,
             "#d8576b"
            ],
            [
             0.6666666666666666,
             "#ed7953"
            ],
            [
             0.7777777777777778,
             "#fb9f3a"
            ],
            [
             0.8888888888888888,
             "#fdca26"
            ],
            [
             1,
             "#f0f921"
            ]
           ],
           "sequentialminus": [
            [
             0,
             "#0d0887"
            ],
            [
             0.1111111111111111,
             "#46039f"
            ],
            [
             0.2222222222222222,
             "#7201a8"
            ],
            [
             0.3333333333333333,
             "#9c179e"
            ],
            [
             0.4444444444444444,
             "#bd3786"
            ],
            [
             0.5555555555555556,
             "#d8576b"
            ],
            [
             0.6666666666666666,
             "#ed7953"
            ],
            [
             0.7777777777777778,
             "#fb9f3a"
            ],
            [
             0.8888888888888888,
             "#fdca26"
            ],
            [
             1,
             "#f0f921"
            ]
           ]
          },
          "colorway": [
           "#636efa",
           "#EF553B",
           "#00cc96",
           "#ab63fa",
           "#FFA15A",
           "#19d3f3",
           "#FF6692",
           "#B6E880",
           "#FF97FF",
           "#FECB52"
          ],
          "font": {
           "color": "#2a3f5f"
          },
          "geo": {
           "bgcolor": "white",
           "lakecolor": "white",
           "landcolor": "#E5ECF6",
           "showlakes": true,
           "showland": true,
           "subunitcolor": "white"
          },
          "hoverlabel": {
           "align": "left"
          },
          "hovermode": "closest",
          "mapbox": {
           "style": "light"
          },
          "paper_bgcolor": "white",
          "plot_bgcolor": "#E5ECF6",
          "polar": {
           "angularaxis": {
            "gridcolor": "white",
            "linecolor": "white",
            "ticks": ""
           },
           "bgcolor": "#E5ECF6",
           "radialaxis": {
            "gridcolor": "white",
            "linecolor": "white",
            "ticks": ""
           }
          },
          "scene": {
           "xaxis": {
            "backgroundcolor": "#E5ECF6",
            "gridcolor": "white",
            "gridwidth": 2,
            "linecolor": "white",
            "showbackground": true,
            "ticks": "",
            "zerolinecolor": "white"
           },
           "yaxis": {
            "backgroundcolor": "#E5ECF6",
            "gridcolor": "white",
            "gridwidth": 2,
            "linecolor": "white",
            "showbackground": true,
            "ticks": "",
            "zerolinecolor": "white"
           },
           "zaxis": {
            "backgroundcolor": "#E5ECF6",
            "gridcolor": "white",
            "gridwidth": 2,
            "linecolor": "white",
            "showbackground": true,
            "ticks": "",
            "zerolinecolor": "white"
           }
          },
          "shapedefaults": {
           "line": {
            "color": "#2a3f5f"
           }
          },
          "ternary": {
           "aaxis": {
            "gridcolor": "white",
            "linecolor": "white",
            "ticks": ""
           },
           "baxis": {
            "gridcolor": "white",
            "linecolor": "white",
            "ticks": ""
           },
           "bgcolor": "#E5ECF6",
           "caxis": {
            "gridcolor": "white",
            "linecolor": "white",
            "ticks": ""
           }
          },
          "title": {
           "x": 0.05
          },
          "xaxis": {
           "automargin": true,
           "gridcolor": "white",
           "linecolor": "white",
           "ticks": "",
           "title": {
            "standoff": 15
           },
           "zerolinecolor": "white",
           "zerolinewidth": 2
          },
          "yaxis": {
           "automargin": true,
           "gridcolor": "white",
           "linecolor": "white",
           "ticks": "",
           "title": {
            "standoff": 15
           },
           "zerolinecolor": "white",
           "zerolinewidth": 2
          }
         }
        },
        "title": {
         "text": "Top 5 destinations in France",
         "x": 0.5
        },
        "updatemenus": [
         {
          "active": 0,
          "buttons": [
           {
            "args": [
             {
              "visible": [
               true,
               false,
               false
              ]
             }
            ],
            "label": "Hautes températures",
            "method": "update"
           },
           {
            "args": [
             {
              "visible": [
               false,
               true,
               false
              ]
             }
            ],
            "label": "Temps dégagé",
            "method": "update"
           },
           {
            "args": [
             {
              "visible": [
               false,
               false,
               true
              ]
             }
            ],
            "label": "Peu de nuages",
            "method": "update"
           }
          ]
         }
        ],
        "width": 850
       }
      }
     },
     "metadata": {},
     "output_type": "display_data"
    }
   ],
   "source": [
    "fig = go.Figure()\n",
    "\n",
    "for l in range(len(labels)):\n",
    "    thisC = labels[l]\n",
    "    # text on the plot\n",
    "    text_data = thisC['data'].loc[:,thisC[\"text_map\"]]\n",
    "\n",
    "    fig.add_trace(\n",
    "    go.Scattermapbox(\n",
    "        lat= thisC['data']['coord.lat'],\n",
    "        lon= thisC['data'][\"coord.lon\"],\n",
    "        visible=thisC['init_visible'],\n",
    "        mode='markers+text',\n",
    "        marker=go.scattermapbox.Marker(size=14, color=thisC[\"color_marker\"]),\n",
    "        \n",
    "        customdata=[[text_data.iloc[r,c] for c in range(len(thisC[\"text_map\"]))] for r in range(text_data.shape[0])],\n",
    "        hovertemplate=\"<b>Ville: </b> %{customdata[0]} <br>\" + text_cat[text_data.columns[1]] + \": </b> %{customdata[1]} <br>\" + text_cat[text_data.columns[2]] + \":</b> %{customdata[2]} <br>\" + text_cat[text_data.columns[3]] + \":</b> %{customdata[3]} <br>\"\n",
    "    ))\n",
    "    fig.update_traces(hovertemplate=None, selector={'name':labels[l]['criteria']})\n",
    "\n",
    "fig.update_layout(\n",
    "    mapbox_style=\"open-street-map\",\n",
    "    mapbox_zoom = 4.5,\n",
    "    mapbox_center=go.layout.mapbox.Center(lat=47.8, lon=2.3),\n",
    "    title = go.layout.Title(text = \"Top 5 destinations in France\", x = 0.5),\n",
    "    showlegend = False,\n",
    "    width=850,\n",
    "    height=800)\n",
    "\n",
    "fig.update_layout(\n",
    "    updatemenus = [go.layout.Updatemenu(\n",
    "        active = 0,\n",
    "        buttons = [go.layout.updatemenu.Button(\n",
    "                        label = labels[l][\"title\"],\n",
    "                        method = \"update\",\n",
    "                        args = [{\"visible\" : labels[l][\"visible\"]}])\n",
    "                        for l in range(len(labels))]\n",
    "    )]\n",
    ")\n",
    "\n",
    "fig.show(renderer=\"vscode\")"
   ]
  },
  {
   "cell_type": "markdown",
   "metadata": {},
   "source": [
    "## 4.3 Savings"
   ]
  },
  {
   "cell_type": "code",
   "execution_count": 298,
   "metadata": {},
   "outputs": [],
   "source": [
    "# save forecast for all city\n",
    "final.to_csv('src/forecast_final.csv')\n",
    "\n",
    "# save forecast for city to scrap\n",
    "dest_dict = [{\"criteria\":d,\n",
    "              \"data\": destination[d].to_dict(orient='list')\n",
    "              } for d in list(destination.keys())]\n",
    "\n",
    "import json\n",
    "with open('src/forecast_destination.json', 'w') as f:\n",
    "    json.dump(dest_dict, f)"
   ]
  },
  {
   "cell_type": "code",
   "execution_count": 16,
   "metadata": {},
   "outputs": [
    {
     "name": "stdout",
     "output_type": "stream",
     "text": [
      "length of the list: 15 \n",
      "\n",
      "length of the unique values: 11\n",
      "list of city to scrap: ['Montauban', 'Strasbourg', 'Collioure', 'Avignon', 'Gorges du Verdon', 'Aix en Provence', 'Marseille', 'Bormes les Mimosas', 'Nimes', 'Saintes Maries de la mer', 'Cassis']\n"
     ]
    }
   ],
   "source": [
    "# Saving list of city to scrap without duplicates\n",
    "\n",
    "# using numpy.unique\n",
    "import numpy as np\n",
    "  \n",
    "# function to get unique values  \n",
    "def unique(list1):\n",
    "    x = set(list1)\n",
    "    return(list(x))\n",
    "\n",
    "list_ville = []\n",
    "for d in list(destination.keys()):\n",
    "    for v in range(len(destination[d][\"ville\"])):\n",
    "        list_ville.append(destination[d][\"ville\"].values[v])\n",
    "\n",
    "print(\"length of the list:\", len(list_ville), \"\\n\")\n",
    "print(\"length of the unique values:\", len(unique(list_ville)))\n",
    "print(\"list of city to scrap:\", unique(list_ville))\n",
    "\n"
   ]
  },
  {
   "cell_type": "code",
   "execution_count": 25,
   "metadata": {},
   "outputs": [],
   "source": [
    "# save this csv for scraping\n",
    "np.savetxt('src/city_destination.csv', list_ville, delimiter =\", \", fmt ='% s')"
   ]
  },
  {
   "cell_type": "markdown",
   "metadata": {},
   "source": [
    "# 5. Booking scraping"
   ]
  },
  {
   "attachments": {},
   "cell_type": "markdown",
   "metadata": {},
   "source": [
    "done the 5th and 6th of November, 2022"
   ]
  },
  {
   "cell_type": "markdown",
   "metadata": {},
   "source": [
    "## 5.1 spider hotel"
   ]
  },
  {
   "cell_type": "markdown",
   "metadata": {},
   "source": [
    "- Treatment of the spider 'hotel.py' results"
   ]
  },
  {
   "cell_type": "code",
   "execution_count": 59,
   "metadata": {},
   "outputs": [],
   "source": [
    "# upload first file from first spider 'hotel.py'\n",
    "#the_file = open(\"src/list_hotel.json\")\n",
    "the_file = open(\"src/url_hotel.json\")\n",
    "hotel = json.load(the_file)\n",
    "the_file.close()"
   ]
  },
  {
   "cell_type": "code",
   "execution_count": 60,
   "metadata": {},
   "outputs": [
    {
     "data": {
      "text/plain": [
       "75"
      ]
     },
     "execution_count": 60,
     "metadata": {},
     "output_type": "execute_result"
    }
   ],
   "source": [
    "hotel_list = [pd.DataFrame(hotel[x]) for x in range(len(hotel))]\n",
    "len(hotel_list)"
   ]
  },
  {
   "cell_type": "code",
   "execution_count": 61,
   "metadata": {},
   "outputs": [
    {
     "name": "stdout",
     "output_type": "stream",
     "text": [
      "(1875, 5)\n"
     ]
    },
    {
     "data": {
      "text/html": [
       "<div>\n",
       "<style scoped>\n",
       "    .dataframe tbody tr th:only-of-type {\n",
       "        vertical-align: middle;\n",
       "    }\n",
       "\n",
       "    .dataframe tbody tr th {\n",
       "        vertical-align: top;\n",
       "    }\n",
       "\n",
       "    .dataframe thead th {\n",
       "        text-align: right;\n",
       "    }\n",
       "</style>\n",
       "<table border=\"1\" class=\"dataframe\">\n",
       "  <thead>\n",
       "    <tr style=\"text-align: right;\">\n",
       "      <th></th>\n",
       "      <th>url_tested</th>\n",
       "      <th>name_hotel</th>\n",
       "      <th>url_hotel</th>\n",
       "      <th>city</th>\n",
       "      <th>order</th>\n",
       "    </tr>\n",
       "  </thead>\n",
       "  <tbody>\n",
       "    <tr>\n",
       "      <th>0</th>\n",
       "      <td>https://www.booking.com/searchresults.fr.html?...</td>\n",
       "      <td>UNE TERRASSE SUR LA MER 3 pers 2 chambres VUE MER</td>\n",
       "      <td>https://www.booking.com/hotel/fr/une-terrasse-...</td>\n",
       "      <td>Cassis</td>\n",
       "      <td>popularity</td>\n",
       "    </tr>\n",
       "    <tr>\n",
       "      <th>1</th>\n",
       "      <td>https://www.booking.com/searchresults.fr.html?...</td>\n",
       "      <td>Villa ANTINEA</td>\n",
       "      <td>https://www.booking.com/hotel/fr/antinea-cassi...</td>\n",
       "      <td>Cassis</td>\n",
       "      <td>popularity</td>\n",
       "    </tr>\n",
       "    <tr>\n",
       "      <th>2</th>\n",
       "      <td>https://www.booking.com/searchresults.fr.html?...</td>\n",
       "      <td>LE REVE BLEU</td>\n",
       "      <td>https://www.booking.com/hotel/fr/le-reve-bleu-...</td>\n",
       "      <td>Cassis</td>\n",
       "      <td>popularity</td>\n",
       "    </tr>\n",
       "    <tr>\n",
       "      <th>3</th>\n",
       "      <td>https://www.booking.com/searchresults.fr.html?...</td>\n",
       "      <td>Le chemin de belle fille</td>\n",
       "      <td>https://www.booking.com/hotel/fr/le-chemin-de-...</td>\n",
       "      <td>Cassis</td>\n",
       "      <td>popularity</td>\n",
       "    </tr>\n",
       "    <tr>\n",
       "      <th>4</th>\n",
       "      <td>https://www.booking.com/searchresults.fr.html?...</td>\n",
       "      <td>Home Cassis - Maison Julou - Piscine chauffée</td>\n",
       "      <td>https://www.booking.com/hotel/fr/home-cassis-m...</td>\n",
       "      <td>Cassis</td>\n",
       "      <td>popularity</td>\n",
       "    </tr>\n",
       "  </tbody>\n",
       "</table>\n",
       "</div>"
      ],
      "text/plain": [
       "                                          url_tested  \\\n",
       "0  https://www.booking.com/searchresults.fr.html?...   \n",
       "1  https://www.booking.com/searchresults.fr.html?...   \n",
       "2  https://www.booking.com/searchresults.fr.html?...   \n",
       "3  https://www.booking.com/searchresults.fr.html?...   \n",
       "4  https://www.booking.com/searchresults.fr.html?...   \n",
       "\n",
       "                                          name_hotel  \\\n",
       "0  UNE TERRASSE SUR LA MER 3 pers 2 chambres VUE MER   \n",
       "1                                      Villa ANTINEA   \n",
       "2                                       LE REVE BLEU   \n",
       "3                           Le chemin de belle fille   \n",
       "4      Home Cassis - Maison Julou - Piscine chauffée   \n",
       "\n",
       "                                           url_hotel    city       order  \n",
       "0  https://www.booking.com/hotel/fr/une-terrasse-...  Cassis  popularity  \n",
       "1  https://www.booking.com/hotel/fr/antinea-cassi...  Cassis  popularity  \n",
       "2  https://www.booking.com/hotel/fr/le-reve-bleu-...  Cassis  popularity  \n",
       "3  https://www.booking.com/hotel/fr/le-chemin-de-...  Cassis  popularity  \n",
       "4  https://www.booking.com/hotel/fr/home-cassis-m...  Cassis  popularity  "
      ]
     },
     "metadata": {},
     "output_type": "display_data"
    }
   ],
   "source": [
    "# concatenation of dataframes\n",
    "hotel_key = list(hotel[0].keys()) + [\"city\", \"order\"]\n",
    "hotel_df = pd.DataFrame(columns=hotel_key)\n",
    "for x in range(len(hotel_list)):\n",
    "    this_hotel = hotel_list[x]\n",
    "    this_hotel[\"city\"] = this_hotel[\"url_tested\"][0].split(\"=\")[1].split(\"&\")[0].replace(\"%20\", \" \")\n",
    "    this_hotel[\"order\"] = this_hotel[\"url_tested\"][0].split(\"=\")[2]\n",
    "    hotel_df = pd.concat([hotel_df, this_hotel])\n",
    "\n",
    "print(hotel_df.shape)\n",
    "display(hotel_df.head())"
   ]
  },
  {
   "cell_type": "code",
   "execution_count": 62,
   "metadata": {},
   "outputs": [
    {
     "data": {
      "text/html": [
       "<div>\n",
       "<style scoped>\n",
       "    .dataframe tbody tr th:only-of-type {\n",
       "        vertical-align: middle;\n",
       "    }\n",
       "\n",
       "    .dataframe tbody tr th {\n",
       "        vertical-align: top;\n",
       "    }\n",
       "\n",
       "    .dataframe thead th {\n",
       "        text-align: right;\n",
       "    }\n",
       "</style>\n",
       "<table border=\"1\" class=\"dataframe\">\n",
       "  <thead>\n",
       "    <tr style=\"text-align: right;\">\n",
       "      <th></th>\n",
       "      <th>url_tested</th>\n",
       "      <th>name_hotel</th>\n",
       "      <th>url_hotel</th>\n",
       "      <th>city</th>\n",
       "      <th>order</th>\n",
       "      <th>url_short</th>\n",
       "    </tr>\n",
       "  </thead>\n",
       "  <tbody>\n",
       "    <tr>\n",
       "      <th>0</th>\n",
       "      <td>https://www.booking.com/searchresults.fr.html?...</td>\n",
       "      <td>UNE TERRASSE SUR LA MER 3 pers 2 chambres VUE MER</td>\n",
       "      <td>https://www.booking.com/hotel/fr/une-terrasse-...</td>\n",
       "      <td>Cassis</td>\n",
       "      <td>popularity</td>\n",
       "      <td>https://www.booking.com/hotel/fr/une-terrasse-...</td>\n",
       "    </tr>\n",
       "    <tr>\n",
       "      <th>1</th>\n",
       "      <td>https://www.booking.com/searchresults.fr.html?...</td>\n",
       "      <td>Villa ANTINEA</td>\n",
       "      <td>https://www.booking.com/hotel/fr/antinea-cassi...</td>\n",
       "      <td>Cassis</td>\n",
       "      <td>popularity</td>\n",
       "      <td>https://www.booking.com/hotel/fr/antinea-cassi...</td>\n",
       "    </tr>\n",
       "  </tbody>\n",
       "</table>\n",
       "</div>"
      ],
      "text/plain": [
       "                                          url_tested  \\\n",
       "0  https://www.booking.com/searchresults.fr.html?...   \n",
       "1  https://www.booking.com/searchresults.fr.html?...   \n",
       "\n",
       "                                          name_hotel  \\\n",
       "0  UNE TERRASSE SUR LA MER 3 pers 2 chambres VUE MER   \n",
       "1                                      Villa ANTINEA   \n",
       "\n",
       "                                           url_hotel    city       order  \\\n",
       "0  https://www.booking.com/hotel/fr/une-terrasse-...  Cassis  popularity   \n",
       "1  https://www.booking.com/hotel/fr/antinea-cassi...  Cassis  popularity   \n",
       "\n",
       "                                           url_short  \n",
       "0  https://www.booking.com/hotel/fr/une-terrasse-...  \n",
       "1  https://www.booking.com/hotel/fr/antinea-cassi...  "
      ]
     },
     "execution_count": 62,
     "metadata": {},
     "output_type": "execute_result"
    }
   ],
   "source": [
    "hotel_df[\"url_short\"] = hotel_df[\"url_hotel\"].apply(lambda x : x.split(\"?\")[0])\n",
    "hotel_df.head(2)"
   ]
  },
  {
   "cell_type": "code",
   "execution_count": 64,
   "metadata": {},
   "outputs": [
    {
     "name": "stdout",
     "output_type": "stream",
     "text": [
      "https://www.booking.com/searchresults.fr.html?ss=Cassis&order=popularity\n",
      "https://www.booking.com/hotel/fr/antinea-cassis12.fr.html?aid=304142&label=gen173nr-1FCAQoggJCDXNlYXJjaF9jYXNzaXNIDVgEaBWIAQGYAQ24ARjIAQzYAQHoAQH4AQOIAgGoAgS4AovQmZsGwAIB0gIkNmQzYTJhN2MtYjU5OC00YzkwLTg3M2ItMGEzY2NmODBmMjk32AIF4AIB&ucfs=1&arphpl=1&group_adults=2&req_adults=2&no_rooms=1&group_children=0&req_children=0&hpos=2&hapos=2&sr_order=popularity&srpvid=361b60450e6701e7&srepoch=1667655692&from_beach_sr=1&beach_sr_walking_distance=874&from=searchresults#hotelTmpl\n",
      "https://www.booking.com/hotel/fr/antinea-cassis12.fr.html\n"
     ]
    }
   ],
   "source": [
    "print(hotel_df.iloc[1,0])\n",
    "print(hotel_df.iloc[1,2])\n",
    "print(hotel_df.iloc[1,5])"
   ]
  },
  {
   "cell_type": "code",
   "execution_count": 8,
   "metadata": {},
   "outputs": [],
   "source": [
    "# save this csv for scraping\n",
    "hotel_df.to_csv('src/list_hotel_clean.csv')"
   ]
  },
  {
   "cell_type": "markdown",
   "metadata": {},
   "source": [
    "## 5.2 spider car_hotel"
   ]
  },
  {
   "cell_type": "code",
   "execution_count": 111,
   "metadata": {},
   "outputs": [],
   "source": [
    "# upload first file from first spider 'car_hotel.py'\n",
    "the_file = open(\"src/car_hotel.json\")\n",
    "hotel = json.load(the_file)\n",
    "the_file.close()"
   ]
  },
  {
   "cell_type": "code",
   "execution_count": 66,
   "metadata": {},
   "outputs": [
    {
     "data": {
      "text/plain": [
       "dict_keys(['url_hotel', 'description_hotel', 'score_hotel', 'coordinates_hotel', 'adresse_hotel', 'animals_hotel'])"
      ]
     },
     "execution_count": 66,
     "metadata": {},
     "output_type": "execute_result"
    }
   ],
   "source": [
    "hotel[0].keys()"
   ]
  },
  {
   "cell_type": "code",
   "execution_count": 67,
   "metadata": {},
   "outputs": [
    {
     "data": {
      "text/plain": [
       "1871"
      ]
     },
     "execution_count": 67,
     "metadata": {},
     "output_type": "execute_result"
    }
   ],
   "source": [
    "len(hotel)"
   ]
  },
  {
   "cell_type": "code",
   "execution_count": 68,
   "metadata": {},
   "outputs": [
    {
     "data": {
      "text/plain": [
       "{'url_hotel': 'https://www.booking.com/hotel/fr/une-terrasse-sur-la-mer-cassis.fr.html',\n",
       " 'description_hotel': [\"Vous pouvez bénéficier d'une réduction Genius dans l'établissement UNE TERRASSE SUR LA MER 3 pers 2 chambres VUE MER\\xa0! \",\n",
       "  ' pour économiser.',\n",
       "  \"Situé à Cassis, à seulement 400 mètres de Bestouan, l'établissement UNE TERRASSE SUR LA MER 3 Chambre 2 Personnes L'EVI MER propose un hébergement en bord de mer avec une terrasse et une connexion Wi-Fi gratuite. Il est situé à 1,1 km de la Grande Mer et dispose d'un bureau d'excursions.\",\n",
       "  \"Cet appartement comprend 2 chambres, une salle de bains, du linge de lit, des serviettes, une télévision à écran plat, un coin repas, une cuisine entièrement équipée et un balcon avec vue sur la mer. Pour plus de commodité, l'établissement peut fournir des serviettes et du linge de lit moyennant des frais supplémentaires.\",\n",
       "  'Un service de location de vélos est assuré sur place pour vous permettre de partir en randonnée dans les environs.',\n",
       "  \"Vous séjournerez à 1,6 km de la plage de l'Anse de Corton et à 20 km du stade Orange Vélodrome. L'aéroport le plus proche, celui de Marseille-Provence, est situé à 49 km. Un service de navette aéroport peut être assuré moyennant des frais supplémentaires. \"],\n",
       " 'score_hotel': '8,5',\n",
       " 'coordinates_hotel': '43.21407197,5.53062182',\n",
       " 'adresse_hotel': '\\n9 Avenue Maurice Jermini, 13260 Cassis, France\\n',\n",
       " 'animals_hotel': 'Cet hébergement est non-fumeurs.'}"
      ]
     },
     "execution_count": 68,
     "metadata": {},
     "output_type": "execute_result"
    }
   ],
   "source": [
    "hotel[0]"
   ]
  },
  {
   "cell_type": "code",
   "execution_count": 112,
   "metadata": {},
   "outputs": [
    {
     "data": {
      "text/html": [
       "<div>\n",
       "<style scoped>\n",
       "    .dataframe tbody tr th:only-of-type {\n",
       "        vertical-align: middle;\n",
       "    }\n",
       "\n",
       "    .dataframe tbody tr th {\n",
       "        vertical-align: top;\n",
       "    }\n",
       "\n",
       "    .dataframe thead th {\n",
       "        text-align: right;\n",
       "    }\n",
       "</style>\n",
       "<table border=\"1\" class=\"dataframe\">\n",
       "  <thead>\n",
       "    <tr style=\"text-align: right;\">\n",
       "      <th></th>\n",
       "      <th>url_hotel</th>\n",
       "      <th>description_hotel</th>\n",
       "      <th>score_hotel</th>\n",
       "      <th>coordinates_hotel</th>\n",
       "      <th>adresse_hotel</th>\n",
       "      <th>animals_hotel</th>\n",
       "      <th>hotel_index</th>\n",
       "    </tr>\n",
       "  </thead>\n",
       "  <tbody>\n",
       "    <tr>\n",
       "      <th>0</th>\n",
       "      <td>https://www.booking.com/hotel/fr/une-terrasse-...</td>\n",
       "      <td>Vous pouvez bénéficier d'une réduction Genius ...</td>\n",
       "      <td>8,5</td>\n",
       "      <td>43.21407197,5.53062182</td>\n",
       "      <td>\\n9 Avenue Maurice Jermini, 13260 Cassis, Fran...</td>\n",
       "      <td>Cet hébergement est non-fumeurs.</td>\n",
       "      <td>0</td>\n",
       "    </tr>\n",
       "    <tr>\n",
       "      <th>0</th>\n",
       "      <td>https://www.booking.com/hotel/fr/antinea-cassi...</td>\n",
       "      <td>Vous pouvez bénéficier d'une réduction Genius ...</td>\n",
       "      <td>7,0</td>\n",
       "      <td>43.22024010,5.54246930</td>\n",
       "      <td>\\n2 Avenue Auguste Favier, 13260 Cassis, France\\n</td>\n",
       "      <td>Cet hébergement est non-fumeurs.</td>\n",
       "      <td>1</td>\n",
       "    </tr>\n",
       "  </tbody>\n",
       "</table>\n",
       "</div>"
      ],
      "text/plain": [
       "                                           url_hotel  \\\n",
       "0  https://www.booking.com/hotel/fr/une-terrasse-...   \n",
       "0  https://www.booking.com/hotel/fr/antinea-cassi...   \n",
       "\n",
       "                                   description_hotel score_hotel  \\\n",
       "0  Vous pouvez bénéficier d'une réduction Genius ...         8,5   \n",
       "0  Vous pouvez bénéficier d'une réduction Genius ...         7,0   \n",
       "\n",
       "        coordinates_hotel                                      adresse_hotel  \\\n",
       "0  43.21407197,5.53062182  \\n9 Avenue Maurice Jermini, 13260 Cassis, Fran...   \n",
       "0  43.22024010,5.54246930  \\n2 Avenue Auguste Favier, 13260 Cassis, France\\n   \n",
       "\n",
       "                      animals_hotel  hotel_index  \n",
       "0  Cet hébergement est non-fumeurs.            0  \n",
       "0  Cet hébergement est non-fumeurs.            1  "
      ]
     },
     "execution_count": 112,
     "metadata": {},
     "output_type": "execute_result"
    }
   ],
   "source": [
    "# results concatenation\n",
    "total = pd.DataFrame()\n",
    "for h in range(len(hotel)):\n",
    "    thisH = hotel[h].copy()\n",
    "    thisH['description_hotel'] = \"\".join(thisH['description_hotel'])\n",
    "    thisH[\"hotel_index\"] = h\n",
    "    thisH = pd.DataFrame([thisH])\n",
    "\n",
    "    total = pd.concat([total, thisH])\n",
    "\n",
    "total.head(2)"
   ]
  },
  {
   "cell_type": "code",
   "execution_count": 113,
   "metadata": {},
   "outputs": [],
   "source": [
    "# formating the final dataframe describing hotels\n",
    "total['lat'] = total['coordinates_hotel'].apply(lambda x : x.split(\",\")[0])\n",
    "total['lon'] = total['coordinates_hotel'].apply(lambda x : x.split(\",\")[1])\n",
    "\n",
    "total['description_hotel'] = total['description_hotel'].apply(lambda x : x.replace(\"\\xa0\", \"\"))\n",
    "total['description_hotel'] = total['description_hotel'].apply(lambda x : x.replace(\"\\n\", \"\"))\n",
    "total['adresse_hotel']     = total['adresse_hotel'].apply(lambda x : x.replace(\"\\n\", \"\"))\n",
    "total['animals_hotel']     = total['animals_hotel'].apply(lambda x : str(x).replace(\"\\n\", \"\"))"
   ]
  },
  {
   "cell_type": "code",
   "execution_count": 114,
   "metadata": {},
   "outputs": [
    {
     "data": {
      "text/plain": [
       "(1871, 9)"
      ]
     },
     "execution_count": 114,
     "metadata": {},
     "output_type": "execute_result"
    }
   ],
   "source": [
    "total.shape"
   ]
  },
  {
   "cell_type": "markdown",
   "metadata": {},
   "source": [
    "## 5.3 merging all the information"
   ]
  },
  {
   "cell_type": "code",
   "execution_count": 110,
   "metadata": {},
   "outputs": [
    {
     "data": {
      "text/html": [
       "<div>\n",
       "<style scoped>\n",
       "    .dataframe tbody tr th:only-of-type {\n",
       "        vertical-align: middle;\n",
       "    }\n",
       "\n",
       "    .dataframe tbody tr th {\n",
       "        vertical-align: top;\n",
       "    }\n",
       "\n",
       "    .dataframe thead th {\n",
       "        text-align: right;\n",
       "    }\n",
       "</style>\n",
       "<table border=\"1\" class=\"dataframe\">\n",
       "  <thead>\n",
       "    <tr style=\"text-align: right;\">\n",
       "      <th></th>\n",
       "      <th>Unnamed: 0</th>\n",
       "      <th>url_tested</th>\n",
       "      <th>name_hotel</th>\n",
       "      <th>url_hotel</th>\n",
       "      <th>city</th>\n",
       "      <th>order</th>\n",
       "      <th>url_short</th>\n",
       "    </tr>\n",
       "  </thead>\n",
       "  <tbody>\n",
       "    <tr>\n",
       "      <th>0</th>\n",
       "      <td>0</td>\n",
       "      <td>https://www.booking.com/searchresults.fr.html?...</td>\n",
       "      <td>UNE TERRASSE SUR LA MER 3 pers 2 chambres VUE MER</td>\n",
       "      <td>https://www.booking.com/hotel/fr/une-terrasse-...</td>\n",
       "      <td>Cassis</td>\n",
       "      <td>popularity</td>\n",
       "      <td>https://www.booking.com/hotel/fr/une-terrasse-...</td>\n",
       "    </tr>\n",
       "    <tr>\n",
       "      <th>1</th>\n",
       "      <td>1</td>\n",
       "      <td>https://www.booking.com/searchresults.fr.html?...</td>\n",
       "      <td>Villa ANTINEA</td>\n",
       "      <td>https://www.booking.com/hotel/fr/antinea-cassi...</td>\n",
       "      <td>Cassis</td>\n",
       "      <td>popularity</td>\n",
       "      <td>https://www.booking.com/hotel/fr/antinea-cassi...</td>\n",
       "    </tr>\n",
       "  </tbody>\n",
       "</table>\n",
       "</div>"
      ],
      "text/plain": [
       "   Unnamed: 0                                         url_tested  \\\n",
       "0           0  https://www.booking.com/searchresults.fr.html?...   \n",
       "1           1  https://www.booking.com/searchresults.fr.html?...   \n",
       "\n",
       "                                          name_hotel  \\\n",
       "0  UNE TERRASSE SUR LA MER 3 pers 2 chambres VUE MER   \n",
       "1                                      Villa ANTINEA   \n",
       "\n",
       "                                           url_hotel    city       order  \\\n",
       "0  https://www.booking.com/hotel/fr/une-terrasse-...  Cassis  popularity   \n",
       "1  https://www.booking.com/hotel/fr/antinea-cassi...  Cassis  popularity   \n",
       "\n",
       "                                           url_short  \n",
       "0  https://www.booking.com/hotel/fr/une-terrasse-...  \n",
       "1  https://www.booking.com/hotel/fr/antinea-cassi...  "
      ]
     },
     "execution_count": 110,
     "metadata": {},
     "output_type": "execute_result"
    }
   ],
   "source": [
    "# uploading the initial list of hotel to scrap\n",
    "hotel_to_scrap = pd.read_csv('src/list_hotel_clean.csv')\n",
    "hotel_to_scrap.head(2)"
   ]
  },
  {
   "cell_type": "code",
   "execution_count": 146,
   "metadata": {},
   "outputs": [],
   "source": [
    "def format_hotel(data, data_car):\n",
    "    # purpose : to have a columns per order criteria and 1 if the hotel was appearing in the list of hotel to scrap regarding this criteria\n",
    "    # data : list of hotel to scrap, order and description -----> here, dataframe hotel (from list_hotel_clean.csv)\n",
    "    # data_car : caracteristic of hotel ----> here, dataframe total\n",
    "\n",
    "    # preparation\n",
    "    list_criteria = data[\"order\"].unique()\n",
    "    tested_url = data_car[\"url_hotel\"].unique()\n",
    "    data_car[\"city\"] = \"to_fill\"\n",
    "    data_car[\"name_hotel\"] = \"to_fill\"\n",
    "\n",
    "    # adding order criteria\n",
    "    for d in list_criteria:\n",
    "        # adding colums to fill to data\n",
    "        data_car[d] = 0\n",
    "        list_hotel = list(data.loc[data[\"order\"] == d, \"url_short\"])\n",
    "        \n",
    "        # fill with 1 if the hotel is selected by the criteria\n",
    "        data_car.loc[data_car[\"url_hotel\"].isin(list_hotel), d] = 1\n",
    "\n",
    "    # adding name of the city\n",
    "    for c in tested_url:\n",
    "        data_car.loc[data_car[\"url_hotel\"] == c, \"city\"] = data.loc[data[\"url_short\"] == c, \"city\"].unique()[0]\n",
    "        data_car.loc[data_car[\"url_hotel\"] == c, \"name_hotel\"] = data.loc[data[\"url_short\"] == c, \"name_hotel\"].unique()[0]\n",
    "\n",
    "    return(data_car)"
   ]
  },
  {
   "cell_type": "code",
   "execution_count": 147,
   "metadata": {},
   "outputs": [
    {
     "data": {
      "text/html": [
       "<div>\n",
       "<style scoped>\n",
       "    .dataframe tbody tr th:only-of-type {\n",
       "        vertical-align: middle;\n",
       "    }\n",
       "\n",
       "    .dataframe tbody tr th {\n",
       "        vertical-align: top;\n",
       "    }\n",
       "\n",
       "    .dataframe thead th {\n",
       "        text-align: right;\n",
       "    }\n",
       "</style>\n",
       "<table border=\"1\" class=\"dataframe\">\n",
       "  <thead>\n",
       "    <tr style=\"text-align: right;\">\n",
       "      <th></th>\n",
       "      <th>url_hotel</th>\n",
       "      <th>description_hotel</th>\n",
       "      <th>score_hotel</th>\n",
       "      <th>adresse_hotel</th>\n",
       "      <th>animals_hotel</th>\n",
       "      <th>lat</th>\n",
       "      <th>lon</th>\n",
       "      <th>city</th>\n",
       "      <th>popularity</th>\n",
       "      <th>upsort_bh</th>\n",
       "      <th>class</th>\n",
       "      <th>distance_from_search</th>\n",
       "      <th>bayesian_review_score</th>\n",
       "      <th>name_hotel</th>\n",
       "    </tr>\n",
       "  </thead>\n",
       "  <tbody>\n",
       "    <tr>\n",
       "      <th>0</th>\n",
       "      <td>https://www.booking.com/hotel/fr/une-terrasse-...</td>\n",
       "      <td>Vous pouvez bénéficier d'une réduction Genius ...</td>\n",
       "      <td>8,5</td>\n",
       "      <td>9 Avenue Maurice Jermini, 13260 Cassis, France</td>\n",
       "      <td>Cet hébergement est non-fumeurs.</td>\n",
       "      <td>43.21407197</td>\n",
       "      <td>5.53062182</td>\n",
       "      <td>Cassis</td>\n",
       "      <td>1</td>\n",
       "      <td>1</td>\n",
       "      <td>1</td>\n",
       "      <td>0</td>\n",
       "      <td>0</td>\n",
       "      <td>UNE TERRASSE SUR LA MER 3 pers 2 chambres VUE MER</td>\n",
       "    </tr>\n",
       "    <tr>\n",
       "      <th>0</th>\n",
       "      <td>https://www.booking.com/hotel/fr/antinea-cassi...</td>\n",
       "      <td>Vous pouvez bénéficier d'une réduction Genius ...</td>\n",
       "      <td>7,0</td>\n",
       "      <td>2 Avenue Auguste Favier, 13260 Cassis, France</td>\n",
       "      <td>Cet hébergement est non-fumeurs.</td>\n",
       "      <td>43.22024010</td>\n",
       "      <td>5.54246930</td>\n",
       "      <td>Cassis</td>\n",
       "      <td>1</td>\n",
       "      <td>1</td>\n",
       "      <td>0</td>\n",
       "      <td>0</td>\n",
       "      <td>0</td>\n",
       "      <td>Villa ANTINEA</td>\n",
       "    </tr>\n",
       "    <tr>\n",
       "      <th>0</th>\n",
       "      <td>https://www.booking.com/hotel/fr/le-reve-bleu-...</td>\n",
       "      <td>Vous pouvez bénéficier d'une réduction Genius ...</td>\n",
       "      <td>8,6</td>\n",
       "      <td>28 Avenue Jules Ferry, 13260 Cassis, France</td>\n",
       "      <td>Cet hébergement est non-fumeurs.</td>\n",
       "      <td>43.22062430</td>\n",
       "      <td>5.54076700</td>\n",
       "      <td>Cassis</td>\n",
       "      <td>1</td>\n",
       "      <td>1</td>\n",
       "      <td>1</td>\n",
       "      <td>0</td>\n",
       "      <td>0</td>\n",
       "      <td>LE REVE BLEU</td>\n",
       "    </tr>\n",
       "    <tr>\n",
       "      <th>0</th>\n",
       "      <td>https://www.booking.com/hotel/fr/le-chemin-de-...</td>\n",
       "      <td>Situé à Cassis, l'établissement Le chemin de b...</td>\n",
       "      <td>7,4</td>\n",
       "      <td>3 Route Pierre Imbert, 13260 Cassis, France</td>\n",
       "      <td>Cet hébergement est non-fumeurs.</td>\n",
       "      <td>43.21641033</td>\n",
       "      <td>5.55070017</td>\n",
       "      <td>Cassis</td>\n",
       "      <td>1</td>\n",
       "      <td>0</td>\n",
       "      <td>0</td>\n",
       "      <td>0</td>\n",
       "      <td>0</td>\n",
       "      <td>Le chemin de belle fille</td>\n",
       "    </tr>\n",
       "    <tr>\n",
       "      <th>0</th>\n",
       "      <td>https://www.booking.com/hotel/fr/home-cassis-m...</td>\n",
       "      <td>Offrant une vue sur le jardin, le Home Cassis ...</td>\n",
       "      <td>7,5</td>\n",
       "      <td>23 Avenue de la Marne, 13260 Cassis, France</td>\n",
       "      <td>Cet hébergement est non-fumeurs.</td>\n",
       "      <td>43.22207969</td>\n",
       "      <td>5.53792695</td>\n",
       "      <td>Cassis</td>\n",
       "      <td>1</td>\n",
       "      <td>1</td>\n",
       "      <td>0</td>\n",
       "      <td>0</td>\n",
       "      <td>0</td>\n",
       "      <td>Home Cassis - Maison Julou - Piscine chauffée</td>\n",
       "    </tr>\n",
       "  </tbody>\n",
       "</table>\n",
       "</div>"
      ],
      "text/plain": [
       "                                           url_hotel  \\\n",
       "0  https://www.booking.com/hotel/fr/une-terrasse-...   \n",
       "0  https://www.booking.com/hotel/fr/antinea-cassi...   \n",
       "0  https://www.booking.com/hotel/fr/le-reve-bleu-...   \n",
       "0  https://www.booking.com/hotel/fr/le-chemin-de-...   \n",
       "0  https://www.booking.com/hotel/fr/home-cassis-m...   \n",
       "\n",
       "                                   description_hotel score_hotel  \\\n",
       "0  Vous pouvez bénéficier d'une réduction Genius ...         8,5   \n",
       "0  Vous pouvez bénéficier d'une réduction Genius ...         7,0   \n",
       "0  Vous pouvez bénéficier d'une réduction Genius ...         8,6   \n",
       "0  Situé à Cassis, l'établissement Le chemin de b...         7,4   \n",
       "0  Offrant une vue sur le jardin, le Home Cassis ...         7,5   \n",
       "\n",
       "                                    adresse_hotel  \\\n",
       "0  9 Avenue Maurice Jermini, 13260 Cassis, France   \n",
       "0   2 Avenue Auguste Favier, 13260 Cassis, France   \n",
       "0     28 Avenue Jules Ferry, 13260 Cassis, France   \n",
       "0     3 Route Pierre Imbert, 13260 Cassis, France   \n",
       "0     23 Avenue de la Marne, 13260 Cassis, France   \n",
       "\n",
       "                      animals_hotel          lat         lon    city  \\\n",
       "0  Cet hébergement est non-fumeurs.  43.21407197  5.53062182  Cassis   \n",
       "0  Cet hébergement est non-fumeurs.  43.22024010  5.54246930  Cassis   \n",
       "0  Cet hébergement est non-fumeurs.  43.22062430  5.54076700  Cassis   \n",
       "0  Cet hébergement est non-fumeurs.  43.21641033  5.55070017  Cassis   \n",
       "0  Cet hébergement est non-fumeurs.  43.22207969  5.53792695  Cassis   \n",
       "\n",
       "   popularity  upsort_bh  class  distance_from_search  bayesian_review_score  \\\n",
       "0           1          1      1                     0                      0   \n",
       "0           1          1      0                     0                      0   \n",
       "0           1          1      1                     0                      0   \n",
       "0           1          0      0                     0                      0   \n",
       "0           1          1      0                     0                      0   \n",
       "\n",
       "                                          name_hotel  \n",
       "0  UNE TERRASSE SUR LA MER 3 pers 2 chambres VUE MER  \n",
       "0                                      Villa ANTINEA  \n",
       "0                                       LE REVE BLEU  \n",
       "0                           Le chemin de belle fille  \n",
       "0      Home Cassis - Maison Julou - Piscine chauffée  "
      ]
     },
     "metadata": {},
     "output_type": "display_data"
    },
    {
     "data": {
      "text/plain": [
       "(1871, 14)"
      ]
     },
     "execution_count": 147,
     "metadata": {},
     "output_type": "execute_result"
    }
   ],
   "source": [
    "# adding order selction from the initial list of hotel to scrap to the total dataframe (i.e. caracteristics of all hotels)\n",
    "those_hotel = format_hotel(hotel_to_scrap, total)\n",
    "# removing coordinates_hotel, url_tested, hotel_index\n",
    "those_hotel = those_hotel.drop([\"coordinates_hotel\", \"hotel_index\"], axis = 1)\n",
    "\n",
    "display(those_hotel.head())\n",
    "those_hotel.shape"
   ]
  },
  {
   "cell_type": "code",
   "execution_count": 148,
   "metadata": {},
   "outputs": [],
   "source": [
    "# saving\n",
    "those_hotel.to_csv('src/hotel_description_order.csv')"
   ]
  },
  {
   "cell_type": "markdown",
   "metadata": {},
   "source": [
    "# 6. Importation to datalake and database"
   ]
  },
  {
   "cell_type": "markdown",
   "metadata": {},
   "source": [
    "##### Steps:\n",
    "- to store in a datalake: creation bucket on AWS S3 service\n",
    "- to create a database (data warehouse): AWS RDS service\n",
    "\n",
    "\n",
    "##### Objects to store in the datalake:\n",
    "- src/forecast_final.csv\n",
    "- src/hotel_description_order.csv\n",
    "- src/conplete_dataset.csv -> to create\n",
    "\n",
    "##### In the database:\n",
    "- src/complete_dataset_S3.csv"
   ]
  },
  {
   "cell_type": "markdown",
   "metadata": {},
   "source": [
    "## 6.1 preparing working dataset"
   ]
  },
  {
   "cell_type": "markdown",
   "metadata": {},
   "source": [
    "- ddl destination"
   ]
  },
  {
   "cell_type": "code",
   "execution_count": 150,
   "metadata": {},
   "outputs": [],
   "source": [
    "with open('src/forecast_destination.json') as f:\n",
    "    destination = f.read()"
   ]
  },
  {
   "cell_type": "code",
   "execution_count": 151,
   "metadata": {},
   "outputs": [],
   "source": [
    "destination = json.loads(destination)"
   ]
  },
  {
   "cell_type": "code",
   "execution_count": 152,
   "metadata": {},
   "outputs": [
    {
     "data": {
      "text/plain": [
       "{'warm': ['Cassis',\n",
       "  'Marseille',\n",
       "  'Collioure',\n",
       "  'Saintes Maries de la mer',\n",
       "  'Bormes les Mimosas'],\n",
       " 'landscape': ['Gorges du Verdon',\n",
       "  'Nimes',\n",
       "  'Strasbourg',\n",
       "  'Montauban',\n",
       "  'Avignon'],\n",
       " 'less_cloud': ['Bormes les Mimosas',\n",
       "  'Marseille',\n",
       "  'Cassis',\n",
       "  'Aix en Provence',\n",
       "  'Nimes']}"
      ]
     },
     "execution_count": 152,
     "metadata": {},
     "output_type": "execute_result"
    }
   ],
   "source": [
    "list_destination = {destination[d][\"criteria\"]:destination[d][\"data\"][\"ville\"] for d in range(len(destination))}\n",
    "list_destination"
   ]
  },
  {
   "cell_type": "markdown",
   "metadata": {},
   "source": [
    "- ddl total"
   ]
  },
  {
   "cell_type": "code",
   "execution_count": 153,
   "metadata": {},
   "outputs": [
    {
     "data": {
      "text/html": [
       "<div>\n",
       "<style scoped>\n",
       "    .dataframe tbody tr th:only-of-type {\n",
       "        vertical-align: middle;\n",
       "    }\n",
       "\n",
       "    .dataframe tbody tr th {\n",
       "        vertical-align: top;\n",
       "    }\n",
       "\n",
       "    .dataframe thead th {\n",
       "        text-align: right;\n",
       "    }\n",
       "</style>\n",
       "<table border=\"1\" class=\"dataframe\">\n",
       "  <thead>\n",
       "    <tr style=\"text-align: right;\">\n",
       "      <th></th>\n",
       "      <th>url_hotel</th>\n",
       "      <th>description_hotel</th>\n",
       "      <th>score_hotel</th>\n",
       "      <th>adresse_hotel</th>\n",
       "      <th>animals_hotel</th>\n",
       "      <th>lat</th>\n",
       "      <th>lon</th>\n",
       "      <th>city</th>\n",
       "      <th>popularity</th>\n",
       "      <th>upsort_bh</th>\n",
       "      <th>class</th>\n",
       "      <th>distance_from_search</th>\n",
       "      <th>bayesian_review_score</th>\n",
       "      <th>name_hotel</th>\n",
       "    </tr>\n",
       "  </thead>\n",
       "  <tbody>\n",
       "    <tr>\n",
       "      <th>0</th>\n",
       "      <td>https://www.booking.com/hotel/fr/une-terrasse-...</td>\n",
       "      <td>Vous pouvez bénéficier d'une réduction Genius ...</td>\n",
       "      <td>8,5</td>\n",
       "      <td>9 Avenue Maurice Jermini, 13260 Cassis, France</td>\n",
       "      <td>Cet hébergement est non-fumeurs.</td>\n",
       "      <td>43.214072</td>\n",
       "      <td>5.530622</td>\n",
       "      <td>Cassis</td>\n",
       "      <td>1</td>\n",
       "      <td>1</td>\n",
       "      <td>1</td>\n",
       "      <td>0</td>\n",
       "      <td>0</td>\n",
       "      <td>UNE TERRASSE SUR LA MER 3 pers 2 chambres VUE MER</td>\n",
       "    </tr>\n",
       "    <tr>\n",
       "      <th>1</th>\n",
       "      <td>https://www.booking.com/hotel/fr/antinea-cassi...</td>\n",
       "      <td>Vous pouvez bénéficier d'une réduction Genius ...</td>\n",
       "      <td>7,0</td>\n",
       "      <td>2 Avenue Auguste Favier, 13260 Cassis, France</td>\n",
       "      <td>Cet hébergement est non-fumeurs.</td>\n",
       "      <td>43.220240</td>\n",
       "      <td>5.542469</td>\n",
       "      <td>Cassis</td>\n",
       "      <td>1</td>\n",
       "      <td>1</td>\n",
       "      <td>0</td>\n",
       "      <td>0</td>\n",
       "      <td>0</td>\n",
       "      <td>Villa ANTINEA</td>\n",
       "    </tr>\n",
       "  </tbody>\n",
       "</table>\n",
       "</div>"
      ],
      "text/plain": [
       "                                           url_hotel  \\\n",
       "0  https://www.booking.com/hotel/fr/une-terrasse-...   \n",
       "1  https://www.booking.com/hotel/fr/antinea-cassi...   \n",
       "\n",
       "                                   description_hotel score_hotel  \\\n",
       "0  Vous pouvez bénéficier d'une réduction Genius ...         8,5   \n",
       "1  Vous pouvez bénéficier d'une réduction Genius ...         7,0   \n",
       "\n",
       "                                    adresse_hotel  \\\n",
       "0  9 Avenue Maurice Jermini, 13260 Cassis, France   \n",
       "1   2 Avenue Auguste Favier, 13260 Cassis, France   \n",
       "\n",
       "                      animals_hotel        lat       lon    city  popularity  \\\n",
       "0  Cet hébergement est non-fumeurs.  43.214072  5.530622  Cassis           1   \n",
       "1  Cet hébergement est non-fumeurs.  43.220240  5.542469  Cassis           1   \n",
       "\n",
       "   upsort_bh  class  distance_from_search  bayesian_review_score  \\\n",
       "0          1      1                     0                      0   \n",
       "1          1      0                     0                      0   \n",
       "\n",
       "                                          name_hotel  \n",
       "0  UNE TERRASSE SUR LA MER 3 pers 2 chambres VUE MER  \n",
       "1                                      Villa ANTINEA  "
      ]
     },
     "execution_count": 153,
     "metadata": {},
     "output_type": "execute_result"
    }
   ],
   "source": [
    "total = pd.read_csv(\"src/hotel_description_order.csv\")\n",
    "total = total.drop(\"Unnamed: 0\", axis=1)\n",
    "total.head(2)"
   ]
  },
  {
   "cell_type": "markdown",
   "metadata": {},
   "source": [
    "- function and formatting"
   ]
  },
  {
   "cell_type": "code",
   "execution_count": 154,
   "metadata": {},
   "outputs": [],
   "source": [
    "def format_final(data_hotel, data_destination):\n",
    "    # purpose : to have a columns per criteria and 1 if the city was selected by this criteria\n",
    "    # data_hotel : list of hotel, order and description -----> here, dataframe those_hotel (from hotel_description_order.csv)\n",
    "    # data_destination : from API weather requests, list of city regarding weather criteria -----> here, dictionary destination (formated in list_destination, from forecast_destination.json)\n",
    "    \n",
    "    for d in data_destination.keys():\n",
    "        # adding colums to fill to data_hotel\n",
    "        data_hotel[d] = 0\n",
    "        # fill with 1 if the city is selected by the criteria\n",
    "        data_hotel.loc[data_hotel[\"city\"].isin(data_destination[d]), d] = 1       \n",
    "    \n",
    "    return(data_hotel)"
   ]
  },
  {
   "cell_type": "code",
   "execution_count": 155,
   "metadata": {},
   "outputs": [
    {
     "data": {
      "text/html": [
       "<div>\n",
       "<style scoped>\n",
       "    .dataframe tbody tr th:only-of-type {\n",
       "        vertical-align: middle;\n",
       "    }\n",
       "\n",
       "    .dataframe tbody tr th {\n",
       "        vertical-align: top;\n",
       "    }\n",
       "\n",
       "    .dataframe thead th {\n",
       "        text-align: right;\n",
       "    }\n",
       "</style>\n",
       "<table border=\"1\" class=\"dataframe\">\n",
       "  <thead>\n",
       "    <tr style=\"text-align: right;\">\n",
       "      <th></th>\n",
       "      <th>url_hotel</th>\n",
       "      <th>description_hotel</th>\n",
       "      <th>score_hotel</th>\n",
       "      <th>adresse_hotel</th>\n",
       "      <th>animals_hotel</th>\n",
       "      <th>lat</th>\n",
       "      <th>lon</th>\n",
       "      <th>city</th>\n",
       "      <th>popularity</th>\n",
       "      <th>upsort_bh</th>\n",
       "      <th>class</th>\n",
       "      <th>distance_from_search</th>\n",
       "      <th>bayesian_review_score</th>\n",
       "      <th>name_hotel</th>\n",
       "      <th>warm</th>\n",
       "      <th>landscape</th>\n",
       "      <th>less_cloud</th>\n",
       "    </tr>\n",
       "  </thead>\n",
       "  <tbody>\n",
       "    <tr>\n",
       "      <th>0</th>\n",
       "      <td>https://www.booking.com/hotel/fr/une-terrasse-...</td>\n",
       "      <td>Vous pouvez bénéficier d'une réduction Genius ...</td>\n",
       "      <td>8,5</td>\n",
       "      <td>9 Avenue Maurice Jermini, 13260 Cassis, France</td>\n",
       "      <td>Cet hébergement est non-fumeurs.</td>\n",
       "      <td>43.214072</td>\n",
       "      <td>5.530622</td>\n",
       "      <td>Cassis</td>\n",
       "      <td>1</td>\n",
       "      <td>1</td>\n",
       "      <td>1</td>\n",
       "      <td>0</td>\n",
       "      <td>0</td>\n",
       "      <td>UNE TERRASSE SUR LA MER 3 pers 2 chambres VUE MER</td>\n",
       "      <td>1</td>\n",
       "      <td>0</td>\n",
       "      <td>1</td>\n",
       "    </tr>\n",
       "    <tr>\n",
       "      <th>1</th>\n",
       "      <td>https://www.booking.com/hotel/fr/antinea-cassi...</td>\n",
       "      <td>Vous pouvez bénéficier d'une réduction Genius ...</td>\n",
       "      <td>7,0</td>\n",
       "      <td>2 Avenue Auguste Favier, 13260 Cassis, France</td>\n",
       "      <td>Cet hébergement est non-fumeurs.</td>\n",
       "      <td>43.220240</td>\n",
       "      <td>5.542469</td>\n",
       "      <td>Cassis</td>\n",
       "      <td>1</td>\n",
       "      <td>1</td>\n",
       "      <td>0</td>\n",
       "      <td>0</td>\n",
       "      <td>0</td>\n",
       "      <td>Villa ANTINEA</td>\n",
       "      <td>1</td>\n",
       "      <td>0</td>\n",
       "      <td>1</td>\n",
       "    </tr>\n",
       "    <tr>\n",
       "      <th>2</th>\n",
       "      <td>https://www.booking.com/hotel/fr/le-reve-bleu-...</td>\n",
       "      <td>Vous pouvez bénéficier d'une réduction Genius ...</td>\n",
       "      <td>8,6</td>\n",
       "      <td>28 Avenue Jules Ferry, 13260 Cassis, France</td>\n",
       "      <td>Cet hébergement est non-fumeurs.</td>\n",
       "      <td>43.220624</td>\n",
       "      <td>5.540767</td>\n",
       "      <td>Cassis</td>\n",
       "      <td>1</td>\n",
       "      <td>1</td>\n",
       "      <td>1</td>\n",
       "      <td>0</td>\n",
       "      <td>0</td>\n",
       "      <td>LE REVE BLEU</td>\n",
       "      <td>1</td>\n",
       "      <td>0</td>\n",
       "      <td>1</td>\n",
       "    </tr>\n",
       "    <tr>\n",
       "      <th>3</th>\n",
       "      <td>https://www.booking.com/hotel/fr/le-chemin-de-...</td>\n",
       "      <td>Situé à Cassis, l'établissement Le chemin de b...</td>\n",
       "      <td>7,4</td>\n",
       "      <td>3 Route Pierre Imbert, 13260 Cassis, France</td>\n",
       "      <td>Cet hébergement est non-fumeurs.</td>\n",
       "      <td>43.216410</td>\n",
       "      <td>5.550700</td>\n",
       "      <td>Cassis</td>\n",
       "      <td>1</td>\n",
       "      <td>0</td>\n",
       "      <td>0</td>\n",
       "      <td>0</td>\n",
       "      <td>0</td>\n",
       "      <td>Le chemin de belle fille</td>\n",
       "      <td>1</td>\n",
       "      <td>0</td>\n",
       "      <td>1</td>\n",
       "    </tr>\n",
       "    <tr>\n",
       "      <th>4</th>\n",
       "      <td>https://www.booking.com/hotel/fr/home-cassis-m...</td>\n",
       "      <td>Offrant une vue sur le jardin, le Home Cassis ...</td>\n",
       "      <td>7,5</td>\n",
       "      <td>23 Avenue de la Marne, 13260 Cassis, France</td>\n",
       "      <td>Cet hébergement est non-fumeurs.</td>\n",
       "      <td>43.222080</td>\n",
       "      <td>5.537927</td>\n",
       "      <td>Cassis</td>\n",
       "      <td>1</td>\n",
       "      <td>1</td>\n",
       "      <td>0</td>\n",
       "      <td>0</td>\n",
       "      <td>0</td>\n",
       "      <td>Home Cassis - Maison Julou - Piscine chauffée</td>\n",
       "      <td>1</td>\n",
       "      <td>0</td>\n",
       "      <td>1</td>\n",
       "    </tr>\n",
       "  </tbody>\n",
       "</table>\n",
       "</div>"
      ],
      "text/plain": [
       "                                           url_hotel  \\\n",
       "0  https://www.booking.com/hotel/fr/une-terrasse-...   \n",
       "1  https://www.booking.com/hotel/fr/antinea-cassi...   \n",
       "2  https://www.booking.com/hotel/fr/le-reve-bleu-...   \n",
       "3  https://www.booking.com/hotel/fr/le-chemin-de-...   \n",
       "4  https://www.booking.com/hotel/fr/home-cassis-m...   \n",
       "\n",
       "                                   description_hotel score_hotel  \\\n",
       "0  Vous pouvez bénéficier d'une réduction Genius ...         8,5   \n",
       "1  Vous pouvez bénéficier d'une réduction Genius ...         7,0   \n",
       "2  Vous pouvez bénéficier d'une réduction Genius ...         8,6   \n",
       "3  Situé à Cassis, l'établissement Le chemin de b...         7,4   \n",
       "4  Offrant une vue sur le jardin, le Home Cassis ...         7,5   \n",
       "\n",
       "                                    adresse_hotel  \\\n",
       "0  9 Avenue Maurice Jermini, 13260 Cassis, France   \n",
       "1   2 Avenue Auguste Favier, 13260 Cassis, France   \n",
       "2     28 Avenue Jules Ferry, 13260 Cassis, France   \n",
       "3     3 Route Pierre Imbert, 13260 Cassis, France   \n",
       "4     23 Avenue de la Marne, 13260 Cassis, France   \n",
       "\n",
       "                      animals_hotel        lat       lon    city  popularity  \\\n",
       "0  Cet hébergement est non-fumeurs.  43.214072  5.530622  Cassis           1   \n",
       "1  Cet hébergement est non-fumeurs.  43.220240  5.542469  Cassis           1   \n",
       "2  Cet hébergement est non-fumeurs.  43.220624  5.540767  Cassis           1   \n",
       "3  Cet hébergement est non-fumeurs.  43.216410  5.550700  Cassis           1   \n",
       "4  Cet hébergement est non-fumeurs.  43.222080  5.537927  Cassis           1   \n",
       "\n",
       "   upsort_bh  class  distance_from_search  bayesian_review_score  \\\n",
       "0          1      1                     0                      0   \n",
       "1          1      0                     0                      0   \n",
       "2          1      1                     0                      0   \n",
       "3          0      0                     0                      0   \n",
       "4          1      0                     0                      0   \n",
       "\n",
       "                                          name_hotel  warm  landscape  \\\n",
       "0  UNE TERRASSE SUR LA MER 3 pers 2 chambres VUE MER     1          0   \n",
       "1                                      Villa ANTINEA     1          0   \n",
       "2                                       LE REVE BLEU     1          0   \n",
       "3                           Le chemin de belle fille     1          0   \n",
       "4      Home Cassis - Maison Julou - Piscine chauffée     1          0   \n",
       "\n",
       "   less_cloud  \n",
       "0           1  \n",
       "1           1  \n",
       "2           1  \n",
       "3           1  \n",
       "4           1  "
      ]
     },
     "execution_count": 155,
     "metadata": {},
     "output_type": "execute_result"
    }
   ],
   "source": [
    "dataset = format_final(data_hotel=total, data_destination=list_destination)\n",
    "dataset.head()"
   ]
  },
  {
   "cell_type": "code",
   "execution_count": 156,
   "metadata": {},
   "outputs": [
    {
     "data": {
      "text/plain": [
       "(1871, 17)"
      ]
     },
     "execution_count": 156,
     "metadata": {},
     "output_type": "execute_result"
    }
   ],
   "source": [
    "dataset.shape"
   ]
  },
  {
   "cell_type": "markdown",
   "metadata": {},
   "source": [
    "- adding forecast to the complete dataset"
   ]
  },
  {
   "cell_type": "code",
   "execution_count": 157,
   "metadata": {},
   "outputs": [
    {
     "data": {
      "text/html": [
       "<div>\n",
       "<style scoped>\n",
       "    .dataframe tbody tr th:only-of-type {\n",
       "        vertical-align: middle;\n",
       "    }\n",
       "\n",
       "    .dataframe tbody tr th {\n",
       "        vertical-align: top;\n",
       "    }\n",
       "\n",
       "    .dataframe thead th {\n",
       "        text-align: right;\n",
       "    }\n",
       "</style>\n",
       "<table border=\"1\" class=\"dataframe\">\n",
       "  <thead>\n",
       "    <tr style=\"text-align: right;\">\n",
       "      <th></th>\n",
       "      <th>ville</th>\n",
       "      <th>lat</th>\n",
       "      <th>lon</th>\n",
       "      <th>main.temp</th>\n",
       "      <th>main.feels_like</th>\n",
       "      <th>main.temp_max</th>\n",
       "      <th>main.humidity</th>\n",
       "      <th>clouds.all</th>\n",
       "      <th>wind.speed</th>\n",
       "      <th>visibility</th>\n",
       "      <th>lg_day</th>\n",
       "      <th>rain.3h</th>\n",
       "      <th>coord.lat</th>\n",
       "      <th>coord.lon</th>\n",
       "      <th>mainweather.main</th>\n",
       "      <th>mainweather.description</th>\n",
       "    </tr>\n",
       "  </thead>\n",
       "  <tbody>\n",
       "    <tr>\n",
       "      <th>0</th>\n",
       "      <td>Aigues Mortes</td>\n",
       "      <td>43.57</td>\n",
       "      <td>4.19</td>\n",
       "      <td>15.32625</td>\n",
       "      <td>14.55225</td>\n",
       "      <td>15.32625</td>\n",
       "      <td>62.725</td>\n",
       "      <td>45.250</td>\n",
       "      <td>5.50625</td>\n",
       "      <td>9935.700</td>\n",
       "      <td>10.276944</td>\n",
       "      <td>7.91</td>\n",
       "      <td>43.5658</td>\n",
       "      <td>4.1913</td>\n",
       "      <td>Rain</td>\n",
       "      <td>scattered clouds</td>\n",
       "    </tr>\n",
       "    <tr>\n",
       "      <th>1</th>\n",
       "      <td>Aix en Provence</td>\n",
       "      <td>43.53</td>\n",
       "      <td>5.45</td>\n",
       "      <td>14.21025</td>\n",
       "      <td>13.08125</td>\n",
       "      <td>14.21025</td>\n",
       "      <td>62.525</td>\n",
       "      <td>42.700</td>\n",
       "      <td>4.31225</td>\n",
       "      <td>9870.925</td>\n",
       "      <td>10.279444</td>\n",
       "      <td>7.40</td>\n",
       "      <td>43.5298</td>\n",
       "      <td>5.4475</td>\n",
       "      <td>Rain</td>\n",
       "      <td>scattered clouds</td>\n",
       "    </tr>\n",
       "    <tr>\n",
       "      <th>2</th>\n",
       "      <td>Amiens</td>\n",
       "      <td>49.89</td>\n",
       "      <td>2.30</td>\n",
       "      <td>11.34550</td>\n",
       "      <td>10.23125</td>\n",
       "      <td>11.35300</td>\n",
       "      <td>78.200</td>\n",
       "      <td>71.225</td>\n",
       "      <td>5.60150</td>\n",
       "      <td>9824.475</td>\n",
       "      <td>9.817778</td>\n",
       "      <td>25.43</td>\n",
       "      <td>49.8942</td>\n",
       "      <td>2.2957</td>\n",
       "      <td>Rain</td>\n",
       "      <td>scattered clouds</td>\n",
       "    </tr>\n",
       "    <tr>\n",
       "      <th>3</th>\n",
       "      <td>Annecy</td>\n",
       "      <td>45.90</td>\n",
       "      <td>6.13</td>\n",
       "      <td>9.59200</td>\n",
       "      <td>9.07850</td>\n",
       "      <td>9.62500</td>\n",
       "      <td>86.675</td>\n",
       "      <td>78.200</td>\n",
       "      <td>1.25475</td>\n",
       "      <td>9423.300</td>\n",
       "      <td>10.120833</td>\n",
       "      <td>34.15</td>\n",
       "      <td>45.8992</td>\n",
       "      <td>6.1289</td>\n",
       "      <td>Rain</td>\n",
       "      <td>scattered clouds</td>\n",
       "    </tr>\n",
       "    <tr>\n",
       "      <th>4</th>\n",
       "      <td>Ariege</td>\n",
       "      <td>48.41</td>\n",
       "      <td>2.79</td>\n",
       "      <td>11.52375</td>\n",
       "      <td>10.35600</td>\n",
       "      <td>11.53100</td>\n",
       "      <td>75.725</td>\n",
       "      <td>70.300</td>\n",
       "      <td>4.19600</td>\n",
       "      <td>9955.250</td>\n",
       "      <td>9.936111</td>\n",
       "      <td>9.36</td>\n",
       "      <td>48.4103</td>\n",
       "      <td>2.7858</td>\n",
       "      <td>Rain</td>\n",
       "      <td>scattered clouds</td>\n",
       "    </tr>\n",
       "  </tbody>\n",
       "</table>\n",
       "</div>"
      ],
      "text/plain": [
       "             ville    lat   lon  main.temp  main.feels_like  main.temp_max  \\\n",
       "0    Aigues Mortes  43.57  4.19   15.32625         14.55225       15.32625   \n",
       "1  Aix en Provence  43.53  5.45   14.21025         13.08125       14.21025   \n",
       "2           Amiens  49.89  2.30   11.34550         10.23125       11.35300   \n",
       "3           Annecy  45.90  6.13    9.59200          9.07850        9.62500   \n",
       "4           Ariege  48.41  2.79   11.52375         10.35600       11.53100   \n",
       "\n",
       "   main.humidity  clouds.all  wind.speed  visibility     lg_day  rain.3h  \\\n",
       "0         62.725      45.250     5.50625    9935.700  10.276944     7.91   \n",
       "1         62.525      42.700     4.31225    9870.925  10.279444     7.40   \n",
       "2         78.200      71.225     5.60150    9824.475   9.817778    25.43   \n",
       "3         86.675      78.200     1.25475    9423.300  10.120833    34.15   \n",
       "4         75.725      70.300     4.19600    9955.250   9.936111     9.36   \n",
       "\n",
       "   coord.lat  coord.lon mainweather.main mainweather.description  \n",
       "0    43.5658     4.1913             Rain        scattered clouds  \n",
       "1    43.5298     5.4475             Rain        scattered clouds  \n",
       "2    49.8942     2.2957             Rain        scattered clouds  \n",
       "3    45.8992     6.1289             Rain        scattered clouds  \n",
       "4    48.4103     2.7858             Rain        scattered clouds  "
      ]
     },
     "execution_count": 157,
     "metadata": {},
     "output_type": "execute_result"
    }
   ],
   "source": [
    "forecast = pd.read_csv('src/forecast_final.csv')\n",
    "forecast = forecast.drop(\"Unnamed: 0\", axis=1)\n",
    "forecast.head()"
   ]
  },
  {
   "cell_type": "code",
   "execution_count": 158,
   "metadata": {},
   "outputs": [
    {
     "data": {
      "text/html": [
       "<div>\n",
       "<style scoped>\n",
       "    .dataframe tbody tr th:only-of-type {\n",
       "        vertical-align: middle;\n",
       "    }\n",
       "\n",
       "    .dataframe tbody tr th {\n",
       "        vertical-align: top;\n",
       "    }\n",
       "\n",
       "    .dataframe thead th {\n",
       "        text-align: right;\n",
       "    }\n",
       "</style>\n",
       "<table border=\"1\" class=\"dataframe\">\n",
       "  <thead>\n",
       "    <tr style=\"text-align: right;\">\n",
       "      <th></th>\n",
       "      <th>city</th>\n",
       "      <th>main.temp</th>\n",
       "      <th>main.feels_like</th>\n",
       "      <th>main.temp_max</th>\n",
       "      <th>main.humidity</th>\n",
       "      <th>clouds.all</th>\n",
       "      <th>wind.speed</th>\n",
       "      <th>visibility</th>\n",
       "      <th>lg_day</th>\n",
       "      <th>rain.3h</th>\n",
       "      <th>coord.lat</th>\n",
       "      <th>coord.lon</th>\n",
       "      <th>mainweather.main</th>\n",
       "      <th>mainweather.description</th>\n",
       "    </tr>\n",
       "  </thead>\n",
       "  <tbody>\n",
       "    <tr>\n",
       "      <th>0</th>\n",
       "      <td>Aigues Mortes</td>\n",
       "      <td>15.32625</td>\n",
       "      <td>14.55225</td>\n",
       "      <td>15.32625</td>\n",
       "      <td>62.725</td>\n",
       "      <td>45.25</td>\n",
       "      <td>5.50625</td>\n",
       "      <td>9935.700</td>\n",
       "      <td>10.276944</td>\n",
       "      <td>7.91</td>\n",
       "      <td>43.5658</td>\n",
       "      <td>4.1913</td>\n",
       "      <td>Rain</td>\n",
       "      <td>scattered clouds</td>\n",
       "    </tr>\n",
       "    <tr>\n",
       "      <th>1</th>\n",
       "      <td>Aix en Provence</td>\n",
       "      <td>14.21025</td>\n",
       "      <td>13.08125</td>\n",
       "      <td>14.21025</td>\n",
       "      <td>62.525</td>\n",
       "      <td>42.70</td>\n",
       "      <td>4.31225</td>\n",
       "      <td>9870.925</td>\n",
       "      <td>10.279444</td>\n",
       "      <td>7.40</td>\n",
       "      <td>43.5298</td>\n",
       "      <td>5.4475</td>\n",
       "      <td>Rain</td>\n",
       "      <td>scattered clouds</td>\n",
       "    </tr>\n",
       "  </tbody>\n",
       "</table>\n",
       "</div>"
      ],
      "text/plain": [
       "              city  main.temp  main.feels_like  main.temp_max  main.humidity  \\\n",
       "0    Aigues Mortes   15.32625         14.55225       15.32625         62.725   \n",
       "1  Aix en Provence   14.21025         13.08125       14.21025         62.525   \n",
       "\n",
       "   clouds.all  wind.speed  visibility     lg_day  rain.3h  coord.lat  \\\n",
       "0       45.25     5.50625    9935.700  10.276944     7.91    43.5658   \n",
       "1       42.70     4.31225    9870.925  10.279444     7.40    43.5298   \n",
       "\n",
       "   coord.lon mainweather.main mainweather.description  \n",
       "0     4.1913             Rain        scattered clouds  \n",
       "1     5.4475             Rain        scattered clouds  "
      ]
     },
     "execution_count": 158,
     "metadata": {},
     "output_type": "execute_result"
    }
   ],
   "source": [
    "forecast = forecast.rename(columns={\"ville\":\"city\"})\n",
    "forecast = forecast.drop(\"lat\", axis=1)\n",
    "forecast = forecast.drop(\"lon\", axis=1)\n",
    "forecast.head(2)"
   ]
  },
  {
   "cell_type": "code",
   "execution_count": 159,
   "metadata": {},
   "outputs": [
    {
     "name": "stdout",
     "output_type": "stream",
     "text": [
      "(1871, 30)\n"
     ]
    },
    {
     "data": {
      "text/html": [
       "<div>\n",
       "<style scoped>\n",
       "    .dataframe tbody tr th:only-of-type {\n",
       "        vertical-align: middle;\n",
       "    }\n",
       "\n",
       "    .dataframe tbody tr th {\n",
       "        vertical-align: top;\n",
       "    }\n",
       "\n",
       "    .dataframe thead th {\n",
       "        text-align: right;\n",
       "    }\n",
       "</style>\n",
       "<table border=\"1\" class=\"dataframe\">\n",
       "  <thead>\n",
       "    <tr style=\"text-align: right;\">\n",
       "      <th></th>\n",
       "      <th>url_hotel</th>\n",
       "      <th>description_hotel</th>\n",
       "      <th>score_hotel</th>\n",
       "      <th>adresse_hotel</th>\n",
       "      <th>animals_hotel</th>\n",
       "      <th>lat</th>\n",
       "      <th>lon</th>\n",
       "      <th>city</th>\n",
       "      <th>popularity</th>\n",
       "      <th>upsort_bh</th>\n",
       "      <th>...</th>\n",
       "      <th>main.humidity</th>\n",
       "      <th>clouds.all</th>\n",
       "      <th>wind.speed</th>\n",
       "      <th>visibility</th>\n",
       "      <th>lg_day</th>\n",
       "      <th>rain.3h</th>\n",
       "      <th>coord.lat</th>\n",
       "      <th>coord.lon</th>\n",
       "      <th>mainweather.main</th>\n",
       "      <th>mainweather.description</th>\n",
       "    </tr>\n",
       "  </thead>\n",
       "  <tbody>\n",
       "    <tr>\n",
       "      <th>0</th>\n",
       "      <td>https://www.booking.com/hotel/fr/une-terrasse-...</td>\n",
       "      <td>Vous pouvez bénéficier d'une réduction Genius ...</td>\n",
       "      <td>8,5</td>\n",
       "      <td>9 Avenue Maurice Jermini, 13260 Cassis, France</td>\n",
       "      <td>Cet hébergement est non-fumeurs.</td>\n",
       "      <td>43.214072</td>\n",
       "      <td>5.530622</td>\n",
       "      <td>Cassis</td>\n",
       "      <td>1</td>\n",
       "      <td>1</td>\n",
       "      <td>...</td>\n",
       "      <td>58.25</td>\n",
       "      <td>39.25</td>\n",
       "      <td>6.54925</td>\n",
       "      <td>9875.075</td>\n",
       "      <td>10.299444</td>\n",
       "      <td>9.81</td>\n",
       "      <td>43.214</td>\n",
       "      <td>5.5396</td>\n",
       "      <td>Rain</td>\n",
       "      <td>scattered clouds</td>\n",
       "    </tr>\n",
       "    <tr>\n",
       "      <th>1</th>\n",
       "      <td>https://www.booking.com/hotel/fr/antinea-cassi...</td>\n",
       "      <td>Vous pouvez bénéficier d'une réduction Genius ...</td>\n",
       "      <td>7,0</td>\n",
       "      <td>2 Avenue Auguste Favier, 13260 Cassis, France</td>\n",
       "      <td>Cet hébergement est non-fumeurs.</td>\n",
       "      <td>43.220240</td>\n",
       "      <td>5.542469</td>\n",
       "      <td>Cassis</td>\n",
       "      <td>1</td>\n",
       "      <td>1</td>\n",
       "      <td>...</td>\n",
       "      <td>58.25</td>\n",
       "      <td>39.25</td>\n",
       "      <td>6.54925</td>\n",
       "      <td>9875.075</td>\n",
       "      <td>10.299444</td>\n",
       "      <td>9.81</td>\n",
       "      <td>43.214</td>\n",
       "      <td>5.5396</td>\n",
       "      <td>Rain</td>\n",
       "      <td>scattered clouds</td>\n",
       "    </tr>\n",
       "    <tr>\n",
       "      <th>2</th>\n",
       "      <td>https://www.booking.com/hotel/fr/le-reve-bleu-...</td>\n",
       "      <td>Vous pouvez bénéficier d'une réduction Genius ...</td>\n",
       "      <td>8,6</td>\n",
       "      <td>28 Avenue Jules Ferry, 13260 Cassis, France</td>\n",
       "      <td>Cet hébergement est non-fumeurs.</td>\n",
       "      <td>43.220624</td>\n",
       "      <td>5.540767</td>\n",
       "      <td>Cassis</td>\n",
       "      <td>1</td>\n",
       "      <td>1</td>\n",
       "      <td>...</td>\n",
       "      <td>58.25</td>\n",
       "      <td>39.25</td>\n",
       "      <td>6.54925</td>\n",
       "      <td>9875.075</td>\n",
       "      <td>10.299444</td>\n",
       "      <td>9.81</td>\n",
       "      <td>43.214</td>\n",
       "      <td>5.5396</td>\n",
       "      <td>Rain</td>\n",
       "      <td>scattered clouds</td>\n",
       "    </tr>\n",
       "    <tr>\n",
       "      <th>3</th>\n",
       "      <td>https://www.booking.com/hotel/fr/le-chemin-de-...</td>\n",
       "      <td>Situé à Cassis, l'établissement Le chemin de b...</td>\n",
       "      <td>7,4</td>\n",
       "      <td>3 Route Pierre Imbert, 13260 Cassis, France</td>\n",
       "      <td>Cet hébergement est non-fumeurs.</td>\n",
       "      <td>43.216410</td>\n",
       "      <td>5.550700</td>\n",
       "      <td>Cassis</td>\n",
       "      <td>1</td>\n",
       "      <td>0</td>\n",
       "      <td>...</td>\n",
       "      <td>58.25</td>\n",
       "      <td>39.25</td>\n",
       "      <td>6.54925</td>\n",
       "      <td>9875.075</td>\n",
       "      <td>10.299444</td>\n",
       "      <td>9.81</td>\n",
       "      <td>43.214</td>\n",
       "      <td>5.5396</td>\n",
       "      <td>Rain</td>\n",
       "      <td>scattered clouds</td>\n",
       "    </tr>\n",
       "    <tr>\n",
       "      <th>4</th>\n",
       "      <td>https://www.booking.com/hotel/fr/home-cassis-m...</td>\n",
       "      <td>Offrant une vue sur le jardin, le Home Cassis ...</td>\n",
       "      <td>7,5</td>\n",
       "      <td>23 Avenue de la Marne, 13260 Cassis, France</td>\n",
       "      <td>Cet hébergement est non-fumeurs.</td>\n",
       "      <td>43.222080</td>\n",
       "      <td>5.537927</td>\n",
       "      <td>Cassis</td>\n",
       "      <td>1</td>\n",
       "      <td>1</td>\n",
       "      <td>...</td>\n",
       "      <td>58.25</td>\n",
       "      <td>39.25</td>\n",
       "      <td>6.54925</td>\n",
       "      <td>9875.075</td>\n",
       "      <td>10.299444</td>\n",
       "      <td>9.81</td>\n",
       "      <td>43.214</td>\n",
       "      <td>5.5396</td>\n",
       "      <td>Rain</td>\n",
       "      <td>scattered clouds</td>\n",
       "    </tr>\n",
       "  </tbody>\n",
       "</table>\n",
       "<p>5 rows × 30 columns</p>\n",
       "</div>"
      ],
      "text/plain": [
       "                                           url_hotel  \\\n",
       "0  https://www.booking.com/hotel/fr/une-terrasse-...   \n",
       "1  https://www.booking.com/hotel/fr/antinea-cassi...   \n",
       "2  https://www.booking.com/hotel/fr/le-reve-bleu-...   \n",
       "3  https://www.booking.com/hotel/fr/le-chemin-de-...   \n",
       "4  https://www.booking.com/hotel/fr/home-cassis-m...   \n",
       "\n",
       "                                   description_hotel score_hotel  \\\n",
       "0  Vous pouvez bénéficier d'une réduction Genius ...         8,5   \n",
       "1  Vous pouvez bénéficier d'une réduction Genius ...         7,0   \n",
       "2  Vous pouvez bénéficier d'une réduction Genius ...         8,6   \n",
       "3  Situé à Cassis, l'établissement Le chemin de b...         7,4   \n",
       "4  Offrant une vue sur le jardin, le Home Cassis ...         7,5   \n",
       "\n",
       "                                    adresse_hotel  \\\n",
       "0  9 Avenue Maurice Jermini, 13260 Cassis, France   \n",
       "1   2 Avenue Auguste Favier, 13260 Cassis, France   \n",
       "2     28 Avenue Jules Ferry, 13260 Cassis, France   \n",
       "3     3 Route Pierre Imbert, 13260 Cassis, France   \n",
       "4     23 Avenue de la Marne, 13260 Cassis, France   \n",
       "\n",
       "                      animals_hotel        lat       lon    city  popularity  \\\n",
       "0  Cet hébergement est non-fumeurs.  43.214072  5.530622  Cassis           1   \n",
       "1  Cet hébergement est non-fumeurs.  43.220240  5.542469  Cassis           1   \n",
       "2  Cet hébergement est non-fumeurs.  43.220624  5.540767  Cassis           1   \n",
       "3  Cet hébergement est non-fumeurs.  43.216410  5.550700  Cassis           1   \n",
       "4  Cet hébergement est non-fumeurs.  43.222080  5.537927  Cassis           1   \n",
       "\n",
       "   upsort_bh  ...  main.humidity  clouds.all  wind.speed visibility  \\\n",
       "0          1  ...          58.25       39.25     6.54925   9875.075   \n",
       "1          1  ...          58.25       39.25     6.54925   9875.075   \n",
       "2          1  ...          58.25       39.25     6.54925   9875.075   \n",
       "3          0  ...          58.25       39.25     6.54925   9875.075   \n",
       "4          1  ...          58.25       39.25     6.54925   9875.075   \n",
       "\n",
       "      lg_day  rain.3h  coord.lat  coord.lon  mainweather.main  \\\n",
       "0  10.299444     9.81     43.214     5.5396              Rain   \n",
       "1  10.299444     9.81     43.214     5.5396              Rain   \n",
       "2  10.299444     9.81     43.214     5.5396              Rain   \n",
       "3  10.299444     9.81     43.214     5.5396              Rain   \n",
       "4  10.299444     9.81     43.214     5.5396              Rain   \n",
       "\n",
       "   mainweather.description  \n",
       "0         scattered clouds  \n",
       "1         scattered clouds  \n",
       "2         scattered clouds  \n",
       "3         scattered clouds  \n",
       "4         scattered clouds  \n",
       "\n",
       "[5 rows x 30 columns]"
      ]
     },
     "metadata": {},
     "output_type": "display_data"
    }
   ],
   "source": [
    "working = dataset.merge(forecast, on=\"city\", how=\"left\")\n",
    "print(working.shape)\n",
    "display(working.head())"
   ]
  },
  {
   "cell_type": "code",
   "execution_count": 160,
   "metadata": {},
   "outputs": [],
   "source": [
    "# saving\n",
    "working.to_csv('src/complete_dataset.csv')"
   ]
  },
  {
   "cell_type": "markdown",
   "metadata": {},
   "source": [
    "## 6.2 Export to S3"
   ]
  },
  {
   "cell_type": "markdown",
   "metadata": {},
   "source": [
    "- Instructions:\n",
    "Create your data lake using S3\n",
    "Once you managed to build your dataset, you should store into S3 as a csv file."
   ]
  },
  {
   "cell_type": "code",
   "execution_count": 175,
   "metadata": {},
   "outputs": [],
   "source": [
    "import boto3\n",
    "\n",
    "aws_credent = pd.read_csv('aws_bucket_credentials.csv', sep=';')\n",
    "\n",
    "session = boto3.Session(aws_access_key_id=aws_credent[\"aws_access_key_id\"].values[0], \n",
    "                        aws_secret_access_key=aws_credent[\"aws_secret_access_key\"].values[0])\n",
    "\n",
    "s3 = session.resource(\"s3\")"
   ]
  },
  {
   "cell_type": "code",
   "execution_count": 176,
   "metadata": {},
   "outputs": [],
   "source": [
    "# UpLoading raw datasets\n",
    "## forecast dataset\n",
    "s3.meta.client.upload_file(Filename=\"src/forecast_final.csv\", Bucket=\"jedha092022\", Key=\"forecast.csv\")\n",
    "\n",
    "## hotel description dataset\n",
    "s3.meta.client.upload_file(Filename=\"src/hotel_description_order.csv\", Bucket=\"jedha092022\", Key=\"hotel.csv\")"
   ]
  },
  {
   "cell_type": "code",
   "execution_count": 177,
   "metadata": {},
   "outputs": [],
   "source": [
    "# UpLoading working dataframe\n",
    "s3.meta.client.upload_file(Filename=\"src/complete_dataset.csv\", Bucket=\"jedha092022\", Key=\"complete.csv\")"
   ]
  },
  {
   "cell_type": "markdown",
   "metadata": {},
   "source": [
    "## 6.3 Export as database"
   ]
  },
  {
   "cell_type": "markdown",
   "metadata": {},
   "source": [
    "- Instructions: Once you uploaded your data onto S3, it will be better for the next data analysis team to extract clean data directly from a Data Warehouse. Therefore, create a SQL Database using AWS RDS, extract your data from S3 and store it in your newly created DB."
   ]
  },
  {
   "cell_type": "code",
   "execution_count": 178,
   "metadata": {},
   "outputs": [],
   "source": [
    "import sqlalchemy"
   ]
  },
  {
   "cell_type": "code",
   "execution_count": 184,
   "metadata": {},
   "outputs": [],
   "source": [
    "# sql alchemy to create database\n",
    "from sqlalchemy import create_engine, text\n",
    "\n",
    "credent = pd.read_csv('pgadmin_credentials.csv', sep=';')\n",
    "\n",
    "DBHOST = credent[\"DBHOST\"].values[0]\n",
    "DBUSER = credent[\"DBUSER\"].values[0]\n",
    "DBPASS = credent[\"DBPASS\"].values[0]\n",
    "DBNAME = credent[\"DBNAME\"].values[0]\n",
    "PORT   = credent[\"PORT\"].values[0]\n",
    "\n",
    "engine = create_engine(f\"postgresql+psycopg2://{DBUSER}:{DBPASS}@{DBHOST}/{DBNAME}\", echo=True)"
   ]
  },
  {
   "cell_type": "markdown",
   "metadata": {},
   "source": [
    "### 6.3.1 Import from S3 \"complete_dataset\""
   ]
  },
  {
   "cell_type": "code",
   "execution_count": 185,
   "metadata": {},
   "outputs": [],
   "source": [
    "s3 = session.resource('s3')\n",
    "s3.meta.client.download_file(Bucket=\"jedha092022\", Key=\"complete.csv\", Filename=\"src/complete_dataset_S3.csv\")"
   ]
  },
  {
   "cell_type": "code",
   "execution_count": 181,
   "metadata": {},
   "outputs": [
    {
     "name": "stdout",
     "output_type": "stream",
     "text": [
      "(1871, 31)\n"
     ]
    },
    {
     "data": {
      "text/html": [
       "<div>\n",
       "<style scoped>\n",
       "    .dataframe tbody tr th:only-of-type {\n",
       "        vertical-align: middle;\n",
       "    }\n",
       "\n",
       "    .dataframe tbody tr th {\n",
       "        vertical-align: top;\n",
       "    }\n",
       "\n",
       "    .dataframe thead th {\n",
       "        text-align: right;\n",
       "    }\n",
       "</style>\n",
       "<table border=\"1\" class=\"dataframe\">\n",
       "  <thead>\n",
       "    <tr style=\"text-align: right;\">\n",
       "      <th></th>\n",
       "      <th>Unnamed: 0</th>\n",
       "      <th>url_hotel</th>\n",
       "      <th>description_hotel</th>\n",
       "      <th>score_hotel</th>\n",
       "      <th>adresse_hotel</th>\n",
       "      <th>animals_hotel</th>\n",
       "      <th>lat</th>\n",
       "      <th>lon</th>\n",
       "      <th>city</th>\n",
       "      <th>popularity</th>\n",
       "      <th>...</th>\n",
       "      <th>main.humidity</th>\n",
       "      <th>clouds.all</th>\n",
       "      <th>wind.speed</th>\n",
       "      <th>visibility</th>\n",
       "      <th>lg_day</th>\n",
       "      <th>rain.3h</th>\n",
       "      <th>coord.lat</th>\n",
       "      <th>coord.lon</th>\n",
       "      <th>mainweather.main</th>\n",
       "      <th>mainweather.description</th>\n",
       "    </tr>\n",
       "  </thead>\n",
       "  <tbody>\n",
       "    <tr>\n",
       "      <th>0</th>\n",
       "      <td>0</td>\n",
       "      <td>https://www.booking.com/hotel/fr/une-terrasse-...</td>\n",
       "      <td>Vous pouvez bénéficier d'une réduction Genius ...</td>\n",
       "      <td>8,5</td>\n",
       "      <td>9 Avenue Maurice Jermini, 13260 Cassis, France</td>\n",
       "      <td>Cet hébergement est non-fumeurs.</td>\n",
       "      <td>43.214072</td>\n",
       "      <td>5.530622</td>\n",
       "      <td>Cassis</td>\n",
       "      <td>1</td>\n",
       "      <td>...</td>\n",
       "      <td>58.25</td>\n",
       "      <td>39.25</td>\n",
       "      <td>6.54925</td>\n",
       "      <td>9875.075</td>\n",
       "      <td>10.299444</td>\n",
       "      <td>9.81</td>\n",
       "      <td>43.214</td>\n",
       "      <td>5.5396</td>\n",
       "      <td>Rain</td>\n",
       "      <td>scattered clouds</td>\n",
       "    </tr>\n",
       "    <tr>\n",
       "      <th>1</th>\n",
       "      <td>1</td>\n",
       "      <td>https://www.booking.com/hotel/fr/antinea-cassi...</td>\n",
       "      <td>Vous pouvez bénéficier d'une réduction Genius ...</td>\n",
       "      <td>7,0</td>\n",
       "      <td>2 Avenue Auguste Favier, 13260 Cassis, France</td>\n",
       "      <td>Cet hébergement est non-fumeurs.</td>\n",
       "      <td>43.220240</td>\n",
       "      <td>5.542469</td>\n",
       "      <td>Cassis</td>\n",
       "      <td>1</td>\n",
       "      <td>...</td>\n",
       "      <td>58.25</td>\n",
       "      <td>39.25</td>\n",
       "      <td>6.54925</td>\n",
       "      <td>9875.075</td>\n",
       "      <td>10.299444</td>\n",
       "      <td>9.81</td>\n",
       "      <td>43.214</td>\n",
       "      <td>5.5396</td>\n",
       "      <td>Rain</td>\n",
       "      <td>scattered clouds</td>\n",
       "    </tr>\n",
       "  </tbody>\n",
       "</table>\n",
       "<p>2 rows × 31 columns</p>\n",
       "</div>"
      ],
      "text/plain": [
       "   Unnamed: 0                                          url_hotel  \\\n",
       "0           0  https://www.booking.com/hotel/fr/une-terrasse-...   \n",
       "1           1  https://www.booking.com/hotel/fr/antinea-cassi...   \n",
       "\n",
       "                                   description_hotel score_hotel  \\\n",
       "0  Vous pouvez bénéficier d'une réduction Genius ...         8,5   \n",
       "1  Vous pouvez bénéficier d'une réduction Genius ...         7,0   \n",
       "\n",
       "                                    adresse_hotel  \\\n",
       "0  9 Avenue Maurice Jermini, 13260 Cassis, France   \n",
       "1   2 Avenue Auguste Favier, 13260 Cassis, France   \n",
       "\n",
       "                      animals_hotel        lat       lon    city  popularity  \\\n",
       "0  Cet hébergement est non-fumeurs.  43.214072  5.530622  Cassis           1   \n",
       "1  Cet hébergement est non-fumeurs.  43.220240  5.542469  Cassis           1   \n",
       "\n",
       "   ...  main.humidity  clouds.all  wind.speed  visibility     lg_day  rain.3h  \\\n",
       "0  ...          58.25       39.25     6.54925    9875.075  10.299444     9.81   \n",
       "1  ...          58.25       39.25     6.54925    9875.075  10.299444     9.81   \n",
       "\n",
       "   coord.lat  coord.lon  mainweather.main  mainweather.description  \n",
       "0     43.214     5.5396              Rain         scattered clouds  \n",
       "1     43.214     5.5396              Rain         scattered clouds  \n",
       "\n",
       "[2 rows x 31 columns]"
      ]
     },
     "metadata": {},
     "output_type": "display_data"
    }
   ],
   "source": [
    "working = pd.read_csv(\"src/complete_dataset_S3.csv\")\n",
    "print(working.shape)\n",
    "display(working.head(2))"
   ]
  },
  {
   "cell_type": "code",
   "execution_count": 182,
   "metadata": {},
   "outputs": [
    {
     "data": {
      "text/plain": [
       "Index(['url_hotel', 'description_hotel', 'score_hotel', 'adresse_hotel',\n",
       "       'animals_hotel', 'lat', 'lon', 'city', 'popularity', 'upsort_bh',\n",
       "       'class', 'distance_from_search', 'bayesian_review_score', 'name_hotel',\n",
       "       'warm', 'landscape', 'less_cloud', 'main.temp', 'main.feels_like',\n",
       "       'main.temp_max', 'main.humidity', 'clouds.all', 'wind.speed',\n",
       "       'visibility', 'lg_day', 'rain.3h', 'coord.lat', 'coord.lon',\n",
       "       'mainweather.main', 'mainweather.description'],\n",
       "      dtype='object')"
      ]
     },
     "execution_count": 182,
     "metadata": {},
     "output_type": "execute_result"
    }
   ],
   "source": [
    "working = working.drop(\"Unnamed: 0\", axis=1)\n",
    "working.columns"
   ]
  },
  {
   "attachments": {},
   "cell_type": "markdown",
   "metadata": {},
   "source": [
    "### 6.3.2 Export to RDS database"
   ]
  },
  {
   "cell_type": "code",
   "execution_count": 186,
   "metadata": {},
   "outputs": [
    {
     "name": "stdout",
     "output_type": "stream",
     "text": [
      "2023-01-06 18:09:22,635 INFO sqlalchemy.engine.Engine select pg_catalog.version()\n",
      "2023-01-06 18:09:22,637 INFO sqlalchemy.engine.Engine [raw sql] {}\n",
      "2023-01-06 18:09:22,706 INFO sqlalchemy.engine.Engine select current_schema()\n",
      "2023-01-06 18:09:22,707 INFO sqlalchemy.engine.Engine [raw sql] {}\n",
      "2023-01-06 18:09:22,772 INFO sqlalchemy.engine.Engine show standard_conforming_strings\n",
      "2023-01-06 18:09:22,773 INFO sqlalchemy.engine.Engine [raw sql] {}\n",
      "2023-01-06 18:09:22,839 INFO sqlalchemy.engine.Engine select relname from pg_class c join pg_namespace n on n.oid=c.relnamespace where pg_catalog.pg_table_is_visible(c.oid) and relname=%(name)s\n",
      "2023-01-06 18:09:22,840 INFO sqlalchemy.engine.Engine [generated in 0.00192s] {'name': 'complete_dataset'}\n",
      "2023-01-06 18:09:22,932 INFO sqlalchemy.engine.Engine BEGIN (implicit)\n",
      "2023-01-06 18:09:22,939 INFO sqlalchemy.engine.Engine \n",
      "CREATE TABLE complete_dataset (\n",
      "\turl_hotel TEXT, \n",
      "\tdescription_hotel TEXT, \n",
      "\tscore_hotel TEXT, \n",
      "\tadresse_hotel TEXT, \n",
      "\tanimals_hotel TEXT, \n",
      "\tlat FLOAT(53), \n",
      "\tlon FLOAT(53), \n",
      "\tcity TEXT, \n",
      "\tpopularity BIGINT, \n",
      "\tupsort_bh BIGINT, \n",
      "\tclass BIGINT, \n",
      "\tdistance_from_search BIGINT, \n",
      "\tbayesian_review_score BIGINT, \n",
      "\tname_hotel TEXT, \n",
      "\twarm BIGINT, \n",
      "\tlandscape BIGINT, \n",
      "\tless_cloud BIGINT, \n",
      "\t\"main.temp\" FLOAT(53), \n",
      "\t\"main.feels_like\" FLOAT(53), \n",
      "\t\"main.temp_max\" FLOAT(53), \n",
      "\t\"main.humidity\" FLOAT(53), \n",
      "\t\"clouds.all\" FLOAT(53), \n",
      "\t\"wind.speed\" FLOAT(53), \n",
      "\tvisibility FLOAT(53), \n",
      "\tlg_day FLOAT(53), \n",
      "\t\"rain.3h\" FLOAT(53), \n",
      "\t\"coord.lat\" FLOAT(53), \n",
      "\t\"coord.lon\" FLOAT(53), \n",
      "\t\"mainweather.main\" TEXT, \n",
      "\t\"mainweather.description\" TEXT\n",
      ")\n",
      "\n",
      "\n",
      "2023-01-06 18:09:22,942 INFO sqlalchemy.engine.Engine [no key 0.00300s] {}\n",
      "2023-01-06 18:09:23,010 INFO sqlalchemy.engine.Engine COMMIT\n",
      "2023-01-06 18:09:23,053 INFO sqlalchemy.engine.Engine BEGIN (implicit)\n",
      "2023-01-06 18:09:23,127 INFO sqlalchemy.engine.Engine INSERT INTO complete_dataset (url_hotel, description_hotel, score_hotel, adresse_hotel, animals_hotel, lat, lon, city, popularity, upsort_bh, class, distance_from_search, bayesian_review_score, name_hotel, warm, landscape, less_cloud, \"main.temp\", \"main.feels_like\", \"main.temp_max\", \"main.humidity\", \"clouds.all\", \"wind.speed\", visibility, lg_day, \"rain.3h\", \"coord.lat\", \"coord.lon\", \"mainweather.main\", \"mainweather.description\") VALUES (%(url_hotel)s, %(description_hotel)s, %(score_hotel)s, %(adresse_hotel)s, %(animals_hotel)s, %(lat)s, %(lon)s, %(city)s, %(popularity)s, %(upsort_bh)s, %(class)s, %(distance_from_search)s, %(bayesian_review_score)s, %(name_hotel)s, %(warm)s, %(landscape)s, %(less_cloud)s, %(main.temp)s, %(main.feels_like)s, %(main.temp_max)s, %(main.humidity)s, %(clouds.all)s, %(wind.speed)s, %(visibility)s, %(lg_day)s, %(rain.3h)s, %(coord.lat)s, %(coord.lon)s, %(mainweather.main)s, %(mainweather.description)s)\n",
      "2023-01-06 18:09:23,129 INFO sqlalchemy.engine.Engine [generated in 0.06032s] ({'url_hotel': 'https://www.booking.com/hotel/fr/une-terrasse-sur-la-mer-cassis.fr.html', 'description_hotel': \"Vous pouvez bénéficier d'une réduction Genius dans l'établissement UNE TERRASSE SUR LA MER 3 pers 2 chambres VUE MER!  pour économiser.Situé à Cassis ... (818 characters truncated) ... le plus proche, celui de Marseille-Provence, est situé à 49 km. Un service de navette aéroport peut être assuré moyennant des frais supplémentaires. \", 'score_hotel': '8,5', 'adresse_hotel': '9 Avenue Maurice Jermini, 13260 Cassis, France', 'animals_hotel': 'Cet hébergement est non-fumeurs.', 'lat': 43.21407197, 'lon': 5.53062182, 'city': 'Cassis', 'popularity': 1, 'upsort_bh': 1, 'class': 1, 'distance_from_search': 0, 'bayesian_review_score': 0, 'name_hotel': 'UNE TERRASSE SUR LA MER 3 pers 2 chambres VUE MER', 'warm': 1, 'landscape': 0, 'less_cloud': 1, 'main.temp': 16.71725, 'main.feels_like': 15.9655, 'main.temp_max': 16.7315, 'main.humidity': 58.25, 'clouds.all': 39.25, 'wind.speed': 6.549250000000001, 'visibility': 9875.075, 'lg_day': 10.299444444444443, 'rain.3h': 9.81, 'coord.lat': 43.214, 'coord.lon': 5.5396, 'mainweather.main': 'Rain', 'mainweather.description': 'scattered clouds'}, {'url_hotel': 'https://www.booking.com/hotel/fr/antinea-cassis12.fr.html', 'description_hotel': \"Vous pouvez bénéficier d'une réduction Genius dans l'établissement Villa ANTINEA!  pour économiser.Située à Cassis, à seulement 1,1 km de la Grande M ... (779 characters truncated) ... le plus proche, celui de Marseille Provence, est situé à 47 km. Un service de navette aéroport peut être assuré moyennant des frais supplémentaires. \", 'score_hotel': '7,0', 'adresse_hotel': '2 Avenue Auguste Favier, 13260 Cassis, France', 'animals_hotel': 'Cet hébergement est non-fumeurs.', 'lat': 43.2202401, 'lon': 5.5424693, 'city': 'Cassis', 'popularity': 1, 'upsort_bh': 1, 'class': 0, 'distance_from_search': 0, 'bayesian_review_score': 0, 'name_hotel': 'Villa ANTINEA', 'warm': 1, 'landscape': 0, 'less_cloud': 1, 'main.temp': 16.71725, 'main.feels_like': 15.9655, 'main.temp_max': 16.7315, 'main.humidity': 58.25, 'clouds.all': 39.25, 'wind.speed': 6.549250000000001, 'visibility': 9875.075, 'lg_day': 10.299444444444443, 'rain.3h': 9.81, 'coord.lat': 43.214, 'coord.lon': 5.5396, 'mainweather.main': 'Rain', 'mainweather.description': 'scattered clouds'}, {'url_hotel': 'https://www.booking.com/hotel/fr/le-reve-bleu-cassis.fr.html', 'description_hotel': \"Vous pouvez bénéficier d'une réduction Genius dans l'établissement LE REVE BLEU!  pour économiser.Situé à Cassis, à 1,1 km de la Grande Mer et à 1,4  ... (587 characters truncated) ... 1,6 km de la plage de l'Anse de Corton et à 19 km du stade Orange Vélodrome. L'aéroport de Marseille-Provence, le plus proche, est implanté à 48 km. \", 'score_hotel': '8,6', 'adresse_hotel': '28 Avenue Jules Ferry, 13260 Cassis, France', 'animals_hotel': 'Cet hébergement est non-fumeurs.', 'lat': 43.2206243, 'lon': 5.540767, 'city': 'Cassis', 'popularity': 1, 'upsort_bh': 1, 'class': 1, 'distance_from_search': 0, 'bayesian_review_score': 0, 'name_hotel': 'LE REVE BLEU', 'warm': 1, 'landscape': 0, 'less_cloud': 1, 'main.temp': 16.71725, 'main.feels_like': 15.9655, 'main.temp_max': 16.7315, 'main.humidity': 58.25, 'clouds.all': 39.25, 'wind.speed': 6.549250000000001, 'visibility': 9875.075, 'lg_day': 10.299444444444443, 'rain.3h': 9.81, 'coord.lat': 43.214, 'coord.lon': 5.5396, 'mainweather.main': 'Rain', 'mainweather.description': 'scattered clouds'}, {'url_hotel': 'https://www.booking.com/hotel/fr/le-chemin-de-belle-fille.fr.html', 'description_hotel': \"Situé à Cassis, l'établissement Le chemin de belle fille dispose d'une piscine, d'un salon commun, d'un jardin et d'une connexion Wi-Fi gratuite.Cert ... (211 characters truncated) ... à proximité de la Grande Mer, de la plage de l'Anse de Corton et de l'Arene. L'aéroport de Marseille-Provence, le plus proche, est implanté à 54 km. \", 'score_hotel': '7,4', 'adresse_hotel': '3 Route Pierre Imbert, 13260 Cassis, France', 'animals_hotel': 'Cet hébergement est non-fumeurs.', 'lat': 43.21641033, 'lon': 5.55070017, 'city': 'Cassis', 'popularity': 1, 'upsort_bh': 0, 'class': 0, 'distance_from_search': 0, 'bayesian_review_score': 0, 'name_hotel': 'Le chemin de belle fille', 'warm': 1, 'landscape': 0, 'less_cloud': 1, 'main.temp': 16.71725, 'main.feels_like': 15.9655, 'main.temp_max': 16.7315, 'main.humidity': 58.25, 'clouds.all': 39.25, 'wind.speed': 6.549250000000001, 'visibility': 9875.075, 'lg_day': 10.299444444444443, 'rain.3h': 9.81, 'coord.lat': 43.214, 'coord.lon': 5.5396, 'mainweather.main': 'Rain', 'mainweather.description': 'scattered clouds'}, {'url_hotel': 'https://www.booking.com/hotel/fr/home-cassis-maison-julou.fr.html', 'description_hotel': \"Offrant une vue sur le jardin, le Home Cassis - Maison Julou - Piscine chauffée est situé à Cassis, à 1,4 km de Bestouan. Vous bénéficierez gratuitem ... (494 characters truncated) ... nerez à 1,4 km de la Grande Mer et à 1,9 km de la plage de l'Anse de Corton. L'aéroport de Marseille-Provence, le plus proche, est implanté à 48 km. \", 'score_hotel': '7,5', 'adresse_hotel': '23 Avenue de la Marne, 13260 Cassis, France', 'animals_hotel': 'Cet hébergement est non-fumeurs.', 'lat': 43.22207969, 'lon': 5.53792695, 'city': 'Cassis', 'popularity': 1, 'upsort_bh': 1, 'class': 0, 'distance_from_search': 0, 'bayesian_review_score': 0, 'name_hotel': 'Home Cassis - Maison Julou - Piscine chauffée', 'warm': 1, 'landscape': 0, 'less_cloud': 1, 'main.temp': 16.71725, 'main.feels_like': 15.9655, 'main.temp_max': 16.7315, 'main.humidity': 58.25, 'clouds.all': 39.25, 'wind.speed': 6.549250000000001, 'visibility': 9875.075, 'lg_day': 10.299444444444443, 'rain.3h': 9.81, 'coord.lat': 43.214, 'coord.lon': 5.5396, 'mainweather.main': 'Rain', 'mainweather.description': 'scattered clouds'}, {'url_hotel': 'https://www.booking.com/hotel/fr/appartement-cosy-a-10-metres-du-port-de-cassis.fr.html', 'description_hotel': \"Vous pouvez bénéficier d'une réduction Genius dans l'établissement appartement cosy à 10 mètres du port de Cassis!  pour économiser.Situé à Cassis, à ... (715 characters truncated) ... des expositions Marseille Chanot. L'aéroport le plus proche, celui de Marseille Provence, 48 km de l'appartement cosy à 10 mètres du port de Cassis. \", 'score_hotel': '8,3', 'adresse_hotel': '6 Rue Bremond, 13260 Cassis, France', 'animals_hotel': 'Cet hébergement est non-fumeurs.', 'lat': 43.21533507, 'lon': 5.53686093, 'city': 'Cassis', 'popularity': 1, 'upsort_bh': 1, 'class': 0, 'distance_from_search': 1, 'bayesian_review_score': 0, 'name_hotel': 'appartement cosy à 10 mètres du port de Cassis', 'warm': 1, 'landscape': 0, 'less_cloud': 1, 'main.temp': 16.71725, 'main.feels_like': 15.9655, 'main.temp_max': 16.7315, 'main.humidity': 58.25, 'clouds.all': 39.25, 'wind.speed': 6.549250000000001, 'visibility': 9875.075, 'lg_day': 10.299444444444443, 'rain.3h': 9.81, 'coord.lat': 43.214, 'coord.lon': 5.5396, 'mainweather.main': 'Rain', 'mainweather.description': 'scattered clouds'}, {'url_hotel': 'https://www.booking.com/hotel/fr/le-cleli.fr.html', 'description_hotel': \"Vous pouvez bénéficier d'une réduction Genius dans l'établissement Le Cleli!  pour économiser.Situé à Cassis, à moins de 500 mètres de la Grande Mer  ... (569 characters truncated) ...  km du stade Orange Vélodrome et de la station de métro Rond-Point du Prado. L'aéroport de Marseille-Provence, le plus proche, est implanté à 49 km. \", 'score_hotel': '8,1', 'adresse_hotel': '11 Rue de la Ciotat, 13260 Cassis, France', 'animals_hotel': 'Cet hébergement est non-fumeurs.', 'lat': 43.21509805, 'lon': 5.54048743, 'city': 'Cassis', 'popularity': 1, 'upsort_bh': 1, 'class': 0, 'distance_from_search': 0, 'bayesian_review_score': 0, 'name_hotel': 'Le Cleli', 'warm': 1, 'landscape': 0, 'less_cloud': 1, 'main.temp': 16.71725, 'main.feels_like': 15.9655, 'main.temp_max': 16.7315, 'main.humidity': 58.25, 'clouds.all': 39.25, 'wind.speed': 6.549250000000001, 'visibility': 9875.075, 'lg_day': 10.299444444444443, 'rain.3h': 9.81, 'coord.lat': 43.214, 'coord.lon': 5.5396, 'mainweather.main': 'Rain', 'mainweather.description': 'scattered clouds'}, {'url_hotel': 'https://www.booking.com/hotel/fr/le-grand-bleu-cassis1.fr.html', 'description_hotel': \"Vous pouvez bénéficier d'une réduction Genius dans l'établissement Cassis, le Grand Bleu, triplex vue mer, port plage 10mn à pieds!  pour économiser. ... (535 characters truncated) ... ouve à 1,1 km de la plage de l’Anse de Corton et à 1,2 km de celle du Bestouan. L’aéroport Marseille-Provence, le plus proche, est implanté à 49 km. \", 'score_hotel': '9,0', 'adresse_hotel': '3 Avenue Auguste Favier, 13260 Cassis, France', 'animals_hotel': 'Cet hébergement est non-fumeurs.', 'lat': 43.2208045, 'lon': 5.54229625, 'city': 'Cassis', 'popularity': 1, 'upsort_bh': 1, 'class': 1, 'distance_from_search': 0, 'bayesian_review_score': 0, 'name_hotel': 'Cassis, le Grand Bleu, triplex vue mer, port plage 10mn à pieds', 'warm': 1, 'landscape': 0, 'less_cloud': 1, 'main.temp': 16.71725, 'main.feels_like': 15.9655, 'main.temp_max': 16.7315, 'main.humidity': 58.25, 'clouds.all': 39.25, 'wind.speed': 6.549250000000001, 'visibility': 9875.075, 'lg_day': 10.299444444444443, 'rain.3h': 9.81, 'coord.lat': 43.214, 'coord.lon': 5.5396, 'mainweather.main': 'Rain', 'mainweather.description': 'scattered clouds'}  ... displaying 10 of 1871 total bound parameter sets ...  {'url_hotel': 'https://www.booking.com/hotel/fr/les-villas-du-triangle-chambres-d-39-hotes.fr.html', 'description_hotel': \"Offrant une vue sur le jardin, l'établissement Les villas du triangle - chambres d'hôtes est situé à Nîmes, à 11 km du parc des expositions. Vous bén ... (347 characters truncated) ... rnerez à 35 km de l'amphithéâtre d'Arles et à 41 km de la gare centrale d'Avignon. L'aéroport de Nîmes-Garons, le plus proche, est implanté à 14 km. \", 'score_hotel': '9,1', 'adresse_hotel': \"58 Rue de l'Abrivado, 30000 Nîmes, France\", 'animals_hotel': 'Cet hébergement est non-fumeurs.', 'lat': 43.84096629, 'lon': 4.39121264, 'city': 'Nimes', 'popularity': 0, 'upsort_bh': 0, 'class': 0, 'distance_from_search': 0, 'bayesian_review_score': 1, 'name_hotel': \"Les villas du triangle - chambres d'hôtes\", 'warm': 0, 'landscape': 1, 'less_cloud': 1, 'main.temp': 13.769749999999998, 'main.feels_like': 12.79275, 'main.temp_max': 13.7725, 'main.humidity': 64.975, 'clouds.all': 44.925, 'wind.speed': 4.3115000000000006, 'visibility': 10000.0, 'lg_day': 10.259444444444446, 'rain.3h': 9.08, 'coord.lat': 43.8374, 'coord.lon': 4.3601, 'mainweather.main': 'Rain', 'mainweather.description': 'scattered clouds'}, {'url_hotel': 'https://www.booking.com/hotel/fr/patrick-amp-pierre-bnb-nimes.fr.html', 'description_hotel': \"Vous pouvez bénéficier d'une réduction Genius dans l'établissement Patrick&Pierre Bed and Breakfast Nîmes!  pour économiser.L'établissement Patrick&P ... (476 characters truncated) ...  de l'école des beaux-arts et à 3 km de la gare. L'aéroport le plus proche, celui de Nîmes-Alès-Camargue-Cévennes, est quant à lui distant de 11 km. \", 'score_hotel': '9,3', 'adresse_hotel': 'Rue Sainte Agnès, 30900 Nîmes, France', 'animals_hotel': 'Les fêtes/événements ne sont pas autorisés.', 'lat': 43.83503623, 'lon': 4.34953472, 'city': 'Nimes', 'popularity': 0, 'upsort_bh': 0, 'class': 0, 'distance_from_search': 0, 'bayesian_review_score': 1, 'name_hotel': 'Patrick&Pierre Bed and Breakfast Nîmes', 'warm': 0, 'landscape': 1, 'less_cloud': 1, 'main.temp': 13.769749999999998, 'main.feels_like': 12.79275, 'main.temp_max': 13.7725, 'main.humidity': 64.975, 'clouds.all': 44.925, 'wind.speed': 4.3115000000000006, 'visibility': 10000.0, 'lg_day': 10.259444444444446, 'rain.3h': 9.08, 'coord.lat': 43.8374, 'coord.lon': 4.3601, 'mainweather.main': 'Rain', 'mainweather.description': 'scattered clouds'})\n",
      "2023-01-06 18:09:24,206 INFO sqlalchemy.engine.Engine COMMIT\n"
     ]
    },
    {
     "data": {
      "text/plain": [
       "871"
      ]
     },
     "execution_count": 186,
     "metadata": {},
     "output_type": "execute_result"
    }
   ],
   "source": [
    "working.to_sql('complete_dataset', engine, if_exists=\"replace\", index=False)"
   ]
  },
  {
   "attachments": {},
   "cell_type": "markdown",
   "metadata": {},
   "source": [
    "### 6.3.3 SQL request to test import success"
   ]
  },
  {
   "cell_type": "code",
   "execution_count": 187,
   "metadata": {},
   "outputs": [
    {
     "name": "stdout",
     "output_type": "stream",
     "text": [
      "2023-01-06 18:09:37,596 INFO sqlalchemy.engine.Engine select relname from pg_class c join pg_namespace n on n.oid=c.relnamespace where pg_catalog.pg_table_is_visible(c.oid) and relname=%(name)s\n",
      "2023-01-06 18:09:37,598 INFO sqlalchemy.engine.Engine [cached since 14.76s ago] {'name': 'SELECT * FROM complete_dataset'}\n",
      "2023-01-06 18:09:37,712 INFO sqlalchemy.engine.Engine SELECT * FROM complete_dataset\n",
      "2023-01-06 18:09:37,713 INFO sqlalchemy.engine.Engine [generated in 0.00150s] {}\n"
     ]
    },
    {
     "data": {
      "text/html": [
       "<div>\n",
       "<style scoped>\n",
       "    .dataframe tbody tr th:only-of-type {\n",
       "        vertical-align: middle;\n",
       "    }\n",
       "\n",
       "    .dataframe tbody tr th {\n",
       "        vertical-align: top;\n",
       "    }\n",
       "\n",
       "    .dataframe thead th {\n",
       "        text-align: right;\n",
       "    }\n",
       "</style>\n",
       "<table border=\"1\" class=\"dataframe\">\n",
       "  <thead>\n",
       "    <tr style=\"text-align: right;\">\n",
       "      <th></th>\n",
       "      <th>url_hotel</th>\n",
       "      <th>description_hotel</th>\n",
       "      <th>score_hotel</th>\n",
       "      <th>adresse_hotel</th>\n",
       "      <th>animals_hotel</th>\n",
       "      <th>lat</th>\n",
       "      <th>lon</th>\n",
       "      <th>city</th>\n",
       "      <th>popularity</th>\n",
       "      <th>upsort_bh</th>\n",
       "      <th>...</th>\n",
       "      <th>main.humidity</th>\n",
       "      <th>clouds.all</th>\n",
       "      <th>wind.speed</th>\n",
       "      <th>visibility</th>\n",
       "      <th>lg_day</th>\n",
       "      <th>rain.3h</th>\n",
       "      <th>coord.lat</th>\n",
       "      <th>coord.lon</th>\n",
       "      <th>mainweather.main</th>\n",
       "      <th>mainweather.description</th>\n",
       "    </tr>\n",
       "  </thead>\n",
       "  <tbody>\n",
       "    <tr>\n",
       "      <th>0</th>\n",
       "      <td>https://www.booking.com/hotel/fr/une-terrasse-...</td>\n",
       "      <td>Vous pouvez bénéficier d'une réduction Genius ...</td>\n",
       "      <td>8,5</td>\n",
       "      <td>9 Avenue Maurice Jermini, 13260 Cassis, France</td>\n",
       "      <td>Cet hébergement est non-fumeurs.</td>\n",
       "      <td>43.214072</td>\n",
       "      <td>5.530622</td>\n",
       "      <td>Cassis</td>\n",
       "      <td>1</td>\n",
       "      <td>1</td>\n",
       "      <td>...</td>\n",
       "      <td>58.25</td>\n",
       "      <td>39.25</td>\n",
       "      <td>6.54925</td>\n",
       "      <td>9875.075</td>\n",
       "      <td>10.299444</td>\n",
       "      <td>9.81</td>\n",
       "      <td>43.214</td>\n",
       "      <td>5.5396</td>\n",
       "      <td>Rain</td>\n",
       "      <td>scattered clouds</td>\n",
       "    </tr>\n",
       "    <tr>\n",
       "      <th>1</th>\n",
       "      <td>https://www.booking.com/hotel/fr/antinea-cassi...</td>\n",
       "      <td>Vous pouvez bénéficier d'une réduction Genius ...</td>\n",
       "      <td>7,0</td>\n",
       "      <td>2 Avenue Auguste Favier, 13260 Cassis, France</td>\n",
       "      <td>Cet hébergement est non-fumeurs.</td>\n",
       "      <td>43.220240</td>\n",
       "      <td>5.542469</td>\n",
       "      <td>Cassis</td>\n",
       "      <td>1</td>\n",
       "      <td>1</td>\n",
       "      <td>...</td>\n",
       "      <td>58.25</td>\n",
       "      <td>39.25</td>\n",
       "      <td>6.54925</td>\n",
       "      <td>9875.075</td>\n",
       "      <td>10.299444</td>\n",
       "      <td>9.81</td>\n",
       "      <td>43.214</td>\n",
       "      <td>5.5396</td>\n",
       "      <td>Rain</td>\n",
       "      <td>scattered clouds</td>\n",
       "    </tr>\n",
       "    <tr>\n",
       "      <th>2</th>\n",
       "      <td>https://www.booking.com/hotel/fr/le-reve-bleu-...</td>\n",
       "      <td>Vous pouvez bénéficier d'une réduction Genius ...</td>\n",
       "      <td>8,6</td>\n",
       "      <td>28 Avenue Jules Ferry, 13260 Cassis, France</td>\n",
       "      <td>Cet hébergement est non-fumeurs.</td>\n",
       "      <td>43.220624</td>\n",
       "      <td>5.540767</td>\n",
       "      <td>Cassis</td>\n",
       "      <td>1</td>\n",
       "      <td>1</td>\n",
       "      <td>...</td>\n",
       "      <td>58.25</td>\n",
       "      <td>39.25</td>\n",
       "      <td>6.54925</td>\n",
       "      <td>9875.075</td>\n",
       "      <td>10.299444</td>\n",
       "      <td>9.81</td>\n",
       "      <td>43.214</td>\n",
       "      <td>5.5396</td>\n",
       "      <td>Rain</td>\n",
       "      <td>scattered clouds</td>\n",
       "    </tr>\n",
       "    <tr>\n",
       "      <th>3</th>\n",
       "      <td>https://www.booking.com/hotel/fr/le-chemin-de-...</td>\n",
       "      <td>Situé à Cassis, l'établissement Le chemin de b...</td>\n",
       "      <td>7,4</td>\n",
       "      <td>3 Route Pierre Imbert, 13260 Cassis, France</td>\n",
       "      <td>Cet hébergement est non-fumeurs.</td>\n",
       "      <td>43.216410</td>\n",
       "      <td>5.550700</td>\n",
       "      <td>Cassis</td>\n",
       "      <td>1</td>\n",
       "      <td>0</td>\n",
       "      <td>...</td>\n",
       "      <td>58.25</td>\n",
       "      <td>39.25</td>\n",
       "      <td>6.54925</td>\n",
       "      <td>9875.075</td>\n",
       "      <td>10.299444</td>\n",
       "      <td>9.81</td>\n",
       "      <td>43.214</td>\n",
       "      <td>5.5396</td>\n",
       "      <td>Rain</td>\n",
       "      <td>scattered clouds</td>\n",
       "    </tr>\n",
       "    <tr>\n",
       "      <th>4</th>\n",
       "      <td>https://www.booking.com/hotel/fr/home-cassis-m...</td>\n",
       "      <td>Offrant une vue sur le jardin, le Home Cassis ...</td>\n",
       "      <td>7,5</td>\n",
       "      <td>23 Avenue de la Marne, 13260 Cassis, France</td>\n",
       "      <td>Cet hébergement est non-fumeurs.</td>\n",
       "      <td>43.222080</td>\n",
       "      <td>5.537927</td>\n",
       "      <td>Cassis</td>\n",
       "      <td>1</td>\n",
       "      <td>1</td>\n",
       "      <td>...</td>\n",
       "      <td>58.25</td>\n",
       "      <td>39.25</td>\n",
       "      <td>6.54925</td>\n",
       "      <td>9875.075</td>\n",
       "      <td>10.299444</td>\n",
       "      <td>9.81</td>\n",
       "      <td>43.214</td>\n",
       "      <td>5.5396</td>\n",
       "      <td>Rain</td>\n",
       "      <td>scattered clouds</td>\n",
       "    </tr>\n",
       "  </tbody>\n",
       "</table>\n",
       "<p>5 rows × 30 columns</p>\n",
       "</div>"
      ],
      "text/plain": [
       "                                           url_hotel  \\\n",
       "0  https://www.booking.com/hotel/fr/une-terrasse-...   \n",
       "1  https://www.booking.com/hotel/fr/antinea-cassi...   \n",
       "2  https://www.booking.com/hotel/fr/le-reve-bleu-...   \n",
       "3  https://www.booking.com/hotel/fr/le-chemin-de-...   \n",
       "4  https://www.booking.com/hotel/fr/home-cassis-m...   \n",
       "\n",
       "                                   description_hotel score_hotel  \\\n",
       "0  Vous pouvez bénéficier d'une réduction Genius ...         8,5   \n",
       "1  Vous pouvez bénéficier d'une réduction Genius ...         7,0   \n",
       "2  Vous pouvez bénéficier d'une réduction Genius ...         8,6   \n",
       "3  Situé à Cassis, l'établissement Le chemin de b...         7,4   \n",
       "4  Offrant une vue sur le jardin, le Home Cassis ...         7,5   \n",
       "\n",
       "                                    adresse_hotel  \\\n",
       "0  9 Avenue Maurice Jermini, 13260 Cassis, France   \n",
       "1   2 Avenue Auguste Favier, 13260 Cassis, France   \n",
       "2     28 Avenue Jules Ferry, 13260 Cassis, France   \n",
       "3     3 Route Pierre Imbert, 13260 Cassis, France   \n",
       "4     23 Avenue de la Marne, 13260 Cassis, France   \n",
       "\n",
       "                      animals_hotel        lat       lon    city  popularity  \\\n",
       "0  Cet hébergement est non-fumeurs.  43.214072  5.530622  Cassis           1   \n",
       "1  Cet hébergement est non-fumeurs.  43.220240  5.542469  Cassis           1   \n",
       "2  Cet hébergement est non-fumeurs.  43.220624  5.540767  Cassis           1   \n",
       "3  Cet hébergement est non-fumeurs.  43.216410  5.550700  Cassis           1   \n",
       "4  Cet hébergement est non-fumeurs.  43.222080  5.537927  Cassis           1   \n",
       "\n",
       "   upsort_bh  ...  main.humidity  clouds.all  wind.speed visibility  \\\n",
       "0          1  ...          58.25       39.25     6.54925   9875.075   \n",
       "1          1  ...          58.25       39.25     6.54925   9875.075   \n",
       "2          1  ...          58.25       39.25     6.54925   9875.075   \n",
       "3          0  ...          58.25       39.25     6.54925   9875.075   \n",
       "4          1  ...          58.25       39.25     6.54925   9875.075   \n",
       "\n",
       "      lg_day  rain.3h  coord.lat  coord.lon  mainweather.main  \\\n",
       "0  10.299444     9.81     43.214     5.5396              Rain   \n",
       "1  10.299444     9.81     43.214     5.5396              Rain   \n",
       "2  10.299444     9.81     43.214     5.5396              Rain   \n",
       "3  10.299444     9.81     43.214     5.5396              Rain   \n",
       "4  10.299444     9.81     43.214     5.5396              Rain   \n",
       "\n",
       "   mainweather.description  \n",
       "0         scattered clouds  \n",
       "1         scattered clouds  \n",
       "2         scattered clouds  \n",
       "3         scattered clouds  \n",
       "4         scattered clouds  \n",
       "\n",
       "[5 rows x 30 columns]"
      ]
     },
     "execution_count": 187,
     "metadata": {},
     "output_type": "execute_result"
    }
   ],
   "source": [
    "stmt = text(\"SELECT * FROM complete_dataset\")\n",
    "\n",
    "# Create a dataFrame using SQL\n",
    "quer = pd.read_sql(\n",
    "        stmt,\n",
    "        engine\n",
    "    )\n",
    "\n",
    "quer.head()"
   ]
  },
  {
   "cell_type": "markdown",
   "metadata": {},
   "source": [
    "# 7. Interactive map of hotel"
   ]
  },
  {
   "cell_type": "code",
   "execution_count": 116,
   "metadata": {},
   "outputs": [
    {
     "name": "stdout",
     "output_type": "stream",
     "text": [
      "(1871, 31)\n"
     ]
    },
    {
     "data": {
      "text/html": [
       "<div>\n",
       "<style scoped>\n",
       "    .dataframe tbody tr th:only-of-type {\n",
       "        vertical-align: middle;\n",
       "    }\n",
       "\n",
       "    .dataframe tbody tr th {\n",
       "        vertical-align: top;\n",
       "    }\n",
       "\n",
       "    .dataframe thead th {\n",
       "        text-align: right;\n",
       "    }\n",
       "</style>\n",
       "<table border=\"1\" class=\"dataframe\">\n",
       "  <thead>\n",
       "    <tr style=\"text-align: right;\">\n",
       "      <th></th>\n",
       "      <th>Unnamed: 0</th>\n",
       "      <th>url_hotel</th>\n",
       "      <th>description_hotel</th>\n",
       "      <th>score_hotel</th>\n",
       "      <th>adresse_hotel</th>\n",
       "      <th>animals_hotel</th>\n",
       "      <th>lat</th>\n",
       "      <th>lon</th>\n",
       "      <th>city</th>\n",
       "      <th>popularity</th>\n",
       "      <th>...</th>\n",
       "      <th>main.humidity</th>\n",
       "      <th>clouds.all</th>\n",
       "      <th>wind.speed</th>\n",
       "      <th>visibility</th>\n",
       "      <th>lg_day</th>\n",
       "      <th>rain.3h</th>\n",
       "      <th>coord.lat</th>\n",
       "      <th>coord.lon</th>\n",
       "      <th>mainweather.main</th>\n",
       "      <th>mainweather.description</th>\n",
       "    </tr>\n",
       "  </thead>\n",
       "  <tbody>\n",
       "    <tr>\n",
       "      <th>0</th>\n",
       "      <td>0</td>\n",
       "      <td>https://www.booking.com/hotel/fr/une-terrasse-...</td>\n",
       "      <td>Vous pouvez bénéficier d'une réduction Genius ...</td>\n",
       "      <td>8,5</td>\n",
       "      <td>9 Avenue Maurice Jermini, 13260 Cassis, France</td>\n",
       "      <td>Cet hébergement est non-fumeurs.</td>\n",
       "      <td>43.214072</td>\n",
       "      <td>5.530622</td>\n",
       "      <td>Cassis</td>\n",
       "      <td>1</td>\n",
       "      <td>...</td>\n",
       "      <td>58.25</td>\n",
       "      <td>39.25</td>\n",
       "      <td>6.54925</td>\n",
       "      <td>9875.075</td>\n",
       "      <td>10.299444</td>\n",
       "      <td>9.81</td>\n",
       "      <td>43.214</td>\n",
       "      <td>5.5396</td>\n",
       "      <td>Rain</td>\n",
       "      <td>scattered clouds</td>\n",
       "    </tr>\n",
       "    <tr>\n",
       "      <th>1</th>\n",
       "      <td>1</td>\n",
       "      <td>https://www.booking.com/hotel/fr/antinea-cassi...</td>\n",
       "      <td>Vous pouvez bénéficier d'une réduction Genius ...</td>\n",
       "      <td>7,0</td>\n",
       "      <td>2 Avenue Auguste Favier, 13260 Cassis, France</td>\n",
       "      <td>Cet hébergement est non-fumeurs.</td>\n",
       "      <td>43.220240</td>\n",
       "      <td>5.542469</td>\n",
       "      <td>Cassis</td>\n",
       "      <td>1</td>\n",
       "      <td>...</td>\n",
       "      <td>58.25</td>\n",
       "      <td>39.25</td>\n",
       "      <td>6.54925</td>\n",
       "      <td>9875.075</td>\n",
       "      <td>10.299444</td>\n",
       "      <td>9.81</td>\n",
       "      <td>43.214</td>\n",
       "      <td>5.5396</td>\n",
       "      <td>Rain</td>\n",
       "      <td>scattered clouds</td>\n",
       "    </tr>\n",
       "  </tbody>\n",
       "</table>\n",
       "<p>2 rows × 31 columns</p>\n",
       "</div>"
      ],
      "text/plain": [
       "   Unnamed: 0                                          url_hotel  \\\n",
       "0           0  https://www.booking.com/hotel/fr/une-terrasse-...   \n",
       "1           1  https://www.booking.com/hotel/fr/antinea-cassi...   \n",
       "\n",
       "                                   description_hotel score_hotel  \\\n",
       "0  Vous pouvez bénéficier d'une réduction Genius ...         8,5   \n",
       "1  Vous pouvez bénéficier d'une réduction Genius ...         7,0   \n",
       "\n",
       "                                    adresse_hotel  \\\n",
       "0  9 Avenue Maurice Jermini, 13260 Cassis, France   \n",
       "1   2 Avenue Auguste Favier, 13260 Cassis, France   \n",
       "\n",
       "                      animals_hotel        lat       lon    city  popularity  \\\n",
       "0  Cet hébergement est non-fumeurs.  43.214072  5.530622  Cassis           1   \n",
       "1  Cet hébergement est non-fumeurs.  43.220240  5.542469  Cassis           1   \n",
       "\n",
       "   ...  main.humidity  clouds.all  wind.speed  visibility     lg_day  rain.3h  \\\n",
       "0  ...          58.25       39.25     6.54925    9875.075  10.299444     9.81   \n",
       "1  ...          58.25       39.25     6.54925    9875.075  10.299444     9.81   \n",
       "\n",
       "   coord.lat  coord.lon  mainweather.main  mainweather.description  \n",
       "0     43.214     5.5396              Rain         scattered clouds  \n",
       "1     43.214     5.5396              Rain         scattered clouds  \n",
       "\n",
       "[2 rows x 31 columns]"
      ]
     },
     "metadata": {},
     "output_type": "display_data"
    }
   ],
   "source": [
    "working = pd.read_csv(\"src/complete_dataset_S3.csv\")\n",
    "print(working.shape)\n",
    "display(working.head(2))"
   ]
  },
  {
   "cell_type": "code",
   "execution_count": 117,
   "metadata": {},
   "outputs": [
    {
     "data": {
      "text/plain": [
       "Index(['url_hotel', 'description_hotel', 'score_hotel', 'adresse_hotel',\n",
       "       'animals_hotel', 'lat', 'lon', 'city', 'popularity', 'upsort_bh',\n",
       "       'class', 'distance_from_search', 'bayesian_review_score', 'name_hotel',\n",
       "       'warm', 'landscape', 'less_cloud', 'main.temp', 'main.feels_like',\n",
       "       'main.temp_max', 'main.humidity', 'clouds.all', 'wind.speed',\n",
       "       'visibility', 'lg_day', 'rain.3h', 'coord.lat', 'coord.lon',\n",
       "       'mainweather.main', 'mainweather.description'],\n",
       "      dtype='object')"
      ]
     },
     "execution_count": 117,
     "metadata": {},
     "output_type": "execute_result"
    }
   ],
   "source": [
    "working = working.drop(columns='Unnamed: 0', axis=1)\n",
    "working.columns"
   ]
  },
  {
   "cell_type": "markdown",
   "metadata": {},
   "source": [
    "## 7.1 plot preparation"
   ]
  },
  {
   "cell_type": "markdown",
   "metadata": {},
   "source": [
    "- function"
   ]
  },
  {
   "cell_type": "code",
   "execution_count": 118,
   "metadata": {},
   "outputs": [],
   "source": [
    "def plotResults(dataset, weather=\"warm\", order_hotel=\"distance_from_search\"):\n",
    "    list_labels = ['popularity', 'upsort_bh', 'class', 'distance_from_search', 'bayesian_review_score']\n",
    "    list_weather = ['warm', 'landscape', 'less_cloud', 'snow', 'sunny', 'no_rain_low_wind']\n",
    "    \n",
    "    # test of order_values\n",
    "    if not order_hotel in list_labels:\n",
    "        raise TypeError(\"Only those values are allowed: 'popularity', 'upsort_bh', 'class', 'distance_from_search', 'bayesian_review_score'\")\n",
    "    \n",
    "    # test weather\n",
    "    if not any(w in working.columns for w in list_weather):\n",
    "        raise TypeError(\"Only those values are allowed: 'warm', 'landscape', 'less_cloud', 'snow', 'sunny', 'no_rain_low_wind'\\nif you tried with correct value in lowercase letters, there is not columns in the dataframe matching with it.\")\n",
    "\n",
    "    # plot title\n",
    "    order_type={'popularity':'Booking favorites', 'upsort_bh':'avalaible full accomodation', 'class':'star', 'distance_from_search':'downtown distance', 'bayesian_review_score':'best score'}\n",
    "    weather_type={'warm':'a warm', 'landscape':'a high landscape view', 'less_cloud':'a not cloudy', 'snow':'a snowy', 'sunny':'a sunny', 'no_rain_low_wind':'a not rainy and windy'}\n",
    "    title_plot=(\"Your next vacation in France for \" + weather_type[weather] + \" weather among those hotels ordered by \" + order_type[order_hotel])\n",
    "\n",
    "    # weather characteristics\n",
    "\n",
    "    # data extraction\n",
    "    data_to_plot = dataset.loc[(dataset[weather] == 1) & (dataset[order_hotel] == 1),:]\n",
    "    \n",
    "    # figure\n",
    "    fig = px.scatter_mapbox(data_to_plot, lon = \"lon\", lat = \"lat\",\n",
    "                            color = \"city\", labels={\"city\":\"City to go\"},\n",
    "                            hover_data = ['city', 'name_hotel', 'score_hotel', 'adresse_hotel'],\n",
    "                            color_continuous_scale='Portland', height=800, width=1000, zoom=4.5)\n",
    "    fig.update_layout(mapbox_style=\"carto-positron\")\n",
    "    fig.update_layout(margin={\"r\":50,\"t\":100,\"l\":50,\"b\":10})\n",
    "    fig.update_layout(title=title_plot)\n",
    "    \n",
    "    return(fig.show())\n"
   ]
  },
  {
   "cell_type": "markdown",
   "metadata": {},
   "source": [
    "## 7.2 Plot"
   ]
  },
  {
   "cell_type": "code",
   "execution_count": 190,
   "metadata": {},
   "outputs": [
    {
     "name": "stdout",
     "output_type": "stream",
     "text": [
      "warm\n",
      "landscape\n",
      "less_cloud\n"
     ]
    }
   ],
   "source": [
    "list_weather = ['warm', 'landscape', 'less_cloud', 'snow', 'sunny', 'no_rain_low_wind']\n",
    "\n",
    "for w in list_weather:\n",
    "    if w in working.columns :\n",
    "        print(w)"
   ]
  },
  {
   "cell_type": "code",
   "execution_count": 191,
   "metadata": {},
   "outputs": [
    {
     "ename": "TypeError",
     "evalue": "Only those values are allowed: 'popularity', 'upsort_bh', 'class', 'distance_from_search', 'bayesian_review_score'",
     "output_type": "error",
     "traceback": [
      "\u001b[1;31m---------------------------------------------------------------------------\u001b[0m",
      "\u001b[1;31mTypeError\u001b[0m                                 Traceback (most recent call last)",
      "Cell \u001b[1;32mIn [191], line 1\u001b[0m\n\u001b[1;32m----> 1\u001b[0m plotResults(dataset\u001b[39m=\u001b[39;49mworking, weather\u001b[39m=\u001b[39;49m\u001b[39m\"\u001b[39;49m\u001b[39mlandscape\u001b[39;49m\u001b[39m\"\u001b[39;49m, order_hotel\u001b[39m=\u001b[39;49m\u001b[39m\"\u001b[39;49m\u001b[39mbest\u001b[39;49m\u001b[39m\"\u001b[39;49m)\n",
      "Cell \u001b[1;32mIn [163], line 7\u001b[0m, in \u001b[0;36mplotResults\u001b[1;34m(dataset, weather, order_hotel)\u001b[0m\n\u001b[0;32m      5\u001b[0m \u001b[39m# test of order_values\u001b[39;00m\n\u001b[0;32m      6\u001b[0m \u001b[39mif\u001b[39;00m \u001b[39mnot\u001b[39;00m order_hotel \u001b[39min\u001b[39;00m list_labels:\n\u001b[1;32m----> 7\u001b[0m     \u001b[39mraise\u001b[39;00m \u001b[39mTypeError\u001b[39;00m(\u001b[39m\"\u001b[39m\u001b[39mOnly those values are allowed: \u001b[39m\u001b[39m'\u001b[39m\u001b[39mpopularity\u001b[39m\u001b[39m'\u001b[39m\u001b[39m, \u001b[39m\u001b[39m'\u001b[39m\u001b[39mupsort_bh\u001b[39m\u001b[39m'\u001b[39m\u001b[39m, \u001b[39m\u001b[39m'\u001b[39m\u001b[39mclass\u001b[39m\u001b[39m'\u001b[39m\u001b[39m, \u001b[39m\u001b[39m'\u001b[39m\u001b[39mdistance_from_search\u001b[39m\u001b[39m'\u001b[39m\u001b[39m, \u001b[39m\u001b[39m'\u001b[39m\u001b[39mbayesian_review_score\u001b[39m\u001b[39m'\u001b[39m\u001b[39m\"\u001b[39m)\n\u001b[0;32m      9\u001b[0m \u001b[39m# test weather\u001b[39;00m\n\u001b[0;32m     10\u001b[0m \u001b[39mif\u001b[39;00m \u001b[39mnot\u001b[39;00m \u001b[39many\u001b[39m(w \u001b[39min\u001b[39;00m working\u001b[39m.\u001b[39mcolumns \u001b[39mfor\u001b[39;00m w \u001b[39min\u001b[39;00m list_weather):\n",
      "\u001b[1;31mTypeError\u001b[0m: Only those values are allowed: 'popularity', 'upsort_bh', 'class', 'distance_from_search', 'bayesian_review_score'"
     ]
    }
   ],
   "source": [
    "plotResults(dataset=working, weather=\"landscape\", order_hotel=\"best\")"
   ]
  },
  {
   "cell_type": "code",
   "execution_count": 119,
   "metadata": {},
   "outputs": [
    {
     "data": {
      "application/vnd.plotly.v1+json": {
       "config": {
        "plotlyServerURL": "https://plot.ly"
       },
       "data": [
        {
         "customdata": [
          [
           "Gorges du Verdon",
           "ANA LOCATION - Résidence Lou Cigaloun",
           "9,1",
           "623 Avenue Jean Moulin, 04800 Gréoux-les-Bains, France"
          ],
          [
           "Gorges du Verdon",
           "La Bastide du Calalou; BW Signature Collection",
           "8,4",
           "Le Village, 83630 Moissac-Bellevue, France"
          ],
          [
           "Gorges du Verdon",
           "Camping La Ferme de Castellane",
           "8,8",
           "Quartier la Lagne, 04120 Castellane, France"
          ],
          [
           "Gorges du Verdon",
           "Lou Paradou",
           "8,7",
           "Route de Valensole, 04800 Gréoux-les-Bains, France"
          ],
          [
           "Gorges du Verdon",
           "Villa Borghese, The Originals Relais",
           "7,5",
           "Avenue des Thermes, 04800 Gréoux-les-Bains, France"
          ],
          [
           "Gorges du Verdon",
           "Gite les Cigales",
           "9,2",
           "Chemin du Plus Haut Village, 83840 Châteauvieux, France"
          ],
          [
           "Gorges du Verdon",
           "Château et Golf De Taulane",
           "8,4",
           "Le Logis Du Pin D6085, 83840 La Martre, France"
          ],
          [
           "Gorges du Verdon",
           "Hôtel Le Colombier",
           "9,1",
           "Quartier Saint Michel, 04360 Moustiers-Sainte-Marie, France"
          ],
          [
           "Gorges du Verdon",
           "Gabrielle hôtel",
           "7,9",
           "Grande Rue, 83630 Aiguines, France"
          ],
          [
           "Gorges du Verdon",
           "Camping Calme et Nature",
           "8,8",
           "La colle Sentier du GR4 Les gorges du Verdon, 04120 Castellane, France"
          ],
          [
           "Gorges du Verdon",
           "La Clorinde",
           "9,2",
           "chemin du Jas du colombier, 04360 Moustiers-Sainte-Marie, France"
          ],
          [
           "Gorges du Verdon",
           "Terres de France - Résidence Côté Provence",
           "7,5",
           "11 Avenue des Thermes, 04800 Gréoux-les-Bains, France"
          ],
          [
           "Gorges du Verdon",
           "Residence de Plein Air Panoramique à la Porte des Gorges du Verdon",
           "8,6",
           "D952 route des Gorges du Verdon, 04120 Castellane, France"
          ],
          [
           "Gorges du Verdon",
           "Le gite du grand cèdre - proche des gorges du Verdon",
           "9,3",
           "45 chemin de Roumpe Cuou, 04500 Allemagne-en-Provence, France"
          ],
          [
           "Gorges du Verdon",
           "Ferme de Bourras",
           "8,8",
           "Camping Bourras, 04120 La Palud-sur-Verdon, France"
          ],
          [
           "Gorges du Verdon",
           "Villa Thermae",
           "8,6",
           "1 Rue des eaux chaudes, 04800 Gréoux-les-Bains, France"
          ],
          [
           "Gorges du Verdon",
           "Studio du Verdon",
           "7,0",
           "16 rue de la Plateforme, 04800 Gréoux-les-Bains, France"
          ],
          [
           "Gorges du Verdon",
           "Locations Thermaë - Villa Thermaë",
           "8,7",
           "Rue des Eaux Chaudes - Face aux thermes, 04800 Gréoux-les-Bains, France"
          ],
          [
           "Gorges du Verdon",
           "La Maison du Courtil, Figue-Miel",
           "8,8",
           "Le Courtil, Figue-Miel Rue du Courtil, 04360 Moustiers-Sainte-Marie, France"
          ],
          [
           "Gorges du Verdon",
           "La Maison du Courtil, Pistache-Chocolat",
           "9,4",
           "Le Courtil, appartement Pistache-Chocolat Rue du Courtil, 04360 Moustiers-Sainte-Marie, France"
          ],
          [
           "Gorges du Verdon",
           "La Maison du Courtil, Citron-Caramel",
           "9,3",
           "Le Courtil, appartement Citron-Caramel Rue du Courtil, 04360 Moustiers-Sainte-Marie, France"
          ],
          [
           "Gorges du Verdon",
           "Studio à 100 mètres des Thermes",
           "8,6",
           "Les Cèdres 1 Avenue des Thermes, 04800 Gréoux-les-Bains, France"
          ],
          [
           "Gorges du Verdon",
           "Appart T3 au coeur de Gréoux-les-Bains",
           "7,9",
           "16 Rue de la Plateforme, 04800 Gréoux-les-Bains, France"
          ],
          [
           "Gorges du Verdon",
           "Résidence Les Écureuils",
           "9,0",
           "Route de Saint-Pierre, 04800 Gréoux-les-Bains, France"
          ],
          [
           "Gorges du Verdon",
           "Domaine de Majastre",
           "8,1",
           "Route D957, 83630 Bauduen, France"
          ],
          [
           "Gorges du Verdon",
           "Le gite du grand cèdre - proche des gorges du Verdon",
           "9,3",
           "45 chemin de Roumpe Cuou, 04500 Allemagne-en-Provence, France"
          ],
          [
           "Gorges du Verdon",
           "Villa Thermae",
           "8,6",
           "1 Rue des eaux chaudes, 04800 Gréoux-les-Bains, France"
          ],
          [
           "Gorges du Verdon",
           "Studio du Verdon",
           "7,0",
           "16 rue de la Plateforme, 04800 Gréoux-les-Bains, France"
          ],
          [
           "Gorges du Verdon",
           "Locations Thermaë - Villa Thermaë",
           "8,7",
           "Rue des Eaux Chaudes - Face aux thermes, 04800 Gréoux-les-Bains, France"
          ],
          [
           "Gorges du Verdon",
           "La Maison du Courtil, Figue-Miel",
           "8,8",
           "Le Courtil, Figue-Miel Rue du Courtil, 04360 Moustiers-Sainte-Marie, France"
          ],
          [
           "Gorges du Verdon",
           "La Maison du Courtil, Pistache-Chocolat",
           "9,4",
           "Le Courtil, appartement Pistache-Chocolat Rue du Courtil, 04360 Moustiers-Sainte-Marie, France"
          ],
          [
           "Gorges du Verdon",
           "La Maison du Courtil, Citron-Caramel",
           "9,3",
           "Le Courtil, appartement Citron-Caramel Rue du Courtil, 04360 Moustiers-Sainte-Marie, France"
          ],
          [
           "Gorges du Verdon",
           "Studio à 100 mètres des Thermes",
           "8,6",
           "Les Cèdres 1 Avenue des Thermes, 04800 Gréoux-les-Bains, France"
          ],
          [
           "Gorges du Verdon",
           "Appart T3 au coeur de Gréoux-les-Bains",
           "7,9",
           "16 Rue de la Plateforme, 04800 Gréoux-les-Bains, France"
          ],
          [
           "Gorges du Verdon",
           "Résidence Les Écureuils",
           "9,0",
           "Route de Saint-Pierre, 04800 Gréoux-les-Bains, France"
          ],
          [
           "Gorges du Verdon",
           "ANA LOCATION - Résidence Lou Cigaloun",
           "9,1",
           "623 Avenue Jean Moulin, 04800 Gréoux-les-Bains, France"
          ],
          [
           "Gorges du Verdon",
           "La Bastide du Calalou; BW Signature Collection",
           "8,4",
           "Le Village, 83630 Moissac-Bellevue, France"
          ],
          [
           "Gorges du Verdon",
           "Villa Borghese, The Originals Relais",
           "7,5",
           "Avenue des Thermes, 04800 Gréoux-les-Bains, France"
          ],
          [
           "Gorges du Verdon",
           "Château et Golf De Taulane",
           "8,4",
           "Le Logis Du Pin D6085, 83840 La Martre, France"
          ],
          [
           "Gorges du Verdon",
           "La Maison du Courtil, Pistache-Chocolat",
           "9,4",
           "Le Courtil, appartement Pistache-Chocolat Rue du Courtil, 04360 Moustiers-Sainte-Marie, France"
          ],
          [
           "Gorges du Verdon",
           "ANA LOCATION - Résidence Lou Cigaloun",
           "9,1",
           "623 Avenue Jean Moulin, 04800 Gréoux-les-Bains, France"
          ],
          [
           "Gorges du Verdon",
           "La Bastide du Calalou; BW Signature Collection",
           "8,4",
           "Le Village, 83630 Moissac-Bellevue, France"
          ],
          [
           "Gorges du Verdon",
           "Camping La Ferme de Castellane",
           "8,8",
           "Quartier la Lagne, 04120 Castellane, France"
          ],
          [
           "Gorges du Verdon",
           "Villa Borghese, The Originals Relais",
           "7,5",
           "Avenue des Thermes, 04800 Gréoux-les-Bains, France"
          ],
          [
           "Gorges du Verdon",
           "Gite les Cigales",
           "9,2",
           "Chemin du Plus Haut Village, 83840 Châteauvieux, France"
          ],
          [
           "Gorges du Verdon",
           "Château et Golf De Taulane",
           "8,4",
           "Le Logis Du Pin D6085, 83840 La Martre, France"
          ],
          [
           "Gorges du Verdon",
           "Gabrielle hôtel",
           "7,9",
           "Grande Rue, 83630 Aiguines, France"
          ],
          [
           "Gorges du Verdon",
           "Hôtel Le Colombier",
           "9,1",
           "Quartier Saint Michel, 04360 Moustiers-Sainte-Marie, France"
          ],
          [
           "Gorges du Verdon",
           "Camping Calme et Nature",
           "8,8",
           "La colle Sentier du GR4 Les gorges du Verdon, 04120 Castellane, France"
          ],
          [
           "Gorges du Verdon",
           "Terres de France - Résidence Côté Provence",
           "7,5",
           "11 Avenue des Thermes, 04800 Gréoux-les-Bains, France"
          ],
          [
           "Gorges du Verdon",
           "La Clorinde",
           "9,2",
           "chemin du Jas du colombier, 04360 Moustiers-Sainte-Marie, France"
          ],
          [
           "Gorges du Verdon",
           "Residence de Plein Air Panoramique à la Porte des Gorges du Verdon",
           "8,6",
           "D952 route des Gorges du Verdon, 04120 Castellane, France"
          ],
          [
           "Gorges du Verdon",
           "Le gite du grand cèdre - proche des gorges du Verdon",
           "9,3",
           "45 chemin de Roumpe Cuou, 04500 Allemagne-en-Provence, France"
          ],
          [
           "Gorges du Verdon",
           "Ferme de Bourras",
           "8,8",
           "Camping Bourras, 04120 La Palud-sur-Verdon, France"
          ],
          [
           "Gorges du Verdon",
           "Villa Thermae",
           "8,6",
           "1 Rue des eaux chaudes, 04800 Gréoux-les-Bains, France"
          ],
          [
           "Gorges du Verdon",
           "Studio du Verdon",
           "7,0",
           "16 rue de la Plateforme, 04800 Gréoux-les-Bains, France"
          ],
          [
           "Gorges du Verdon",
           "Locations Thermaë - Villa Thermaë",
           "8,7",
           "Rue des Eaux Chaudes - Face aux thermes, 04800 Gréoux-les-Bains, France"
          ],
          [
           "Gorges du Verdon",
           "La Maison du Courtil, Figue-Miel",
           "8,8",
           "Le Courtil, Figue-Miel Rue du Courtil, 04360 Moustiers-Sainte-Marie, France"
          ],
          [
           "Gorges du Verdon",
           "La Maison du Courtil, Pistache-Chocolat",
           "9,4",
           "Le Courtil, appartement Pistache-Chocolat Rue du Courtil, 04360 Moustiers-Sainte-Marie, France"
          ],
          [
           "Gorges du Verdon",
           "La Maison du Courtil, Citron-Caramel",
           "9,3",
           "Le Courtil, appartement Citron-Caramel Rue du Courtil, 04360 Moustiers-Sainte-Marie, France"
          ],
          [
           "Gorges du Verdon",
           "Studio à 100 mètres des Thermes",
           "8,6",
           "Les Cèdres 1 Avenue des Thermes, 04800 Gréoux-les-Bains, France"
          ],
          [
           "Gorges du Verdon",
           "Appart T3 au coeur de Gréoux-les-Bains",
           "7,9",
           "16 Rue de la Plateforme, 04800 Gréoux-les-Bains, France"
          ],
          [
           "Gorges du Verdon",
           "Résidence Les Écureuils",
           "9,0",
           "Route de Saint-Pierre, 04800 Gréoux-les-Bains, France"
          ],
          [
           "Gorges du Verdon",
           "Domaine de Majastre",
           "8,1",
           "Route D957, 83630 Bauduen, France"
          ],
          [
           "Gorges du Verdon",
           "ANA LOCATION - Résidence Lou Cigaloun",
           "9,1",
           "623 Avenue Jean Moulin, 04800 Gréoux-les-Bains, France"
          ],
          [
           "Gorges du Verdon",
           "La Bastide du Calalou; BW Signature Collection",
           "8,4",
           "Le Village, 83630 Moissac-Bellevue, France"
          ],
          [
           "Gorges du Verdon",
           "Camping La Ferme de Castellane",
           "8,8",
           "Quartier la Lagne, 04120 Castellane, France"
          ],
          [
           "Gorges du Verdon",
           "Lou Paradou",
           "8,7",
           "Route de Valensole, 04800 Gréoux-les-Bains, France"
          ],
          [
           "Gorges du Verdon",
           "Villa Borghese, The Originals Relais",
           "7,5",
           "Avenue des Thermes, 04800 Gréoux-les-Bains, France"
          ],
          [
           "Gorges du Verdon",
           "Gite les Cigales",
           "9,2",
           "Chemin du Plus Haut Village, 83840 Châteauvieux, France"
          ],
          [
           "Gorges du Verdon",
           "Château et Golf De Taulane",
           "8,4",
           "Le Logis Du Pin D6085, 83840 La Martre, France"
          ],
          [
           "Gorges du Verdon",
           "Gabrielle hôtel",
           "7,9",
           "Grande Rue, 83630 Aiguines, France"
          ],
          [
           "Gorges du Verdon",
           "Hôtel Le Colombier",
           "9,1",
           "Quartier Saint Michel, 04360 Moustiers-Sainte-Marie, France"
          ],
          [
           "Gorges du Verdon",
           "Camping Calme et Nature",
           "8,8",
           "La colle Sentier du GR4 Les gorges du Verdon, 04120 Castellane, France"
          ],
          [
           "Gorges du Verdon",
           "La Clorinde",
           "9,2",
           "chemin du Jas du colombier, 04360 Moustiers-Sainte-Marie, France"
          ],
          [
           "Gorges du Verdon",
           "Terres de France - Résidence Côté Provence",
           "7,5",
           "11 Avenue des Thermes, 04800 Gréoux-les-Bains, France"
          ],
          [
           "Gorges du Verdon",
           "Residence de Plein Air Panoramique à la Porte des Gorges du Verdon",
           "8,6",
           "D952 route des Gorges du Verdon, 04120 Castellane, France"
          ],
          [
           "Gorges du Verdon",
           "Le gite du grand cèdre - proche des gorges du Verdon",
           "9,3",
           "45 chemin de Roumpe Cuou, 04500 Allemagne-en-Provence, France"
          ],
          [
           "Gorges du Verdon",
           "Ferme de Bourras",
           "8,8",
           "Camping Bourras, 04120 La Palud-sur-Verdon, France"
          ],
          [
           "Gorges du Verdon",
           "Villa Thermae",
           "8,6",
           "1 Rue des eaux chaudes, 04800 Gréoux-les-Bains, France"
          ],
          [
           "Gorges du Verdon",
           "Studio du Verdon",
           "7,0",
           "16 rue de la Plateforme, 04800 Gréoux-les-Bains, France"
          ],
          [
           "Gorges du Verdon",
           "Locations Thermaë - Villa Thermaë",
           "8,7",
           "Rue des Eaux Chaudes - Face aux thermes, 04800 Gréoux-les-Bains, France"
          ],
          [
           "Gorges du Verdon",
           "La Maison du Courtil, Figue-Miel",
           "8,8",
           "Le Courtil, Figue-Miel Rue du Courtil, 04360 Moustiers-Sainte-Marie, France"
          ],
          [
           "Gorges du Verdon",
           "La Maison du Courtil, Pistache-Chocolat",
           "9,4",
           "Le Courtil, appartement Pistache-Chocolat Rue du Courtil, 04360 Moustiers-Sainte-Marie, France"
          ],
          [
           "Gorges du Verdon",
           "La Maison du Courtil, Citron-Caramel",
           "9,3",
           "Le Courtil, appartement Citron-Caramel Rue du Courtil, 04360 Moustiers-Sainte-Marie, France"
          ],
          [
           "Gorges du Verdon",
           "Studio à 100 mètres des Thermes",
           "8,6",
           "Les Cèdres 1 Avenue des Thermes, 04800 Gréoux-les-Bains, France"
          ],
          [
           "Gorges du Verdon",
           "Appart T3 au coeur de Gréoux-les-Bains",
           "7,9",
           "16 Rue de la Plateforme, 04800 Gréoux-les-Bains, France"
          ],
          [
           "Gorges du Verdon",
           "Résidence Les Écureuils",
           "9,0",
           "Route de Saint-Pierre, 04800 Gréoux-les-Bains, France"
          ],
          [
           "Gorges du Verdon",
           "Domaine de Majastre",
           "8,1",
           "Route D957, 83630 Bauduen, France"
          ]
         ],
         "hovertemplate": "City to go=%{customdata[0]}<br>lat=%{lat}<br>lon=%{lon}<br>name_hotel=%{customdata[1]}<br>score_hotel=%{customdata[2]}<br>adresse_hotel=%{customdata[3]}<extra></extra>",
         "lat": [
          43.7562956,
          43.65436638,
          43.83862066,
          43.760622,
          43.75813877,
          43.77708,
          43.77393376,
          43.8398124,
          43.77633074,
          43.83796907,
          43.83828039,
          43.757202,
          43.83927457,
          43.77929309,
          43.78247417,
          43.75534152,
          43.75884617,
          43.756154,
          43.84756337,
          43.8475653,
          43.8475653,
          43.75763135,
          43.7588382,
          43.75309523,
          43.68153674,
          43.77929309,
          43.75534152,
          43.75884617,
          43.756154,
          43.84756337,
          43.8475653,
          43.8475653,
          43.75763135,
          43.7588382,
          43.75309523,
          43.7562956,
          43.65436638,
          43.75813877,
          43.77393376,
          43.8475653,
          43.7562956,
          43.65436638,
          43.83862066,
          43.75813877,
          43.77708,
          43.77393376,
          43.77633074,
          43.8398124,
          43.83796907,
          43.757202,
          43.83828039,
          43.83927457,
          43.77929309,
          43.78247417,
          43.75534152,
          43.75884617,
          43.756154,
          43.84756337,
          43.8475653,
          43.8475653,
          43.75763135,
          43.7588382,
          43.75309523,
          43.68153674,
          43.7562956,
          43.65436638,
          43.83862066,
          43.760622,
          43.75813877,
          43.77708,
          43.77393376,
          43.77633074,
          43.8398124,
          43.83796907,
          43.83828039,
          43.757202,
          43.83927457,
          43.77929309,
          43.78247417,
          43.75534152,
          43.75884617,
          43.756154,
          43.84756337,
          43.8475653,
          43.8475653,
          43.75763135,
          43.7588382,
          43.75309523,
          43.68153674
         ],
         "legendgroup": "Gorges du Verdon",
         "lon": [
          5.8805006,
          6.16950452,
          6.54142499,
          5.888974,
          5.89472026,
          6.578292,
          6.61947986,
          6.22183442,
          6.2425231,
          6.49042815,
          6.22067034,
          5.89661,
          6.49366021,
          6.00733668,
          6.35027342,
          5.89141412,
          5.88448403,
          5.890695,
          6.22126416,
          6.22126952,
          6.22128025,
          5.88885736,
          5.8844546,
          5.88853615,
          6.22550905,
          6.00733668,
          5.89141412,
          5.88448403,
          5.890695,
          6.22126416,
          6.22126952,
          6.22128025,
          5.88885736,
          5.8844546,
          5.88853615,
          5.8805006,
          6.16950452,
          5.89472026,
          6.61947986,
          6.22126952,
          5.8805006,
          6.16950452,
          6.54142499,
          5.89472026,
          6.578292,
          6.61947986,
          6.2425231,
          6.22183442,
          6.49042815,
          5.89661,
          6.22067034,
          6.49366021,
          6.00733668,
          6.35027342,
          5.89141412,
          5.88448403,
          5.890695,
          6.22126416,
          6.22126952,
          6.22128025,
          5.88885736,
          5.8844546,
          5.88853615,
          6.22550905,
          5.8805006,
          6.16950452,
          6.54142499,
          5.888974,
          5.89472026,
          6.578292,
          6.61947986,
          6.2425231,
          6.22183442,
          6.49042815,
          6.22067034,
          5.89661,
          6.49366021,
          6.00733668,
          6.35027342,
          5.89141412,
          5.88448403,
          5.890695,
          6.22126416,
          6.22126952,
          6.22128025,
          5.88885736,
          5.8844546,
          5.88853615,
          6.22550905
         ],
         "marker": {
          "color": "#636efa"
         },
         "mode": "markers",
         "name": "Gorges du Verdon",
         "showlegend": true,
         "subplot": "mapbox",
         "type": "scattermapbox"
        },
        {
         "customdata": [
          [
           "Nimes",
           "Appartement Cosy Nîmes-Centre",
           "9,0",
           "67 Rue Pierre Semard, 30000 Nîmes, France"
          ],
          [
           "Nimes",
           "Antichambre",
           "9,9",
           "11 rue bigot, 30900 Nîmes, France"
          ],
          [
           "Nimes",
           "Margaret - Hôtel Chouleur",
           "9,2",
           "6 Rue Fresque, 30000 Nîmes, France"
          ],
          [
           "Nimes",
           "Appartement Cosy Nîmes-Centre",
           "9,0",
           "67 Rue Pierre Semard, 30000 Nîmes, France"
          ],
          [
           "Nimes",
           "Appartement Cosy Nîmes-Centre",
           "9,0",
           "67 Rue Pierre Semard, 30000 Nîmes, France"
          ],
          [
           "Nimes",
           "Appartement Cosy Nîmes-Centre",
           "9,0",
           "67 Rue Pierre Semard, 30000 Nîmes, France"
          ],
          [
           "Nimes",
           "Jardins Secrets",
           "8,9",
           "3 Rue Gaston Maruejols, 30000 Nîmes, France"
          ],
          [
           "Nimes",
           "Margaret - Hôtel Chouleur",
           "9,2",
           "6 Rue Fresque, 30000 Nîmes, France"
          ],
          [
           "Nimes",
           "Antichambre",
           "9,9",
           "11 rue bigot, 30900 Nîmes, France"
          ],
          [
           "Nimes",
           "Feel@Home Nemausus « Le 21 »",
           "9,7",
           "42 Rue de Générac, 30900 Nîmes, France"
          ],
          [
           "Nimes",
           "Atipyc Nimes",
           "9,4",
           "5 Rue de la Violette, 30000 Nîmes, France"
          ],
          [
           "Nimes",
           "Suite 609",
           "9,6",
           "69 Chemin du Sapeur, 30900 Nîmes, France"
          ],
          [
           "Nimes",
           "Mas de Boudan",
           "9,1",
           "351, Chemin Bas du Mas de Boudan, 30000 Nîmes, France"
          ],
          [
           "Nimes",
           "Jardins Secrets",
           "8,9",
           "3 Rue Gaston Maruejols, 30000 Nîmes, France"
          ],
          [
           "Nimes",
           "Margaret - Hôtel Chouleur",
           "9,2",
           "6 Rue Fresque, 30000 Nîmes, France"
          ],
          [
           "Nimes",
           "Antichambre",
           "9,9",
           "11 rue bigot, 30900 Nîmes, France"
          ],
          [
           "Nimes",
           "Feel@Home Nemausus « Le 21 »",
           "9,7",
           "42 Rue de Générac, 30900 Nîmes, France"
          ],
          [
           "Nimes",
           "Atipyc Nimes",
           "9,4",
           "5 Rue de la Violette, 30000 Nîmes, France"
          ],
          [
           "Nimes",
           "Suite 609",
           "9,6",
           "69 Chemin du Sapeur, 30900 Nîmes, France"
          ],
          [
           "Nimes",
           "Mas de Boudan",
           "9,1",
           "351, Chemin Bas du Mas de Boudan, 30000 Nîmes, France"
          ],
          [
           "Nimes",
           "Grand confort au cœur de Nîmes",
           "9,7",
           "2ème étage 13 Rue Fresque, 30000 Nîmes, France"
          ],
          [
           "Nimes",
           "Grand confort au cœur de Nîmes",
           "9,7",
           "2ème étage 13 Rue Fresque, 30000 Nîmes, France"
          ],
          [
           "Nimes",
           "Antichambre",
           "9,9",
           "11 rue bigot, 30900 Nîmes, France"
          ],
          [
           "Nimes",
           "Grand confort au cœur de Nîmes",
           "9,7",
           "2ème étage 13 Rue Fresque, 30000 Nîmes, France"
          ],
          [
           "Nimes",
           "Suite Privée Bed and Breakfast",
           "9,5",
           "Rue Sainte-Agnés, 30900 Nîmes, France"
          ],
          [
           "Nimes",
           "Appartement avec terrasse panoramique au coeur de Nîmes",
           "9,5",
           "8 Rue Fresque, 30000 Nîmes, France"
          ],
          [
           "Nimes",
           "Feel@Home Nemausus « Le 21 »",
           "9,7",
           "42 Rue de Générac, 30900 Nîmes, France"
          ],
          [
           "Nimes",
           "Margaret - Hôtel Chouleur",
           "9,2",
           "6 Rue Fresque, 30000 Nîmes, France"
          ],
          [
           "Nimes",
           "Appartement Cosy Nîmes-Centre",
           "9,0",
           "67 Rue Pierre Semard, 30000 Nîmes, France"
          ],
          [
           "Nimes",
           "Atipyc Nimes",
           "9,4",
           "5 Rue de la Violette, 30000 Nîmes, France"
          ],
          [
           "Nimes",
           "Feel@Home Nemausus « Le 42 »",
           "9,2",
           "42 Rue de Générac, 30900 Nîmes, France"
          ],
          [
           "Nimes",
           "Jardins Secrets",
           "8,9",
           "3 Rue Gaston Maruejols, 30000 Nîmes, France"
          ],
          [
           "Nimes",
           "Rougetomette",
           "9,7",
           "10 Rue des Marronniers, 30000 Nîmes, France"
          ],
          [
           "Nimes",
           "Appart charme Arenes Nimes",
           "9,2",
           "4 Rue Massillon, 30000 Nîmes, France"
          ],
          [
           "Nimes",
           "Nîmes en Garrigues",
           "9,1",
           "72 Traverse de la Cigalette, 30000 Nîmes, France"
          ],
          [
           "Nimes",
           "Suite 609",
           "9,6",
           "69 Chemin du Sapeur, 30900 Nîmes, France"
          ],
          [
           "Nimes",
           "Dolce NÎMES CENTRE",
           "8,7",
           "24 RUE DE L ENCLOS REY, 30000 Nîmes, France"
          ],
          [
           "Nimes",
           "Mas de Boudan",
           "9,1",
           "351, Chemin Bas du Mas de Boudan, 30000 Nîmes, France"
          ],
          [
           "Nimes",
           "Villa Carémeau 1",
           "9,1",
           "528 Avenue du Docteur Fleming, 30000 Nîmes, France"
          ],
          [
           "Nimes",
           "Bed and Breakfast P&P Nîmes-Centre",
           "9,5",
           "Rue Sainte-Agnés, 30900 Nîmes, France"
          ],
          [
           "Nimes",
           "L’entrepôt secret",
           "9,3",
           "545 Chemin du Chai, 30900 Nîmes, France"
          ],
          [
           "Nimes",
           "Feel@Home Nemausus « Le 4 »",
           "9,3",
           "4 rue de l’école vieille, 30000 Nîmes, France"
          ],
          [
           "Nimes",
           "entre arènes et maison carrée",
           "9,3",
           "1er étage 2a Rue Tedenat, 30900 Nîmes, France"
          ],
          [
           "Nimes",
           "Charmant Mazet",
           "9,6",
           "500 Chemin d'Engance, 30000 Nîmes, France"
          ],
          [
           "Nimes",
           "La Maison Rousseau Chambre d'hôtes",
           "9,2",
           "6 Rue de la Parisiére- Quartier Gambetta, 30000 Nîmes, France"
          ],
          [
           "Nimes",
           "Les villas du triangle - chambres d'hôtes",
           "9,1",
           "58 Rue de l'Abrivado, 30000 Nîmes, France"
          ],
          [
           "Nimes",
           "Patrick&Pierre Bed and Breakfast Nîmes",
           "9,3",
           "Rue Sainte Agnès, 30900 Nîmes, France"
          ],
          [
           "Nimes",
           "Antichambre",
           "9,9",
           "11 rue bigot, 30900 Nîmes, France"
          ],
          [
           "Nimes",
           "Grand confort au cœur de Nîmes",
           "9,7",
           "2ème étage 13 Rue Fresque, 30000 Nîmes, France"
          ],
          [
           "Nimes",
           "Appartement avec terrasse panoramique au coeur de Nîmes",
           "9,5",
           "8 Rue Fresque, 30000 Nîmes, France"
          ],
          [
           "Nimes",
           "Suite Privée Bed and Breakfast",
           "9,5",
           "Rue Sainte-Agnés, 30900 Nîmes, France"
          ],
          [
           "Nimes",
           "Feel@Home Nemausus « Le 21 »",
           "9,7",
           "42 Rue de Générac, 30900 Nîmes, France"
          ],
          [
           "Nimes",
           "Margaret - Hôtel Chouleur",
           "9,2",
           "6 Rue Fresque, 30000 Nîmes, France"
          ],
          [
           "Nimes",
           "Appartement Cosy Nîmes-Centre",
           "9,0",
           "67 Rue Pierre Semard, 30000 Nîmes, France"
          ],
          [
           "Nimes",
           "Atipyc Nimes",
           "9,4",
           "5 Rue de la Violette, 30000 Nîmes, France"
          ],
          [
           "Nimes",
           "Feel@Home Nemausus « Le 42 »",
           "9,2",
           "42 Rue de Générac, 30900 Nîmes, France"
          ],
          [
           "Nimes",
           "Jardins Secrets",
           "8,9",
           "3 Rue Gaston Maruejols, 30000 Nîmes, France"
          ],
          [
           "Nimes",
           "Rougetomette",
           "9,7",
           "10 Rue des Marronniers, 30000 Nîmes, France"
          ],
          [
           "Nimes",
           "Appart charme Arenes Nimes",
           "9,2",
           "4 Rue Massillon, 30000 Nîmes, France"
          ],
          [
           "Nimes",
           "Nîmes en Garrigues",
           "9,1",
           "72 Traverse de la Cigalette, 30000 Nîmes, France"
          ],
          [
           "Nimes",
           "Suite 609",
           "9,6",
           "69 Chemin du Sapeur, 30900 Nîmes, France"
          ],
          [
           "Nimes",
           "Dolce NÎMES CENTRE",
           "8,7",
           "24 RUE DE L ENCLOS REY, 30000 Nîmes, France"
          ],
          [
           "Nimes",
           "Mas de Boudan",
           "9,1",
           "351, Chemin Bas du Mas de Boudan, 30000 Nîmes, France"
          ],
          [
           "Nimes",
           "Villa Carémeau 1",
           "9,1",
           "528 Avenue du Docteur Fleming, 30000 Nîmes, France"
          ],
          [
           "Nimes",
           "Bed and Breakfast P&P Nîmes-Centre",
           "9,5",
           "Rue Sainte-Agnés, 30900 Nîmes, France"
          ],
          [
           "Nimes",
           "L’entrepôt secret",
           "9,3",
           "545 Chemin du Chai, 30900 Nîmes, France"
          ],
          [
           "Nimes",
           "Feel@Home Nemausus « Le 4 »",
           "9,3",
           "4 rue de l’école vieille, 30000 Nîmes, France"
          ],
          [
           "Nimes",
           "entre arènes et maison carrée",
           "9,3",
           "1er étage 2a Rue Tedenat, 30900 Nîmes, France"
          ],
          [
           "Nimes",
           "Charmant Mazet",
           "9,6",
           "500 Chemin d'Engance, 30000 Nîmes, France"
          ],
          [
           "Nimes",
           "La Maison Rousseau Chambre d'hôtes",
           "9,2",
           "6 Rue de la Parisiére- Quartier Gambetta, 30000 Nîmes, France"
          ],
          [
           "Nimes",
           "Les villas du triangle - chambres d'hôtes",
           "9,1",
           "58 Rue de l'Abrivado, 30000 Nîmes, France"
          ],
          [
           "Nimes",
           "Patrick&Pierre Bed and Breakfast Nîmes",
           "9,3",
           "Rue Sainte Agnès, 30900 Nîmes, France"
          ]
         ],
         "hovertemplate": "City to go=%{customdata[0]}<br>lat=%{lat}<br>lon=%{lon}<br>name_hotel=%{customdata[1]}<br>score_hotel=%{customdata[2]}<br>adresse_hotel=%{customdata[3]}<extra></extra>",
         "lat": [
          43.8403329,
          43.834472,
          43.837117,
          43.8403329,
          43.8403329,
          43.8403329,
          43.83470575,
          43.837117,
          43.834472,
          43.82936675,
          43.8356454,
          43.847767,
          43.82080551,
          43.83470575,
          43.837117,
          43.834472,
          43.82936675,
          43.8356454,
          43.847767,
          43.82080551,
          43.83664915,
          43.83664915,
          43.834472,
          43.83664915,
          43.83498456,
          43.836776,
          43.82936675,
          43.837117,
          43.8403329,
          43.8356454,
          43.82936825,
          43.83470575,
          43.83003691,
          43.831676,
          43.862278,
          43.847767,
          43.8420013,
          43.82080551,
          43.81774825,
          43.83501,
          43.804133,
          43.8388152,
          43.83628985,
          43.87368807,
          43.84050307,
          43.84096629,
          43.83503623,
          43.834472,
          43.83664915,
          43.836776,
          43.83498456,
          43.82936675,
          43.837117,
          43.8403329,
          43.8356454,
          43.82936825,
          43.83470575,
          43.83003691,
          43.831676,
          43.862278,
          43.847767,
          43.8420013,
          43.82080551,
          43.81774825,
          43.83501,
          43.804133,
          43.8388152,
          43.83628985,
          43.87368807,
          43.84050307,
          43.84096629,
          43.83503623
         ],
         "legendgroup": "Nimes",
         "lon": [
          4.370304,
          4.356771,
          4.357898,
          4.370304,
          4.370304,
          4.370304,
          4.36731219,
          4.357898,
          4.356771,
          4.35789713,
          4.3595184,
          4.345362,
          4.3712532,
          4.36731219,
          4.357898,
          4.356771,
          4.35789713,
          4.3595184,
          4.345362,
          4.3712532,
          4.35828624,
          4.35828624,
          4.356771,
          4.35828624,
          4.34966204,
          4.358018,
          4.35789713,
          4.357898,
          4.370304,
          4.3595184,
          4.35786962,
          4.36731219,
          4.36611269,
          4.3602026,
          4.355442,
          4.345362,
          4.363243,
          4.3712532,
          4.32013341,
          4.349857,
          4.315783,
          4.36241362,
          4.35639625,
          4.36763346,
          4.35905189,
          4.39121264,
          4.34953472,
          4.356771,
          4.35828624,
          4.358018,
          4.34966204,
          4.35789713,
          4.357898,
          4.370304,
          4.3595184,
          4.35786962,
          4.36731219,
          4.36611269,
          4.3602026,
          4.355442,
          4.345362,
          4.363243,
          4.3712532,
          4.32013341,
          4.349857,
          4.315783,
          4.36241362,
          4.35639625,
          4.36763346,
          4.35905189,
          4.39121264,
          4.34953472
         ],
         "marker": {
          "color": "#EF553B"
         },
         "mode": "markers",
         "name": "Nimes",
         "showlegend": true,
         "subplot": "mapbox",
         "type": "scattermapbox"
        },
        {
         "customdata": [
          [
           "Strasbourg",
           "Le Relais de l'Orangerie",
           "9,1",
           "5 allée Spach, 67000 Strasbourg, France"
          ],
          [
           "Strasbourg",
           "LIFE CATHEDRALE CITY-Center Place Gutenberg",
           "9,1",
           "15 Place Gutenberg, 67000 Strasbourg, France"
          ],
          [
           "Strasbourg",
           "LİFE İNCİTY - Petite France By Life Renaissance",
           "9,1",
           "29 Rue des Bouchers, 67000 Strasbourg, France"
          ],
          [
           "Strasbourg",
           "LE LOFT 67",
           "9,5",
           "RDC 5 Rue de la Toussaint, 67000 Strasbourg, France"
          ],
          [
           "Strasbourg",
           "LIFE VOYAGE & SPA by Life Renaissance",
           "9,3",
           "8 Rue de la Mésange, 67000 Strasbourg, France"
          ],
          [
           "Strasbourg",
           "Le Relais de l'Orangerie",
           "9,1",
           "5 allée Spach, 67000 Strasbourg, France"
          ],
          [
           "Strasbourg",
           "LIFE CATHEDRALE CITY-Center Place Gutenberg",
           "9,1",
           "15 Place Gutenberg, 67000 Strasbourg, France"
          ],
          [
           "Strasbourg",
           "LİFE İNCİTY - Petite France By Life Renaissance",
           "9,1",
           "29 Rue des Bouchers, 67000 Strasbourg, France"
          ],
          [
           "Strasbourg",
           "Le Carré d'or - Appartement avec vue Cathédrale",
           "9,9",
           "8 Rue du Sanglier, 67000 Strasbourg, France"
          ],
          [
           "Strasbourg",
           "LE LOFT 67",
           "9,5",
           "RDC 5 Rue de la Toussaint, 67000 Strasbourg, France"
          ],
          [
           "Strasbourg",
           "LIFE VOYAGE & SPA by Life Renaissance",
           "9,3",
           "8 Rue de la Mésange, 67000 Strasbourg, France"
          ],
          [
           "Strasbourg",
           "Le Moon",
           "9,3",
           "4 Quai Jacques-Sturm, 67000 Strasbourg, France"
          ],
          [
           "Strasbourg",
           "Carpe Diem Home - Au pied de la Cathédrale",
           "9,5",
           "28, rue des Orfèvres, 67000 Strasbourg, France"
          ],
          [
           "Strasbourg",
           "Pavillon REGENT PETITE FRANCE",
           "9,0",
           "6, rue des Moulins, 67000 Strasbourg, France"
          ],
          [
           "Strasbourg",
           "LIFE CATHEDRALE CITY-Center Place Gutenberg",
           "9,1",
           "15 Place Gutenberg, 67000 Strasbourg, France"
          ],
          [
           "Strasbourg",
           "LİFE İNCİTY - Petite France By Life Renaissance",
           "9,1",
           "29 Rue des Bouchers, 67000 Strasbourg, France"
          ],
          [
           "Strasbourg",
           "Boutique Hotel Des XV",
           "9,0",
           "46 Rue du Conseil des Quinze, 67000 Strasbourg, France"
          ],
          [
           "Strasbourg",
           "Le Carré d'or - Appartement avec vue Cathédrale",
           "9,9",
           "8 Rue du Sanglier, 67000 Strasbourg, France"
          ],
          [
           "Strasbourg",
           "LE LOFT 67",
           "9,5",
           "RDC 5 Rue de la Toussaint, 67000 Strasbourg, France"
          ],
          [
           "Strasbourg",
           "LIFE VOYAGE & SPA by Life Renaissance",
           "9,3",
           "8 Rue de la Mésange, 67000 Strasbourg, France"
          ],
          [
           "Strasbourg",
           "Le Moon",
           "9,3",
           "4 Quai Jacques-Sturm, 67000 Strasbourg, France"
          ],
          [
           "Strasbourg",
           "Carpe Diem Home - Au pied de la Cathédrale",
           "9,5",
           "28, rue des Orfèvres, 67000 Strasbourg, France"
          ],
          [
           "Strasbourg",
           "LIFE RENAISSANCE - New Concept - Place Kléber",
           "9,2",
           "30 Place Kleber, 67000 Strasbourg, France"
          ],
          [
           "Strasbourg",
           "LIFE VOYAGE & SPA by Life Renaissance",
           "9,3",
           "8 Rue de la Mésange, 67000 Strasbourg, France"
          ],
          [
           "Strasbourg",
           "Goodtime Apartments Strasbourg",
           "9,0",
           "26 Rue de la Mésange, 67000 Strasbourg, France"
          ],
          [
           "Strasbourg",
           "Carpe Diem Home - Au pied de la Cathédrale",
           "9,5",
           "28, rue des Orfèvres, 67000 Strasbourg, France"
          ],
          [
           "Strasbourg",
           "Le Carré d'or - Appartement avec vue Cathédrale",
           "9,9",
           "8 Rue du Sanglier, 67000 Strasbourg, France"
          ],
          [
           "Strasbourg",
           "Le Moon",
           "9,3",
           "4 Quai Jacques-Sturm, 67000 Strasbourg, France"
          ],
          [
           "Strasbourg",
           "LE LOFT 67",
           "9,5",
           "RDC 5 Rue de la Toussaint, 67000 Strasbourg, France"
          ],
          [
           "Strasbourg",
           "Hôtel LÉONOR the place to live",
           "9,2",
           "11 Rue de la Nuée-Bleue, 67000 Strasbourg, France"
          ],
          [
           "Strasbourg",
           "Quai 17 Maison d'hôtes",
           "9,7",
           "17 Quai Saint-nicolas / 2 Rue d'or, 67000 Strasbourg, France"
          ],
          [
           "Strasbourg",
           "Hotel Les Haras",
           "9,1",
           "23 Rue des Glacières, 67000 Strasbourg, France"
          ],
          [
           "Strasbourg",
           "Hotel Cour du Corbeau Strasbourg - MGallery",
           "9,1",
           "6-8 Rue des Couples, 67000 Strasbourg, France"
          ],
          [
           "Strasbourg",
           "LIFE VOYAGE & SPA by Life Renaissance",
           "9,3",
           "8 Rue de la Mésange, 67000 Strasbourg, France"
          ],
          [
           "Strasbourg",
           "Appartement L'Ill au Sable",
           "9,4",
           "1 Quai Au Sable, 67000 Strasbourg, France"
          ],
          [
           "Strasbourg",
           "Pavillon REGENT PETITE FRANCE",
           "9,0",
           "6, rue des Moulins, 67000 Strasbourg, France"
          ],
          [
           "Strasbourg",
           "LIFE RENAISSANCE - New Concept - Place Kléber",
           "9,2",
           "30 Place Kleber, 67000 Strasbourg, France"
          ],
          [
           "Strasbourg",
           "Boutique Hotel Des XV",
           "9,0",
           "46 Rue du Conseil des Quinze, 67000 Strasbourg, France"
          ],
          [
           "Strasbourg",
           "Le Relais de l'Orangerie",
           "9,1",
           "5 allée Spach, 67000 Strasbourg, France"
          ],
          [
           "Strasbourg",
           "Élégant studio à côté du Parlement",
           "9,7",
           "6 Avenue du Président Robert Schuman, 67000 Strasbourg, France"
          ],
          [
           "Strasbourg",
           "Hôtel & Spa Le Bouclier D'or",
           "9,0",
           "1 rue du Bouclier, 67000 Strasbourg, France"
          ],
          [
           "Strasbourg",
           "Goodtime Apartments Strasbourg",
           "9,0",
           "26 Rue de la Mésange, 67000 Strasbourg, France"
          ],
          [
           "Strasbourg",
           "LIFE CATHEDRALE CITY-Center Place Gutenberg",
           "9,1",
           "15 Place Gutenberg, 67000 Strasbourg, France"
          ],
          [
           "Strasbourg",
           "Strasbourg Appart Cosy Hyper Centre",
           "9,3",
           "3eme étage 4 Rue des Serruriers, 67000 Strasbourg, France"
          ],
          [
           "Strasbourg",
           "Chambre d'hôtes La Célestine",
           "9,0",
           "2 A Rue des Planches, 67000 Strasbourg, France"
          ],
          [
           "Strasbourg",
           "LİFE İNCİTY - Petite France By Life Renaissance",
           "9,1",
           "29 Rue des Bouchers, 67000 Strasbourg, France"
          ],
          [
           "Strasbourg",
           "L'Atelier",
           "9,4",
           "14 rue des Lentilles, 67000 Strasbourg, France"
          ],
          [
           "Strasbourg",
           "Le Carré des fleurs",
           "9,2",
           "4 Rue des Combattants africains - appart. 37, 67100 Strasbourg, France"
          ],
          [
           "Strasbourg",
           "les Gîtes de la limonaderie",
           "9,0",
           "14a Rue d'Erstein, 67100 Strasbourg, France"
          ],
          [
           "Strasbourg",
           "Hôtel Tandem - Boutique Hôtel",
           "9,0",
           "2 place de la Gare, 67000 Strasbourg, France"
          ]
         ],
         "hovertemplate": "City to go=%{customdata[0]}<br>lat=%{lat}<br>lon=%{lon}<br>name_hotel=%{customdata[1]}<br>score_hotel=%{customdata[2]}<br>adresse_hotel=%{customdata[3]}<extra></extra>",
         "lat": [
          48.59312095,
          48.58163534,
          48.57785825,
          48.5867365,
          48.58422606,
          48.59312095,
          48.58163534,
          48.57785825,
          48.58286106,
          48.5867365,
          48.58422606,
          48.58750934,
          48.582077,
          48.58159136,
          48.58163534,
          48.57785825,
          48.5892382,
          48.58286106,
          48.5867365,
          48.58422606,
          48.58750934,
          48.582077,
          48.58372948,
          48.58422606,
          48.58427244,
          48.582077,
          48.58286106,
          48.58750934,
          48.5867365,
          48.585942,
          48.57871842,
          48.57704319,
          48.57934881,
          48.58422606,
          48.58095174,
          48.58159136,
          48.58372948,
          48.5892382,
          48.59312095,
          48.5950048,
          48.58052973,
          48.58427244,
          48.58163534,
          48.5801184,
          48.5807919,
          48.57785825,
          48.58230615,
          48.57118219,
          48.569047,
          48.58383633
         ],
         "legendgroup": "Strasbourg",
         "lon": [
          7.76931923,
          7.74854487,
          7.75070308,
          7.7437614,
          7.7471351,
          7.76931923,
          7.74854487,
          7.75070308,
          7.74950094,
          7.7437614,
          7.7471351,
          7.74958822,
          7.749161,
          7.74154821,
          7.74854487,
          7.75070308,
          7.7827334,
          7.74950094,
          7.7437614,
          7.7471351,
          7.74958822,
          7.749161,
          7.74516125,
          7.7471351,
          7.74827471,
          7.749161,
          7.74950094,
          7.74958822,
          7.7437614,
          7.747235,
          7.74954222,
          7.7425269,
          7.75155723,
          7.7471351,
          7.75305828,
          7.74154821,
          7.74516125,
          7.7827334,
          7.76931923,
          7.7686991,
          7.74373323,
          7.74827471,
          7.74854487,
          7.7463382,
          7.76009873,
          7.75070308,
          7.74012499,
          7.75182933,
          7.755412,
          7.73494899
         ],
         "marker": {
          "color": "#00cc96"
         },
         "mode": "markers",
         "name": "Strasbourg",
         "showlegend": true,
         "subplot": "mapbox",
         "type": "scattermapbox"
        },
        {
         "customdata": [
          [
           "Avignon",
           "L'Oriflamme",
           "9,3",
           "5 Rue de l'Oriflamme, 84000 Avignon, France"
          ],
          [
           "Avignon",
           "Palais des Papes - Havre de Paix III",
           "9,0",
           "22, rue Sainte-Catherine, 84000 Avignon, France"
          ],
          [
           "Avignon",
           "L'Oriflamme",
           "9,3",
           "5 Rue de l'Oriflamme, 84000 Avignon, France"
          ],
          [
           "Avignon",
           "Palais des Papes - Havre de Paix III",
           "9,0",
           "22, rue Sainte-Catherine, 84000 Avignon, France"
          ],
          [
           "Avignon",
           "Palais des Papes - Havre de Paix III",
           "9,0",
           "22, rue Sainte-Catherine, 84000 Avignon, France"
          ],
          [
           "Avignon",
           "Les Précieuses Suites & Spa I",
           "9,2",
           "7 Rue Puits des Allemands, 84000 Avignon, France"
          ],
          [
           "Avignon",
           "Bastide de Bellegarde",
           "9,7",
           "990 Chemin du Mont Blanc, 84000 Avignon, France"
          ],
          [
           "Avignon",
           "La Divine Comédie-Suites Deluxe",
           "9,9",
           "16 Impasse Jean Pierre Gras, 84000 Avignon, France"
          ],
          [
           "Avignon",
           "Face au Palais",
           "9,8",
           "13 B Place du Palais, 84000 Avignon, France"
          ],
          [
           "Avignon",
           "Les Jardins de Baracane",
           "9,7",
           "12 rue Baracane, 84000 Avignon, France"
          ],
          [
           "Avignon",
           "La Demoiselle",
           "9,5",
           "31 Rue de La Campane, 84000 Avignon, France"
          ],
          [
           "Avignon",
           "le Travertin",
           "9,4",
           "6 Bis Rue Jacob, 84000 Avignon, France"
          ],
          [
           "Avignon",
           "Domaine de Rhodes B&B",
           "9,4",
           "486 chemin de Rhodes, 84000 Avignon, France"
          ],
          [
           "Avignon",
           "N15 - Chambres d'hôtes et appartement",
           "9,6",
           "15, rue Saluces, 84000 Avignon, France"
          ],
          [
           "Avignon",
           "Le Limas",
           "9,5",
           "51 Rue du Limas , 84000 Avignon, France"
          ],
          [
           "Avignon",
           "Les Précieuses Suites & Spa I",
           "9,2",
           "7 Rue Puits des Allemands, 84000 Avignon, France"
          ],
          [
           "Avignon",
           "Au Spa de LLEA",
           "9,1",
           "8 bis Rue Petite Saunerie, 84000 Avignon, France"
          ],
          [
           "Avignon",
           "Appartement AvignonMaProvence",
           "9,2",
           "7 Rue Guillaume Puy, 84000 Avignon, France"
          ],
          [
           "Avignon",
           "face au Palais des Papes",
           "9,7",
           "21 bis Place du Palais des Papes, 84000 Avignon, France"
          ],
          [
           "Avignon",
           "My Pad Provence 4",
           "9,4",
           "39 ter rue rempart saint Lazare, 84000 Avignon, France"
          ],
          [
           "Avignon",
           "Le Clos Saluces",
           "9,9",
           "11 Rue Saluces, 84000 Avignon, France"
          ],
          [
           "Avignon",
           "Appartement Terrasse - Hypercentre",
           "9,6",
           "29 Rue Paul Sain, 84000 Avignon, France"
          ],
          [
           "Avignon",
           "My Pad Provence 5",
           "9,1",
           "3 Rue de la Grande Fusterie, 84000 Avignon, France"
          ],
          [
           "Avignon",
           "L'Oriflamme",
           "9,3",
           "5 Rue de l'Oriflamme, 84000 Avignon, France"
          ],
          [
           "Avignon",
           "Bastide de Bellegarde",
           "9,7",
           "990 Chemin du Mont Blanc, 84000 Avignon, France"
          ],
          [
           "Avignon",
           "L'échappée belle PARKING Netflix Disney CLIM by Rentabao",
           "9,2",
           "1 Boulevard Emile Desfons, 84000 Avignon, France"
          ],
          [
           "Avignon",
           "Bien d'exception en face du Palais des Papes",
           "9,5",
           "7 Place du Palais, 84000 Avignon, France"
          ],
          [
           "Avignon",
           "La Banasterie",
           "9,3",
           "11 rue de la Banasterie, 84000 Avignon, France"
          ],
          [
           "Avignon",
           "A la terrasse d'Avignon",
           "9,5",
           "62 Rue Joseph Vernet, 84000 Avignon, France"
          ],
          [
           "Avignon",
           "Palais des Papes - Havre de Paix III",
           "9,0",
           "22, rue Sainte-Catherine, 84000 Avignon, France"
          ],
          [
           "Avignon",
           "T2 centre ville avec extérieur",
           "9,6",
           "27 Rue des Lices, 84000 Avignon, France"
          ]
         ],
         "hovertemplate": "City to go=%{customdata[0]}<br>lat=%{lat}<br>lon=%{lon}<br>name_hotel=%{customdata[1]}<br>score_hotel=%{customdata[2]}<br>adresse_hotel=%{customdata[3]}<extra></extra>",
         "lat": [
          43.9496041,
          43.950855,
          43.9496041,
          43.950855,
          43.950855,
          43.94925915,
          43.97504,
          43.9506374,
          43.9509511,
          43.94460933,
          43.950707,
          43.94886695,
          43.97451606,
          43.95029956,
          43.95210078,
          43.94925915,
          43.9492537,
          43.9500835,
          43.95163995,
          43.9524539,
          43.9501934,
          43.94832881,
          43.9507271,
          43.9496041,
          43.97504,
          43.9410278,
          43.9505109,
          43.94986998,
          43.9466755,
          43.950855,
          43.945666
         ],
         "legendgroup": "Avignon",
         "lon": [
          4.8115416,
          4.810121,
          4.8115416,
          4.810121,
          4.810121,
          4.81487742,
          4.822944,
          4.8108318,
          4.8062009,
          4.80928241,
          4.811875,
          4.80914755,
          4.83258963,
          4.81104354,
          4.80463296,
          4.81487742,
          4.8090147,
          4.8142527,
          4.80627016,
          4.8158498,
          4.81058627,
          4.81231816,
          4.8038052,
          4.8115416,
          4.822944,
          4.8096327,
          4.8062487,
          4.80851546,
          4.8033064,
          4.810121,
          4.810924
         ],
         "marker": {
          "color": "#ab63fa"
         },
         "mode": "markers",
         "name": "Avignon",
         "showlegend": true,
         "subplot": "mapbox",
         "type": "scattermapbox"
        },
        {
         "customdata": [
          [
           "Montauban",
           "room five MONTAUBAN",
           "9,5",
           "Place nationale 5, 82000 Montauban, France"
          ],
          [
           "Montauban",
           "MY SWEET FLAT MONTAUBAN",
           "9,2",
           "APPT 4 PARK 23, 50 RUE GINETTE AUGIER, RESIDENCE SPORTING COUNTRY, 82000 Montauban, France"
          ],
          [
           "Montauban",
           "2 appartements Rue du greffe",
           "8,6",
           "7 Rue du Greffe, 82000 Montauban, France"
          ],
          [
           "Montauban",
           "Montauban Appartement 3 chambres à deux pas de l’hypercentre",
           "9,4",
           "Appt 22 6e étage avec ascenseur 200 Boulevard Vincent Auriol, 82000 Montauban, France"
          ],
          [
           "Montauban",
           "room five MONTAUBAN",
           "9,5",
           "Place nationale 5, 82000 Montauban, France"
          ],
          [
           "Montauban",
           "2 appartements Rue du greffe",
           "8,6",
           "7 Rue du Greffe, 82000 Montauban, France"
          ],
          [
           "Montauban",
           "DORMIR A MONTAUBAN Logements Carreyrat Calme et Verdoyant",
           "9,0",
           "2980 Chemin de Fayence, 82000 Montauban, France"
          ],
          [
           "Montauban",
           "Cosy Red 4 Pers - Neuf et au Calme - Fibre-Netflix",
           "9,3",
           "1er Etage Droit 30 Faubourg Lacapelle, 82000 Montauban, France"
          ],
          [
           "Montauban",
           "To Be Discovered L'HYPERCENTRE",
           "8,7",
           "7 Rue Jules Michelet, 82000 Montauban, France"
          ],
          [
           "Montauban",
           "MY SWEET FLAT MONTAUBAN",
           "9,2",
           "APPT 4 PARK 23, 50 RUE GINETTE AUGIER, RESIDENCE SPORTING COUNTRY, 82000 Montauban, France"
          ],
          [
           "Montauban",
           "Montauban Appartement 3 chambres à deux pas de l’hypercentre",
           "9,4",
           "Appt 22 6e étage avec ascenseur 200 Boulevard Vincent Auriol, 82000 Montauban, France"
          ],
          [
           "Montauban",
           "Castel Bois Marie",
           "9,3",
           "1083 Chemin de Bégué, 82000 Montauban, France"
          ],
          [
           "Montauban",
           "room five MONTAUBAN",
           "9,5",
           "Place nationale 5, 82000 Montauban, France"
          ],
          [
           "Montauban",
           "Manoir de la Gravette Maison d'Hôtes",
           "9,6",
           "Manoir de la Gravette 1643 Route de l'Aveyron, 82000 Montauban, France"
          ],
          [
           "Montauban",
           "Chambre d hôtes indépendante Jacuzzi Cave Bar SUITE 785",
           "9,7",
           "785 Rue Edouard Forestie, 82000 Montauban, France"
          ],
          [
           "Montauban",
           "2 appartements Rue du greffe",
           "8,6",
           "7 Rue du Greffe, 82000 Montauban, France"
          ],
          [
           "Montauban",
           "DORMIR A MONTAUBAN Logements Carreyrat Calme et Verdoyant",
           "9,0",
           "2980 Chemin de Fayence, 82000 Montauban, France"
          ],
          [
           "Montauban",
           "Cosy Red 4 Pers - Neuf et au Calme - Fibre-Netflix",
           "9,3",
           "1er Etage Droit 30 Faubourg Lacapelle, 82000 Montauban, France"
          ],
          [
           "Montauban",
           "Vanille Bourbon",
           "9,2",
           "24 Avenue Chamier, 82000 Montauban, France"
          ],
          [
           "Montauban",
           "To Be Discovered L'HYPERCENTRE",
           "8,7",
           "7 Rue Jules Michelet, 82000 Montauban, France"
          ],
          [
           "Montauban",
           "En toute intimité dans le centre historique",
           "9,0",
           "A1 5 Rue Fraîche, 82000 Montauban, France"
          ],
          [
           "Montauban",
           "To Be Discovered L'HYPERCENTRE",
           "8,7",
           "7 Rue Jules Michelet, 82000 Montauban, France"
          ],
          [
           "Montauban",
           "2 appartements Rue du greffe",
           "8,6",
           "7 Rue du Greffe, 82000 Montauban, France"
          ],
          [
           "Montauban",
           "La parenthèse gourmande avec clim et parking",
           "9,1",
           "1 er étage 8 rue du greffe, 82000 Montauban, France"
          ],
          [
           "Montauban",
           "room five MONTAUBAN",
           "9,5",
           "Place nationale 5, 82000 Montauban, France"
          ],
          [
           "Montauban",
           "Chez Ingres - Le Nid - Joyau caché en centre ville",
           "7,6",
           "26 Rue des Carmes, 82000 Montauban, France"
          ],
          [
           "Montauban",
           "Les Loges de Montauban",
           "9,0",
           "45 Rue Jules Michelet, 82000 Montauban, France"
          ],
          [
           "Montauban",
           "La parenthèse gourmande avec clim et parking",
           "9,1",
           "1 er étage 8 rue du greffe, 82000 Montauban, France"
          ],
          [
           "Montauban",
           "Numero22 Chambres d'hôtes",
           "9,2",
           "22 Rue Dominique Ingres, 82000 Montauban, France"
          ],
          [
           "Montauban",
           "Castel Bois Marie",
           "9,3",
           "1083 Chemin de Bégué, 82000 Montauban, France"
          ],
          [
           "Montauban",
           "room five MONTAUBAN",
           "9,5",
           "Place nationale 5, 82000 Montauban, France"
          ],
          [
           "Montauban",
           "Montauban Appartement 3 chambres à deux pas de l’hypercentre",
           "9,4",
           "Appt 22 6e étage avec ascenseur 200 Boulevard Vincent Auriol, 82000 Montauban, France"
          ],
          [
           "Montauban",
           "Le Studio",
           "9,4",
           "17 Rue du Docteur Alibert, 82000 Montauban, France"
          ],
          [
           "Montauban",
           "Manoir de la Gravette Maison d'Hôtes",
           "9,6",
           "Manoir de la Gravette 1643 Route de l'Aveyron, 82000 Montauban, France"
          ],
          [
           "Montauban",
           "Vanille Bourbon",
           "9,2",
           "24 Avenue Chamier, 82000 Montauban, France"
          ],
          [
           "Montauban",
           "Les Loges de Montauban",
           "9,0",
           "45 Rue Jules Michelet, 82000 Montauban, France"
          ],
          [
           "Montauban",
           "MY SWEET FLAT MONTAUBAN",
           "9,2",
           "APPT 4 PARK 23, 50 RUE GINETTE AUGIER, RESIDENCE SPORTING COUNTRY, 82000 Montauban, France"
          ],
          [
           "Montauban",
           "Chambre d hôtes indépendante Jacuzzi Cave Bar SUITE 785",
           "9,7",
           "785 Rue Edouard Forestie, 82000 Montauban, France"
          ],
          [
           "Montauban",
           "Cosy Red 4 Pers - Neuf et au Calme - Fibre-Netflix",
           "9,3",
           "1er Etage Droit 30 Faubourg Lacapelle, 82000 Montauban, France"
          ],
          [
           "Montauban",
           "Logis Sainte Claire",
           "9,3",
           "9 Rue Sainte-Claire, 82000 Montauban, France"
          ],
          [
           "Montauban",
           "Domaine de Belcayre",
           "8,9",
           "1051, route du Fau, 82000 Montauban, France"
          ],
          [
           "Montauban",
           "DORMIR A MONTAUBAN Logements Carreyrat Calme et Verdoyant",
           "9,0",
           "2980 Chemin de Fayence, 82000 Montauban, France"
          ],
          [
           "Montauban",
           "Chez Ingres - Le Nid - Joyau caché en centre ville",
           "7,6",
           "26 Rue des Carmes, 82000 Montauban, France"
          ],
          [
           "Montauban",
           "Un air de campagne",
           "9,1",
           "1875 Chemin de Pinceguerre, 82000 Montauban, France"
          ],
          [
           "Montauban",
           "En toute intimité dans le centre historique",
           "9,0",
           "A1 5 Rue Fraîche, 82000 Montauban, France"
          ],
          [
           "Montauban",
           "2 appartements Rue du greffe",
           "8,6",
           "7 Rue du Greffe, 82000 Montauban, France"
          ],
          [
           "Montauban",
           "To Be Discovered L'HYPERCENTRE",
           "8,7",
           "7 Rue Jules Michelet, 82000 Montauban, France"
          ],
          [
           "Montauban",
           "La mansarde d'Olympe",
           "9,5",
           "9 Rue Sainte-Claire, 82000 Montauban, France"
          ],
          [
           "Montauban",
           "Gîte de Sapiac",
           "8,5",
           "392 Chemin du Coteau, 82000 Montauban, France"
          ],
          [
           "Montauban",
           "Le Clos de Saint Amour",
           "8,8",
           "1197 Chemin De Ruffe, 82000 Montauban, France"
          ],
          [
           "Montauban",
           "Jean-Antoine Mondésir",
           "9,1",
           "16 Rue Mondesir, 82000 Montauban, France"
          ],
          [
           "Montauban",
           "Château de Loubéjac",
           "8,8",
           "14 chemin Jambau, 82130 Montauban, France"
          ]
         ],
         "hovertemplate": "City to go=%{customdata[0]}<br>lat=%{lat}<br>lon=%{lon}<br>name_hotel=%{customdata[1]}<br>score_hotel=%{customdata[2]}<br>adresse_hotel=%{customdata[3]}<extra></extra>",
         "lat": [
          44.01786547,
          44.0310432,
          44.01703937,
          44.01576468,
          44.01786547,
          44.01703937,
          43.98098686,
          44.013431,
          44.01708155,
          44.0310432,
          44.01576468,
          43.979174,
          44.01786547,
          44.04904337,
          44.0126136,
          44.01703937,
          43.98098686,
          44.013431,
          44.01324,
          44.01708155,
          44.0175635,
          44.01708155,
          44.01703937,
          44.01704096,
          44.01786547,
          44.0158138,
          44.01646338,
          44.01704096,
          44.020946,
          43.979174,
          44.01786547,
          44.01576468,
          44.02135469,
          44.04904337,
          44.01324,
          44.01646338,
          44.0310432,
          44.0126136,
          44.013431,
          44.0207199,
          43.99404175,
          43.98098686,
          44.0158138,
          43.9965228,
          44.0175635,
          44.01703937,
          44.01708155,
          44.02072953,
          43.99525794,
          44.02487667,
          44.02095541,
          44.08944141
         ],
         "legendgroup": "Montauban",
         "lon": [
          1.35385925,
          1.3469247,
          1.35448361,
          1.3677983,
          1.35385925,
          1.35448361,
          1.38958597,
          1.3609724,
          1.35468709,
          1.3469247,
          1.3677983,
          1.309142,
          1.35385925,
          1.34388352,
          1.3784848,
          1.35448361,
          1.38958597,
          1.3609724,
          1.344591,
          1.35468709,
          1.3551575,
          1.35468709,
          1.35448361,
          1.35429773,
          1.35385925,
          1.3533855,
          1.35795479,
          1.35429773,
          1.359435,
          1.309142,
          1.35385925,
          1.3677983,
          1.35128807,
          1.34388352,
          1.344591,
          1.35795479,
          1.3469247,
          1.3784848,
          1.3609724,
          1.35166594,
          1.37536302,
          1.38958597,
          1.3533855,
          1.4049672,
          1.3551575,
          1.35448361,
          1.35468709,
          1.35164594,
          1.3540244,
          1.3928175,
          1.35614656,
          1.34851889
         ],
         "marker": {
          "color": "#FFA15A"
         },
         "mode": "markers",
         "name": "Montauban",
         "showlegend": true,
         "subplot": "mapbox",
         "type": "scattermapbox"
        }
       ],
       "layout": {
        "height": 800,
        "legend": {
         "title": {
          "text": "City to go"
         },
         "tracegroupgap": 0
        },
        "mapbox": {
         "center": {
          "lat": 44.67067977506803,
          "lon": 4.990241202653061
         },
         "domain": {
          "x": [
           0,
           1
          ],
          "y": [
           0,
           1
          ]
         },
         "style": "carto-positron",
         "zoom": 4.5
        },
        "margin": {
         "b": 10,
         "l": 50,
         "r": 50,
         "t": 100
        },
        "template": {
         "data": {
          "bar": [
           {
            "error_x": {
             "color": "#2a3f5f"
            },
            "error_y": {
             "color": "#2a3f5f"
            },
            "marker": {
             "line": {
              "color": "#E5ECF6",
              "width": 0.5
             },
             "pattern": {
              "fillmode": "overlay",
              "size": 10,
              "solidity": 0.2
             }
            },
            "type": "bar"
           }
          ],
          "barpolar": [
           {
            "marker": {
             "line": {
              "color": "#E5ECF6",
              "width": 0.5
             },
             "pattern": {
              "fillmode": "overlay",
              "size": 10,
              "solidity": 0.2
             }
            },
            "type": "barpolar"
           }
          ],
          "carpet": [
           {
            "aaxis": {
             "endlinecolor": "#2a3f5f",
             "gridcolor": "white",
             "linecolor": "white",
             "minorgridcolor": "white",
             "startlinecolor": "#2a3f5f"
            },
            "baxis": {
             "endlinecolor": "#2a3f5f",
             "gridcolor": "white",
             "linecolor": "white",
             "minorgridcolor": "white",
             "startlinecolor": "#2a3f5f"
            },
            "type": "carpet"
           }
          ],
          "choropleth": [
           {
            "colorbar": {
             "outlinewidth": 0,
             "ticks": ""
            },
            "type": "choropleth"
           }
          ],
          "contour": [
           {
            "colorbar": {
             "outlinewidth": 0,
             "ticks": ""
            },
            "colorscale": [
             [
              0,
              "#0d0887"
             ],
             [
              0.1111111111111111,
              "#46039f"
             ],
             [
              0.2222222222222222,
              "#7201a8"
             ],
             [
              0.3333333333333333,
              "#9c179e"
             ],
             [
              0.4444444444444444,
              "#bd3786"
             ],
             [
              0.5555555555555556,
              "#d8576b"
             ],
             [
              0.6666666666666666,
              "#ed7953"
             ],
             [
              0.7777777777777778,
              "#fb9f3a"
             ],
             [
              0.8888888888888888,
              "#fdca26"
             ],
             [
              1,
              "#f0f921"
             ]
            ],
            "type": "contour"
           }
          ],
          "contourcarpet": [
           {
            "colorbar": {
             "outlinewidth": 0,
             "ticks": ""
            },
            "type": "contourcarpet"
           }
          ],
          "heatmap": [
           {
            "colorbar": {
             "outlinewidth": 0,
             "ticks": ""
            },
            "colorscale": [
             [
              0,
              "#0d0887"
             ],
             [
              0.1111111111111111,
              "#46039f"
             ],
             [
              0.2222222222222222,
              "#7201a8"
             ],
             [
              0.3333333333333333,
              "#9c179e"
             ],
             [
              0.4444444444444444,
              "#bd3786"
             ],
             [
              0.5555555555555556,
              "#d8576b"
             ],
             [
              0.6666666666666666,
              "#ed7953"
             ],
             [
              0.7777777777777778,
              "#fb9f3a"
             ],
             [
              0.8888888888888888,
              "#fdca26"
             ],
             [
              1,
              "#f0f921"
             ]
            ],
            "type": "heatmap"
           }
          ],
          "heatmapgl": [
           {
            "colorbar": {
             "outlinewidth": 0,
             "ticks": ""
            },
            "colorscale": [
             [
              0,
              "#0d0887"
             ],
             [
              0.1111111111111111,
              "#46039f"
             ],
             [
              0.2222222222222222,
              "#7201a8"
             ],
             [
              0.3333333333333333,
              "#9c179e"
             ],
             [
              0.4444444444444444,
              "#bd3786"
             ],
             [
              0.5555555555555556,
              "#d8576b"
             ],
             [
              0.6666666666666666,
              "#ed7953"
             ],
             [
              0.7777777777777778,
              "#fb9f3a"
             ],
             [
              0.8888888888888888,
              "#fdca26"
             ],
             [
              1,
              "#f0f921"
             ]
            ],
            "type": "heatmapgl"
           }
          ],
          "histogram": [
           {
            "marker": {
             "pattern": {
              "fillmode": "overlay",
              "size": 10,
              "solidity": 0.2
             }
            },
            "type": "histogram"
           }
          ],
          "histogram2d": [
           {
            "colorbar": {
             "outlinewidth": 0,
             "ticks": ""
            },
            "colorscale": [
             [
              0,
              "#0d0887"
             ],
             [
              0.1111111111111111,
              "#46039f"
             ],
             [
              0.2222222222222222,
              "#7201a8"
             ],
             [
              0.3333333333333333,
              "#9c179e"
             ],
             [
              0.4444444444444444,
              "#bd3786"
             ],
             [
              0.5555555555555556,
              "#d8576b"
             ],
             [
              0.6666666666666666,
              "#ed7953"
             ],
             [
              0.7777777777777778,
              "#fb9f3a"
             ],
             [
              0.8888888888888888,
              "#fdca26"
             ],
             [
              1,
              "#f0f921"
             ]
            ],
            "type": "histogram2d"
           }
          ],
          "histogram2dcontour": [
           {
            "colorbar": {
             "outlinewidth": 0,
             "ticks": ""
            },
            "colorscale": [
             [
              0,
              "#0d0887"
             ],
             [
              0.1111111111111111,
              "#46039f"
             ],
             [
              0.2222222222222222,
              "#7201a8"
             ],
             [
              0.3333333333333333,
              "#9c179e"
             ],
             [
              0.4444444444444444,
              "#bd3786"
             ],
             [
              0.5555555555555556,
              "#d8576b"
             ],
             [
              0.6666666666666666,
              "#ed7953"
             ],
             [
              0.7777777777777778,
              "#fb9f3a"
             ],
             [
              0.8888888888888888,
              "#fdca26"
             ],
             [
              1,
              "#f0f921"
             ]
            ],
            "type": "histogram2dcontour"
           }
          ],
          "mesh3d": [
           {
            "colorbar": {
             "outlinewidth": 0,
             "ticks": ""
            },
            "type": "mesh3d"
           }
          ],
          "parcoords": [
           {
            "line": {
             "colorbar": {
              "outlinewidth": 0,
              "ticks": ""
             }
            },
            "type": "parcoords"
           }
          ],
          "pie": [
           {
            "automargin": true,
            "type": "pie"
           }
          ],
          "scatter": [
           {
            "fillpattern": {
             "fillmode": "overlay",
             "size": 10,
             "solidity": 0.2
            },
            "type": "scatter"
           }
          ],
          "scatter3d": [
           {
            "line": {
             "colorbar": {
              "outlinewidth": 0,
              "ticks": ""
             }
            },
            "marker": {
             "colorbar": {
              "outlinewidth": 0,
              "ticks": ""
             }
            },
            "type": "scatter3d"
           }
          ],
          "scattercarpet": [
           {
            "marker": {
             "colorbar": {
              "outlinewidth": 0,
              "ticks": ""
             }
            },
            "type": "scattercarpet"
           }
          ],
          "scattergeo": [
           {
            "marker": {
             "colorbar": {
              "outlinewidth": 0,
              "ticks": ""
             }
            },
            "type": "scattergeo"
           }
          ],
          "scattergl": [
           {
            "marker": {
             "colorbar": {
              "outlinewidth": 0,
              "ticks": ""
             }
            },
            "type": "scattergl"
           }
          ],
          "scattermapbox": [
           {
            "marker": {
             "colorbar": {
              "outlinewidth": 0,
              "ticks": ""
             }
            },
            "type": "scattermapbox"
           }
          ],
          "scatterpolar": [
           {
            "marker": {
             "colorbar": {
              "outlinewidth": 0,
              "ticks": ""
             }
            },
            "type": "scatterpolar"
           }
          ],
          "scatterpolargl": [
           {
            "marker": {
             "colorbar": {
              "outlinewidth": 0,
              "ticks": ""
             }
            },
            "type": "scatterpolargl"
           }
          ],
          "scatterternary": [
           {
            "marker": {
             "colorbar": {
              "outlinewidth": 0,
              "ticks": ""
             }
            },
            "type": "scatterternary"
           }
          ],
          "surface": [
           {
            "colorbar": {
             "outlinewidth": 0,
             "ticks": ""
            },
            "colorscale": [
             [
              0,
              "#0d0887"
             ],
             [
              0.1111111111111111,
              "#46039f"
             ],
             [
              0.2222222222222222,
              "#7201a8"
             ],
             [
              0.3333333333333333,
              "#9c179e"
             ],
             [
              0.4444444444444444,
              "#bd3786"
             ],
             [
              0.5555555555555556,
              "#d8576b"
             ],
             [
              0.6666666666666666,
              "#ed7953"
             ],
             [
              0.7777777777777778,
              "#fb9f3a"
             ],
             [
              0.8888888888888888,
              "#fdca26"
             ],
             [
              1,
              "#f0f921"
             ]
            ],
            "type": "surface"
           }
          ],
          "table": [
           {
            "cells": {
             "fill": {
              "color": "#EBF0F8"
             },
             "line": {
              "color": "white"
             }
            },
            "header": {
             "fill": {
              "color": "#C8D4E3"
             },
             "line": {
              "color": "white"
             }
            },
            "type": "table"
           }
          ]
         },
         "layout": {
          "annotationdefaults": {
           "arrowcolor": "#2a3f5f",
           "arrowhead": 0,
           "arrowwidth": 1
          },
          "autotypenumbers": "strict",
          "coloraxis": {
           "colorbar": {
            "outlinewidth": 0,
            "ticks": ""
           }
          },
          "colorscale": {
           "diverging": [
            [
             0,
             "#8e0152"
            ],
            [
             0.1,
             "#c51b7d"
            ],
            [
             0.2,
             "#de77ae"
            ],
            [
             0.3,
             "#f1b6da"
            ],
            [
             0.4,
             "#fde0ef"
            ],
            [
             0.5,
             "#f7f7f7"
            ],
            [
             0.6,
             "#e6f5d0"
            ],
            [
             0.7,
             "#b8e186"
            ],
            [
             0.8,
             "#7fbc41"
            ],
            [
             0.9,
             "#4d9221"
            ],
            [
             1,
             "#276419"
            ]
           ],
           "sequential": [
            [
             0,
             "#0d0887"
            ],
            [
             0.1111111111111111,
             "#46039f"
            ],
            [
             0.2222222222222222,
             "#7201a8"
            ],
            [
             0.3333333333333333,
             "#9c179e"
            ],
            [
             0.4444444444444444,
             "#bd3786"
            ],
            [
             0.5555555555555556,
             "#d8576b"
            ],
            [
             0.6666666666666666,
             "#ed7953"
            ],
            [
             0.7777777777777778,
             "#fb9f3a"
            ],
            [
             0.8888888888888888,
             "#fdca26"
            ],
            [
             1,
             "#f0f921"
            ]
           ],
           "sequentialminus": [
            [
             0,
             "#0d0887"
            ],
            [
             0.1111111111111111,
             "#46039f"
            ],
            [
             0.2222222222222222,
             "#7201a8"
            ],
            [
             0.3333333333333333,
             "#9c179e"
            ],
            [
             0.4444444444444444,
             "#bd3786"
            ],
            [
             0.5555555555555556,
             "#d8576b"
            ],
            [
             0.6666666666666666,
             "#ed7953"
            ],
            [
             0.7777777777777778,
             "#fb9f3a"
            ],
            [
             0.8888888888888888,
             "#fdca26"
            ],
            [
             1,
             "#f0f921"
            ]
           ]
          },
          "colorway": [
           "#636efa",
           "#EF553B",
           "#00cc96",
           "#ab63fa",
           "#FFA15A",
           "#19d3f3",
           "#FF6692",
           "#B6E880",
           "#FF97FF",
           "#FECB52"
          ],
          "font": {
           "color": "#2a3f5f"
          },
          "geo": {
           "bgcolor": "white",
           "lakecolor": "white",
           "landcolor": "#E5ECF6",
           "showlakes": true,
           "showland": true,
           "subunitcolor": "white"
          },
          "hoverlabel": {
           "align": "left"
          },
          "hovermode": "closest",
          "mapbox": {
           "style": "light"
          },
          "paper_bgcolor": "white",
          "plot_bgcolor": "#E5ECF6",
          "polar": {
           "angularaxis": {
            "gridcolor": "white",
            "linecolor": "white",
            "ticks": ""
           },
           "bgcolor": "#E5ECF6",
           "radialaxis": {
            "gridcolor": "white",
            "linecolor": "white",
            "ticks": ""
           }
          },
          "scene": {
           "xaxis": {
            "backgroundcolor": "#E5ECF6",
            "gridcolor": "white",
            "gridwidth": 2,
            "linecolor": "white",
            "showbackground": true,
            "ticks": "",
            "zerolinecolor": "white"
           },
           "yaxis": {
            "backgroundcolor": "#E5ECF6",
            "gridcolor": "white",
            "gridwidth": 2,
            "linecolor": "white",
            "showbackground": true,
            "ticks": "",
            "zerolinecolor": "white"
           },
           "zaxis": {
            "backgroundcolor": "#E5ECF6",
            "gridcolor": "white",
            "gridwidth": 2,
            "linecolor": "white",
            "showbackground": true,
            "ticks": "",
            "zerolinecolor": "white"
           }
          },
          "shapedefaults": {
           "line": {
            "color": "#2a3f5f"
           }
          },
          "ternary": {
           "aaxis": {
            "gridcolor": "white",
            "linecolor": "white",
            "ticks": ""
           },
           "baxis": {
            "gridcolor": "white",
            "linecolor": "white",
            "ticks": ""
           },
           "bgcolor": "#E5ECF6",
           "caxis": {
            "gridcolor": "white",
            "linecolor": "white",
            "ticks": ""
           }
          },
          "title": {
           "x": 0.05
          },
          "xaxis": {
           "automargin": true,
           "gridcolor": "white",
           "linecolor": "white",
           "ticks": "",
           "title": {
            "standoff": 15
           },
           "zerolinecolor": "white",
           "zerolinewidth": 2
          },
          "yaxis": {
           "automargin": true,
           "gridcolor": "white",
           "linecolor": "white",
           "ticks": "",
           "title": {
            "standoff": 15
           },
           "zerolinecolor": "white",
           "zerolinewidth": 2
          }
         }
        },
        "title": {
         "text": "Your next vacation in France for a high landscape view weather among those hotels ordered by best score"
        },
        "width": 1000
       }
      }
     },
     "metadata": {},
     "output_type": "display_data"
    }
   ],
   "source": [
    "plotResults(dataset=working, weather=\"landscape\", order_hotel=\"bayesian_review_score\")"
   ]
  },
  {
   "cell_type": "code",
   "execution_count": 120,
   "metadata": {},
   "outputs": [
    {
     "data": {
      "application/vnd.plotly.v1+json": {
       "config": {
        "plotlyServerURL": "https://plot.ly"
       },
       "data": [
        {
         "customdata": [
          [
           "Cassis",
           "UNE TERRASSE SUR LA MER 3 pers 2 chambres VUE MER",
           "8,5",
           "9 Avenue Maurice Jermini, 13260 Cassis, France"
          ],
          [
           "Cassis",
           "Villa ANTINEA",
           "7,0",
           "2 Avenue Auguste Favier, 13260 Cassis, France"
          ],
          [
           "Cassis",
           "LE REVE BLEU",
           "8,6",
           "28 Avenue Jules Ferry, 13260 Cassis, France"
          ],
          [
           "Cassis",
           "Home Cassis - Maison Julou - Piscine chauffée",
           "7,5",
           "23 Avenue de la Marne, 13260 Cassis, France"
          ],
          [
           "Cassis",
           "appartement cosy à 10 mètres du port de Cassis",
           "8,3",
           "6 Rue Bremond, 13260 Cassis, France"
          ],
          [
           "Cassis",
           "Le Cleli",
           "8,1",
           "11 Rue de la Ciotat, 13260 Cassis, France"
          ],
          [
           "Cassis",
           "Cassis, le Grand Bleu, triplex vue mer, port plage 10mn à pieds",
           "9,0",
           "3 Avenue Auguste Favier, 13260 Cassis, France"
          ],
          [
           "Cassis",
           "LA FALAISE PARADIS Vue mer 180°",
           "7,6",
           "3 Avenue de Provence, 13260 Cassis, France"
          ],
          [
           "Cassis",
           "LOU CIGALOU",
           "9,0",
           "Parc Maraveyre 6 avenue Maurice Jerminy, 13260 Cassis, France"
          ],
          [
           "Cassis",
           "Appartement Cassis vue mer d'exception",
           "8,6",
           "residence ST MARC Avenue du Maréchal Foch, 13260 Cassis, France"
          ],
          [
           "Cassis",
           "La douceur de Cassis",
           "9,3",
           "16 Avenue du Picouveau, 13260 Cassis, France"
          ],
          [
           "Cassis",
           "Sweet SEA HOME vue mer",
           "8,5",
           "3 Avenue Alphonse Daudet, 13260 Cassis, France"
          ],
          [
           "Cassis",
           "T2 VUE IMPRENABLE SUR CASSIS",
           "9,5",
           "BAT C 7 AVENUE AMIRAL GANTEAUME, 13260 Cassis, France"
          ],
          [
           "Cassis",
           "Appart Port Cassis Village Parking",
           "8,9",
           "1 RUE MICHEL ARNAUD, 13260 Cassis, France"
          ],
          [
           "Cassis",
           "BALCON SUR MER vue mer",
           "7,7",
           "Résidence La Rade Bt C6 av Amiral Ganteaume 13260 Cassis, 13260 Cassis, France"
          ],
          [
           "Cassis",
           "HORIZON BLEU Vue Mer",
           "8,4",
           "Residence la rade Allée Amiral Ganteaume, 13260 Cassis, France"
          ],
          [
           "Cassis",
           "CALYPSO",
           "8,2",
           "Résidence le Val d'Ore 17 Avenue de la Viguerie, 13260 Cassis, France"
          ],
          [
           "Cassis",
           "Le clos de la tour Cassis",
           "9,0",
           "3 Route Pierre Imbert, 13260 Cassis, France"
          ],
          [
           "Cassis",
           "appartement du pêcheur à Cassis à 10 mètres du port",
           "8,6",
           "6 Rue Bremond, 13260 Cassis, France"
          ],
          [
           "Cassis",
           "Cassis Ma Vie Là",
           "9,1",
           "10 ter avenue Augustin Isnard, 13260 Cassis, France"
          ],
          [
           "Cassis",
           "Plage & Calanques Cassis",
           "9,7",
           "20 Traverse du Soleil, 13260 Cassis, France"
          ],
          [
           "Cassis",
           "Le Duplex",
           "8,2",
           "11 Rue de la Ciotat, 13260 Cassis, France"
          ],
          [
           "Cassis",
           "L'ECHO DES FLOTS vue mer",
           "8,2",
           "3bis Avenue des Calanques résidence le Week End, 13260 Cassis, France"
          ],
          [
           "Cassis",
           "Le Clocher de Cassis",
           "8,3",
           "29 Rue Docteur Séverin Icard, 13260 Cassis, France"
          ],
          [
           "Cassis",
           "UNE TERRASSE SUR LA MER 3 pers 2 chambres VUE MER",
           "8,5",
           "9 Avenue Maurice Jermini, 13260 Cassis, France"
          ],
          [
           "Cassis",
           "Villa ANTINEA",
           "7,0",
           "2 Avenue Auguste Favier, 13260 Cassis, France"
          ],
          [
           "Cassis",
           "LE REVE BLEU",
           "8,6",
           "28 Avenue Jules Ferry, 13260 Cassis, France"
          ],
          [
           "Cassis",
           "Home Cassis - Maison Julou - Piscine chauffée",
           "7,5",
           "23 Avenue de la Marne, 13260 Cassis, France"
          ],
          [
           "Cassis",
           "appartement cosy à 10 mètres du port de Cassis",
           "8,3",
           "6 Rue Bremond, 13260 Cassis, France"
          ],
          [
           "Cassis",
           "Cassis, le Grand Bleu, triplex vue mer, port plage 10mn à pieds",
           "9,0",
           "3 Avenue Auguste Favier, 13260 Cassis, France"
          ],
          [
           "Cassis",
           "Le Cleli",
           "8,1",
           "11 Rue de la Ciotat, 13260 Cassis, France"
          ],
          [
           "Cassis",
           "LA FALAISE PARADIS Vue mer 180°",
           "7,6",
           "3 Avenue de Provence, 13260 Cassis, France"
          ],
          [
           "Cassis",
           "LOU CIGALOU",
           "9,0",
           "Parc Maraveyre 6 avenue Maurice Jerminy, 13260 Cassis, France"
          ],
          [
           "Cassis",
           "Appartement Cassis vue mer d'exception",
           "8,6",
           "residence ST MARC Avenue du Maréchal Foch, 13260 Cassis, France"
          ],
          [
           "Cassis",
           "La douceur de Cassis",
           "9,3",
           "16 Avenue du Picouveau, 13260 Cassis, France"
          ],
          [
           "Cassis",
           "Sweet SEA HOME vue mer",
           "8,5",
           "3 Avenue Alphonse Daudet, 13260 Cassis, France"
          ],
          [
           "Cassis",
           "T2 VUE IMPRENABLE SUR CASSIS",
           "9,5",
           "BAT C 7 AVENUE AMIRAL GANTEAUME, 13260 Cassis, France"
          ],
          [
           "Cassis",
           "Appart Port Cassis Village Parking",
           "8,9",
           "1 RUE MICHEL ARNAUD, 13260 Cassis, France"
          ],
          [
           "Cassis",
           "BALCON SUR MER vue mer",
           "7,7",
           "Résidence La Rade Bt C6 av Amiral Ganteaume 13260 Cassis, 13260 Cassis, France"
          ],
          [
           "Cassis",
           "HORIZON BLEU Vue Mer",
           "8,4",
           "Residence la rade Allée Amiral Ganteaume, 13260 Cassis, France"
          ],
          [
           "Cassis",
           "CALYPSO",
           "8,2",
           "Résidence le Val d'Ore 17 Avenue de la Viguerie, 13260 Cassis, France"
          ],
          [
           "Cassis",
           "Le clos de la tour Cassis",
           "9,0",
           "3 Route Pierre Imbert, 13260 Cassis, France"
          ],
          [
           "Cassis",
           "appartement du pêcheur à Cassis à 10 mètres du port",
           "8,6",
           "6 Rue Bremond, 13260 Cassis, France"
          ],
          [
           "Cassis",
           "Cassis Ma Vie Là",
           "9,1",
           "10 ter avenue Augustin Isnard, 13260 Cassis, France"
          ],
          [
           "Cassis",
           "Plage & Calanques Cassis",
           "9,7",
           "20 Traverse du Soleil, 13260 Cassis, France"
          ],
          [
           "Cassis",
           "Le Duplex",
           "8,2",
           "11 Rue de la Ciotat, 13260 Cassis, France"
          ],
          [
           "Cassis",
           "L'ECHO DES FLOTS vue mer",
           "8,2",
           "3bis Avenue des Calanques résidence le Week End, 13260 Cassis, France"
          ],
          [
           "Cassis",
           "Le Clocher de Cassis",
           "8,3",
           "29 Rue Docteur Séverin Icard, 13260 Cassis, France"
          ],
          [
           "Cassis",
           "UNE TERRASSE SUR LA MER 3 pers 2 chambres VUE MER",
           "8,5",
           "9 Avenue Maurice Jermini, 13260 Cassis, France"
          ],
          [
           "Cassis",
           "Villa ANTINEA",
           "7,0",
           "2 Avenue Auguste Favier, 13260 Cassis, France"
          ],
          [
           "Cassis",
           "LE REVE BLEU",
           "8,6",
           "28 Avenue Jules Ferry, 13260 Cassis, France"
          ],
          [
           "Cassis",
           "Home Cassis - Maison Julou - Piscine chauffée",
           "7,5",
           "23 Avenue de la Marne, 13260 Cassis, France"
          ],
          [
           "Cassis",
           "appartement cosy à 10 mètres du port de Cassis",
           "8,3",
           "6 Rue Bremond, 13260 Cassis, France"
          ],
          [
           "Cassis",
           "Cassis, le Grand Bleu, triplex vue mer, port plage 10mn à pieds",
           "9,0",
           "3 Avenue Auguste Favier, 13260 Cassis, France"
          ],
          [
           "Cassis",
           "LA FALAISE PARADIS Vue mer 180°",
           "7,6",
           "3 Avenue de Provence, 13260 Cassis, France"
          ],
          [
           "Cassis",
           "LOU CIGALOU",
           "9,0",
           "Parc Maraveyre 6 avenue Maurice Jerminy, 13260 Cassis, France"
          ],
          [
           "Cassis",
           "Appartement Cassis vue mer d'exception",
           "8,6",
           "residence ST MARC Avenue du Maréchal Foch, 13260 Cassis, France"
          ],
          [
           "Cassis",
           "La douceur de Cassis",
           "9,3",
           "16 Avenue du Picouveau, 13260 Cassis, France"
          ],
          [
           "Cassis",
           "Sweet SEA HOME vue mer",
           "8,5",
           "3 Avenue Alphonse Daudet, 13260 Cassis, France"
          ],
          [
           "Cassis",
           "T2 VUE IMPRENABLE SUR CASSIS",
           "9,5",
           "BAT C 7 AVENUE AMIRAL GANTEAUME, 13260 Cassis, France"
          ],
          [
           "Cassis",
           "Appart Port Cassis Village Parking",
           "8,9",
           "1 RUE MICHEL ARNAUD, 13260 Cassis, France"
          ],
          [
           "Cassis",
           "HORIZON BLEU Vue Mer",
           "8,4",
           "Residence la rade Allée Amiral Ganteaume, 13260 Cassis, France"
          ],
          [
           "Cassis",
           "BALCON SUR MER vue mer",
           "7,7",
           "Résidence La Rade Bt C6 av Amiral Ganteaume 13260 Cassis, 13260 Cassis, France"
          ],
          [
           "Cassis",
           "CALYPSO",
           "8,2",
           "Résidence le Val d'Ore 17 Avenue de la Viguerie, 13260 Cassis, France"
          ],
          [
           "Cassis",
           "Le clos de la tour Cassis",
           "9,0",
           "3 Route Pierre Imbert, 13260 Cassis, France"
          ],
          [
           "Cassis",
           "appartement du pêcheur à Cassis à 10 mètres du port",
           "8,6",
           "6 Rue Bremond, 13260 Cassis, France"
          ],
          [
           "Cassis",
           "Cassis Ma Vie Là",
           "9,1",
           "10 ter avenue Augustin Isnard, 13260 Cassis, France"
          ],
          [
           "Cassis",
           "Plage & Calanques Cassis",
           "9,7",
           "20 Traverse du Soleil, 13260 Cassis, France"
          ],
          [
           "Cassis",
           "Le Duplex",
           "8,2",
           "11 Rue de la Ciotat, 13260 Cassis, France"
          ],
          [
           "Cassis",
           "L'ECHO DES FLOTS vue mer",
           "8,2",
           "3bis Avenue des Calanques résidence le Week End, 13260 Cassis, France"
          ],
          [
           "Cassis",
           "Le Clocher de Cassis",
           "8,3",
           "29 Rue Docteur Séverin Icard, 13260 Cassis, France"
          ],
          [
           "Cassis",
           "La vigie II",
           "7,8",
           "La Vigie de l'arène - Bat A - 2éme étage 1bis Avenue du Revestel, 13260 Cassis, France"
          ],
          [
           "Cassis",
           "Superb bright flat with balcony and sea view in Cassis - Welkeys",
           "8,2",
           "Avenue de l'Amiral Ganteaume Résidence de la Rade, 13260 Cassis, France"
          ],
          [
           "Cassis",
           "UNE TERRASSE SUR LA MER 3 pers 2 chambres VUE MER",
           "8,5",
           "9 Avenue Maurice Jermini, 13260 Cassis, France"
          ],
          [
           "Cassis",
           "Villa ANTINEA",
           "7,0",
           "2 Avenue Auguste Favier, 13260 Cassis, France"
          ],
          [
           "Cassis",
           "LE REVE BLEU",
           "8,6",
           "28 Avenue Jules Ferry, 13260 Cassis, France"
          ],
          [
           "Cassis",
           "Home Cassis - Maison Julou - Piscine chauffée",
           "7,5",
           "23 Avenue de la Marne, 13260 Cassis, France"
          ],
          [
           "Cassis",
           "appartement cosy à 10 mètres du port de Cassis",
           "8,3",
           "6 Rue Bremond, 13260 Cassis, France"
          ],
          [
           "Cassis",
           "Cassis, le Grand Bleu, triplex vue mer, port plage 10mn à pieds",
           "9,0",
           "3 Avenue Auguste Favier, 13260 Cassis, France"
          ],
          [
           "Cassis",
           "Le Cleli",
           "8,1",
           "11 Rue de la Ciotat, 13260 Cassis, France"
          ],
          [
           "Cassis",
           "LA FALAISE PARADIS Vue mer 180°",
           "7,6",
           "3 Avenue de Provence, 13260 Cassis, France"
          ],
          [
           "Cassis",
           "LOU CIGALOU",
           "9,0",
           "Parc Maraveyre 6 avenue Maurice Jerminy, 13260 Cassis, France"
          ],
          [
           "Cassis",
           "Appartement Cassis vue mer d'exception",
           "8,6",
           "residence ST MARC Avenue du Maréchal Foch, 13260 Cassis, France"
          ],
          [
           "Cassis",
           "La douceur de Cassis",
           "9,3",
           "16 Avenue du Picouveau, 13260 Cassis, France"
          ],
          [
           "Cassis",
           "Sweet SEA HOME vue mer",
           "8,5",
           "3 Avenue Alphonse Daudet, 13260 Cassis, France"
          ],
          [
           "Cassis",
           "T2 VUE IMPRENABLE SUR CASSIS",
           "9,5",
           "BAT C 7 AVENUE AMIRAL GANTEAUME, 13260 Cassis, France"
          ],
          [
           "Cassis",
           "Appart Port Cassis Village Parking",
           "8,9",
           "1 RUE MICHEL ARNAUD, 13260 Cassis, France"
          ],
          [
           "Cassis",
           "BALCON SUR MER vue mer",
           "7,7",
           "Résidence La Rade Bt C6 av Amiral Ganteaume 13260 Cassis, 13260 Cassis, France"
          ],
          [
           "Cassis",
           "HORIZON BLEU Vue Mer",
           "8,4",
           "Residence la rade Allée Amiral Ganteaume, 13260 Cassis, France"
          ],
          [
           "Cassis",
           "CALYPSO",
           "8,2",
           "Résidence le Val d'Ore 17 Avenue de la Viguerie, 13260 Cassis, France"
          ],
          [
           "Cassis",
           "Le clos de la tour Cassis",
           "9,0",
           "3 Route Pierre Imbert, 13260 Cassis, France"
          ],
          [
           "Cassis",
           "appartement du pêcheur à Cassis à 10 mètres du port",
           "8,6",
           "6 Rue Bremond, 13260 Cassis, France"
          ],
          [
           "Cassis",
           "Cassis Ma Vie Là",
           "9,1",
           "10 ter avenue Augustin Isnard, 13260 Cassis, France"
          ],
          [
           "Cassis",
           "Plage & Calanques Cassis",
           "9,7",
           "20 Traverse du Soleil, 13260 Cassis, France"
          ],
          [
           "Cassis",
           "Le Duplex",
           "8,2",
           "11 Rue de la Ciotat, 13260 Cassis, France"
          ],
          [
           "Cassis",
           "L'ECHO DES FLOTS vue mer",
           "8,2",
           "3bis Avenue des Calanques résidence le Week End, 13260 Cassis, France"
          ],
          [
           "Cassis",
           "Le Clocher de Cassis",
           "8,3",
           "29 Rue Docteur Séverin Icard, 13260 Cassis, France"
          ],
          [
           "Cassis",
           "La vigie II",
           "7,8",
           "La Vigie de l'arène - Bat A - 2éme étage 1bis Avenue du Revestel, 13260 Cassis, France"
          ],
          [
           "Cassis",
           "UNE TERRASSE SUR LA MER 3 pers 2 chambres VUE MER",
           "8,5",
           "9 Avenue Maurice Jermini, 13260 Cassis, France"
          ],
          [
           "Cassis",
           "LE REVE BLEU",
           "8,6",
           "28 Avenue Jules Ferry, 13260 Cassis, France"
          ],
          [
           "Cassis",
           "Cassis, le Grand Bleu, triplex vue mer, port plage 10mn à pieds",
           "9,0",
           "3 Avenue Auguste Favier, 13260 Cassis, France"
          ],
          [
           "Cassis",
           "BALCON SUR MER vue mer",
           "7,7",
           "Résidence La Rade Bt C6 av Amiral Ganteaume 13260 Cassis, 13260 Cassis, France"
          ],
          [
           "Cassis",
           "Superb bright flat with balcony and sea view in Cassis - Welkeys",
           "8,2",
           "Avenue de l'Amiral Ganteaume Résidence de la Rade, 13260 Cassis, France"
          ],
          [
           "Cassis",
           "UNE TERRASSE SUR LA MER 3 pers 2 chambres VUE MER",
           "8,5",
           "9 Avenue Maurice Jermini, 13260 Cassis, France"
          ],
          [
           "Cassis",
           "LE REVE BLEU",
           "8,6",
           "28 Avenue Jules Ferry, 13260 Cassis, France"
          ],
          [
           "Cassis",
           "Cassis, le Grand Bleu, triplex vue mer, port plage 10mn à pieds",
           "9,0",
           "3 Avenue Auguste Favier, 13260 Cassis, France"
          ],
          [
           "Cassis",
           "BALCON SUR MER vue mer",
           "7,7",
           "Résidence La Rade Bt C6 av Amiral Ganteaume 13260 Cassis, 13260 Cassis, France"
          ],
          [
           "Cassis",
           "appartement cosy à 10 mètres du port de Cassis",
           "8,3",
           "6 Rue Bremond, 13260 Cassis, France"
          ],
          [
           "Cassis",
           "appartement du pêcheur à Cassis à 10 mètres du port",
           "8,6",
           "6 Rue Bremond, 13260 Cassis, France"
          ],
          [
           "Cassis",
           "Le Clocher de Cassis",
           "8,3",
           "29 Rue Docteur Séverin Icard, 13260 Cassis, France"
          ],
          [
           "Cassis",
           "Appart Port Cassis Village Parking",
           "8,9",
           "1 RUE MICHEL ARNAUD, 13260 Cassis, France"
          ],
          [
           "Cassis",
           "appartement cosy à 10 mètres du port de Cassis",
           "8,3",
           "6 Rue Bremond, 13260 Cassis, France"
          ],
          [
           "Cassis",
           "appartement du pêcheur à Cassis à 10 mètres du port",
           "8,6",
           "6 Rue Bremond, 13260 Cassis, France"
          ],
          [
           "Cassis",
           "Le Clocher de Cassis",
           "8,3",
           "29 Rue Docteur Séverin Icard, 13260 Cassis, France"
          ],
          [
           "Cassis",
           "Appart Port Cassis Village Parking",
           "8,9",
           "1 RUE MICHEL ARNAUD, 13260 Cassis, France"
          ],
          [
           "Cassis",
           "La douceur de Cassis",
           "9,3",
           "16 Avenue du Picouveau, 13260 Cassis, France"
          ],
          [
           "Cassis",
           "LOU CIGALOU",
           "9,0",
           "Parc Maraveyre 6 avenue Maurice Jerminy, 13260 Cassis, France"
          ],
          [
           "Cassis",
           "Appart Port Cassis Village Parking",
           "8,9",
           "1 RUE MICHEL ARNAUD, 13260 Cassis, France"
          ],
          [
           "Cassis",
           "Cassis Ma Vie Là",
           "9,1",
           "10 ter avenue Augustin Isnard, 13260 Cassis, France"
          ],
          [
           "Cassis",
           "La douceur de Cassis",
           "9,3",
           "16 Avenue du Picouveau, 13260 Cassis, France"
          ],
          [
           "Cassis",
           "LOU CIGALOU",
           "9,0",
           "Parc Maraveyre 6 avenue Maurice Jerminy, 13260 Cassis, France"
          ],
          [
           "Cassis",
           "Appart Port Cassis Village Parking",
           "8,9",
           "1 RUE MICHEL ARNAUD, 13260 Cassis, France"
          ],
          [
           "Cassis",
           "Cassis Ma Vie Là",
           "9,1",
           "10 ter avenue Augustin Isnard, 13260 Cassis, France"
          ]
         ],
         "hovertemplate": "City to go=%{customdata[0]}<br>lat=%{lat}<br>lon=%{lon}<br>name_hotel=%{customdata[1]}<br>score_hotel=%{customdata[2]}<br>adresse_hotel=%{customdata[3]}<extra></extra>",
         "lat": [
          43.21407197,
          43.2202401,
          43.2206243,
          43.22207969,
          43.21533507,
          43.21509805,
          43.2208045,
          43.21529502,
          43.214926,
          43.21875954,
          43.215009,
          43.21729234,
          43.21462214,
          43.21462613,
          43.21589392,
          43.21499337,
          43.21703056,
          43.21660581,
          43.21534046,
          43.216905,
          43.2120018,
          43.21505477,
          43.2119159,
          43.215602,
          43.21407197,
          43.2202401,
          43.2206243,
          43.22207969,
          43.21533507,
          43.2208045,
          43.21509805,
          43.21529502,
          43.214926,
          43.21875954,
          43.215009,
          43.21729234,
          43.21462214,
          43.21462613,
          43.21589392,
          43.21499337,
          43.21703056,
          43.21660581,
          43.21534046,
          43.216905,
          43.2120018,
          43.21505477,
          43.2119159,
          43.215602,
          43.21407197,
          43.2202401,
          43.2206243,
          43.22207969,
          43.21533507,
          43.2208045,
          43.21529502,
          43.214926,
          43.21875954,
          43.215009,
          43.21729234,
          43.21462214,
          43.21462613,
          43.21499337,
          43.21589392,
          43.21703056,
          43.21660581,
          43.21534046,
          43.216905,
          43.2120018,
          43.21505477,
          43.2119159,
          43.215602,
          43.21312971,
          43.21495674,
          43.21407197,
          43.2202401,
          43.2206243,
          43.22207969,
          43.21533507,
          43.2208045,
          43.21509805,
          43.21529502,
          43.214926,
          43.21875954,
          43.215009,
          43.21729234,
          43.21462214,
          43.21462613,
          43.21589392,
          43.21499337,
          43.21703056,
          43.21660581,
          43.21534046,
          43.216905,
          43.2120018,
          43.21505477,
          43.2119159,
          43.215602,
          43.21312971,
          43.21407197,
          43.2206243,
          43.2208045,
          43.21589392,
          43.21495674,
          43.21407197,
          43.2206243,
          43.2208045,
          43.21589392,
          43.21533507,
          43.21534046,
          43.215602,
          43.21462613,
          43.21533507,
          43.21534046,
          43.215602,
          43.21462613,
          43.215009,
          43.214926,
          43.21462613,
          43.216905,
          43.215009,
          43.214926,
          43.21462613,
          43.216905
         ],
         "legendgroup": "Cassis",
         "lon": [
          5.53062182,
          5.5424693,
          5.540767,
          5.53792695,
          5.53686093,
          5.54048743,
          5.54229625,
          5.54623054,
          5.532989,
          5.54379929,
          5.530956,
          5.53577062,
          5.53477276,
          5.53784391,
          5.53476321,
          5.53584943,
          5.53575003,
          5.55169795,
          5.5368582,
          5.541446,
          5.5276305,
          5.54057326,
          5.53091776,
          5.5377111,
          5.53062182,
          5.5424693,
          5.540767,
          5.53792695,
          5.53686093,
          5.54229625,
          5.54048743,
          5.54623054,
          5.532989,
          5.54379929,
          5.530956,
          5.53577062,
          5.53477276,
          5.53784391,
          5.53476321,
          5.53584943,
          5.53575003,
          5.55169795,
          5.5368582,
          5.541446,
          5.5276305,
          5.54057326,
          5.53091776,
          5.5377111,
          5.53062182,
          5.5424693,
          5.540767,
          5.53792695,
          5.53686093,
          5.54229625,
          5.54623054,
          5.532989,
          5.54379929,
          5.530956,
          5.53577062,
          5.53477276,
          5.53784391,
          5.53584943,
          5.53476321,
          5.53575003,
          5.55169795,
          5.5368582,
          5.541446,
          5.5276305,
          5.54057326,
          5.53091776,
          5.5377111,
          5.54228424,
          5.5357946,
          5.53062182,
          5.5424693,
          5.540767,
          5.53792695,
          5.53686093,
          5.54229625,
          5.54048743,
          5.54623054,
          5.532989,
          5.54379929,
          5.530956,
          5.53577062,
          5.53477276,
          5.53784391,
          5.53476321,
          5.53584943,
          5.53575003,
          5.55169795,
          5.5368582,
          5.541446,
          5.5276305,
          5.54057326,
          5.53091776,
          5.5377111,
          5.54228424,
          5.53062182,
          5.540767,
          5.54229625,
          5.53476321,
          5.5357946,
          5.53062182,
          5.540767,
          5.54229625,
          5.53476321,
          5.53686093,
          5.5368582,
          5.5377111,
          5.53784391,
          5.53686093,
          5.5368582,
          5.5377111,
          5.53784391,
          5.530956,
          5.532989,
          5.53784391,
          5.541446,
          5.530956,
          5.532989,
          5.53784391,
          5.541446
         ],
         "marker": {
          "color": "#636efa"
         },
         "mode": "markers",
         "name": "Cassis",
         "showlegend": true,
         "subplot": "mapbox",
         "type": "scattermapbox"
        },
        {
         "customdata": [
          [
           "Marseille",
           "Vieux Port République Cannebiére",
           "8,7",
           "11 Rue des Augustins, 13001 Marseille, France"
          ],
          [
           "Marseille",
           "Le Plaisir 1827",
           "9,1",
           "3 Eme etages gauche 38 Rue du Progrès, 13005 Marseille, France"
          ],
          [
           "Marseille",
           "Cocon au Soleil 1827",
           "8,8",
           "1ER ETAGE 38 Rue du Progrès, 13005 Marseille, France"
          ],
          [
           "Marseille",
           "LE PANIER ENCHANTÉ - Suites & Loft - Terrasse et patio au dessus du Vieux Port",
           "7,8",
           "7 Rue de la Charité, 13002 Marseille, France"
          ],
          [
           "Marseille",
           "Superbe appart 3 p, 10 mn de la plage avec piscine et parking",
           "9,1",
           "72 Boulevard du Sablier, 13008 Marseille, France"
          ],
          [
           "Marseille",
           "NOCNOC - Le Renversant",
           "6,8",
           "36 Rue d'Aubagne, 13001 Marseille, France"
          ],
          [
           "Marseille",
           "Marseillement votre",
           "8,3",
           "4 Rue DELILLE, 13001 Marseille, France"
          ],
          [
           "Marseille",
           "T3 downtown, luminous, near to most facilities.",
           null,
           "148 Rue Sainte-Cécile, 13005 Marseille, France"
          ],
          [
           "Marseille",
           "THUBANEAU 2 - Nid douillet à 3 min à pied de la Canebière",
           null,
           "19 Rue Thubaneau, 13001 Marseille, France"
          ],
          [
           "Marseille",
           "Appartement 6pers en résidence privée : Marseille",
           null,
           "33 Boulevard du Bosphore, 13015 Marseille, France"
          ],
          [
           "Marseille",
           "Appart'City Confort Marseille Centre Prado Velodrome",
           "7,6",
           "1 Rue Vandel, 13008 Marseille, France"
          ],
          [
           "Marseille",
           "Borely - apt avec terrasse",
           null,
           "87 Avenue Clot bey, 13008 Marseille, France"
          ],
          [
           "Marseille",
           "Le Saint Jean - Appt avec vue sur lentrée du Vieux Port",
           null,
           "13 rue Henri Tasso, 13002 Marseille, France"
          ],
          [
           "Marseille",
           "Chic et moderne",
           "8,5",
           "38 Rue Saint-Pierre, 13006 Marseille, France"
          ],
          [
           "Marseille",
           "Nice 42m near the Old Port",
           null,
           "78 Rue Grignan, 13006 Marseille, France"
          ],
          [
           "Marseille",
           "Appartement 200m des plages vue mer et hippodrome",
           null,
           "4 Boulevard des Vagues, 13008 Marseille, France"
          ],
          [
           "Marseille",
           "MAGNIFIQUE T3 85m2 VIEUX PORT/CORNICHE",
           "9,1",
           "4 Rue Capitaine Dessemond, 13007 Marseille, France"
          ],
          [
           "Marseille",
           "Odalys City Marseille Prado Castellane",
           "7,5",
           "114 rue du Rouet et 12 rue de Cassis, 13008 Marseille, France"
          ],
          [
           "Marseille",
           "Odalys City Marseille Le Dôme",
           "6,9",
           "27, Boulevard du Marechal Juin, 13004 Marseille, France"
          ],
          [
           "Marseille",
           "Citadines Prado Chanot Marseille",
           "8,0",
           "9-11 Boulevard du Louvain, 13008 Marseille, France"
          ],
          [
           "Marseille",
           "Appartement Climatisé avec terrasse Gare St Charles",
           "7,6",
           "12 Rue de Crimée, 13003 Marseille, France"
          ],
          [
           "Marseille",
           "Citadines Castellane Marseille",
           "8,0",
           "60 Rue du Rouet, Castellane et Préfecture, 13006 Marseille, France"
          ],
          [
           "Marseille",
           "Villa 404 Marseille , Bd Michelet proximité Stade,Chanot,Calanques",
           "8,2",
           "404 Boulevard Michelet, 13009 Marseille, France"
          ],
          [
           "Marseille",
           "Vieux Port République Cannebiére",
           "8,7",
           "11 Rue des Augustins, 13001 Marseille, France"
          ],
          [
           "Marseille",
           "Le Plaisir 1827",
           "9,1",
           "3 Eme etages gauche 38 Rue du Progrès, 13005 Marseille, France"
          ],
          [
           "Marseille",
           "Cocon au Soleil 1827",
           "8,8",
           "1ER ETAGE 38 Rue du Progrès, 13005 Marseille, France"
          ],
          [
           "Marseille",
           "LE PANIER ENCHANTÉ - Suites & Loft - Terrasse et patio au dessus du Vieux Port",
           "7,8",
           "7 Rue de la Charité, 13002 Marseille, France"
          ],
          [
           "Marseille",
           "Superbe appart 3 p, 10 mn de la plage avec piscine et parking",
           "9,1",
           "72 Boulevard du Sablier, 13008 Marseille, France"
          ],
          [
           "Marseille",
           "NOCNOC - Le Renversant",
           "6,8",
           "36 Rue d'Aubagne, 13001 Marseille, France"
          ],
          [
           "Marseille",
           "Marseillement votre",
           "8,3",
           "4 Rue DELILLE, 13001 Marseille, France"
          ],
          [
           "Marseille",
           "Appart'City Confort Marseille Centre Prado Velodrome",
           "7,6",
           "1 Rue Vandel, 13008 Marseille, France"
          ],
          [
           "Marseille",
           "Odalys City Marseille Prado Castellane",
           "7,5",
           "114 rue du Rouet et 12 rue de Cassis, 13008 Marseille, France"
          ],
          [
           "Marseille",
           "Odalys City Marseille Le Dôme",
           "6,9",
           "27, Boulevard du Marechal Juin, 13004 Marseille, France"
          ],
          [
           "Marseille",
           "Citadines Prado Chanot Marseille",
           "8,0",
           "9-11 Boulevard du Louvain, 13008 Marseille, France"
          ],
          [
           "Marseille",
           "Citadines Castellane Marseille",
           "8,0",
           "60 Rue du Rouet, Castellane et Préfecture, 13006 Marseille, France"
          ],
          [
           "Marseille",
           "Residhotel Vieux Port",
           "7,3",
           "4 Rue Coutellerie, 13002 Marseille, France"
          ],
          [
           "Marseille",
           "Loft Luxe Liberté",
           "7,5",
           "20 Boulevard de la Liberté, 13001 Marseille, France"
          ],
          [
           "Marseille",
           "NOCNOC- Le Fortunio",
           "7,0",
           "9 Cours Jean Ballard, 13001 Marseille, France"
          ],
          [
           "Marseille",
           "Your Home in Marseille***",
           "8,1",
           "127 Rue du Rouet, 13008 Marseille, France"
          ],
          [
           "Marseille",
           "La Calanque",
           "8,2",
           "15 impasse du Pistou, 13009 Marseille, France"
          ],
          [
           "Marseille",
           "Loft Luxe Liberté 2",
           "7,0",
           "20 Boulevard de la Liberté, 13001 Marseille, France"
          ],
          [
           "Marseille",
           "Design Suites - Vieux Port",
           "7,8",
           "3 Rue Fortia, 13001 Marseille, France"
          ],
          [
           "Marseille",
           "Vieux Port République Cannebiére",
           "8,7",
           "11 Rue des Augustins, 13001 Marseille, France"
          ],
          [
           "Marseille",
           "Le Plaisir 1827",
           "9,1",
           "3 Eme etages gauche 38 Rue du Progrès, 13005 Marseille, France"
          ],
          [
           "Marseille",
           "Cocon au Soleil 1827",
           "8,8",
           "1ER ETAGE 38 Rue du Progrès, 13005 Marseille, France"
          ],
          [
           "Marseille",
           "LE PANIER ENCHANTÉ - Suites & Loft - Terrasse et patio au dessus du Vieux Port",
           "7,8",
           "7 Rue de la Charité, 13002 Marseille, France"
          ],
          [
           "Marseille",
           "Superbe appart 3 p, 10 mn de la plage avec piscine et parking",
           "9,1",
           "72 Boulevard du Sablier, 13008 Marseille, France"
          ],
          [
           "Marseille",
           "NOCNOC - Le Renversant",
           "6,8",
           "36 Rue d'Aubagne, 13001 Marseille, France"
          ],
          [
           "Marseille",
           "Marseillement votre",
           "8,3",
           "4 Rue DELILLE, 13001 Marseille, France"
          ],
          [
           "Marseille",
           "Appart'City Confort Marseille Centre Prado Velodrome",
           "7,6",
           "1 Rue Vandel, 13008 Marseille, France"
          ],
          [
           "Marseille",
           "Odalys City Marseille Prado Castellane",
           "7,5",
           "114 rue du Rouet et 12 rue de Cassis, 13008 Marseille, France"
          ],
          [
           "Marseille",
           "Odalys City Marseille Le Dôme",
           "6,9",
           "27, Boulevard du Marechal Juin, 13004 Marseille, France"
          ],
          [
           "Marseille",
           "Citadines Prado Chanot Marseille",
           "8,0",
           "9-11 Boulevard du Louvain, 13008 Marseille, France"
          ],
          [
           "Marseille",
           "Citadines Castellane Marseille",
           "8,0",
           "60 Rue du Rouet, Castellane et Préfecture, 13006 Marseille, France"
          ],
          [
           "Marseille",
           "Residhotel Vieux Port",
           "7,3",
           "4 Rue Coutellerie, 13002 Marseille, France"
          ],
          [
           "Marseille",
           "Loft Luxe Liberté",
           "7,5",
           "20 Boulevard de la Liberté, 13001 Marseille, France"
          ],
          [
           "Marseille",
           "NOCNOC- Le Fortunio",
           "7,0",
           "9 Cours Jean Ballard, 13001 Marseille, France"
          ],
          [
           "Marseille",
           "Your Home in Marseille***",
           "8,1",
           "127 Rue du Rouet, 13008 Marseille, France"
          ],
          [
           "Marseille",
           "La Calanque",
           "8,2",
           "15 impasse du Pistou, 13009 Marseille, France"
          ],
          [
           "Marseille",
           "Loft Luxe Liberté 2",
           "7,0",
           "20 Boulevard de la Liberté, 13001 Marseille, France"
          ],
          [
           "Marseille",
           "Design Suites - Vieux Port",
           "7,8",
           "3 Rue Fortia, 13001 Marseille, France"
          ],
          [
           "Marseille",
           "studio près du vieux port et de la Canebière",
           "8,7",
           "20 RUE DU MUSEE, 13001 Marseille, France"
          ],
          [
           "Marseille",
           "Studio",
           "8,2",
           "14 COURS JEAN BALLARD, 13001 Marseille, France"
          ],
          [
           "Marseille",
           "La MAISON du PORT",
           "7,4",
           "2 Rue Breteuil, 13001 Marseille, France"
          ],
          [
           "Marseille",
           "Sous le Clocher",
           "9,3",
           "3 Rue Hôtel Dieu, 13002 Marseille, France"
          ],
          [
           "Marseille",
           "App-Arte Marseille Vieux-Port",
           "9,0",
           "6, rue de la Guirlande, 13002 Marseille, France"
          ],
          [
           "Marseille",
           "Le Phoceen",
           "8,2",
           "15 Rue François Moisson, 13002 Marseille, France"
          ],
          [
           "Marseille",
           "Vieux Port République Cannebiére",
           "8,7",
           "11 Rue des Augustins, 13001 Marseille, France"
          ],
          [
           "Marseille",
           "Le Plaisir 1827",
           "9,1",
           "3 Eme etages gauche 38 Rue du Progrès, 13005 Marseille, France"
          ],
          [
           "Marseille",
           "Cocon au Soleil 1827",
           "8,8",
           "1ER ETAGE 38 Rue du Progrès, 13005 Marseille, France"
          ],
          [
           "Marseille",
           "LE PANIER ENCHANTÉ - Suites & Loft - Terrasse et patio au dessus du Vieux Port",
           "7,8",
           "7 Rue de la Charité, 13002 Marseille, France"
          ],
          [
           "Marseille",
           "Superbe appart 3 p, 10 mn de la plage avec piscine et parking",
           "9,1",
           "72 Boulevard du Sablier, 13008 Marseille, France"
          ],
          [
           "Marseille",
           "NOCNOC - Le Renversant",
           "6,8",
           "36 Rue d'Aubagne, 13001 Marseille, France"
          ],
          [
           "Marseille",
           "T3 downtown, luminous, near to most facilities.",
           null,
           "148 Rue Sainte-Cécile, 13005 Marseille, France"
          ],
          [
           "Marseille",
           "THUBANEAU 2 - Nid douillet à 3 min à pied de la Canebière",
           null,
           "19 Rue Thubaneau, 13001 Marseille, France"
          ],
          [
           "Marseille",
           "Appartement 6pers en résidence privée : Marseille",
           null,
           "33 Boulevard du Bosphore, 13015 Marseille, France"
          ],
          [
           "Marseille",
           "Appart'City Confort Marseille Centre Prado Velodrome",
           "7,6",
           "1 Rue Vandel, 13008 Marseille, France"
          ],
          [
           "Marseille",
           "Borely - apt avec terrasse",
           null,
           "87 Avenue Clot bey, 13008 Marseille, France"
          ],
          [
           "Marseille",
           "Le Saint Jean - Appt avec vue sur lentrée du Vieux Port",
           null,
           "13 rue Henri Tasso, 13002 Marseille, France"
          ],
          [
           "Marseille",
           "Chic et moderne",
           "8,5",
           "38 Rue Saint-Pierre, 13006 Marseille, France"
          ],
          [
           "Marseille",
           "Nice 42m near the Old Port",
           null,
           "78 Rue Grignan, 13006 Marseille, France"
          ],
          [
           "Marseille",
           "Appartement 200m des plages vue mer et hippodrome",
           null,
           "4 Boulevard des Vagues, 13008 Marseille, France"
          ],
          [
           "Marseille",
           "Odalys City Marseille Prado Castellane",
           "7,5",
           "114 rue du Rouet et 12 rue de Cassis, 13008 Marseille, France"
          ],
          [
           "Marseille",
           "MAGNIFIQUE T3 85m2 VIEUX PORT/CORNICHE",
           "9,1",
           "4 Rue Capitaine Dessemond, 13007 Marseille, France"
          ],
          [
           "Marseille",
           "Odalys City Marseille Le Dôme",
           "6,9",
           "27, Boulevard du Marechal Juin, 13004 Marseille, France"
          ],
          [
           "Marseille",
           "Citadines Prado Chanot Marseille",
           "8,0",
           "9-11 Boulevard du Louvain, 13008 Marseille, France"
          ],
          [
           "Marseille",
           "Appartement Climatisé avec terrasse Gare St Charles",
           "7,6",
           "12 Rue de Crimée, 13003 Marseille, France"
          ],
          [
           "Marseille",
           "Citadines Castellane Marseille",
           "8,0",
           "60 Rue du Rouet, Castellane et Préfecture, 13006 Marseille, France"
          ],
          [
           "Marseille",
           "Villa 404 Marseille , Bd Michelet proximité Stade,Chanot,Calanques",
           "8,2",
           "404 Boulevard Michelet, 13009 Marseille, France"
          ],
          [
           "Marseille",
           "5 Sens",
           "6,7",
           "36 Rue Saint-Saëns, 13001 Marseille, France"
          ],
          [
           "Marseille",
           "Residhotel Vieux Port",
           "7,3",
           "4 Rue Coutellerie, 13002 Marseille, France"
          ],
          [
           "Marseille",
           "MELCHIOR - Beau T2 avec terrasse au cœur d'Euroméditerranée",
           "8,3",
           "20 Rue Melchior Guinot\rBâtiment B, 13002 Marseille, France"
          ],
          [
           "Marseille",
           "App-Arte Marseille Vieux-Port",
           "9,0",
           "6, rue de la Guirlande, 13002 Marseille, France"
          ],
          [
           "Marseille",
           "App-Arte Marseille Vieux-Port",
           "9,0",
           "6, rue de la Guirlande, 13002 Marseille, France"
          ],
          [
           "Marseille",
           "THUBANEAU 2 - Nid douillet à 3 min à pied de la Canebière",
           null,
           "19 Rue Thubaneau, 13001 Marseille, France"
          ],
          [
           "Marseille",
           "THUBANEAU 2 - Nid douillet à 3 min à pied de la Canebière",
           null,
           "19 Rue Thubaneau, 13001 Marseille, France"
          ]
         ],
         "hovertemplate": "City to go=%{customdata[0]}<br>lat=%{lat}<br>lon=%{lon}<br>name_hotel=%{customdata[1]}<br>score_hotel=%{customdata[2]}<br>adresse_hotel=%{customdata[3]}<extra></extra>",
         "lat": [
          43.29594971,
          43.2965388,
          43.29654954,
          43.300097,
          43.2505303,
          43.2947998,
          43.30020105,
          43.28854093,
          43.2977551,
          43.3706031,
          43.2798554,
          43.258245,
          43.29626257,
          43.2930531,
          43.291604,
          43.25428855,
          43.28846579,
          43.27977452,
          43.31106501,
          43.27647108,
          43.30527757,
          43.28282806,
          43.254301,
          43.29594971,
          43.2965388,
          43.29654954,
          43.300097,
          43.2505303,
          43.2947998,
          43.30020105,
          43.2798554,
          43.27977452,
          43.31106501,
          43.27647108,
          43.28282806,
          43.29681825,
          43.3007918,
          43.293187,
          43.279609,
          43.2415109,
          43.3007918,
          43.2933205,
          43.29594971,
          43.2965388,
          43.29654954,
          43.300097,
          43.2505303,
          43.2947998,
          43.30020105,
          43.2798554,
          43.27977452,
          43.31106501,
          43.27647108,
          43.28282806,
          43.29681825,
          43.3007918,
          43.293187,
          43.279609,
          43.2415109,
          43.3007918,
          43.2933205,
          43.2960772,
          43.29331574,
          43.29276,
          43.29808076,
          43.29665083,
          43.30139104,
          43.29594971,
          43.2965388,
          43.29654954,
          43.300097,
          43.2505303,
          43.2947998,
          43.28854093,
          43.2977551,
          43.3706031,
          43.2798554,
          43.258245,
          43.29626257,
          43.2930531,
          43.291604,
          43.25428855,
          43.27977452,
          43.28846579,
          43.31106501,
          43.27647108,
          43.30527757,
          43.28282806,
          43.254301,
          43.293486,
          43.29681825,
          43.3098713,
          43.29665083,
          43.29665083,
          43.2977551,
          43.2977551
         ],
         "legendgroup": "Marseille",
         "lon": [
          5.37455259,
          5.3913738,
          5.39145293,
          5.367585,
          5.3814817,
          5.3800811,
          5.38260245,
          5.39994834,
          5.378309,
          5.3648818,
          5.390496,
          5.3853949,
          5.36601131,
          5.3889512,
          5.374183,
          5.37915284,
          5.35786455,
          5.3905347,
          5.40359886,
          5.3911972,
          5.38261345,
          5.38725905,
          5.401011,
          5.37455259,
          5.3913738,
          5.39145293,
          5.367585,
          5.3814817,
          5.3800811,
          5.38260245,
          5.390496,
          5.3905347,
          5.40359886,
          5.3911972,
          5.38725905,
          5.37305743,
          5.3822154,
          5.3747182,
          5.390969,
          5.4016193,
          5.3822154,
          5.37358739,
          5.37455259,
          5.3913738,
          5.39145293,
          5.367585,
          5.3814817,
          5.3800811,
          5.38260245,
          5.390496,
          5.3905347,
          5.40359886,
          5.3911972,
          5.38725905,
          5.37305743,
          5.3822154,
          5.3747182,
          5.390969,
          5.4016193,
          5.3822154,
          5.37358739,
          5.3791039,
          5.37435293,
          5.374622,
          5.36880612,
          5.37055627,
          5.36949227,
          5.37455259,
          5.3913738,
          5.39145293,
          5.367585,
          5.3814817,
          5.3800811,
          5.39994834,
          5.378309,
          5.3648818,
          5.390496,
          5.3853949,
          5.36601131,
          5.3889512,
          5.374183,
          5.37915284,
          5.3905347,
          5.35786455,
          5.40359886,
          5.3911972,
          5.38261345,
          5.38725905,
          5.401011,
          5.37353,
          5.37305743,
          5.369622,
          5.37055627,
          5.37055627,
          5.378309,
          5.378309
         ],
         "marker": {
          "color": "#EF553B"
         },
         "mode": "markers",
         "name": "Marseille",
         "showlegend": true,
         "subplot": "mapbox",
         "type": "scattermapbox"
        },
        {
         "customdata": [
          [
           "Bormes les Mimosas",
           "Magnifique maison de village clim vue mer 6 pers",
           "8,5",
           "8 Montée du Paradis, 83230 Bormes-les-Mimosas, France"
          ],
          [
           "Bormes les Mimosas",
           "Studio avec Jardin et Parking Privés",
           "8,5",
           "217 Rue des Iris, 83230 Bormes-les-Mimosas, France"
          ],
          [
           "Bormes les Mimosas",
           "Les Terrasses",
           "8,4",
           "1565 Route des Lavandieres, 83230 Bormes-les-Mimosas, France"
          ],
          [
           "Bormes les Mimosas",
           "Le petit atelier",
           "8,9",
           "34 Chemin de la Bergerie, 83230 Bormes-les-Mimosas, France"
          ],
          [
           "Bormes les Mimosas",
           "Gaou Benat, village des fourches, Label patrimoine XXe siècle",
           "9,3",
           "Domaine du Gaou Benat,, 83230 Bormes-les-Mimosas, France"
          ],
          [
           "Bormes les Mimosas",
           "Appartement Bord de Mer La Faviere",
           "8,2",
           "112 boulevard de la plage, 83230 Bormes-les-Mimosas, France"
          ],
          [
           "Bormes les Mimosas",
           "Asklan",
           "7,7",
           "Résidence la Rade Ensoleillée 101 boulevard du front de mer, 83230 Bormes-les-Mimosas, France"
          ],
          [
           "Bormes les Mimosas",
           "Studio a Bormes les Mimosas a 400 m de la plage avec jardin clos et wifi",
           "9,0",
           "21 Avenue des Girelles , 83230 Bormes-les-Mimosas, France"
          ],
          [
           "Bormes les Mimosas",
           "Maison Piscine Vue mer",
           "8,5",
           "7 Sent. des Écureuils, 83230 Bormes-les-Mimosas, France"
          ],
          [
           "Bormes les Mimosas",
           "POSEIDON - MAZET B - 58 m2 -",
           null,
           "7 Avenue de la Mer, 83230 Bormes-les-Mimosas, France"
          ],
          [
           "Bormes les Mimosas",
           "Apartment Le Jardin du Loderi-1",
           "9,0",
           "83230 Bormes-les-Mimosas, France"
          ],
          [
           "Bormes les Mimosas",
           "LES TERRACH",
           "8,6",
           "1565 Route des Lavandières, 83230 Bormes-les-Mimosas, France"
          ],
          [
           "Bormes les Mimosas",
           "Magnifique 3 pieces et ses deux salles d'eau - piscine sur le toit et vue panoramique -",
           null,
           "305 AVENUE DE LA MER, 83230 Bormes-les-Mimosas, France"
          ],
          [
           "Bormes les Mimosas",
           "Villa, 4 chambres, piscine, vue mer",
           "7,0",
           "100 impasse de coustelline , 83230 Bormes-les-Mimosas, France"
          ],
          [
           "Bormes les Mimosas",
           "BV31B BELLA VISTA T2 CAB neuf pour 4 pers Piscine sur le toit terrasse panoramique et garage privé",
           "9,0",
           "305 AVENUE DE LA MER, 83230 Bormes-les-Mimosas, France"
          ],
          [
           "Bormes les Mimosas",
           "Studio cabine Les Rives de la Favière piscine et tennis les pieds dans l'eau",
           "7,9",
           "Résidence les Rives de la Favière, 83230 Bormes-les-Mimosas, France"
          ],
          [
           "Bormes les Mimosas",
           "Amazing holiday home in Bormes les Mimosas with pool",
           null,
           "83230 Bormes-les-Mimosas, France"
          ],
          [
           "Bormes les Mimosas",
           "Charmant Appartement avec Vue panoramique Mer - 4 couchages",
           "7,9",
           "518 Avenue de la Mer, 83230 Bormes-les-Mimosas, France"
          ],
          [
           "Bormes les Mimosas",
           "Provencal Holiday Home in Bormes les Mimosas with Pool",
           null,
           "83230 Bormes-les-Mimosas, France"
          ],
          [
           "Bormes les Mimosas",
           "POSEIDON - 2 pièces - 32 m2 - Piscine et garage privé",
           null,
           "7 Avenue de la Mer, 83230 Bormes-les-Mimosas, France"
          ],
          [
           "Bormes les Mimosas",
           "Superbe Duplex 35m2 vue mer avec piscine",
           "8,3",
           "27 1575 Route des Lavandières, 83230 Bormes-les-Mimosas, France"
          ],
          [
           "Bormes les Mimosas",
           "Les deux mas",
           "9,4",
           "les deux mas 59 Rue des Hortensias, 83230 Bormes-les-Mimosas, France"
          ],
          [
           "Bormes les Mimosas",
           "Magnifique maison de village clim vue mer 6 pers",
           "8,5",
           "8 Montée du Paradis, 83230 Bormes-les-Mimosas, France"
          ],
          [
           "Bormes les Mimosas",
           "Villa spacieuse confort et standing",
           "8,4",
           "830 Route des Lavandières, 83230 Bormes-les-Mimosas, France"
          ],
          [
           "Bormes les Mimosas",
           "Studio avec Jardin et Parking Privés",
           "8,5",
           "217 Rue des Iris, 83230 Bormes-les-Mimosas, France"
          ],
          [
           "Bormes les Mimosas",
           "Les Terrasses",
           "8,4",
           "1565 Route des Lavandieres, 83230 Bormes-les-Mimosas, France"
          ],
          [
           "Bormes les Mimosas",
           "Le Hameau de la Nicolinière",
           "8,9",
           "155 Chemin du Petit Fort, 83230 Bormes-les-Mimosas, France"
          ],
          [
           "Bormes les Mimosas",
           "Le petit atelier",
           "8,9",
           "34 Chemin de la Bergerie, 83230 Bormes-les-Mimosas, France"
          ],
          [
           "Bormes les Mimosas",
           "Gaou Benat, village des fourches, Label patrimoine XXe siècle",
           "9,3",
           "Domaine du Gaou Benat,, 83230 Bormes-les-Mimosas, France"
          ],
          [
           "Bormes les Mimosas",
           "Appartement Bord de Mer La Faviere",
           "8,2",
           "112 boulevard de la plage, 83230 Bormes-les-Mimosas, France"
          ],
          [
           "Bormes les Mimosas",
           "Studio a Bormes les Mimosas a 400 m de la plage avec jardin clos et wifi",
           "9,0",
           "21 Avenue des Girelles , 83230 Bormes-les-Mimosas, France"
          ],
          [
           "Bormes les Mimosas",
           "Maison Piscine Vue mer",
           "8,5",
           "7 Sent. des Écureuils, 83230 Bormes-les-Mimosas, France"
          ],
          [
           "Bormes les Mimosas",
           "POSEIDON - MAZET B - 58 m2 -",
           null,
           "7 Avenue de la Mer, 83230 Bormes-les-Mimosas, France"
          ],
          [
           "Bormes les Mimosas",
           "Apartment Le Jardin du Loderi-1",
           "9,0",
           "83230 Bormes-les-Mimosas, France"
          ],
          [
           "Bormes les Mimosas",
           "LES TERRACH",
           "8,6",
           "1565 Route des Lavandières, 83230 Bormes-les-Mimosas, France"
          ],
          [
           "Bormes les Mimosas",
           "Magnifique 3 pieces et ses deux salles d'eau - piscine sur le toit et vue panoramique -",
           null,
           "305 AVENUE DE LA MER, 83230 Bormes-les-Mimosas, France"
          ],
          [
           "Bormes les Mimosas",
           "Villa, 4 chambres, piscine, vue mer",
           "7,0",
           "100 impasse de coustelline , 83230 Bormes-les-Mimosas, France"
          ],
          [
           "Bormes les Mimosas",
           "BV31B BELLA VISTA T2 CAB neuf pour 4 pers Piscine sur le toit terrasse panoramique et garage privé",
           "9,0",
           "305 AVENUE DE LA MER, 83230 Bormes-les-Mimosas, France"
          ],
          [
           "Bormes les Mimosas",
           "Studio cabine Les Rives de la Favière piscine et tennis les pieds dans l'eau",
           "7,9",
           "Résidence les Rives de la Favière, 83230 Bormes-les-Mimosas, France"
          ],
          [
           "Bormes les Mimosas",
           "Amazing holiday home in Bormes les Mimosas with pool",
           null,
           "83230 Bormes-les-Mimosas, France"
          ],
          [
           "Bormes les Mimosas",
           "Charmant Appartement avec Vue panoramique Mer - 4 couchages",
           "7,9",
           "518 Avenue de la Mer, 83230 Bormes-les-Mimosas, France"
          ],
          [
           "Bormes les Mimosas",
           "Provencal Holiday Home in Bormes les Mimosas with Pool",
           null,
           "83230 Bormes-les-Mimosas, France"
          ],
          [
           "Bormes les Mimosas",
           "POSEIDON - 2 pièces - 32 m2 - Piscine et garage privé",
           null,
           "7 Avenue de la Mer, 83230 Bormes-les-Mimosas, France"
          ],
          [
           "Bormes les Mimosas",
           "Les deux mas",
           "9,4",
           "les deux mas 59 Rue des Hortensias, 83230 Bormes-les-Mimosas, France"
          ],
          [
           "Bormes les Mimosas",
           "Superbe Duplex 35m2 vue mer avec piscine",
           "8,3",
           "27 1575 Route des Lavandières, 83230 Bormes-les-Mimosas, France"
          ],
          [
           "Bormes les Mimosas",
           "Magnifique maison de village clim vue mer 6 pers",
           "8,5",
           "8 Montée du Paradis, 83230 Bormes-les-Mimosas, France"
          ],
          [
           "Bormes les Mimosas",
           "Villa spacieuse confort et standing",
           "8,4",
           "830 Route des Lavandières, 83230 Bormes-les-Mimosas, France"
          ],
          [
           "Bormes les Mimosas",
           "Studio avec Jardin et Parking Privés",
           "8,5",
           "217 Rue des Iris, 83230 Bormes-les-Mimosas, France"
          ],
          [
           "Bormes les Mimosas",
           "Les Terrasses",
           "8,4",
           "1565 Route des Lavandieres, 83230 Bormes-les-Mimosas, France"
          ],
          [
           "Bormes les Mimosas",
           "Le Hameau de la Nicolinière",
           "8,9",
           "155 Chemin du Petit Fort, 83230 Bormes-les-Mimosas, France"
          ],
          [
           "Bormes les Mimosas",
           "Le petit atelier",
           "8,9",
           "34 Chemin de la Bergerie, 83230 Bormes-les-Mimosas, France"
          ],
          [
           "Bormes les Mimosas",
           "Gaou Benat, village des fourches, Label patrimoine XXe siècle",
           "9,3",
           "Domaine du Gaou Benat,, 83230 Bormes-les-Mimosas, France"
          ],
          [
           "Bormes les Mimosas",
           "Appartement Bord de Mer La Faviere",
           "8,2",
           "112 boulevard de la plage, 83230 Bormes-les-Mimosas, France"
          ],
          [
           "Bormes les Mimosas",
           "Asklan",
           "7,7",
           "Résidence la Rade Ensoleillée 101 boulevard du front de mer, 83230 Bormes-les-Mimosas, France"
          ],
          [
           "Bormes les Mimosas",
           "Studio a Bormes les Mimosas a 400 m de la plage avec jardin clos et wifi",
           "9,0",
           "21 Avenue des Girelles , 83230 Bormes-les-Mimosas, France"
          ],
          [
           "Bormes les Mimosas",
           "Maison Piscine Vue mer",
           "8,5",
           "7 Sent. des Écureuils, 83230 Bormes-les-Mimosas, France"
          ],
          [
           "Bormes les Mimosas",
           "POSEIDON - MAZET B - 58 m2 -",
           null,
           "7 Avenue de la Mer, 83230 Bormes-les-Mimosas, France"
          ],
          [
           "Bormes les Mimosas",
           "Apartment Le Jardin du Loderi-1",
           "9,0",
           "83230 Bormes-les-Mimosas, France"
          ],
          [
           "Bormes les Mimosas",
           "LES TERRACH",
           "8,6",
           "1565 Route des Lavandières, 83230 Bormes-les-Mimosas, France"
          ],
          [
           "Bormes les Mimosas",
           "Magnifique 3 pieces et ses deux salles d'eau - piscine sur le toit et vue panoramique -",
           null,
           "305 AVENUE DE LA MER, 83230 Bormes-les-Mimosas, France"
          ],
          [
           "Bormes les Mimosas",
           "Villa, 4 chambres, piscine, vue mer",
           "7,0",
           "100 impasse de coustelline , 83230 Bormes-les-Mimosas, France"
          ],
          [
           "Bormes les Mimosas",
           "BV31B BELLA VISTA T2 CAB neuf pour 4 pers Piscine sur le toit terrasse panoramique et garage privé",
           "9,0",
           "305 AVENUE DE LA MER, 83230 Bormes-les-Mimosas, France"
          ],
          [
           "Bormes les Mimosas",
           "Studio cabine Les Rives de la Favière piscine et tennis les pieds dans l'eau",
           "7,9",
           "Résidence les Rives de la Favière, 83230 Bormes-les-Mimosas, France"
          ],
          [
           "Bormes les Mimosas",
           "Amazing holiday home in Bormes les Mimosas with pool",
           null,
           "83230 Bormes-les-Mimosas, France"
          ],
          [
           "Bormes les Mimosas",
           "Charmant Appartement avec Vue panoramique Mer - 4 couchages",
           "7,9",
           "518 Avenue de la Mer, 83230 Bormes-les-Mimosas, France"
          ],
          [
           "Bormes les Mimosas",
           "Provencal Holiday Home in Bormes les Mimosas with Pool",
           null,
           "83230 Bormes-les-Mimosas, France"
          ],
          [
           "Bormes les Mimosas",
           "POSEIDON - 2 pièces - 32 m2 - Piscine et garage privé",
           null,
           "7 Avenue de la Mer, 83230 Bormes-les-Mimosas, France"
          ],
          [
           "Bormes les Mimosas",
           "Les deux mas",
           "9,4",
           "les deux mas 59 Rue des Hortensias, 83230 Bormes-les-Mimosas, France"
          ],
          [
           "Bormes les Mimosas",
           "Superbe Duplex 35m2 vue mer avec piscine",
           "8,3",
           "27 1575 Route des Lavandières, 83230 Bormes-les-Mimosas, France"
          ],
          [
           "Bormes les Mimosas",
           "POSEIDON - Mazet 60 m2 en duplex - 3 pièces - Piscine et garage privé -",
           null,
           "7 Avenue de la Mer, 83230 Bormes-les-Mimosas, France"
          ],
          [
           "Bormes les Mimosas",
           "Magnifique maison de village clim vue mer 6 pers",
           "8,5",
           "8 Montée du Paradis, 83230 Bormes-les-Mimosas, France"
          ],
          [
           "Bormes les Mimosas",
           "Villa spacieuse confort et standing",
           "8,4",
           "830 Route des Lavandières, 83230 Bormes-les-Mimosas, France"
          ],
          [
           "Bormes les Mimosas",
           "Studio avec Jardin et Parking Privés",
           "8,5",
           "217 Rue des Iris, 83230 Bormes-les-Mimosas, France"
          ],
          [
           "Bormes les Mimosas",
           "Les Terrasses",
           "8,4",
           "1565 Route des Lavandieres, 83230 Bormes-les-Mimosas, France"
          ],
          [
           "Bormes les Mimosas",
           "Le Hameau de la Nicolinière",
           "8,9",
           "155 Chemin du Petit Fort, 83230 Bormes-les-Mimosas, France"
          ],
          [
           "Bormes les Mimosas",
           "Le petit atelier",
           "8,9",
           "34 Chemin de la Bergerie, 83230 Bormes-les-Mimosas, France"
          ],
          [
           "Bormes les Mimosas",
           "Gaou Benat, village des fourches, Label patrimoine XXe siècle",
           "9,3",
           "Domaine du Gaou Benat,, 83230 Bormes-les-Mimosas, France"
          ],
          [
           "Bormes les Mimosas",
           "Appartement Bord de Mer La Faviere",
           "8,2",
           "112 boulevard de la plage, 83230 Bormes-les-Mimosas, France"
          ],
          [
           "Bormes les Mimosas",
           "Studio a Bormes les Mimosas a 400 m de la plage avec jardin clos et wifi",
           "9,0",
           "21 Avenue des Girelles , 83230 Bormes-les-Mimosas, France"
          ],
          [
           "Bormes les Mimosas",
           "Maison Piscine Vue mer",
           "8,5",
           "7 Sent. des Écureuils, 83230 Bormes-les-Mimosas, France"
          ],
          [
           "Bormes les Mimosas",
           "POSEIDON - MAZET B - 58 m2 -",
           null,
           "7 Avenue de la Mer, 83230 Bormes-les-Mimosas, France"
          ],
          [
           "Bormes les Mimosas",
           "Apartment Le Jardin du Loderi-1",
           "9,0",
           "83230 Bormes-les-Mimosas, France"
          ],
          [
           "Bormes les Mimosas",
           "LES TERRACH",
           "8,6",
           "1565 Route des Lavandières, 83230 Bormes-les-Mimosas, France"
          ],
          [
           "Bormes les Mimosas",
           "Villa, 4 chambres, piscine, vue mer",
           "7,0",
           "100 impasse de coustelline , 83230 Bormes-les-Mimosas, France"
          ],
          [
           "Bormes les Mimosas",
           "BV31B BELLA VISTA T2 CAB neuf pour 4 pers Piscine sur le toit terrasse panoramique et garage privé",
           "9,0",
           "305 AVENUE DE LA MER, 83230 Bormes-les-Mimosas, France"
          ],
          [
           "Bormes les Mimosas",
           "Studio cabine Les Rives de la Favière piscine et tennis les pieds dans l'eau",
           "7,9",
           "Résidence les Rives de la Favière, 83230 Bormes-les-Mimosas, France"
          ],
          [
           "Bormes les Mimosas",
           "Amazing holiday home in Bormes les Mimosas with pool",
           null,
           "83230 Bormes-les-Mimosas, France"
          ],
          [
           "Bormes les Mimosas",
           "Charmant Appartement avec Vue panoramique Mer - 4 couchages",
           "7,9",
           "518 Avenue de la Mer, 83230 Bormes-les-Mimosas, France"
          ],
          [
           "Bormes les Mimosas",
           "Provencal Holiday Home in Bormes les Mimosas with Pool",
           null,
           "83230 Bormes-les-Mimosas, France"
          ],
          [
           "Bormes les Mimosas",
           "POSEIDON - 2 pièces - 32 m2 - Piscine et garage privé",
           null,
           "7 Avenue de la Mer, 83230 Bormes-les-Mimosas, France"
          ],
          [
           "Bormes les Mimosas",
           "Les deux mas",
           "9,4",
           "les deux mas 59 Rue des Hortensias, 83230 Bormes-les-Mimosas, France"
          ],
          [
           "Bormes les Mimosas",
           "Superbe Duplex 35m2 vue mer avec piscine",
           "8,3",
           "27 1575 Route des Lavandières, 83230 Bormes-les-Mimosas, France"
          ],
          [
           "Bormes les Mimosas",
           "POSEIDON - Mazet 60 m2 en duplex - 3 pièces - Piscine et garage privé -",
           null,
           "7 Avenue de la Mer, 83230 Bormes-les-Mimosas, France"
          ],
          [
           "Bormes les Mimosas",
           "POSEIDON - MAZET C - 58 m2 en duplex - 3 pièces - Piscine et garage privé -",
           null,
           "7 Avenue de la Mer, 83230 Bormes-les-Mimosas, France"
          ],
          [
           "Bormes les Mimosas",
           "Maison Piscine Vue mer",
           "8,5",
           "7 Sent. des Écureuils, 83230 Bormes-les-Mimosas, France"
          ],
          [
           "Bormes les Mimosas",
           "Villa, 4 chambres, piscine, vue mer",
           "7,0",
           "100 impasse de coustelline , 83230 Bormes-les-Mimosas, France"
          ],
          [
           "Bormes les Mimosas",
           "Amazing holiday home in Bormes les Mimosas with pool",
           null,
           "83230 Bormes-les-Mimosas, France"
          ],
          [
           "Bormes les Mimosas",
           "Provencal Holiday Home in Bormes les Mimosas with Pool",
           null,
           "83230 Bormes-les-Mimosas, France"
          ],
          [
           "Bormes les Mimosas",
           "Maison Piscine Vue mer",
           "8,5",
           "7 Sent. des Écureuils, 83230 Bormes-les-Mimosas, France"
          ],
          [
           "Bormes les Mimosas",
           "Villa, 4 chambres, piscine, vue mer",
           "7,0",
           "100 impasse de coustelline , 83230 Bormes-les-Mimosas, France"
          ],
          [
           "Bormes les Mimosas",
           "Amazing holiday home in Bormes les Mimosas with pool",
           null,
           "83230 Bormes-les-Mimosas, France"
          ],
          [
           "Bormes les Mimosas",
           "Provencal Holiday Home in Bormes les Mimosas with Pool",
           null,
           "83230 Bormes-les-Mimosas, France"
          ],
          [
           "Bormes les Mimosas",
           "Magnifique maison de village clim vue mer 6 pers",
           "8,5",
           "8 Montée du Paradis, 83230 Bormes-les-Mimosas, France"
          ],
          [
           "Bormes les Mimosas",
           "Amazing holiday home in Bormes les Mimosas with pool",
           null,
           "83230 Bormes-les-Mimosas, France"
          ],
          [
           "Bormes les Mimosas",
           "Provencal Holiday Home in Bormes les Mimosas with Pool",
           null,
           "83230 Bormes-les-Mimosas, France"
          ],
          [
           "Bormes les Mimosas",
           "Magnifique maison de village clim vue mer 6 pers",
           "8,5",
           "8 Montée du Paradis, 83230 Bormes-les-Mimosas, France"
          ],
          [
           "Bormes les Mimosas",
           "Amazing holiday home in Bormes les Mimosas with pool",
           null,
           "83230 Bormes-les-Mimosas, France"
          ],
          [
           "Bormes les Mimosas",
           "Provencal Holiday Home in Bormes les Mimosas with Pool",
           null,
           "83230 Bormes-les-Mimosas, France"
          ],
          [
           "Bormes les Mimosas",
           "Magnifique maison de village clim vue mer 6 pers",
           "8,5",
           "8 Montée du Paradis, 83230 Bormes-les-Mimosas, France"
          ],
          [
           "Bormes les Mimosas",
           "Le petit atelier",
           "8,9",
           "34 Chemin de la Bergerie, 83230 Bormes-les-Mimosas, France"
          ],
          [
           "Bormes les Mimosas",
           "Les deux mas",
           "9,4",
           "les deux mas 59 Rue des Hortensias, 83230 Bormes-les-Mimosas, France"
          ],
          [
           "Bormes les Mimosas",
           "Studio avec Jardin et Parking Privés",
           "8,5",
           "217 Rue des Iris, 83230 Bormes-les-Mimosas, France"
          ],
          [
           "Bormes les Mimosas",
           "Appartement Bord de Mer La Faviere",
           "8,2",
           "112 boulevard de la plage, 83230 Bormes-les-Mimosas, France"
          ],
          [
           "Bormes les Mimosas",
           "Superbe Duplex 35m2 vue mer avec piscine",
           "8,3",
           "27 1575 Route des Lavandières, 83230 Bormes-les-Mimosas, France"
          ],
          [
           "Bormes les Mimosas",
           "Studio cabine Les Rives de la Favière piscine et tennis les pieds dans l'eau",
           "7,9",
           "Résidence les Rives de la Favière, 83230 Bormes-les-Mimosas, France"
          ],
          [
           "Bormes les Mimosas",
           "Asklan",
           "7,7",
           "Résidence la Rade Ensoleillée 101 boulevard du front de mer, 83230 Bormes-les-Mimosas, France"
          ],
          [
           "Bormes les Mimosas",
           "Villa spacieuse confort et standing",
           "8,4",
           "830 Route des Lavandières, 83230 Bormes-les-Mimosas, France"
          ],
          [
           "Bormes les Mimosas",
           "Magnifique maison de village clim vue mer 6 pers",
           "8,5",
           "8 Montée du Paradis, 83230 Bormes-les-Mimosas, France"
          ],
          [
           "Bormes les Mimosas",
           "Le petit atelier",
           "8,9",
           "34 Chemin de la Bergerie, 83230 Bormes-les-Mimosas, France"
          ],
          [
           "Bormes les Mimosas",
           "Les deux mas",
           "9,4",
           "les deux mas 59 Rue des Hortensias, 83230 Bormes-les-Mimosas, France"
          ],
          [
           "Bormes les Mimosas",
           "Studio avec Jardin et Parking Privés",
           "8,5",
           "217 Rue des Iris, 83230 Bormes-les-Mimosas, France"
          ],
          [
           "Bormes les Mimosas",
           "Appartement Bord de Mer La Faviere",
           "8,2",
           "112 boulevard de la plage, 83230 Bormes-les-Mimosas, France"
          ],
          [
           "Bormes les Mimosas",
           "Superbe Duplex 35m2 vue mer avec piscine",
           "8,3",
           "27 1575 Route des Lavandières, 83230 Bormes-les-Mimosas, France"
          ],
          [
           "Bormes les Mimosas",
           "Studio cabine Les Rives de la Favière piscine et tennis les pieds dans l'eau",
           "7,9",
           "Résidence les Rives de la Favière, 83230 Bormes-les-Mimosas, France"
          ],
          [
           "Bormes les Mimosas",
           "Asklan",
           "7,7",
           "Résidence la Rade Ensoleillée 101 boulevard du front de mer, 83230 Bormes-les-Mimosas, France"
          ],
          [
           "Bormes les Mimosas",
           "Villa spacieuse confort et standing",
           "8,4",
           "830 Route des Lavandières, 83230 Bormes-les-Mimosas, France"
          ]
         ],
         "hovertemplate": "City to go=%{customdata[0]}<br>lat=%{lat}<br>lon=%{lon}<br>name_hotel=%{customdata[1]}<br>score_hotel=%{customdata[2]}<br>adresse_hotel=%{customdata[3]}<extra></extra>",
         "lat": [
          43.151608,
          43.1403633,
          43.1441295,
          43.142501,
          43.10413931,
          43.12602594,
          43.12264843,
          43.127119,
          43.101616,
          43.12415,
          43.144703,
          43.1441295,
          43.123184,
          43.11682064,
          43.123095,
          43.1208921,
          43.149979,
          43.12197254,
          43.149979,
          43.12415,
          43.1431217,
          43.14393659,
          43.151608,
          43.1451578,
          43.1403633,
          43.1441295,
          43.10348079,
          43.142501,
          43.10413931,
          43.12602594,
          43.127119,
          43.101616,
          43.12415,
          43.144703,
          43.1441295,
          43.123184,
          43.11682064,
          43.123095,
          43.1208921,
          43.149979,
          43.12197254,
          43.149979,
          43.12415,
          43.14393659,
          43.1431217,
          43.151608,
          43.1451578,
          43.1403633,
          43.1441295,
          43.10348079,
          43.142501,
          43.10413931,
          43.12602594,
          43.12264843,
          43.127119,
          43.101616,
          43.12415,
          43.144703,
          43.1441295,
          43.123184,
          43.11682064,
          43.123095,
          43.1208921,
          43.149979,
          43.12197254,
          43.149979,
          43.12415,
          43.14393659,
          43.1431217,
          43.12415,
          43.151608,
          43.1451578,
          43.1403633,
          43.1441295,
          43.10348079,
          43.142501,
          43.10413931,
          43.12602594,
          43.127119,
          43.101616,
          43.12415,
          43.144703,
          43.1441295,
          43.11682064,
          43.123095,
          43.1208921,
          43.149979,
          43.12197254,
          43.149979,
          43.12415,
          43.14393659,
          43.1431217,
          43.12415,
          43.12415,
          43.101616,
          43.11682064,
          43.149979,
          43.149979,
          43.101616,
          43.11682064,
          43.149979,
          43.149979,
          43.151608,
          43.149979,
          43.149979,
          43.151608,
          43.149979,
          43.149979,
          43.151608,
          43.142501,
          43.14393659,
          43.1403633,
          43.12602594,
          43.1431217,
          43.1208921,
          43.12264843,
          43.1451578,
          43.151608,
          43.142501,
          43.14393659,
          43.1403633,
          43.12602594,
          43.1431217,
          43.1208921,
          43.12264843,
          43.1451578
         ],
         "legendgroup": "Bormes les Mimosas",
         "lon": [
          6.3411234,
          6.3367149,
          6.3514904,
          6.3491788,
          6.35253846,
          6.35675467,
          6.35946596,
          6.357719,
          6.3497585,
          6.351192,
          6.343075,
          6.3514904,
          6.354464,
          6.346407,
          6.354572,
          6.3578873,
          6.348528,
          6.35837936,
          6.348528,
          6.351192,
          6.3521398,
          6.33632324,
          6.3411234,
          6.3507401,
          6.3367149,
          6.3514904,
          6.32792383,
          6.3491788,
          6.35253846,
          6.35675467,
          6.357719,
          6.3497585,
          6.351192,
          6.343075,
          6.3514904,
          6.354464,
          6.346407,
          6.354572,
          6.3578873,
          6.348528,
          6.35837936,
          6.348528,
          6.351192,
          6.33632324,
          6.3521398,
          6.3411234,
          6.3507401,
          6.3367149,
          6.3514904,
          6.32792383,
          6.3491788,
          6.35253846,
          6.35675467,
          6.35946596,
          6.357719,
          6.3497585,
          6.351192,
          6.343075,
          6.3514904,
          6.354464,
          6.346407,
          6.354572,
          6.3578873,
          6.348528,
          6.35837936,
          6.348528,
          6.351192,
          6.33632324,
          6.3521398,
          6.351192,
          6.3411234,
          6.3507401,
          6.3367149,
          6.3514904,
          6.32792383,
          6.3491788,
          6.35253846,
          6.35675467,
          6.357719,
          6.3497585,
          6.351192,
          6.343075,
          6.3514904,
          6.346407,
          6.354572,
          6.3578873,
          6.348528,
          6.35837936,
          6.348528,
          6.351192,
          6.33632324,
          6.3521398,
          6.351192,
          6.351192,
          6.3497585,
          6.346407,
          6.348528,
          6.348528,
          6.3497585,
          6.346407,
          6.348528,
          6.348528,
          6.3411234,
          6.348528,
          6.348528,
          6.3411234,
          6.348528,
          6.348528,
          6.3411234,
          6.3491788,
          6.33632324,
          6.3367149,
          6.35675467,
          6.3521398,
          6.3578873,
          6.35946596,
          6.3507401,
          6.3411234,
          6.3491788,
          6.33632324,
          6.3367149,
          6.35675467,
          6.3521398,
          6.3578873,
          6.35946596,
          6.3507401
         ],
         "marker": {
          "color": "#00cc96"
         },
         "mode": "markers",
         "name": "Bormes les Mimosas",
         "showlegend": true,
         "subplot": "mapbox",
         "type": "scattermapbox"
        },
        {
         "customdata": [
          [
           "Nimes",
           "Le Pari Nîmois, avec Parking, Centre Ville Arènes",
           "9,6",
           "3 Petite Rue du Louvre, 30000 Nîmes, France"
          ],
          [
           "Nimes",
           "Cosy CROCO - Appart T2 Centre Nîmes - Wifi et Parking",
           "8,5",
           "26 Rue Porte d'Alès, 30000 Nîmes, France"
          ],
          [
           "Nimes",
           "White Rock - P3 Terrace and Parking - City centre",
           "8,4",
           "28 bis rue de la Garrigue Résidence Vista Magne, 30000 Nîmes, France"
          ],
          [
           "Nimes",
           "Tee 4",
           "8,9",
           "411 Chemin du Golf - Tee 4, 30900 Nîmes, France"
          ],
          [
           "Nimes",
           "Appartement Cosy Nîmes-Centre",
           "9,0",
           "67 Rue Pierre Semard, 30000 Nîmes, France"
          ],
          [
           "Nimes",
           "Maison familiale à Nîmes",
           "8,4",
           "16 Rue Salomon Reinach, 30000 Nîmes, France"
          ],
          [
           "Nimes",
           "Le Jungle SPA ****",
           "8,7",
           "2 Rue Villars, 30000 Nîmes, France"
          ],
          [
           "Nimes",
           "Superbe appartement Boheme dans les vignes",
           "7,4",
           "Chemin de Bois Fontaine, 30900 Nîmes, France"
          ],
          [
           "Nimes",
           "Roma Divine home cinéma et jardin",
           "9,8",
           "Rez de chaussée 12 Rue Monjardin, 30000 Nîmes, France"
          ],
          [
           "Nimes",
           "Jolie annexe du mas dans le cœur de la garrigue nîmoise",
           "8,9",
           "BIS 685 Chemin de Mas Christol, 30000 Nîmes, France"
          ],
          [
           "Nimes",
           "Twenty's Business Flats Nîmes Trigone",
           "8,1",
           "8 Avenue de la Méditerranée, 30000 Nîmes, France"
          ],
          [
           "Nimes",
           "LE ROYAL P2 - HYPER CENTer - TERRACE",
           "7,8",
           "13 Rue Louis Laget, 30900 Nîmes, France"
          ],
          [
           "Nimes",
           "Centre Historique de Nîmes-THOMAS",
           "7,9",
           "24 Rue Dorée, 30000 Nîmes, France"
          ],
          [
           "Nimes",
           "Casa Côté Sud - Mas Bois Fontaine",
           "7,0",
           "Chemin du Mas Bois-Fontaine, 30900 Nîmes, France"
          ],
          [
           "Nimes",
           "Très Belle rotonde déco Bohème, tennis, parking",
           "7,6",
           "Chemin de Bois Fontaine, 30900 Nîmes, France"
          ],
          [
           "Nimes",
           "Charmant studio loft - Mas Bois Fontaine",
           "7,5",
           "Chemin du Mas Bois-Fontaine, 30900 Nîmes, France"
          ],
          [
           "Nimes",
           "Le Questel - In the heart of the Roman city with balcony",
           "7,8",
           "7 rue des frères mineurs 1er étage porte de gauche, 30900 Nîmes, France"
          ],
          [
           "Nimes",
           "Ciel de Nîmes - Première conciergerie",
           "8,0",
           "6 Rue de la Maison Carrée, 30000 Nîmes, France"
          ],
          [
           "Nimes",
           "Odalys City Nîmes Le Cheval Blanc",
           "7,6",
           "1 Place des Arènes, 30000 Nîmes, France"
          ],
          [
           "Nimes",
           "Le Pari Nîmois, avec Parking, Centre Ville Arènes",
           "9,6",
           "3 Petite Rue du Louvre, 30000 Nîmes, France"
          ],
          [
           "Nimes",
           "*DOLCE NIMES - T2 STANDING - CLIM *",
           "8,7",
           "67 Rue Pierre Semard, 30000 Nîmes, France"
          ],
          [
           "Nimes",
           "Cosy CROCO - Appart T2 Centre Nîmes - Wifi et Parking",
           "8,5",
           "26 Rue Porte d'Alès, 30000 Nîmes, France"
          ],
          [
           "Nimes",
           "White Rock - P3 Terrace and Parking - City centre",
           "8,4",
           "28 bis rue de la Garrigue Résidence Vista Magne, 30000 Nîmes, France"
          ],
          [
           "Nimes",
           "Tee 4",
           "8,9",
           "411 Chemin du Golf - Tee 4, 30900 Nîmes, France"
          ],
          [
           "Nimes",
           "Appartement Cosy Nîmes-Centre",
           "9,0",
           "67 Rue Pierre Semard, 30000 Nîmes, France"
          ],
          [
           "Nimes",
           "Maison familiale à Nîmes",
           "8,4",
           "16 Rue Salomon Reinach, 30000 Nîmes, France"
          ],
          [
           "Nimes",
           "Le Jungle SPA ****",
           "8,7",
           "2 Rue Villars, 30000 Nîmes, France"
          ],
          [
           "Nimes",
           "Casa les bambous",
           "7,4",
           "Chemin de Bois Fontaine, 30900 Nîmes, France"
          ],
          [
           "Nimes",
           "Superbe appartement Boheme dans les vignes",
           "7,4",
           "Chemin de Bois Fontaine, 30900 Nîmes, France"
          ],
          [
           "Nimes",
           "Roma Divine home cinéma et jardin",
           "9,8",
           "Rez de chaussée 12 Rue Monjardin, 30000 Nîmes, France"
          ],
          [
           "Nimes",
           "Jolie annexe du mas dans le cœur de la garrigue nîmoise",
           "8,9",
           "BIS 685 Chemin de Mas Christol, 30000 Nîmes, France"
          ],
          [
           "Nimes",
           "Twenty's Business Flats Nîmes Trigone",
           "8,1",
           "8 Avenue de la Méditerranée, 30000 Nîmes, France"
          ],
          [
           "Nimes",
           "LE ROYAL P2 - HYPER CENTer - TERRACE",
           "7,8",
           "13 Rue Louis Laget, 30900 Nîmes, France"
          ],
          [
           "Nimes",
           "Centre Historique de Nîmes-THOMAS",
           "7,9",
           "24 Rue Dorée, 30000 Nîmes, France"
          ],
          [
           "Nimes",
           "Casa Côté Sud - Mas Bois Fontaine",
           "7,0",
           "Chemin du Mas Bois-Fontaine, 30900 Nîmes, France"
          ],
          [
           "Nimes",
           "appartement centre ville arènes 4 personne climatise 50m2 cuisine équipée 2 chambres et wifi fibre",
           "8,3",
           "26 Rue Jean Reboul, 30900 Nîmes, France"
          ],
          [
           "Nimes",
           "Très Belle rotonde déco Bohème, tennis, parking",
           "7,6",
           "Chemin de Bois Fontaine, 30900 Nîmes, France"
          ],
          [
           "Nimes",
           "Odalys City Nîmes Le Cheval Blanc",
           "7,6",
           "1 Place des Arènes, 30000 Nîmes, France"
          ],
          [
           "Nimes",
           "Le Pari Nîmois, avec Parking, Centre Ville Arènes",
           "9,6",
           "3 Petite Rue du Louvre, 30000 Nîmes, France"
          ],
          [
           "Nimes",
           "Cosy CROCO - Appart T2 Centre Nîmes - Wifi et Parking",
           "8,5",
           "26 Rue Porte d'Alès, 30000 Nîmes, France"
          ],
          [
           "Nimes",
           "*DOLCE NIMES - T2 STANDING - CLIM *",
           "8,7",
           "67 Rue Pierre Semard, 30000 Nîmes, France"
          ],
          [
           "Nimes",
           "White Rock - P3 Terrace and Parking - City centre",
           "8,4",
           "28 bis rue de la Garrigue Résidence Vista Magne, 30000 Nîmes, France"
          ],
          [
           "Nimes",
           "Tee 4",
           "8,9",
           "411 Chemin du Golf - Tee 4, 30900 Nîmes, France"
          ],
          [
           "Nimes",
           "Appartement Cosy Nîmes-Centre",
           "9,0",
           "67 Rue Pierre Semard, 30000 Nîmes, France"
          ],
          [
           "Nimes",
           "Maison familiale à Nîmes",
           "8,4",
           "16 Rue Salomon Reinach, 30000 Nîmes, France"
          ],
          [
           "Nimes",
           "Le Jungle SPA ****",
           "8,7",
           "2 Rue Villars, 30000 Nîmes, France"
          ],
          [
           "Nimes",
           "Casa les bambous",
           "7,4",
           "Chemin de Bois Fontaine, 30900 Nîmes, France"
          ],
          [
           "Nimes",
           "Superbe appartement Boheme dans les vignes",
           "7,4",
           "Chemin de Bois Fontaine, 30900 Nîmes, France"
          ],
          [
           "Nimes",
           "Roma Divine home cinéma et jardin",
           "9,8",
           "Rez de chaussée 12 Rue Monjardin, 30000 Nîmes, France"
          ],
          [
           "Nimes",
           "Jolie annexe du mas dans le cœur de la garrigue nîmoise",
           "8,9",
           "BIS 685 Chemin de Mas Christol, 30000 Nîmes, France"
          ],
          [
           "Nimes",
           "Twenty's Business Flats Nîmes Trigone",
           "8,1",
           "8 Avenue de la Méditerranée, 30000 Nîmes, France"
          ],
          [
           "Nimes",
           "LE ROYAL P2 - HYPER CENTer - TERRACE",
           "7,8",
           "13 Rue Louis Laget, 30900 Nîmes, France"
          ],
          [
           "Nimes",
           "Centre Historique de Nîmes-THOMAS",
           "7,9",
           "24 Rue Dorée, 30000 Nîmes, France"
          ],
          [
           "Nimes",
           "Casa Côté Sud - Mas Bois Fontaine",
           "7,0",
           "Chemin du Mas Bois-Fontaine, 30900 Nîmes, France"
          ],
          [
           "Nimes",
           "appartement centre ville arènes 4 personne climatise 50m2 cuisine équipée 2 chambres et wifi fibre",
           "8,3",
           "26 Rue Jean Reboul, 30900 Nîmes, France"
          ],
          [
           "Nimes",
           "Très Belle rotonde déco Bohème, tennis, parking",
           "7,6",
           "Chemin de Bois Fontaine, 30900 Nîmes, France"
          ],
          [
           "Nimes",
           "Charmant studio loft - Mas Bois Fontaine",
           "7,5",
           "Chemin du Mas Bois-Fontaine, 30900 Nîmes, France"
          ],
          [
           "Nimes",
           "Le Questel - In the heart of the Roman city with balcony",
           "7,8",
           "7 rue des frères mineurs 1er étage porte de gauche, 30900 Nîmes, France"
          ],
          [
           "Nimes",
           "Ciel de Nîmes - Première conciergerie",
           "8,0",
           "6 Rue de la Maison Carrée, 30000 Nîmes, France"
          ],
          [
           "Nimes",
           "L'Atypique - P2 terrace downtown",
           "7,2",
           "10 Rue des Patins, 30000 Nîmes, France"
          ],
          [
           "Nimes",
           "JUNGLE Hyper Centre",
           "8,5",
           "1 Rue de la Prévoté, 30000 Nîmes, France"
          ],
          [
           "Nimes",
           "Le Calypso - P1 bis - heart of the city",
           "7,0",
           "7 rue des marchands, 30000 Nîmes, France"
          ],
          [
           "Nimes",
           "Odalys City Nîmes Le Cheval Blanc",
           "7,6",
           "1 Place des Arènes, 30000 Nîmes, France"
          ],
          [
           "Nimes",
           "Le Pari Nîmois, avec Parking, Centre Ville Arènes",
           "9,6",
           "3 Petite Rue du Louvre, 30000 Nîmes, France"
          ],
          [
           "Nimes",
           "*DOLCE NIMES - T2 STANDING - CLIM *",
           "8,7",
           "67 Rue Pierre Semard, 30000 Nîmes, France"
          ],
          [
           "Nimes",
           "Cosy CROCO - Appart T2 Centre Nîmes - Wifi et Parking",
           "8,5",
           "26 Rue Porte d'Alès, 30000 Nîmes, France"
          ],
          [
           "Nimes",
           "White Rock - P3 Terrace and Parking - City centre",
           "8,4",
           "28 bis rue de la Garrigue Résidence Vista Magne, 30000 Nîmes, France"
          ],
          [
           "Nimes",
           "Tee 4",
           "8,9",
           "411 Chemin du Golf - Tee 4, 30900 Nîmes, France"
          ],
          [
           "Nimes",
           "Appartement Cosy Nîmes-Centre",
           "9,0",
           "67 Rue Pierre Semard, 30000 Nîmes, France"
          ],
          [
           "Nimes",
           "Maison familiale à Nîmes",
           "8,4",
           "16 Rue Salomon Reinach, 30000 Nîmes, France"
          ],
          [
           "Nimes",
           "Le Jungle SPA ****",
           "8,7",
           "2 Rue Villars, 30000 Nîmes, France"
          ],
          [
           "Nimes",
           "Superbe appartement Boheme dans les vignes",
           "7,4",
           "Chemin de Bois Fontaine, 30900 Nîmes, France"
          ],
          [
           "Nimes",
           "Roma Divine home cinéma et jardin",
           "9,8",
           "Rez de chaussée 12 Rue Monjardin, 30000 Nîmes, France"
          ],
          [
           "Nimes",
           "Jolie annexe du mas dans le cœur de la garrigue nîmoise",
           "8,9",
           "BIS 685 Chemin de Mas Christol, 30000 Nîmes, France"
          ],
          [
           "Nimes",
           "Twenty's Business Flats Nîmes Trigone",
           "8,1",
           "8 Avenue de la Méditerranée, 30000 Nîmes, France"
          ],
          [
           "Nimes",
           "LE ROYAL P2 - HYPER CENTer - TERRACE",
           "7,8",
           "13 Rue Louis Laget, 30900 Nîmes, France"
          ],
          [
           "Nimes",
           "Casa Côté Sud - Mas Bois Fontaine",
           "7,0",
           "Chemin du Mas Bois-Fontaine, 30900 Nîmes, France"
          ],
          [
           "Nimes",
           "appartement centre ville arènes 4 personne climatise 50m2 cuisine équipée 2 chambres et wifi fibre",
           "8,3",
           "26 Rue Jean Reboul, 30900 Nîmes, France"
          ],
          [
           "Nimes",
           "Très Belle rotonde déco Bohème, tennis, parking",
           "7,6",
           "Chemin de Bois Fontaine, 30900 Nîmes, France"
          ],
          [
           "Nimes",
           "Charmant studio loft - Mas Bois Fontaine",
           "7,5",
           "Chemin du Mas Bois-Fontaine, 30900 Nîmes, France"
          ],
          [
           "Nimes",
           "Le Questel - In the heart of the Roman city with balcony",
           "7,8",
           "7 rue des frères mineurs 1er étage porte de gauche, 30900 Nîmes, France"
          ],
          [
           "Nimes",
           "Ciel de Nîmes - Première conciergerie",
           "8,0",
           "6 Rue de la Maison Carrée, 30000 Nîmes, France"
          ],
          [
           "Nimes",
           "L'Atypique - P2 terrace downtown",
           "7,2",
           "10 Rue des Patins, 30000 Nîmes, France"
          ],
          [
           "Nimes",
           "Le Nido - Studio in the heart of the city",
           "7,2",
           "12 Rue Bernard de la Treille, 30900 Nîmes, France"
          ],
          [
           "Nimes",
           "Gaïa - A haven of peace in the city centre roof terace and parking",
           "7,4",
           "6 rue Séguier, 30000 Nîmes, France"
          ],
          [
           "Nimes",
           "Le Sunshine - Bright apartment terrace",
           "7,7",
           "11 Rue Tedenat, 30900 Nîmes, France"
          ],
          [
           "Nimes",
           "NÎMES ROUSSY",
           "8,7",
           "34 Rue Roussy, 30000 Nîmes, France"
          ],
          [
           "Nimes",
           "Le Calypso - P1 bis - heart of the city",
           "7,0",
           "7 rue des marchands, 30000 Nîmes, France"
          ],
          [
           "Nimes",
           "JUNGLE Hyper Centre",
           "8,5",
           "1 Rue de la Prévoté, 30000 Nîmes, France"
          ],
          [
           "Nimes",
           "Centre Historique de Nîmes-THOMAS",
           "7,9",
           "24 Rue Dorée, 30000 Nîmes, France"
          ],
          [
           "Nimes",
           "L'Atypique - P2 terrace downtown",
           "7,2",
           "10 Rue des Patins, 30000 Nîmes, France"
          ],
          [
           "Nimes",
           "Le Calypso - P1 bis - heart of the city",
           "7,0",
           "7 rue des marchands, 30000 Nîmes, France"
          ],
          [
           "Nimes",
           "JUNGLE Hyper Centre",
           "8,5",
           "1 Rue de la Prévoté, 30000 Nîmes, France"
          ],
          [
           "Nimes",
           "Centre Historique de Nîmes-THOMAS",
           "7,9",
           "24 Rue Dorée, 30000 Nîmes, France"
          ],
          [
           "Nimes",
           "L'Atypique - P2 terrace downtown",
           "7,2",
           "10 Rue des Patins, 30000 Nîmes, France"
          ],
          [
           "Nimes",
           "Appartement Cosy Nîmes-Centre",
           "9,0",
           "67 Rue Pierre Semard, 30000 Nîmes, France"
          ],
          [
           "Nimes",
           "Appartement Cosy Nîmes-Centre",
           "9,0",
           "67 Rue Pierre Semard, 30000 Nîmes, France"
          ]
         ],
         "hovertemplate": "City to go=%{customdata[0]}<br>lat=%{lat}<br>lon=%{lon}<br>name_hotel=%{customdata[1]}<br>score_hotel=%{customdata[2]}<br>adresse_hotel=%{customdata[3]}<extra></extra>",
         "lat": [
          43.83558788,
          43.8428856,
          43.8446605,
          43.850872,
          43.8403329,
          43.8336424,
          43.8387897,
          43.763919,
          43.8354875,
          43.878316,
          43.831504,
          43.83297,
          43.8372866,
          43.766217,
          43.763919,
          43.766217,
          43.8369299,
          43.8373917,
          43.83423753,
          43.83558788,
          43.8403071,
          43.8428856,
          43.8446605,
          43.850872,
          43.8403329,
          43.8336424,
          43.8387897,
          43.763919,
          43.763919,
          43.8354875,
          43.878316,
          43.831504,
          43.83297,
          43.8372866,
          43.766217,
          43.83411299,
          43.763919,
          43.83423753,
          43.83558788,
          43.8428856,
          43.8403071,
          43.8446605,
          43.850872,
          43.8403329,
          43.8336424,
          43.8387897,
          43.763919,
          43.763919,
          43.8354875,
          43.878316,
          43.831504,
          43.83297,
          43.8372866,
          43.766217,
          43.83411299,
          43.763919,
          43.766217,
          43.8369299,
          43.8373917,
          43.83654,
          43.837859,
          43.8376481,
          43.83423753,
          43.83558788,
          43.8403071,
          43.8428856,
          43.8446605,
          43.850872,
          43.8403329,
          43.8336424,
          43.8387897,
          43.763919,
          43.8354875,
          43.878316,
          43.831504,
          43.83297,
          43.766217,
          43.83411299,
          43.763919,
          43.766217,
          43.8369299,
          43.8373917,
          43.83654,
          43.8372,
          43.8791313,
          43.836121,
          43.8358929,
          43.8376481,
          43.837859,
          43.8372866,
          43.83654,
          43.8376481,
          43.837859,
          43.8372866,
          43.83654,
          43.8403329,
          43.8403329
         ],
         "legendgroup": "Nimes",
         "lon": [
          4.36419414,
          4.3590621,
          4.362017,
          4.31083,
          4.370304,
          4.37809653,
          4.3707056,
          4.357345,
          4.36488547,
          4.403321,
          4.367797,
          4.354871,
          4.3617059,
          4.360082,
          4.357345,
          4.360082,
          4.3553427,
          4.3567136,
          4.3607904,
          4.36419414,
          4.3702517,
          4.3590621,
          4.362017,
          4.31083,
          4.370304,
          4.37809653,
          4.3707056,
          4.357345,
          4.357345,
          4.36488547,
          4.403321,
          4.367797,
          4.354871,
          4.3617059,
          4.360082,
          4.3578953,
          4.357345,
          4.3607904,
          4.36419414,
          4.3590621,
          4.3702517,
          4.362017,
          4.31083,
          4.370304,
          4.37809653,
          4.3707056,
          4.357345,
          4.357345,
          4.36488547,
          4.403321,
          4.367797,
          4.354871,
          4.3617059,
          4.360082,
          4.3578953,
          4.357345,
          4.360082,
          4.3553427,
          4.3567136,
          4.358829,
          4.3609089,
          4.3600859,
          4.3607904,
          4.36419414,
          4.3702517,
          4.3590621,
          4.362017,
          4.31083,
          4.370304,
          4.37809653,
          4.3707056,
          4.357345,
          4.36488547,
          4.403321,
          4.367797,
          4.354871,
          4.360082,
          4.3578953,
          4.357345,
          4.360082,
          4.3553427,
          4.3567136,
          4.358829,
          4.346859,
          4.3770704,
          4.356573,
          4.3651165,
          4.3600859,
          4.3609089,
          4.3617059,
          4.358829,
          4.3600859,
          4.3609089,
          4.3617059,
          4.358829,
          4.370304,
          4.370304
         ],
         "marker": {
          "color": "#ab63fa"
         },
         "mode": "markers",
         "name": "Nimes",
         "showlegend": true,
         "subplot": "mapbox",
         "type": "scattermapbox"
        },
        {
         "customdata": [
          [
           "Aix en Provence",
           "Odalys City Aix en Provence L'Atrium",
           "6,9",
           "15 Cours Gambetta - Espace Forbin, 13100 Aix-en-Provence, France"
          ],
          [
           "Aix en Provence",
           "Séjours & Affaires Aix-en-Provence Mirabeau",
           "8,0",
           "615 Avenue Wolfgang Amadeus Mozart, 13100 Aix-en-Provence, France"
          ],
          [
           "Aix en Provence",
           "LOUSTALET D'AIX",
           "9,1",
           "21 RUE SAINT LAZARE, 13090 Aix-en-Provence, France"
          ],
          [
           "Aix en Provence",
           "Résidence Les Académies Aixoise",
           "7,1",
           "85 Rue Paul Sabatier, 13090 Aix-en-Provence, France"
          ],
          [
           "Aix en Provence",
           "Appart-Hypercentre-CLIM-2chbQuartierChic",
           "8,3",
           "8 Cours Mirabeau, 13100 Aix-en-Provence, France"
          ],
          [
           "Aix en Provence",
           "Belvoir Sissi exclusif Appart piscine chauffée 10 min centre AixenPc",
           "9,9",
           " 585 Chemin de l'Échelle à Aix-en-Provence, 13100 Aix-en-Provence, France"
          ],
          [
           "Aix en Provence",
           "Villa Cezanne",
           "8,5",
           "Butte des 3 Moulins, 13090 Aix-en-Provence, France"
          ],
          [
           "Aix en Provence",
           "APPART AIX MAZARIN",
           "9,2",
           "9 Rue Fernand Dol, 13100 Aix-en-Provence, France"
          ],
          [
           "Aix en Provence",
           "Bastide Aixoise",
           "9,2",
           "293 Chemin des Bastides Bleues, 13100 Aix-en-Provence, France"
          ],
          [
           "Aix en Provence",
           "Studios Nuitée en Provence",
           "9,3",
           "3828 Route de Berre - Résidence Adonis, 13100 Aix-en-Provence, France"
          ],
          [
           "Aix en Provence",
           "La Suite Albertas",
           "8,9",
           "35 rue espariat, 13100 Aix-en-Provence, France"
          ],
          [
           "Aix en Provence",
           "Cottage Aixois",
           "9,3",
           "Chemin de granet, 13090 Aix-en-Provence, France"
          ],
          [
           "Aix en Provence",
           "maison Moliere",
           "8,4",
           "3797 Route de Galice, 13090 Aix-en-Provence, France"
          ],
          [
           "Aix en Provence",
           "Chez Pat et Dom",
           "8,2",
           "2105 Chemin des Saints-Pères, 13090 Aix-en-Provence, France"
          ],
          [
           "Aix en Provence",
           "Odalys City Aix en Provence L'Atrium",
           "6,9",
           "15 Cours Gambetta - Espace Forbin, 13100 Aix-en-Provence, France"
          ],
          [
           "Aix en Provence",
           "Séjours & Affaires Aix-en-Provence Mirabeau",
           "8,0",
           "615 Avenue Wolfgang Amadeus Mozart, 13100 Aix-en-Provence, France"
          ],
          [
           "Aix en Provence",
           "LOUSTALET D'AIX",
           "9,1",
           "21 RUE SAINT LAZARE, 13090 Aix-en-Provence, France"
          ],
          [
           "Aix en Provence",
           "Résidence Les Académies Aixoise",
           "7,1",
           "85 Rue Paul Sabatier, 13090 Aix-en-Provence, France"
          ],
          [
           "Aix en Provence",
           "Appart-Hypercentre-CLIM-2chbQuartierChic",
           "8,3",
           "8 Cours Mirabeau, 13100 Aix-en-Provence, France"
          ],
          [
           "Aix en Provence",
           "Belvoir Sissi exclusif Appart piscine chauffée 10 min centre AixenPc",
           "9,9",
           " 585 Chemin de l'Échelle à Aix-en-Provence, 13100 Aix-en-Provence, France"
          ],
          [
           "Aix en Provence",
           "Villa Cezanne",
           "8,5",
           "Butte des 3 Moulins, 13090 Aix-en-Provence, France"
          ],
          [
           "Aix en Provence",
           "APPART AIX MAZARIN",
           "9,2",
           "9 Rue Fernand Dol, 13100 Aix-en-Provence, France"
          ],
          [
           "Aix en Provence",
           "Bastide Aixoise",
           "9,2",
           "293 Chemin des Bastides Bleues, 13100 Aix-en-Provence, France"
          ],
          [
           "Aix en Provence",
           "N.8 LIFESTYLE SUITES",
           "9,1",
           "8 Rue Mignet, 13100 Aix-en-Provence, France"
          ],
          [
           "Aix en Provence",
           "Studios Nuitée en Provence",
           "9,3",
           "3828 Route de Berre - Résidence Adonis, 13100 Aix-en-Provence, France"
          ],
          [
           "Aix en Provence",
           "La Suite Albertas",
           "8,9",
           "35 rue espariat, 13100 Aix-en-Provence, France"
          ],
          [
           "Aix en Provence",
           "LES JARDINS D'ATHENA",
           "7,2",
           "3828 Route de Berre, 13100 Aix-en-Provence, France"
          ],
          [
           "Aix en Provence",
           "Cottage Aixois",
           "9,3",
           "Chemin de granet, 13090 Aix-en-Provence, France"
          ],
          [
           "Aix en Provence",
           "maison Moliere",
           "8,4",
           "3797 Route de Galice, 13090 Aix-en-Provence, France"
          ],
          [
           "Aix en Provence",
           "Chez Pat et Dom",
           "8,2",
           "2105 Chemin des Saints-Pères, 13090 Aix-en-Provence, France"
          ],
          [
           "Aix en Provence",
           "Prêcheurs Studios",
           "8,1",
           "25 Rue Finsonius, 13100 Aix-en-Provence, France"
          ],
          [
           "Aix en Provence",
           "Le jardin de Ponteves",
           "7,6",
           "02, rue du 04 Septembre, 13100 Aix-en-Provence, France"
          ],
          [
           "Aix en Provence",
           "Joli Appartement Classé 4 étoiles avec balcon au centre d'Aix en Provence",
           "8,3",
           "48 Cours Mirabeau, 13100 Aix-en-Provence, France"
          ],
          [
           "Aix en Provence",
           "Nuitées Aixoises",
           "7,2",
           "51 rue Mignet , 13100 Aix-en-Provence, France"
          ],
          [
           "Aix en Provence",
           "Maison Dauphine",
           "9,4",
           "14 Rue du 4 Septembre, 13100 Aix-en-Provence, France"
          ],
          [
           "Aix en Provence",
           "LEYDET",
           "8,6",
           "3 Rue Victor Leydet, 13100 Aix-en-Provence, France"
          ],
          [
           "Aix en Provence",
           "Appartement de Charme",
           "8,1",
           "18 rue Bedarrides, 13100 Aix-en-Provence, France"
          ],
          [
           "Aix en Provence",
           "Studio cosy à proximité du centre ville",
           "7,3",
           "4 Avenue de l'Europe, bat C2, residence le sextius,, 13100 Aix-en-Provence, France"
          ],
          [
           "Aix en Provence",
           "Èrsextius, GGB1, Aix-en-Provence",
           "8,1",
           "4 rue Frédéric Mistral, 13100 Aix-en-Provence, France"
          ],
          [
           "Aix en Provence",
           "Appart-Hypercentre-CLIM-2chbQuartierChic",
           "8,3",
           "8 Cours Mirabeau, 13100 Aix-en-Provence, France"
          ],
          [
           "Aix en Provence",
           "Belvoir Sissi exclusif Appart piscine chauffée 10 min centre AixenPc",
           "9,9",
           " 585 Chemin de l'Échelle à Aix-en-Provence, 13100 Aix-en-Provence, France"
          ],
          [
           "Aix en Provence",
           "Villa Cezanne",
           "8,5",
           "Butte des 3 Moulins, 13090 Aix-en-Provence, France"
          ],
          [
           "Aix en Provence",
           "Le jardin de Ponteves",
           "7,6",
           "02, rue du 04 Septembre, 13100 Aix-en-Provence, France"
          ],
          [
           "Aix en Provence",
           "LEYDET",
           "8,6",
           "3 Rue Victor Leydet, 13100 Aix-en-Provence, France"
          ],
          [
           "Aix en Provence",
           "Appart-Hypercentre-CLIM-2chbQuartierChic",
           "8,3",
           "8 Cours Mirabeau, 13100 Aix-en-Provence, France"
          ],
          [
           "Aix en Provence",
           "La Suite Albertas",
           "8,9",
           "35 rue espariat, 13100 Aix-en-Provence, France"
          ],
          [
           "Aix en Provence",
           "Appartement de Charme",
           "8,1",
           "18 rue Bedarrides, 13100 Aix-en-Provence, France"
          ],
          [
           "Aix en Provence",
           "N.8 LIFESTYLE SUITES",
           "9,1",
           "8 Rue Mignet, 13100 Aix-en-Provence, France"
          ],
          [
           "Aix en Provence",
           "APPART AIX MAZARIN",
           "9,2",
           "9 Rue Fernand Dol, 13100 Aix-en-Provence, France"
          ],
          [
           "Aix en Provence",
           "Studios Nuitée en Provence",
           "9,3",
           "3828 Route de Berre - Résidence Adonis, 13100 Aix-en-Provence, France"
          ],
          [
           "Aix en Provence",
           "Maison Dauphine",
           "9,4",
           "14 Rue du 4 Septembre, 13100 Aix-en-Provence, France"
          ]
         ],
         "hovertemplate": "City to go=%{customdata[0]}<br>lat=%{lat}<br>lon=%{lon}<br>name_hotel=%{customdata[1]}<br>score_hotel=%{customdata[2]}<br>adresse_hotel=%{customdata[3]}<extra></extra>",
         "lat": [
          43.52409101,
          43.52524078,
          43.519505,
          43.52724,
          43.52636334,
          43.5464421,
          43.53530343,
          43.52596364,
          43.555131,
          43.54358226,
          43.527418,
          43.54427239,
          43.52391714,
          43.5133123,
          43.52409101,
          43.52524078,
          43.519505,
          43.52724,
          43.52636334,
          43.5464421,
          43.53530343,
          43.52596364,
          43.555131,
          43.529989,
          43.54358226,
          43.527418,
          43.543386,
          43.54427239,
          43.52391714,
          43.5133123,
          43.53030053,
          43.5263325,
          43.5268785,
          43.53168866,
          43.52551655,
          43.527029,
          43.52801302,
          43.523697,
          43.52654229,
          43.52636334,
          43.5464421,
          43.53530343,
          43.5263325,
          43.527029,
          43.52636334,
          43.527418,
          43.52801302,
          43.529989,
          43.52596364,
          43.54358226,
          43.52551655
         ],
         "legendgroup": "Aix en Provence",
         "lon": [
          5.45521617,
          5.441266,
          5.445415,
          5.404795,
          5.44695853,
          5.4662607,
          5.4521665,
          5.45189139,
          5.461814,
          5.37343823,
          5.447695,
          5.39045528,
          5.39351996,
          5.385902,
          5.45521617,
          5.441266,
          5.445415,
          5.404795,
          5.44695853,
          5.4662607,
          5.4521665,
          5.45189139,
          5.461814,
          5.45096,
          5.37343823,
          5.447695,
          5.373794,
          5.39045528,
          5.39351996,
          5.385902,
          5.45182586,
          5.450021,
          5.4513093,
          5.45074307,
          5.45015216,
          5.4459842,
          5.44735461,
          5.4402,
          5.45073956,
          5.44695853,
          5.4662607,
          5.4521665,
          5.450021,
          5.4459842,
          5.44695853,
          5.447695,
          5.44735461,
          5.45096,
          5.45189139,
          5.37343823,
          5.45015216
         ],
         "marker": {
          "color": "#FFA15A"
         },
         "mode": "markers",
         "name": "Aix en Provence",
         "showlegend": true,
         "subplot": "mapbox",
         "type": "scattermapbox"
        }
       ],
       "layout": {
        "height": 800,
        "legend": {
         "title": {
          "text": "City to go"
         },
         "tracegroupgap": 0
        },
        "mapbox": {
         "center": {
          "lat": 43.36196806997972,
          "lon": 5.472966145192697
         },
         "domain": {
          "x": [
           0,
           1
          ],
          "y": [
           0,
           1
          ]
         },
         "style": "carto-positron",
         "zoom": 4.5
        },
        "margin": {
         "b": 10,
         "l": 50,
         "r": 50,
         "t": 100
        },
        "template": {
         "data": {
          "bar": [
           {
            "error_x": {
             "color": "#2a3f5f"
            },
            "error_y": {
             "color": "#2a3f5f"
            },
            "marker": {
             "line": {
              "color": "#E5ECF6",
              "width": 0.5
             },
             "pattern": {
              "fillmode": "overlay",
              "size": 10,
              "solidity": 0.2
             }
            },
            "type": "bar"
           }
          ],
          "barpolar": [
           {
            "marker": {
             "line": {
              "color": "#E5ECF6",
              "width": 0.5
             },
             "pattern": {
              "fillmode": "overlay",
              "size": 10,
              "solidity": 0.2
             }
            },
            "type": "barpolar"
           }
          ],
          "carpet": [
           {
            "aaxis": {
             "endlinecolor": "#2a3f5f",
             "gridcolor": "white",
             "linecolor": "white",
             "minorgridcolor": "white",
             "startlinecolor": "#2a3f5f"
            },
            "baxis": {
             "endlinecolor": "#2a3f5f",
             "gridcolor": "white",
             "linecolor": "white",
             "minorgridcolor": "white",
             "startlinecolor": "#2a3f5f"
            },
            "type": "carpet"
           }
          ],
          "choropleth": [
           {
            "colorbar": {
             "outlinewidth": 0,
             "ticks": ""
            },
            "type": "choropleth"
           }
          ],
          "contour": [
           {
            "colorbar": {
             "outlinewidth": 0,
             "ticks": ""
            },
            "colorscale": [
             [
              0,
              "#0d0887"
             ],
             [
              0.1111111111111111,
              "#46039f"
             ],
             [
              0.2222222222222222,
              "#7201a8"
             ],
             [
              0.3333333333333333,
              "#9c179e"
             ],
             [
              0.4444444444444444,
              "#bd3786"
             ],
             [
              0.5555555555555556,
              "#d8576b"
             ],
             [
              0.6666666666666666,
              "#ed7953"
             ],
             [
              0.7777777777777778,
              "#fb9f3a"
             ],
             [
              0.8888888888888888,
              "#fdca26"
             ],
             [
              1,
              "#f0f921"
             ]
            ],
            "type": "contour"
           }
          ],
          "contourcarpet": [
           {
            "colorbar": {
             "outlinewidth": 0,
             "ticks": ""
            },
            "type": "contourcarpet"
           }
          ],
          "heatmap": [
           {
            "colorbar": {
             "outlinewidth": 0,
             "ticks": ""
            },
            "colorscale": [
             [
              0,
              "#0d0887"
             ],
             [
              0.1111111111111111,
              "#46039f"
             ],
             [
              0.2222222222222222,
              "#7201a8"
             ],
             [
              0.3333333333333333,
              "#9c179e"
             ],
             [
              0.4444444444444444,
              "#bd3786"
             ],
             [
              0.5555555555555556,
              "#d8576b"
             ],
             [
              0.6666666666666666,
              "#ed7953"
             ],
             [
              0.7777777777777778,
              "#fb9f3a"
             ],
             [
              0.8888888888888888,
              "#fdca26"
             ],
             [
              1,
              "#f0f921"
             ]
            ],
            "type": "heatmap"
           }
          ],
          "heatmapgl": [
           {
            "colorbar": {
             "outlinewidth": 0,
             "ticks": ""
            },
            "colorscale": [
             [
              0,
              "#0d0887"
             ],
             [
              0.1111111111111111,
              "#46039f"
             ],
             [
              0.2222222222222222,
              "#7201a8"
             ],
             [
              0.3333333333333333,
              "#9c179e"
             ],
             [
              0.4444444444444444,
              "#bd3786"
             ],
             [
              0.5555555555555556,
              "#d8576b"
             ],
             [
              0.6666666666666666,
              "#ed7953"
             ],
             [
              0.7777777777777778,
              "#fb9f3a"
             ],
             [
              0.8888888888888888,
              "#fdca26"
             ],
             [
              1,
              "#f0f921"
             ]
            ],
            "type": "heatmapgl"
           }
          ],
          "histogram": [
           {
            "marker": {
             "pattern": {
              "fillmode": "overlay",
              "size": 10,
              "solidity": 0.2
             }
            },
            "type": "histogram"
           }
          ],
          "histogram2d": [
           {
            "colorbar": {
             "outlinewidth": 0,
             "ticks": ""
            },
            "colorscale": [
             [
              0,
              "#0d0887"
             ],
             [
              0.1111111111111111,
              "#46039f"
             ],
             [
              0.2222222222222222,
              "#7201a8"
             ],
             [
              0.3333333333333333,
              "#9c179e"
             ],
             [
              0.4444444444444444,
              "#bd3786"
             ],
             [
              0.5555555555555556,
              "#d8576b"
             ],
             [
              0.6666666666666666,
              "#ed7953"
             ],
             [
              0.7777777777777778,
              "#fb9f3a"
             ],
             [
              0.8888888888888888,
              "#fdca26"
             ],
             [
              1,
              "#f0f921"
             ]
            ],
            "type": "histogram2d"
           }
          ],
          "histogram2dcontour": [
           {
            "colorbar": {
             "outlinewidth": 0,
             "ticks": ""
            },
            "colorscale": [
             [
              0,
              "#0d0887"
             ],
             [
              0.1111111111111111,
              "#46039f"
             ],
             [
              0.2222222222222222,
              "#7201a8"
             ],
             [
              0.3333333333333333,
              "#9c179e"
             ],
             [
              0.4444444444444444,
              "#bd3786"
             ],
             [
              0.5555555555555556,
              "#d8576b"
             ],
             [
              0.6666666666666666,
              "#ed7953"
             ],
             [
              0.7777777777777778,
              "#fb9f3a"
             ],
             [
              0.8888888888888888,
              "#fdca26"
             ],
             [
              1,
              "#f0f921"
             ]
            ],
            "type": "histogram2dcontour"
           }
          ],
          "mesh3d": [
           {
            "colorbar": {
             "outlinewidth": 0,
             "ticks": ""
            },
            "type": "mesh3d"
           }
          ],
          "parcoords": [
           {
            "line": {
             "colorbar": {
              "outlinewidth": 0,
              "ticks": ""
             }
            },
            "type": "parcoords"
           }
          ],
          "pie": [
           {
            "automargin": true,
            "type": "pie"
           }
          ],
          "scatter": [
           {
            "fillpattern": {
             "fillmode": "overlay",
             "size": 10,
             "solidity": 0.2
            },
            "type": "scatter"
           }
          ],
          "scatter3d": [
           {
            "line": {
             "colorbar": {
              "outlinewidth": 0,
              "ticks": ""
             }
            },
            "marker": {
             "colorbar": {
              "outlinewidth": 0,
              "ticks": ""
             }
            },
            "type": "scatter3d"
           }
          ],
          "scattercarpet": [
           {
            "marker": {
             "colorbar": {
              "outlinewidth": 0,
              "ticks": ""
             }
            },
            "type": "scattercarpet"
           }
          ],
          "scattergeo": [
           {
            "marker": {
             "colorbar": {
              "outlinewidth": 0,
              "ticks": ""
             }
            },
            "type": "scattergeo"
           }
          ],
          "scattergl": [
           {
            "marker": {
             "colorbar": {
              "outlinewidth": 0,
              "ticks": ""
             }
            },
            "type": "scattergl"
           }
          ],
          "scattermapbox": [
           {
            "marker": {
             "colorbar": {
              "outlinewidth": 0,
              "ticks": ""
             }
            },
            "type": "scattermapbox"
           }
          ],
          "scatterpolar": [
           {
            "marker": {
             "colorbar": {
              "outlinewidth": 0,
              "ticks": ""
             }
            },
            "type": "scatterpolar"
           }
          ],
          "scatterpolargl": [
           {
            "marker": {
             "colorbar": {
              "outlinewidth": 0,
              "ticks": ""
             }
            },
            "type": "scatterpolargl"
           }
          ],
          "scatterternary": [
           {
            "marker": {
             "colorbar": {
              "outlinewidth": 0,
              "ticks": ""
             }
            },
            "type": "scatterternary"
           }
          ],
          "surface": [
           {
            "colorbar": {
             "outlinewidth": 0,
             "ticks": ""
            },
            "colorscale": [
             [
              0,
              "#0d0887"
             ],
             [
              0.1111111111111111,
              "#46039f"
             ],
             [
              0.2222222222222222,
              "#7201a8"
             ],
             [
              0.3333333333333333,
              "#9c179e"
             ],
             [
              0.4444444444444444,
              "#bd3786"
             ],
             [
              0.5555555555555556,
              "#d8576b"
             ],
             [
              0.6666666666666666,
              "#ed7953"
             ],
             [
              0.7777777777777778,
              "#fb9f3a"
             ],
             [
              0.8888888888888888,
              "#fdca26"
             ],
             [
              1,
              "#f0f921"
             ]
            ],
            "type": "surface"
           }
          ],
          "table": [
           {
            "cells": {
             "fill": {
              "color": "#EBF0F8"
             },
             "line": {
              "color": "white"
             }
            },
            "header": {
             "fill": {
              "color": "#C8D4E3"
             },
             "line": {
              "color": "white"
             }
            },
            "type": "table"
           }
          ]
         },
         "layout": {
          "annotationdefaults": {
           "arrowcolor": "#2a3f5f",
           "arrowhead": 0,
           "arrowwidth": 1
          },
          "autotypenumbers": "strict",
          "coloraxis": {
           "colorbar": {
            "outlinewidth": 0,
            "ticks": ""
           }
          },
          "colorscale": {
           "diverging": [
            [
             0,
             "#8e0152"
            ],
            [
             0.1,
             "#c51b7d"
            ],
            [
             0.2,
             "#de77ae"
            ],
            [
             0.3,
             "#f1b6da"
            ],
            [
             0.4,
             "#fde0ef"
            ],
            [
             0.5,
             "#f7f7f7"
            ],
            [
             0.6,
             "#e6f5d0"
            ],
            [
             0.7,
             "#b8e186"
            ],
            [
             0.8,
             "#7fbc41"
            ],
            [
             0.9,
             "#4d9221"
            ],
            [
             1,
             "#276419"
            ]
           ],
           "sequential": [
            [
             0,
             "#0d0887"
            ],
            [
             0.1111111111111111,
             "#46039f"
            ],
            [
             0.2222222222222222,
             "#7201a8"
            ],
            [
             0.3333333333333333,
             "#9c179e"
            ],
            [
             0.4444444444444444,
             "#bd3786"
            ],
            [
             0.5555555555555556,
             "#d8576b"
            ],
            [
             0.6666666666666666,
             "#ed7953"
            ],
            [
             0.7777777777777778,
             "#fb9f3a"
            ],
            [
             0.8888888888888888,
             "#fdca26"
            ],
            [
             1,
             "#f0f921"
            ]
           ],
           "sequentialminus": [
            [
             0,
             "#0d0887"
            ],
            [
             0.1111111111111111,
             "#46039f"
            ],
            [
             0.2222222222222222,
             "#7201a8"
            ],
            [
             0.3333333333333333,
             "#9c179e"
            ],
            [
             0.4444444444444444,
             "#bd3786"
            ],
            [
             0.5555555555555556,
             "#d8576b"
            ],
            [
             0.6666666666666666,
             "#ed7953"
            ],
            [
             0.7777777777777778,
             "#fb9f3a"
            ],
            [
             0.8888888888888888,
             "#fdca26"
            ],
            [
             1,
             "#f0f921"
            ]
           ]
          },
          "colorway": [
           "#636efa",
           "#EF553B",
           "#00cc96",
           "#ab63fa",
           "#FFA15A",
           "#19d3f3",
           "#FF6692",
           "#B6E880",
           "#FF97FF",
           "#FECB52"
          ],
          "font": {
           "color": "#2a3f5f"
          },
          "geo": {
           "bgcolor": "white",
           "lakecolor": "white",
           "landcolor": "#E5ECF6",
           "showlakes": true,
           "showland": true,
           "subunitcolor": "white"
          },
          "hoverlabel": {
           "align": "left"
          },
          "hovermode": "closest",
          "mapbox": {
           "style": "light"
          },
          "paper_bgcolor": "white",
          "plot_bgcolor": "#E5ECF6",
          "polar": {
           "angularaxis": {
            "gridcolor": "white",
            "linecolor": "white",
            "ticks": ""
           },
           "bgcolor": "#E5ECF6",
           "radialaxis": {
            "gridcolor": "white",
            "linecolor": "white",
            "ticks": ""
           }
          },
          "scene": {
           "xaxis": {
            "backgroundcolor": "#E5ECF6",
            "gridcolor": "white",
            "gridwidth": 2,
            "linecolor": "white",
            "showbackground": true,
            "ticks": "",
            "zerolinecolor": "white"
           },
           "yaxis": {
            "backgroundcolor": "#E5ECF6",
            "gridcolor": "white",
            "gridwidth": 2,
            "linecolor": "white",
            "showbackground": true,
            "ticks": "",
            "zerolinecolor": "white"
           },
           "zaxis": {
            "backgroundcolor": "#E5ECF6",
            "gridcolor": "white",
            "gridwidth": 2,
            "linecolor": "white",
            "showbackground": true,
            "ticks": "",
            "zerolinecolor": "white"
           }
          },
          "shapedefaults": {
           "line": {
            "color": "#2a3f5f"
           }
          },
          "ternary": {
           "aaxis": {
            "gridcolor": "white",
            "linecolor": "white",
            "ticks": ""
           },
           "baxis": {
            "gridcolor": "white",
            "linecolor": "white",
            "ticks": ""
           },
           "bgcolor": "#E5ECF6",
           "caxis": {
            "gridcolor": "white",
            "linecolor": "white",
            "ticks": ""
           }
          },
          "title": {
           "x": 0.05
          },
          "xaxis": {
           "automargin": true,
           "gridcolor": "white",
           "linecolor": "white",
           "ticks": "",
           "title": {
            "standoff": 15
           },
           "zerolinecolor": "white",
           "zerolinewidth": 2
          },
          "yaxis": {
           "automargin": true,
           "gridcolor": "white",
           "linecolor": "white",
           "ticks": "",
           "title": {
            "standoff": 15
           },
           "zerolinecolor": "white",
           "zerolinewidth": 2
          }
         }
        },
        "title": {
         "text": "Your next vacation in France for a not cloudy weather among those hotels ordered by avalaible full accomodation"
        },
        "width": 1000
       }
      }
     },
     "metadata": {},
     "output_type": "display_data"
    }
   ],
   "source": [
    "plotResults(dataset=working, weather=\"less_cloud\", order_hotel=\"upsort_bh\")"
   ]
  }
 ],
 "metadata": {
  "kernelspec": {
   "display_name": "Python 3.10.7 64-bit (microsoft store)",
   "language": "python",
   "name": "python3"
  },
  "language_info": {
   "codemirror_mode": {
    "name": "ipython",
    "version": 3
   },
   "file_extension": ".py",
   "mimetype": "text/x-python",
   "name": "python",
   "nbconvert_exporter": "python",
   "pygments_lexer": "ipython3",
   "version": "3.10.8"
  },
  "orig_nbformat": 4,
  "vscode": {
   "interpreter": {
    "hash": "f051514c3c3f25d6a4d371df10e2175126c3741bf115cca1aeaf8b2da7487448"
   }
  }
 },
 "nbformat": 4,
 "nbformat_minor": 2
}
